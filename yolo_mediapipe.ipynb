{
 "cells": [
  {
   "cell_type": "code",
   "execution_count": null,
   "id": "3dcd2363",
   "metadata": {},
   "outputs": [],
   "source": [
    "import os\n",
    "import cv2\n",
    "import mediapipe as mp\n",
    "from ultralytics import YOLO"
   ]
  },
  {
   "cell_type": "code",
   "execution_count": null,
   "id": "1a31eeef",
   "metadata": {},
   "outputs": [],
   "source": [
    "# YOLOv8 모델 로드 # YOLO(\"path/to/your/yolov8_model.pt\")\n",
    "yolo_model = YOLO('C:\\\\Pycharm_Project1\\\\Falldown_project\\\\Project_humanFall-main\\\\runs\\\\detect\\\\human_fall_s30\\\\weights\\\\best.pt')"
   ]
  },
  {
   "cell_type": "code",
   "execution_count": null,
   "id": "6c5870d3",
   "metadata": {},
   "outputs": [],
   "source": [
    "data_root = 'C:\\\\Pycharm_Project1\\\\Falldown_project\\\\Data'\n",
    "train_root = f'{data_root}\\\\Training\\\\SourceData\\\\Image'\n",
    "image_paths = []"
   ]
  },
  {
   "cell_type": "code",
   "execution_count": null,
   "id": "900d59b9",
   "metadata": {},
   "outputs": [],
   "source": [
    "# MediaPipe Pose 설정\n",
    "mp_pose = mp.solutions.pose\n",
    "pose = mp_pose.Pose(static_image_mode=False, min_detection_confidence=0.5)"
   ]
  },
  {
   "cell_type": "code",
   "execution_count": null,
   "id": "1679a65d",
   "metadata": {},
   "outputs": [],
   "source": [
    "for root, dirs, files in os.walk(train_root):\n",
    "    for file in files:\n",
    "        if file.endswith('.jpg'):\n",
    "            image_path = os.path.join(root, file)\n",
    "            if os.path.isfile(image_path):  # 파일 여부 확인\n",
    "                image_paths.append(image_path)"
   ]
  },
  {
   "cell_type": "code",
   "execution_count": null,
   "id": "db3b71ef",
   "metadata": {},
   "outputs": [],
   "source": [
    "for image_path in image_paths:\n",
    "    image = cv2.imread(image_path)\n",
    "\n",
    "    if image is None:\n",
    "        print(f\"Error: 이미지 파일을 열 수 없습니다: {image_path}\")\n",
    "        continue\n",
    "\n",
    "    # YOLOv8로 사람 감지\n",
    "    results = yolo_model(image)\n",
    "\n",
    "    for r in results:\n",
    "        boxes = r.boxes\n",
    "        for box in boxes:\n",
    "            x1, y1, x2, y2 = box.xyxy[0]\n",
    "            x1, y1, x2, y2 = int(x1), int(y1), int(x2), int(y2)\n",
    "\n",
    "            # 감지된 사람 영역 추출\n",
    "            person_image = image[y1:y2, x1:x2]\n",
    "\n",
    "            # MediaPipe로 포즈 추정\n",
    "            rgb_image = cv2.cvtColor(person_image, cv2.COLOR_BGR2RGB)\n",
    "            pose_results = pose.process(rgb_image)\n",
    "\n",
    "            if pose_results.pose_landmarks:\n",
    "                landmarks = pose_results.pose_landmarks.landmark\n",
    "                desired_keypoints = [\n",
    "                    landmarks[mp_pose.PoseLandmark.NOSE],  # 머리\n",
    "                    landmarks[mp_pose.PoseLandmark.LEFT_SHOULDER],  # 왼쪽 어깨\n",
    "                    landmarks[mp_pose.PoseLandmark.RIGHT_SHOULDER],  # 오른쪽 어깨\n",
    "                    landmarks[mp_pose.PoseLandmark.LEFT_ELBOW],  # 왼쪽 팔꿈치\n",
    "                    landmarks[mp_pose.PoseLandmark.RIGHT_ELBOW],  # 오른쪽 팔꿈치\n",
    "                    landmarks[mp_pose.PoseLandmark.LEFT_WRIST],  # 왼쪽 손목\n",
    "                    landmarks[mp_pose.PoseLandmark.RIGHT_WRIST],  # 오른쪽 손목\n",
    "                    landmarks[mp_pose.PoseLandmark.LEFT_KNEE],  # 왼쪽 무릎\n",
    "                    landmarks[mp_pose.PoseLandmark.RIGHT_KNEE],  # 오른쪽 무릎\n",
    "                    landmarks[mp_pose.PoseLandmark.LEFT_ANKLE],  # 왼쪽 발목\n",
    "                    landmarks[mp_pose.PoseLandmark.RIGHT_ANKLE]  # 오른쪽 발목\n",
    "                ]\n",
    "\n",
    "                # 키포인트 그리기\n",
    "                for keypoint in desired_keypoints:\n",
    "                    cx, cy = int(keypoint.x * person_image.shape[1]), int(keypoint.y * person_image.shape[0])\n",
    "                    cv2.circle(person_image, (cx, cy), 5, (0, 255, 0), -1)\n",
    "\n",
    "                # 원본 이미지에 결과 적용\n",
    "                image[y1:y2, x1:x2] = person_image\n",
    "\n",
    "    # 결과 표시\n",
    "    cv2.imshow('YOLOv8 + MediaPipe Pose Estimation', image)\n",
    "\n",
    "    if cv2.waitKey(5) & 0xFF == 27:  # ESC 키로 종료\n",
    "        break"
   ]
  },
  {
   "cell_type": "code",
   "execution_count": null,
   "id": "9abb6486",
   "metadata": {},
   "outputs": [],
   "source": [
    "cap.release()\n",
    "cv2.destroyAllWindows()"
   ]
  }
 ],
 "metadata": {
  "jupytext": {
   "cell_metadata_filter": "-all",
   "main_language": "python",
   "notebook_metadata_filter": "-all"
  }
 },
 "nbformat": 4,
 "nbformat_minor": 5
}

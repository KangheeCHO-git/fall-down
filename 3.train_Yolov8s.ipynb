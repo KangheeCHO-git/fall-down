{
 "cells": [
  {
   "cell_type": "code",
   "execution_count": null,
   "metadata": {},
   "outputs": [],
   "source": [
    "import torch\n",
    "from ultralytics import YOLO\n",
    "import time\n",
    "import yaml"
   ]
  },
  {
   "cell_type": "code",
   "execution_count": null,
   "metadata": {},
   "outputs": [],
   "source": [
    "device = torch.device(\"cuda\" if torch.cuda.is_available() else \"cpu\")\n",
    "print(device)"
   ]
  },
  {
   "cell_type": "code",
   "execution_count": null,
   "metadata": {},
   "outputs": [],
   "source": [
    "# 데이터셋 경로 설정\n",
    "data_root = 'D:\\\\Falldown\\\\Dataset\\\\Resized_Dataset'\n",
    "train_root = f'{data_root}\\\\Train\\\\images'\n",
    "val_root = f'{data_root}\\\\Val\\\\images'\n",
    "test_root = f'{data_root}\\\\Test\\\\images'\n",
    "\n",
    "# 클래스 설정\n",
    "class_names = {0 : 'Non_Fall', 1 : 'Fall'}\n",
    "num_classes = len(class_names)\n",
    "\n",
    "# yaml 설정\n",
    "yaml_info = {\n",
    "    'path' : 'D:\\\\Falldown', # YOLOv8 기본 경로\n",
    "    'names': class_names,\n",
    "    'nc': num_classes,\n",
    "    'train': train_root,\n",
    "    'val': val_root,\n",
    "    'test': test_root\n",
    "}\n",
    "\n",
    "# YAML 파일 저장 경로\n",
    "yaml_file_path = 'D:\\\\Falldown\\\\yaml_info_yolov8s.yaml'\n",
    "\n",
    "# YAML 파일 생성\n",
    "with open(yaml_file_path, 'w') as f:\n",
    "    yaml.dump(yaml_info, f)\n",
    "\n",
    "print(f'yaml 파일이 생성되었습니다: {yaml_file_path}')"
   ]
  },
  {
   "cell_type": "code",
   "execution_count": null,
   "metadata": {},
   "outputs": [],
   "source": [
    "model = YOLO('yolov8s.pt')"
   ]
  },
  {
   "cell_type": "code",
   "execution_count": null,
   "metadata": {},
   "outputs": [],
   "source": [
    "# 학습 시작 시간 기록\n",
    "start_time = time.time()\n",
    "\n",
    "# 학습 실행\n",
    "result = model.train(\n",
    "    data='D:\\\\Falldown\\\\yaml_info_yolov8s.yaml',\n",
    "    epochs=50,\n",
    "    batch=16,\n",
    "    imgsz=640,\n",
    "    device=\"cuda\",\n",
    "    workers=20,\n",
    "    amp=True,\n",
    "    patience=30,\n",
    "    name='human_fall_s'\n",
    ")\n",
    "\n",
    "# 학습 종료 시간 기록\n",
    "end_time = time.time()\n",
    "execution_time = end_time - start_time\n",
    "print(f\"실행 시간: {execution_time:.4f} 초\") # 약 20시간 소요"
   ]
  },
  {
   "cell_type": "code",
   "execution_count": null,
   "metadata": {},
   "outputs": [],
   "source": [
    "# 검증 시작 시간 기록\n",
    "start_time = time.time()\n",
    "\n",
    "# YOLO 모델 로드 및 검증 실행\n",
    "model = YOLO('D:\\\\Falldown\\\\runs\\\\detect\\\\human_fall_s30\\\\weights\\\\best.pt')\n",
    "val_results = model.val(\n",
    "    data='D:\\\\Falldown\\\\yaml_info_yolov8s.yaml',\n",
    "    imgsz=640,\n",
    "    batch=32,\n",
    "    device=device\n",
    ")\n",
    "\n",
    "# 평가 종료 시간 기록\n",
    "end_time = time.time()\n",
    "execution_time = end_time - start_time\n",
    "\n",
    "# 결과 출력\n",
    "print(f\"Validation Results:\")\n",
    "print(f\"mAP50: {results.box.map50:.4f}\")\n",
    "print(f\"mAP50-95: {results.box.map:.4f}\")\n",
    "print(f\"실행 시간: {execution_time:.4f} 초\")"
   ]
  },
  {
   "cell_type": "code",
   "execution_count": null,
   "metadata": {},
   "outputs": [],
   "source": [
    "# 테스트 시작 시간 기록\n",
    "start_time = time.time()\n",
    "\n",
    "# 테스트 실행\n",
    "test_results = model.val(\n",
    "    data='D:\\\\Falldown\\\\yaml_info_yolov8s.yaml',\n",
    "    imgsz=640,\n",
    "    batch=32,\n",
    "    device=device,\n",
    "    split=\"test\"  # Test 데이터셋으로 평가\n",
    ")\n",
    "\n",
    "# 테스트 종료 시간 기록\n",
    "end_time = time.time()\n",
    "execution_time = end_time - start_time\n",
    "\n",
    "# 테스트 결과 출력\n",
    "print(f\"Test Results:\")\n",
    "print(f\"mAP50: {test_results.box.map50:.4f}\")\n",
    "print(f\"mAP50-95: {test_results.box.map:.4f}\")\n",
    "print(f\"실행 시간: {execution_time:.4f} 초\")"
   ]
  }
 ],
 "metadata": {
  "kernelspec": {
   "display_name": ".venv",
   "language": "python",
   "name": "python3"
  },
  "language_info": {
   "codemirror_mode": {
    "name": "ipython",
    "version": 3
   },
   "file_extension": ".py",
   "mimetype": "text/x-python",
   "name": "python",
   "nbconvert_exporter": "python",
   "pygments_lexer": "ipython3",
   "version": "3.10.11"
  }
 },
 "nbformat": 4,
 "nbformat_minor": 2
}

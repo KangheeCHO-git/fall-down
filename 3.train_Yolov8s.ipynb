{
 "cells": [
  {
   "cell_type": "code",
   "execution_count": 12,
   "metadata": {},
   "outputs": [],
   "source": [
    "import torch\n",
    "import time\n",
    "import yaml\n",
    "import os\n",
    "import cv2\n",
    "import matplotlib.pyplot as plt\n",
    "import random\n",
    "import numpy as np\n",
    "from ultralytics import YOLO"
   ]
  },
  {
   "cell_type": "code",
   "execution_count": 2,
   "metadata": {},
   "outputs": [
    {
     "name": "stdout",
     "output_type": "stream",
     "text": [
      "cuda\n"
     ]
    }
   ],
   "source": [
    "device = torch.device(\"cuda\" if torch.cuda.is_available() else \"cpu\")\n",
    "print(device)"
   ]
  },
  {
   "cell_type": "code",
   "execution_count": 3,
   "metadata": {},
   "outputs": [
    {
     "name": "stdout",
     "output_type": "stream",
     "text": [
      "YAML 파일이 이미 존재합니다: D:\\Falldown\\yaml_info_yolov8s.yaml\n"
     ]
    }
   ],
   "source": [
    "# 데이터셋 경로 설정 (yolo는 dataset 경로를 images와 labels로 해주어야 인식이 가능)\n",
    "data_root = 'D:\\\\Falldown\\\\Dataset\\\\Resized_Dataset'\n",
    "train_root = f'{data_root}\\\\Train\\\\images'\n",
    "val_root = f'{data_root}\\\\Val\\\\images'\n",
    "test_root = f'{data_root}\\\\Test\\\\images'\n",
    "\n",
    "# 클래스 설정\n",
    "class_names = {0 : 'Human'} # 팀원 yaml에서는 0을 비낙상, 1을 낙상으로 클래스 설정함\n",
    "num_classes = len(class_names)\n",
    "\n",
    "# yaml 설정\n",
    "yaml_info = {\n",
    "    'path' : r'D:\\Falldown', # YOLOv8 기본 경로\n",
    "    'names': class_names,\n",
    "    'nc': num_classes,\n",
    "    'train': train_root,\n",
    "    'val': val_root,\n",
    "    'test': test_root\n",
    "}\n",
    "\n",
    "# YAML 파일 저장 경로\n",
    "yaml_file_path = 'D:\\\\Falldown\\\\yaml_info_yolov8s.yaml'\n",
    "\n",
    "# YAML 파일 생성 또는 확인\n",
    "if os.path.exists(yaml_file_path):\n",
    "    print(f\"YAML 파일이 이미 존재합니다: {yaml_file_path}\")\n",
    "else:\n",
    "    with open(yaml_file_path, 'w') as f:\n",
    "        yaml.dump(yaml_info, f)\n",
    "    print(f\"YAML 파일이 생성되었습니다: {yaml_file_path}\")"
   ]
  },
  {
   "cell_type": "code",
   "execution_count": 4,
   "metadata": {},
   "outputs": [],
   "source": [
    "model = YOLO('yolov8s.pt')"
   ]
  },
  {
   "cell_type": "code",
   "execution_count": 5,
   "metadata": {},
   "outputs": [
    {
     "name": "stdout",
     "output_type": "stream",
     "text": [
      "학습이 이미 완료된 디렉토리가 존재합니다: D:\\Falldown\\code-git\\runs\\detect\\human_fall_s\n"
     ]
    }
   ],
   "source": [
    "# 학습 디렉토리 이름 설정\n",
    "training_name = 'human_fall_s'\n",
    "training_dir = f\"D:\\\\Falldown\\\\code-git\\\\runs\\\\detect\\\\{training_name}\"\n",
    "\n",
    "try:\n",
    "    if os.path.exists(training_dir):\n",
    "        print(f\"학습이 이미 완료된 디렉토리가 존재합니다: {training_dir}\")\n",
    "    else:\n",
    "        start_time = time.time()\n",
    "\n",
    "        # 학습 실행\n",
    "        result = model.train(\n",
    "            data='D:\\\\Falldown\\\\yaml_info_yolov8s.yaml',\n",
    "            epochs=50,\n",
    "            batch=16,\n",
    "            imgsz=640,\n",
    "            device=device,\n",
    "            workers=12,\n",
    "            amp=True,\n",
    "            patience=30,\n",
    "            name=training_name\n",
    "        )\n",
    "\n",
    "        end_time = time.time()\n",
    "        execution_time = end_time - start_time\n",
    "        print(f\"학습 실행 시간: {execution_time:.4f} 초\")  # 약 20시간 소요\n",
    "\n",
    "except KeyboardInterrupt:\n",
    "    print(\"KeyboardInterrupt: 사용자가 학습을 중단하였습니다.\")"
   ]
  },
  {
   "cell_type": "code",
   "execution_count": 8,
   "metadata": {},
   "outputs": [
    {
     "name": "stdout",
     "output_type": "stream",
     "text": [
      "Model summary (fused): 168 layers, 11,126,358 parameters, 0 gradients, 28.4 GFLOPs\n"
     ]
    },
    {
     "name": "stderr",
     "output_type": "stream",
     "text": [
      "\u001b[34m\u001b[1mval: \u001b[0mScanning D:\\Falldown\\Dataset\\Resized_Dataset\\Val\\labels.cache... 9440 images, 0 backgrounds, 0 corrupt: 100%|██████████| 9440/9440 [00:00<?, ?it/s]\n",
      "                 Class     Images  Instances      Box(P          R      mAP50  mAP50-95): 100%|██████████| 295/295 [01:22<00:00,  3.58it/s]\n"
     ]
    },
    {
     "name": "stdout",
     "output_type": "stream",
     "text": [
      "                   all       9440       9440      0.982      0.661      0.827       0.81\n",
      "              Non_Fall       9440       9440      0.982      0.661      0.827       0.81\n",
      "Speed: 0.2ms preprocess, 5.4ms inference, 0.0ms loss, 0.7ms postprocess per image\n",
      "Results saved to \u001b[1mruns\\detect\\val4\u001b[0m\n",
      "Validation Results:\n",
      "mAP50: 0.8267\n",
      "mAP50-95: 0.8099\n",
      "실행 시간: 116.8889 초\n"
     ]
    }
   ],
   "source": [
    "# 검증 시작 시간 기록\n",
    "start_time = time.time()\n",
    "model_path = f'{training_dir}\\\\weights\\\\best.pt'\n",
    "\n",
    "# YOLO 모델 로드 및 검증 실행\n",
    "model = YOLO(model_path)\n",
    "val_results = model.val(\n",
    "    data='D:\\\\Falldown\\\\yaml_info_yolov8s.yaml',\n",
    "    imgsz=640,\n",
    "    batch=32,\n",
    "    device=device\n",
    ")\n",
    "\n",
    "# 평가 종료 시간 기록\n",
    "end_time = time.time()\n",
    "execution_time = end_time - start_time\n",
    "\n",
    "# 결과 출력\n",
    "print(f\"Validation Results:\")\n",
    "print(f\"mAP50: {val_results.box.map50:.4f}\")\n",
    "print(f\"mAP50-95: {val_results.box.map:.4f}\")\n",
    "print(f\"실행 시간: {execution_time:.4f} 초\")"
   ]
  },
  {
   "cell_type": "code",
   "execution_count": null,
   "metadata": {},
   "outputs": [
    {
     "name": "stderr",
     "output_type": "stream",
     "text": [
      "\u001b[34m\u001b[1mval: \u001b[0mScanning D:\\Falldown\\Dataset\\Resized_Dataset\\Test\\labels... 9580 images, 0 backgrounds, 0 corrupt: 100%|██████████| 9580/9580 [00:04<00:00, 2359.04it/s]\n"
     ]
    },
    {
     "name": "stdout",
     "output_type": "stream",
     "text": [
      "\u001b[34m\u001b[1mval: \u001b[0mNew cache created: D:\\Falldown\\Dataset\\Resized_Dataset\\Test\\labels.cache\n"
     ]
    },
    {
     "name": "stderr",
     "output_type": "stream",
     "text": [
      "                 Class     Images  Instances      Box(P          R      mAP50  mAP50-95): 100%|██████████| 300/300 [01:24<00:00,  3.56it/s]\n"
     ]
    },
    {
     "name": "stdout",
     "output_type": "stream",
     "text": [
      "                   all       9580       9580      0.985      0.674      0.833      0.815\n",
      "              Non_Fall       9580       9580      0.985      0.674      0.833      0.815\n",
      "Speed: 0.2ms preprocess, 5.4ms inference, 0.0ms loss, 0.7ms postprocess per image\n",
      "Results saved to \u001b[1mruns\\detect\\val2\u001b[0m\n",
      "Test Results:\n",
      "mAP50: 0.8332\n",
      "mAP50-95: 0.8146\n",
      "실행 시간: 117.0793 초\n"
     ]
    }
   ],
   "source": [
    "# 테스트 시작 시간 기록\n",
    "start_time = time.time()\n",
    "\n",
    "# YOLO 모델 로드 및 test 실행\n",
    "model = YOLO(model_path)\n",
    "test_results = model.val(\n",
    "    data='D:\\\\Falldown\\\\yaml_info_yolov8s.yaml',\n",
    "    imgsz=640,\n",
    "    batch=32,\n",
    "    device=device,\n",
    "    split=\"test\"  # Test 데이터셋으로 평가\n",
    ")\n",
    "\n",
    "# 테스트 종료 시간 기록\n",
    "end_time = time.time()\n",
    "execution_time = end_time - start_time\n",
    "\n",
    "# 테스트 결과 출력\n",
    "print(f\"Test Results:\")\n",
    "print(f\"mAP50: {test_results.box.map50:.4f}\")\n",
    "print(f\"mAP50-95: {test_results.box.map:.4f}\")\n",
    "print(f\"실행 시간: {execution_time:.4f} 초\")"
   ]
  },
  {
   "cell_type": "code",
   "execution_count": 29,
   "metadata": {},
   "outputs": [
    {
     "data": {
      "text/plain": [
       "<Figure size 2000x800 with 10 Axes>"
      ]
     },
     "metadata": {},
     "output_type": "display_data"
    }
   ],
   "source": [
    "# 경로 설정\n",
    "data_root = 'D:\\\\Falldown\\\\Dataset\\\\Resized_Dataset'\n",
    "test_root = f'{data_root}\\\\Test\\\\images'\n",
    "\n",
    "# YOLO 모델 로드\n",
    "model_path = \"D:\\\\Falldown\\\\code-git\\\\runs\\\\detect\\\\human_fall_s\\\\weights\\\\best.pt\"\n",
    "model = YOLO(model_path)\n",
    "\n",
    "# 시각화 함수\n",
    "def process_and_visualize(image, model, conf=0.5):\n",
    "    results = model.predict(image, conf=conf, save=False, verbose=False)\n",
    "    for result in results:\n",
    "        for box in result.boxes.xyxy.tolist():  # Tensor -> 리스트로 변환\n",
    "            x1, y1, x2, y2 = map(int, box[:4])\n",
    "            cv2.rectangle(image, (x1, y1), (x2, y2), color=(0, 0, 255), thickness=2)\n",
    "    return image\n",
    "\n",
    "# 랜덤 테스트 이미지 10개 가져오기\n",
    "image_files = [os.path.join(test_root, file) for file in os.listdir(test_root) if file.endswith('.jpg')]\n",
    "random.shuffle(image_files)\n",
    "image_files = image_files[:10]\n",
    "\n",
    "# 이미지 처리 및 시각화\n",
    "processed_images = []\n",
    "for image_file in image_files:\n",
    "    image = cv2.imread(image_file)\n",
    "    if image is None:  # 이미지 로드 실패 처리\n",
    "        print(f\"Failed to load {image_file}\")\n",
    "        continue\n",
    "    processed_image = process_and_visualize(image, model, conf=0.5)\n",
    "    processed_images.append((os.path.basename(image_file), processed_image))\n",
    "\n",
    "# Subplot에 시각화된 이미지 추가\n",
    "fig, axes = plt.subplots(2, 5, figsize=(20, 8))\n",
    "axes = axes.flatten()\n",
    "\n",
    "for idx, (image_name, image) in enumerate(processed_images):\n",
    "    image_rgb = cv2.cvtColor(image, cv2.COLOR_BGR2RGB)\n",
    "    axes[idx].imshow(image_rgb)\n",
    "    axes[idx].axis('off')\n",
    "    axes[idx].set_title(image_name)\n",
    "\n",
    "# 나머지 subplot 빈칸 처리\n",
    "for ax in axes[len(processed_images):]:\n",
    "    ax.axis('off')\n",
    "\n",
    "plt.tight_layout()\n",
    "plt.show()"
   ]
  }
 ],
 "metadata": {
  "kernelspec": {
   "display_name": "Python 3",
   "language": "python",
   "name": "python3"
  },
  "language_info": {
   "codemirror_mode": {
    "name": "ipython",
    "version": 3
   },
   "file_extension": ".py",
   "mimetype": "text/x-python",
   "name": "python",
   "nbconvert_exporter": "python",
   "pygments_lexer": "ipython3",
   "version": "3.10.11"
  }
 },
 "nbformat": 4,
 "nbformat_minor": 2
}

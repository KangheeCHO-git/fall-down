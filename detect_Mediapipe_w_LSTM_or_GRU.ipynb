{
 "cells": [
  {
   "cell_type": "markdown",
   "metadata": {},
   "source": [
    "### YOLO & Mediapipe & LSTM/GRU를 사용한 모델\n",
    "* 원본: https://github.com/seonydg/LSTM-for-Anomaly-Detection"
   ]
  },
  {
   "cell_type": "code",
   "execution_count": 1,
   "metadata": {},
   "outputs": [
    {
     "name": "stdout",
     "output_type": "stream",
     "text": [
      "Requirement already satisfied: mediapipe==0.10.11 in c:\\users\\min12\\appdata\\roaming\\python\\python310\\site-packages (0.10.11)\n",
      "Requirement already satisfied: numpy in c:\\users\\min12\\appdata\\local\\programs\\python\\python310\\lib\\site-packages (from mediapipe==0.10.11) (2.1.2)\n",
      "Requirement already satisfied: protobuf<4,>=3.11 in c:\\users\\min12\\appdata\\local\\programs\\python\\python310\\lib\\site-packages (from mediapipe==0.10.11) (3.20.3)\n",
      "Requirement already satisfied: sounddevice>=0.4.4 in c:\\users\\min12\\appdata\\local\\programs\\python\\python310\\lib\\site-packages (from mediapipe==0.10.11) (0.5.1)\n",
      "Requirement already satisfied: jax in c:\\users\\min12\\appdata\\local\\programs\\python\\python310\\lib\\site-packages (from mediapipe==0.10.11) (0.4.35)\n",
      "Requirement already satisfied: opencv-contrib-python in c:\\users\\min12\\appdata\\local\\programs\\python\\python310\\lib\\site-packages (from mediapipe==0.10.11) (4.10.0.84)\n",
      "Requirement already satisfied: absl-py in c:\\users\\min12\\appdata\\local\\programs\\python\\python310\\lib\\site-packages (from mediapipe==0.10.11) (2.1.0)\n",
      "Requirement already satisfied: matplotlib in c:\\users\\min12\\appdata\\local\\programs\\python\\python310\\lib\\site-packages (from mediapipe==0.10.11) (3.9.2)\n",
      "Requirement already satisfied: flatbuffers>=2.0 in c:\\users\\min12\\appdata\\local\\programs\\python\\python310\\lib\\site-packages (from mediapipe==0.10.11) (24.3.25)\n",
      "Requirement already satisfied: attrs>=19.1.0 in c:\\users\\min12\\appdata\\local\\programs\\python\\python310\\lib\\site-packages (from mediapipe==0.10.11) (24.2.0)\n",
      "Requirement already satisfied: CFFI>=1.0 in c:\\users\\min12\\appdata\\local\\programs\\python\\python310\\lib\\site-packages (from sounddevice>=0.4.4->mediapipe==0.10.11) (1.17.1)\n",
      "Requirement already satisfied: ml-dtypes>=0.4.0 in c:\\users\\min12\\appdata\\local\\programs\\python\\python310\\lib\\site-packages (from jax->mediapipe==0.10.11) (0.5.0)\n",
      "Requirement already satisfied: jaxlib<=0.4.35,>=0.4.34 in c:\\users\\min12\\appdata\\local\\programs\\python\\python310\\lib\\site-packages (from jax->mediapipe==0.10.11) (0.4.35)\n",
      "Requirement already satisfied: scipy>=1.10 in c:\\users\\min12\\appdata\\local\\programs\\python\\python310\\lib\\site-packages (from jax->mediapipe==0.10.11) (1.14.1)\n",
      "Requirement already satisfied: opt-einsum in c:\\users\\min12\\appdata\\local\\programs\\python\\python310\\lib\\site-packages (from jax->mediapipe==0.10.11) (3.4.0)\n",
      "Requirement already satisfied: fonttools>=4.22.0 in c:\\users\\min12\\appdata\\local\\programs\\python\\python310\\lib\\site-packages (from matplotlib->mediapipe==0.10.11) (4.54.1)\n",
      "Requirement already satisfied: contourpy>=1.0.1 in c:\\users\\min12\\appdata\\local\\programs\\python\\python310\\lib\\site-packages (from matplotlib->mediapipe==0.10.11) (1.3.0)\n",
      "Requirement already satisfied: pillow>=8 in c:\\users\\min12\\appdata\\local\\programs\\python\\python310\\lib\\site-packages (from matplotlib->mediapipe==0.10.11) (11.0.0)\n",
      "Requirement already satisfied: cycler>=0.10 in c:\\users\\min12\\appdata\\local\\programs\\python\\python310\\lib\\site-packages (from matplotlib->mediapipe==0.10.11) (0.12.1)\n",
      "Requirement already satisfied: kiwisolver>=1.3.1 in c:\\users\\min12\\appdata\\local\\programs\\python\\python310\\lib\\site-packages (from matplotlib->mediapipe==0.10.11) (1.4.7)\n",
      "Requirement already satisfied: python-dateutil>=2.7 in c:\\users\\min12\\appdata\\roaming\\python\\python310\\site-packages (from matplotlib->mediapipe==0.10.11) (2.9.0.post0)\n",
      "Requirement already satisfied: pyparsing>=2.3.1 in c:\\users\\min12\\appdata\\local\\programs\\python\\python310\\lib\\site-packages (from matplotlib->mediapipe==0.10.11) (3.2.0)\n",
      "Requirement already satisfied: packaging>=20.0 in c:\\users\\min12\\appdata\\roaming\\python\\python310\\site-packages (from matplotlib->mediapipe==0.10.11) (24.1)\n",
      "Requirement already satisfied: pycparser in c:\\users\\min12\\appdata\\local\\programs\\python\\python310\\lib\\site-packages (from CFFI>=1.0->sounddevice>=0.4.4->mediapipe==0.10.11) (2.22)\n",
      "Requirement already satisfied: six>=1.5 in c:\\users\\min12\\appdata\\roaming\\python\\python310\\site-packages (from python-dateutil>=2.7->matplotlib->mediapipe==0.10.11) (1.16.0)\n",
      "Note: you may need to restart the kernel to use updated packages.\n"
     ]
    },
    {
     "name": "stderr",
     "output_type": "stream",
     "text": [
      "\n",
      "[notice] A new release of pip is available: 23.0.1 -> 24.2\n",
      "[notice] To update, run: python.exe -m pip install --upgrade pip\n"
     ]
    },
    {
     "name": "stdout",
     "output_type": "stream",
     "text": [
      "Requirement already satisfied: ultralytics in c:\\users\\min12\\appdata\\local\\programs\\python\\python310\\lib\\site-packages (8.3.21)\n",
      "Requirement already satisfied: requests>=2.23.0 in c:\\users\\min12\\appdata\\local\\programs\\python\\python310\\lib\\site-packages (from ultralytics) (2.32.3)\n",
      "Requirement already satisfied: numpy>=1.23.0 in c:\\users\\min12\\appdata\\local\\programs\\python\\python310\\lib\\site-packages (from ultralytics) (2.1.2)\n",
      "Requirement already satisfied: psutil in c:\\users\\min12\\appdata\\roaming\\python\\python310\\site-packages (from ultralytics) (6.0.0)\n",
      "Requirement already satisfied: matplotlib>=3.3.0 in c:\\users\\min12\\appdata\\local\\programs\\python\\python310\\lib\\site-packages (from ultralytics) (3.9.2)\n",
      "Requirement already satisfied: opencv-python>=4.6.0 in c:\\users\\min12\\appdata\\local\\programs\\python\\python310\\lib\\site-packages (from ultralytics) (4.10.0.84)\n",
      "Requirement already satisfied: ultralytics-thop>=2.0.0 in c:\\users\\min12\\appdata\\local\\programs\\python\\python310\\lib\\site-packages (from ultralytics) (2.0.9)\n",
      "Requirement already satisfied: pandas>=1.1.4 in c:\\users\\min12\\appdata\\local\\programs\\python\\python310\\lib\\site-packages (from ultralytics) (2.2.3)\n",
      "Requirement already satisfied: seaborn>=0.11.0 in c:\\users\\min12\\appdata\\local\\programs\\python\\python310\\lib\\site-packages (from ultralytics) (0.13.2)\n",
      "Requirement already satisfied: pillow>=7.1.2 in c:\\users\\min12\\appdata\\local\\programs\\python\\python310\\lib\\site-packages (from ultralytics) (11.0.0)\n",
      "Requirement already satisfied: pyyaml>=5.3.1 in c:\\users\\min12\\appdata\\local\\programs\\python\\python310\\lib\\site-packages (from ultralytics) (6.0.2)\n",
      "Requirement already satisfied: torch!=2.4.0,>=1.8.0 in c:\\users\\min12\\appdata\\local\\programs\\python\\python310\\lib\\site-packages (from ultralytics) (2.5.0)\n",
      "Requirement already satisfied: scipy>=1.4.1 in c:\\users\\min12\\appdata\\local\\programs\\python\\python310\\lib\\site-packages (from ultralytics) (1.14.1)\n",
      "Requirement already satisfied: py-cpuinfo in c:\\users\\min12\\appdata\\local\\programs\\python\\python310\\lib\\site-packages (from ultralytics) (9.0.0)\n",
      "Requirement already satisfied: tqdm>=4.64.0 in c:\\users\\min12\\appdata\\local\\programs\\python\\python310\\lib\\site-packages (from ultralytics) (4.66.5)\n",
      "Requirement already satisfied: torchvision>=0.9.0 in c:\\users\\min12\\appdata\\local\\programs\\python\\python310\\lib\\site-packages (from ultralytics) (0.20.0)\n",
      "Requirement already satisfied: fonttools>=4.22.0 in c:\\users\\min12\\appdata\\local\\programs\\python\\python310\\lib\\site-packages (from matplotlib>=3.3.0->ultralytics) (4.54.1)\n",
      "Requirement already satisfied: pyparsing>=2.3.1 in c:\\users\\min12\\appdata\\local\\programs\\python\\python310\\lib\\site-packages (from matplotlib>=3.3.0->ultralytics) (3.2.0)\n",
      "Requirement already satisfied: cycler>=0.10 in c:\\users\\min12\\appdata\\local\\programs\\python\\python310\\lib\\site-packages (from matplotlib>=3.3.0->ultralytics) (0.12.1)\n",
      "Requirement already satisfied: packaging>=20.0 in c:\\users\\min12\\appdata\\roaming\\python\\python310\\site-packages (from matplotlib>=3.3.0->ultralytics) (24.1)\n",
      "Requirement already satisfied: contourpy>=1.0.1 in c:\\users\\min12\\appdata\\local\\programs\\python\\python310\\lib\\site-packages (from matplotlib>=3.3.0->ultralytics) (1.3.0)\n",
      "Requirement already satisfied: python-dateutil>=2.7 in c:\\users\\min12\\appdata\\roaming\\python\\python310\\site-packages (from matplotlib>=3.3.0->ultralytics) (2.9.0.post0)\n",
      "Requirement already satisfied: kiwisolver>=1.3.1 in c:\\users\\min12\\appdata\\local\\programs\\python\\python310\\lib\\site-packages (from matplotlib>=3.3.0->ultralytics) (1.4.7)\n",
      "Requirement already satisfied: tzdata>=2022.7 in c:\\users\\min12\\appdata\\local\\programs\\python\\python310\\lib\\site-packages (from pandas>=1.1.4->ultralytics) (2024.2)\n",
      "Requirement already satisfied: pytz>=2020.1 in c:\\users\\min12\\appdata\\local\\programs\\python\\python310\\lib\\site-packages (from pandas>=1.1.4->ultralytics) (2024.2)\n",
      "Requirement already satisfied: idna<4,>=2.5 in c:\\users\\min12\\appdata\\local\\programs\\python\\python310\\lib\\site-packages (from requests>=2.23.0->ultralytics) (3.10)\n",
      "Requirement already satisfied: urllib3<3,>=1.21.1 in c:\\users\\min12\\appdata\\local\\programs\\python\\python310\\lib\\site-packages (from requests>=2.23.0->ultralytics) (2.2.3)\n",
      "Requirement already satisfied: certifi>=2017.4.17 in c:\\users\\min12\\appdata\\local\\programs\\python\\python310\\lib\\site-packages (from requests>=2.23.0->ultralytics) (2024.8.30)\n",
      "Requirement already satisfied: charset-normalizer<4,>=2 in c:\\users\\min12\\appdata\\local\\programs\\python\\python310\\lib\\site-packages (from requests>=2.23.0->ultralytics) (3.4.0)\n",
      "Requirement already satisfied: filelock in c:\\users\\min12\\appdata\\local\\programs\\python\\python310\\lib\\site-packages (from torch!=2.4.0,>=1.8.0->ultralytics) (3.16.1)\n",
      "Requirement already satisfied: typing-extensions>=4.8.0 in c:\\users\\min12\\appdata\\roaming\\python\\python310\\site-packages (from torch!=2.4.0,>=1.8.0->ultralytics) (4.12.2)\n",
      "Requirement already satisfied: fsspec in c:\\users\\min12\\appdata\\local\\programs\\python\\python310\\lib\\site-packages (from torch!=2.4.0,>=1.8.0->ultralytics) (2024.10.0)\n",
      "Requirement already satisfied: sympy==1.13.1 in c:\\users\\min12\\appdata\\local\\programs\\python\\python310\\lib\\site-packages (from torch!=2.4.0,>=1.8.0->ultralytics) (1.13.1)\n",
      "Requirement already satisfied: networkx in c:\\users\\min12\\appdata\\local\\programs\\python\\python310\\lib\\site-packages (from torch!=2.4.0,>=1.8.0->ultralytics) (3.4.2)\n",
      "Requirement already satisfied: jinja2 in c:\\users\\min12\\appdata\\local\\programs\\python\\python310\\lib\\site-packages (from torch!=2.4.0,>=1.8.0->ultralytics) (3.1.4)\n",
      "Requirement already satisfied: mpmath<1.4,>=1.1.0 in c:\\users\\min12\\appdata\\local\\programs\\python\\python310\\lib\\site-packages (from sympy==1.13.1->torch!=2.4.0,>=1.8.0->ultralytics) (1.3.0)\n",
      "Requirement already satisfied: colorama in c:\\users\\min12\\appdata\\roaming\\python\\python310\\site-packages (from tqdm>=4.64.0->ultralytics) (0.4.6)\n",
      "Requirement already satisfied: six>=1.5 in c:\\users\\min12\\appdata\\roaming\\python\\python310\\site-packages (from python-dateutil>=2.7->matplotlib>=3.3.0->ultralytics) (1.16.0)\n",
      "Requirement already satisfied: MarkupSafe>=2.0 in c:\\users\\min12\\appdata\\local\\programs\\python\\python310\\lib\\site-packages (from jinja2->torch!=2.4.0,>=1.8.0->ultralytics) (3.0.2)\n",
      "Note: you may need to restart the kernel to use updated packages.\n"
     ]
    },
    {
     "name": "stderr",
     "output_type": "stream",
     "text": [
      "\n",
      "[notice] A new release of pip is available: 23.0.1 -> 24.2\n",
      "[notice] To update, run: python.exe -m pip install --upgrade pip\n"
     ]
    }
   ],
   "source": [
    "%pip install mediapipe==0.10.11\n",
    "%pip install ultralytics"
   ]
  },
  {
   "cell_type": "code",
   "execution_count": 2,
   "metadata": {},
   "outputs": [],
   "source": [
    "import cv2\n",
    "import mediapipe as mp\n",
    "import numpy as np\n",
    "import os\n",
    "import random\n",
    "import gc\n",
    "import glob\n",
    "import time\n",
    "import torch\n",
    "import torch.nn as nn\n",
    "import torch.optim as optim\n",
    "import torch.nn.functional as F\n",
    "import matplotlib.pyplot as plt\n",
    "from ultralytics import YOLO\n",
    "from IPython.display import Image, clear_output\n",
    "from torch.cuda import memory_allocated, empty_cache\n",
    "from torch.optim import Adam\n",
    "from torch.utils.data import random_split\n",
    "from torch.utils.data import Dataset, DataLoader\n",
    "from tqdm import tqdm\n",
    "\n",
    "%matplotlib inline"
   ]
  },
  {
   "cell_type": "code",
   "execution_count": 3,
   "metadata": {},
   "outputs": [
    {
     "name": "stdout",
     "output_type": "stream",
     "text": [
      "D:\\project\\New_Data\\Image\n",
      "67840\n",
      "67840 67840\n"
     ]
    }
   ],
   "source": [
    "data_root = r'D:\\project\\New_Data'\n",
    "file_root = rf'{data_root}\\Image'\n",
    "project_name = 'fall_detection'\n",
    "print(file_root)\n",
    "train_root = rf'{data_root}\\train'\n",
    "valid_root = rf'{data_root}\\valid'\n",
    "test_root = rf'{data_root}\\test'\n",
    "cls_list = ['Normal', 'Fall']\n",
    "cls_filename_list = ['N', 'BY', 'FY', 'SY']\n",
    "\n",
    "image_root = f'{train_root}\\\\images' # resize 후(640*640) 이미지 경로\n",
    "label_root = f'{train_root}\\\\labels'\n",
    "\n",
    "image_root_4k = r'D:\\project\\Data\\Data\\Data\\Training\\SourceData\\TS\\Image' # 원본 이미지(3840*2160) 경로. 자신의 경로에 맞춰서 사용 바람...\n",
    "\n",
    "image_list = sorted(glob.glob(f'{image_root}\\\\*.jpg'))\n",
    "print(len(image_list))\n",
    "label_list = [x.replace('images', 'labels').replace('JPG', 'jpg').replace('jpg', 'txt') for x in image_list]\n",
    "print(len(image_list), len(label_list))"
   ]
  },
  {
   "cell_type": "markdown",
   "metadata": {},
   "source": [
    "# **1. 사용할 이미지 선택 & mediapipe로 이미지의 pose 데이터 추출**\n",
    "* bbox의 경우 덕휘님이 주신 yolo.pt 데이터를 사용한 후 1.4배 늘려서 사용"
   ]
  },
  {
   "cell_type": "code",
   "execution_count": 4,
   "metadata": {},
   "outputs": [],
   "source": [
    "# 예전(json의 bbox를 그대로 사용할 때)에 쓴 코드. ***무시해도 좋음***\n",
    "def image_sampling_old(image_root, label_root, sample_num):\n",
    "    image_cls_dict = {'N': [], 'BY': [], 'FY': [], 'SY': []}\n",
    "    image_names_dict = {'N': [], 'BY': [], 'FY': [], 'SY': []}\n",
    "    image_sampled_dict = {'N': [], 'BY': [], 'FY': [], 'SY': []}\n",
    "    label_sampled_dict = {'N': [], 'BY': [], 'FY': [], 'SY': []}\n",
    "    for cls in cls_filename_list:\n",
    "        image_cls_dict[cls] = glob.glob(f'{image_root}\\\\*_{cls}_*')\n",
    "        image_names_dict[cls] = list(set([x.split('\\\\')[-1].split('_')[0] for x in image_cls_dict[cls]]))\n",
    "        div = 2 if cls == 'N' else 6\n",
    "        image_names_dict[cls] = random.sample(image_names_dict[cls], round((sample_num / 80) / div))\n",
    "        for i in tqdm(image_names_dict[cls]):\n",
    "            image_sampled_dict[cls].extend(sorted(glob.glob(f'{image_root}\\\\{i}_*')))\n",
    "            label_sampled_dict[cls].extend(sorted(glob.glob(f'{label_root}\\\\{i}_*')))\n",
    "    print([image_sampled_dict[cls][:10] for cls in cls_filename_list])\n",
    "    print([label_sampled_dict[cls][:10] for cls in cls_filename_list])\n",
    "    print([len(image_sampled_dict[cls]) for cls in cls_filename_list])\n",
    "    return image_sampled_dict, label_sampled_dict"
   ]
  },
  {
   "cell_type": "code",
   "execution_count": 5,
   "metadata": {},
   "outputs": [],
   "source": [
    "# ....\\train\\images\\(image_name)_I00X.jpg 형태의 경로에 대하여 사용.\n",
    "def image_sampling(image_root, sample_num):\n",
    "    image_cls_dict = {'N': [], 'BY': [], 'FY': [], 'SY': []}\n",
    "    image_names_dict = {'N': [], 'BY': [], 'FY': [], 'SY': []}\n",
    "    image_sampled_dict = {'N': [], 'BY': [], 'FY': [], 'SY': []}\n",
    "    for cls in cls_filename_list:\n",
    "        image_cls_dict[cls] = glob.glob(f'{image_root}\\\\*_{cls}_*')\n",
    "        image_names_dict[cls] = list(set([x.split('\\\\')[-1].split('_')[0] for x in image_cls_dict[cls]]))\n",
    "        div = 2 if cls == 'N' else 6\n",
    "        image_names_dict[cls] = random.sample(image_names_dict[cls], round((sample_num / 80) / div))\n",
    "        for i in tqdm(image_names_dict[cls]):\n",
    "            image_sampled_dict[cls].extend(sorted(glob.glob(f'{image_root}\\\\{i}_*')))\n",
    "    print([image_sampled_dict[cls][:10] for cls in cls_filename_list])\n",
    "    print([len(image_sampled_dict[cls]) for cls in cls_filename_list])\n",
    "    return image_sampled_dict"
   ]
  },
  {
   "cell_type": "code",
   "execution_count": 6,
   "metadata": {},
   "outputs": [],
   "source": [
    "# ....\\N\\N\\(image_name)\\(image_name)_I00X.jpg 형태의 경로에 대하여 사용.\n",
    "def image_sampling2(image_root, sample_num):\n",
    "    image_cls_dict = {'N': [], 'BY': [], 'FY': [], 'SY': []}\n",
    "    image_names_dict = {'N': [], 'BY': [], 'FY': [], 'SY': []}\n",
    "    image_sampled_dict = {'N': [], 'BY': [], 'FY': [], 'SY': []}\n",
    "    for cls in cls_filename_list:\n",
    "        image_cls_dict[cls] = glob.glob(f'{image_root}\\\\*\\\\{cls}\\\\*')\n",
    "        image_names_dict[cls] = list(set([x.split('\\\\')[-1].split('_')[0] for x in image_cls_dict[cls]]))\n",
    "        div = 2 if cls == 'N' else 6\n",
    "        image_names_dict[cls] = random.sample(image_names_dict[cls], round((sample_num / 80) / div))\n",
    "        for i in tqdm(image_names_dict[cls]):\n",
    "            image_sampled_dict[cls].extend(sorted(glob.glob(f'{image_root_4k}\\\\*\\\\{cls}\\\\{i}_*\\\\*')))\n",
    "        print([image_sampled_dict[cls][:10] for cls in cls_filename_list])\n",
    "        print([len(image_sampled_dict[cls]) for cls in cls_filename_list])\n",
    "    return image_sampled_dict"
   ]
  },
  {
   "cell_type": "code",
   "execution_count": 141,
   "metadata": {},
   "outputs": [
    {
     "name": "stderr",
     "output_type": "stream",
     "text": [
      "100%|██████████| 188/188 [01:02<00:00,  3.02it/s]\n",
      "100%|██████████| 62/62 [00:20<00:00,  3.02it/s]\n",
      "100%|██████████| 62/62 [00:20<00:00,  3.00it/s]\n",
      "100%|██████████| 62/62 [00:20<00:00,  3.03it/s]"
     ]
    },
    {
     "name": "stdout",
     "output_type": "stream",
     "text": [
      "[['E:\\\\project\\\\New_Data\\\\train\\\\images\\\\00873_O_E_N_C1_I001.jpg', 'E:\\\\project\\\\New_Data\\\\train\\\\images\\\\00873_O_E_N_C1_I002.jpg', 'E:\\\\project\\\\New_Data\\\\train\\\\images\\\\00873_O_E_N_C1_I003.jpg', 'E:\\\\project\\\\New_Data\\\\train\\\\images\\\\00873_O_E_N_C1_I004.jpg', 'E:\\\\project\\\\New_Data\\\\train\\\\images\\\\00873_O_E_N_C1_I005.jpg', 'E:\\\\project\\\\New_Data\\\\train\\\\images\\\\00873_O_E_N_C1_I006.jpg', 'E:\\\\project\\\\New_Data\\\\train\\\\images\\\\00873_O_E_N_C1_I007.jpg', 'E:\\\\project\\\\New_Data\\\\train\\\\images\\\\00873_O_E_N_C1_I008.jpg', 'E:\\\\project\\\\New_Data\\\\train\\\\images\\\\00873_O_E_N_C1_I009.jpg', 'E:\\\\project\\\\New_Data\\\\train\\\\images\\\\00873_O_E_N_C1_I010.jpg'], ['E:\\\\project\\\\New_Data\\\\train\\\\images\\\\01346_O_F_BY_C1_I001.jpg', 'E:\\\\project\\\\New_Data\\\\train\\\\images\\\\01346_O_F_BY_C1_I002.jpg', 'E:\\\\project\\\\New_Data\\\\train\\\\images\\\\01346_O_F_BY_C1_I003.jpg', 'E:\\\\project\\\\New_Data\\\\train\\\\images\\\\01346_O_F_BY_C1_I004.jpg', 'E:\\\\project\\\\New_Data\\\\train\\\\images\\\\01346_O_F_BY_C1_I005.jpg', 'E:\\\\project\\\\New_Data\\\\train\\\\images\\\\01346_O_F_BY_C1_I006.jpg', 'E:\\\\project\\\\New_Data\\\\train\\\\images\\\\01346_O_F_BY_C1_I007.jpg', 'E:\\\\project\\\\New_Data\\\\train\\\\images\\\\01346_O_F_BY_C1_I008.jpg', 'E:\\\\project\\\\New_Data\\\\train\\\\images\\\\01346_O_F_BY_C1_I009.jpg', 'E:\\\\project\\\\New_Data\\\\train\\\\images\\\\01346_O_F_BY_C1_I010.jpg'], ['E:\\\\project\\\\New_Data\\\\train\\\\images\\\\01696_Y_E_FY_C1_I001.jpg', 'E:\\\\project\\\\New_Data\\\\train\\\\images\\\\01696_Y_E_FY_C1_I002.jpg', 'E:\\\\project\\\\New_Data\\\\train\\\\images\\\\01696_Y_E_FY_C1_I003.jpg', 'E:\\\\project\\\\New_Data\\\\train\\\\images\\\\01696_Y_E_FY_C1_I004.jpg', 'E:\\\\project\\\\New_Data\\\\train\\\\images\\\\01696_Y_E_FY_C1_I005.jpg', 'E:\\\\project\\\\New_Data\\\\train\\\\images\\\\01696_Y_E_FY_C1_I006.jpg', 'E:\\\\project\\\\New_Data\\\\train\\\\images\\\\01696_Y_E_FY_C1_I007.jpg', 'E:\\\\project\\\\New_Data\\\\train\\\\images\\\\01696_Y_E_FY_C1_I008.jpg', 'E:\\\\project\\\\New_Data\\\\train\\\\images\\\\01696_Y_E_FY_C1_I009.jpg', 'E:\\\\project\\\\New_Data\\\\train\\\\images\\\\01696_Y_E_FY_C1_I010.jpg'], ['E:\\\\project\\\\New_Data\\\\train\\\\images\\\\02032_H_A_SY_C1_I001.jpg', 'E:\\\\project\\\\New_Data\\\\train\\\\images\\\\02032_H_A_SY_C1_I002.jpg', 'E:\\\\project\\\\New_Data\\\\train\\\\images\\\\02032_H_A_SY_C1_I003.jpg', 'E:\\\\project\\\\New_Data\\\\train\\\\images\\\\02032_H_A_SY_C1_I004.jpg', 'E:\\\\project\\\\New_Data\\\\train\\\\images\\\\02032_H_A_SY_C1_I005.jpg', 'E:\\\\project\\\\New_Data\\\\train\\\\images\\\\02032_H_A_SY_C1_I006.jpg', 'E:\\\\project\\\\New_Data\\\\train\\\\images\\\\02032_H_A_SY_C1_I007.jpg', 'E:\\\\project\\\\New_Data\\\\train\\\\images\\\\02032_H_A_SY_C1_I008.jpg', 'E:\\\\project\\\\New_Data\\\\train\\\\images\\\\02032_H_A_SY_C1_I009.jpg', 'E:\\\\project\\\\New_Data\\\\train\\\\images\\\\02032_H_A_SY_C1_I010.jpg']]\n",
      "[['E:\\\\project\\\\New_Data\\\\train\\\\labels\\\\00873_O_E_N_C1_I001.txt', 'E:\\\\project\\\\New_Data\\\\train\\\\labels\\\\00873_O_E_N_C1_I002.txt', 'E:\\\\project\\\\New_Data\\\\train\\\\labels\\\\00873_O_E_N_C1_I003.txt', 'E:\\\\project\\\\New_Data\\\\train\\\\labels\\\\00873_O_E_N_C1_I004.txt', 'E:\\\\project\\\\New_Data\\\\train\\\\labels\\\\00873_O_E_N_C1_I005.txt', 'E:\\\\project\\\\New_Data\\\\train\\\\labels\\\\00873_O_E_N_C1_I006.txt', 'E:\\\\project\\\\New_Data\\\\train\\\\labels\\\\00873_O_E_N_C1_I007.txt', 'E:\\\\project\\\\New_Data\\\\train\\\\labels\\\\00873_O_E_N_C1_I008.txt', 'E:\\\\project\\\\New_Data\\\\train\\\\labels\\\\00873_O_E_N_C1_I009.txt', 'E:\\\\project\\\\New_Data\\\\train\\\\labels\\\\00873_O_E_N_C1_I010.txt'], ['E:\\\\project\\\\New_Data\\\\train\\\\labels\\\\01346_O_F_BY_C1_I001.txt', 'E:\\\\project\\\\New_Data\\\\train\\\\labels\\\\01346_O_F_BY_C1_I002.txt', 'E:\\\\project\\\\New_Data\\\\train\\\\labels\\\\01346_O_F_BY_C1_I003.txt', 'E:\\\\project\\\\New_Data\\\\train\\\\labels\\\\01346_O_F_BY_C1_I004.txt', 'E:\\\\project\\\\New_Data\\\\train\\\\labels\\\\01346_O_F_BY_C1_I005.txt', 'E:\\\\project\\\\New_Data\\\\train\\\\labels\\\\01346_O_F_BY_C1_I006.txt', 'E:\\\\project\\\\New_Data\\\\train\\\\labels\\\\01346_O_F_BY_C1_I007.txt', 'E:\\\\project\\\\New_Data\\\\train\\\\labels\\\\01346_O_F_BY_C1_I008.txt', 'E:\\\\project\\\\New_Data\\\\train\\\\labels\\\\01346_O_F_BY_C1_I009.txt', 'E:\\\\project\\\\New_Data\\\\train\\\\labels\\\\01346_O_F_BY_C1_I010.txt'], ['E:\\\\project\\\\New_Data\\\\train\\\\labels\\\\01696_Y_E_FY_C1_I001.txt', 'E:\\\\project\\\\New_Data\\\\train\\\\labels\\\\01696_Y_E_FY_C1_I002.txt', 'E:\\\\project\\\\New_Data\\\\train\\\\labels\\\\01696_Y_E_FY_C1_I003.txt', 'E:\\\\project\\\\New_Data\\\\train\\\\labels\\\\01696_Y_E_FY_C1_I004.txt', 'E:\\\\project\\\\New_Data\\\\train\\\\labels\\\\01696_Y_E_FY_C1_I005.txt', 'E:\\\\project\\\\New_Data\\\\train\\\\labels\\\\01696_Y_E_FY_C1_I006.txt', 'E:\\\\project\\\\New_Data\\\\train\\\\labels\\\\01696_Y_E_FY_C1_I007.txt', 'E:\\\\project\\\\New_Data\\\\train\\\\labels\\\\01696_Y_E_FY_C1_I008.txt', 'E:\\\\project\\\\New_Data\\\\train\\\\labels\\\\01696_Y_E_FY_C1_I009.txt', 'E:\\\\project\\\\New_Data\\\\train\\\\labels\\\\01696_Y_E_FY_C1_I010.txt'], ['E:\\\\project\\\\New_Data\\\\train\\\\labels\\\\02032_H_A_SY_C1_I001.txt', 'E:\\\\project\\\\New_Data\\\\train\\\\labels\\\\02032_H_A_SY_C1_I002.txt', 'E:\\\\project\\\\New_Data\\\\train\\\\labels\\\\02032_H_A_SY_C1_I003.txt', 'E:\\\\project\\\\New_Data\\\\train\\\\labels\\\\02032_H_A_SY_C1_I004.txt', 'E:\\\\project\\\\New_Data\\\\train\\\\labels\\\\02032_H_A_SY_C1_I005.txt', 'E:\\\\project\\\\New_Data\\\\train\\\\labels\\\\02032_H_A_SY_C1_I006.txt', 'E:\\\\project\\\\New_Data\\\\train\\\\labels\\\\02032_H_A_SY_C1_I007.txt', 'E:\\\\project\\\\New_Data\\\\train\\\\labels\\\\02032_H_A_SY_C1_I008.txt', 'E:\\\\project\\\\New_Data\\\\train\\\\labels\\\\02032_H_A_SY_C1_I009.txt', 'E:\\\\project\\\\New_Data\\\\train\\\\labels\\\\02032_H_A_SY_C1_I010.txt']]\n",
      "[15040, 4960, 4960, 4960]\n"
     ]
    },
    {
     "name": "stderr",
     "output_type": "stream",
     "text": [
      "\n"
     ]
    },
    {
     "data": {
      "text/plain": [
       "15040"
      ]
     },
     "execution_count": 141,
     "metadata": {},
     "output_type": "execute_result"
    }
   ],
   "source": [
    "# 원하는 양의 이미지&라벨을 선택 후 각 클래스(N, BY, SY, FY) 형태로 저장\n",
    "image_dict, label_dict = image_sampling(image_root, label_root, 30000)\n",
    "len(label_dict['N'])"
   ]
  },
  {
   "cell_type": "code",
   "execution_count": 25,
   "metadata": {},
   "outputs": [
    {
     "name": "stderr",
     "output_type": "stream",
     "text": [
      "100%|██████████| 75/75 [00:05<00:00, 13.01it/s]\n"
     ]
    },
    {
     "name": "stdout",
     "output_type": "stream",
     "text": [
      "[['D:\\\\project\\\\Data\\\\Data\\\\Data\\\\Training\\\\SourceData\\\\TS\\\\Image\\\\N\\\\N\\\\00774_O_E_N_C1\\\\00774_O_E_N_C1_I001.jpg', 'D:\\\\project\\\\Data\\\\Data\\\\Data\\\\Training\\\\SourceData\\\\TS\\\\Image\\\\N\\\\N\\\\00774_O_E_N_C1\\\\00774_O_E_N_C1_I002.jpg', 'D:\\\\project\\\\Data\\\\Data\\\\Data\\\\Training\\\\SourceData\\\\TS\\\\Image\\\\N\\\\N\\\\00774_O_E_N_C1\\\\00774_O_E_N_C1_I003.jpg', 'D:\\\\project\\\\Data\\\\Data\\\\Data\\\\Training\\\\SourceData\\\\TS\\\\Image\\\\N\\\\N\\\\00774_O_E_N_C1\\\\00774_O_E_N_C1_I004.jpg', 'D:\\\\project\\\\Data\\\\Data\\\\Data\\\\Training\\\\SourceData\\\\TS\\\\Image\\\\N\\\\N\\\\00774_O_E_N_C1\\\\00774_O_E_N_C1_I005.jpg', 'D:\\\\project\\\\Data\\\\Data\\\\Data\\\\Training\\\\SourceData\\\\TS\\\\Image\\\\N\\\\N\\\\00774_O_E_N_C1\\\\00774_O_E_N_C1_I006.jpg', 'D:\\\\project\\\\Data\\\\Data\\\\Data\\\\Training\\\\SourceData\\\\TS\\\\Image\\\\N\\\\N\\\\00774_O_E_N_C1\\\\00774_O_E_N_C1_I007.jpg', 'D:\\\\project\\\\Data\\\\Data\\\\Data\\\\Training\\\\SourceData\\\\TS\\\\Image\\\\N\\\\N\\\\00774_O_E_N_C1\\\\00774_O_E_N_C1_I008.jpg', 'D:\\\\project\\\\Data\\\\Data\\\\Data\\\\Training\\\\SourceData\\\\TS\\\\Image\\\\N\\\\N\\\\00774_O_E_N_C1\\\\00774_O_E_N_C1_I009.jpg', 'D:\\\\project\\\\Data\\\\Data\\\\Data\\\\Training\\\\SourceData\\\\TS\\\\Image\\\\N\\\\N\\\\00774_O_E_N_C1\\\\00774_O_E_N_C1_I010.jpg'], [], [], []]\n",
      "[6000, 0, 0, 0]\n"
     ]
    },
    {
     "name": "stderr",
     "output_type": "stream",
     "text": [
      "100%|██████████| 25/25 [00:02<00:00, 11.84it/s]\n"
     ]
    },
    {
     "name": "stdout",
     "output_type": "stream",
     "text": [
      "[['D:\\\\project\\\\Data\\\\Data\\\\Data\\\\Training\\\\SourceData\\\\TS\\\\Image\\\\N\\\\N\\\\00774_O_E_N_C1\\\\00774_O_E_N_C1_I001.jpg', 'D:\\\\project\\\\Data\\\\Data\\\\Data\\\\Training\\\\SourceData\\\\TS\\\\Image\\\\N\\\\N\\\\00774_O_E_N_C1\\\\00774_O_E_N_C1_I002.jpg', 'D:\\\\project\\\\Data\\\\Data\\\\Data\\\\Training\\\\SourceData\\\\TS\\\\Image\\\\N\\\\N\\\\00774_O_E_N_C1\\\\00774_O_E_N_C1_I003.jpg', 'D:\\\\project\\\\Data\\\\Data\\\\Data\\\\Training\\\\SourceData\\\\TS\\\\Image\\\\N\\\\N\\\\00774_O_E_N_C1\\\\00774_O_E_N_C1_I004.jpg', 'D:\\\\project\\\\Data\\\\Data\\\\Data\\\\Training\\\\SourceData\\\\TS\\\\Image\\\\N\\\\N\\\\00774_O_E_N_C1\\\\00774_O_E_N_C1_I005.jpg', 'D:\\\\project\\\\Data\\\\Data\\\\Data\\\\Training\\\\SourceData\\\\TS\\\\Image\\\\N\\\\N\\\\00774_O_E_N_C1\\\\00774_O_E_N_C1_I006.jpg', 'D:\\\\project\\\\Data\\\\Data\\\\Data\\\\Training\\\\SourceData\\\\TS\\\\Image\\\\N\\\\N\\\\00774_O_E_N_C1\\\\00774_O_E_N_C1_I007.jpg', 'D:\\\\project\\\\Data\\\\Data\\\\Data\\\\Training\\\\SourceData\\\\TS\\\\Image\\\\N\\\\N\\\\00774_O_E_N_C1\\\\00774_O_E_N_C1_I008.jpg', 'D:\\\\project\\\\Data\\\\Data\\\\Data\\\\Training\\\\SourceData\\\\TS\\\\Image\\\\N\\\\N\\\\00774_O_E_N_C1\\\\00774_O_E_N_C1_I009.jpg', 'D:\\\\project\\\\Data\\\\Data\\\\Data\\\\Training\\\\SourceData\\\\TS\\\\Image\\\\N\\\\N\\\\00774_O_E_N_C1\\\\00774_O_E_N_C1_I010.jpg'], ['D:\\\\project\\\\Data\\\\Data\\\\Data\\\\Training\\\\SourceData\\\\TS\\\\Image\\\\Y\\\\BY\\\\00598_H_D_BY_C1\\\\00598_H_D_BY_C1_I001.jpg', 'D:\\\\project\\\\Data\\\\Data\\\\Data\\\\Training\\\\SourceData\\\\TS\\\\Image\\\\Y\\\\BY\\\\00598_H_D_BY_C1\\\\00598_H_D_BY_C1_I002.jpg', 'D:\\\\project\\\\Data\\\\Data\\\\Data\\\\Training\\\\SourceData\\\\TS\\\\Image\\\\Y\\\\BY\\\\00598_H_D_BY_C1\\\\00598_H_D_BY_C1_I003.jpg', 'D:\\\\project\\\\Data\\\\Data\\\\Data\\\\Training\\\\SourceData\\\\TS\\\\Image\\\\Y\\\\BY\\\\00598_H_D_BY_C1\\\\00598_H_D_BY_C1_I004.jpg', 'D:\\\\project\\\\Data\\\\Data\\\\Data\\\\Training\\\\SourceData\\\\TS\\\\Image\\\\Y\\\\BY\\\\00598_H_D_BY_C1\\\\00598_H_D_BY_C1_I005.jpg', 'D:\\\\project\\\\Data\\\\Data\\\\Data\\\\Training\\\\SourceData\\\\TS\\\\Image\\\\Y\\\\BY\\\\00598_H_D_BY_C1\\\\00598_H_D_BY_C1_I006.jpg', 'D:\\\\project\\\\Data\\\\Data\\\\Data\\\\Training\\\\SourceData\\\\TS\\\\Image\\\\Y\\\\BY\\\\00598_H_D_BY_C1\\\\00598_H_D_BY_C1_I007.jpg', 'D:\\\\project\\\\Data\\\\Data\\\\Data\\\\Training\\\\SourceData\\\\TS\\\\Image\\\\Y\\\\BY\\\\00598_H_D_BY_C1\\\\00598_H_D_BY_C1_I008.jpg', 'D:\\\\project\\\\Data\\\\Data\\\\Data\\\\Training\\\\SourceData\\\\TS\\\\Image\\\\Y\\\\BY\\\\00598_H_D_BY_C1\\\\00598_H_D_BY_C1_I009.jpg', 'D:\\\\project\\\\Data\\\\Data\\\\Data\\\\Training\\\\SourceData\\\\TS\\\\Image\\\\Y\\\\BY\\\\00598_H_D_BY_C1\\\\00598_H_D_BY_C1_I010.jpg'], [], []]\n",
      "[6000, 2000, 0, 0]\n"
     ]
    },
    {
     "name": "stderr",
     "output_type": "stream",
     "text": [
      "100%|██████████| 25/25 [00:02<00:00, 11.22it/s]\n"
     ]
    },
    {
     "name": "stdout",
     "output_type": "stream",
     "text": [
      "[['D:\\\\project\\\\Data\\\\Data\\\\Data\\\\Training\\\\SourceData\\\\TS\\\\Image\\\\N\\\\N\\\\00774_O_E_N_C1\\\\00774_O_E_N_C1_I001.jpg', 'D:\\\\project\\\\Data\\\\Data\\\\Data\\\\Training\\\\SourceData\\\\TS\\\\Image\\\\N\\\\N\\\\00774_O_E_N_C1\\\\00774_O_E_N_C1_I002.jpg', 'D:\\\\project\\\\Data\\\\Data\\\\Data\\\\Training\\\\SourceData\\\\TS\\\\Image\\\\N\\\\N\\\\00774_O_E_N_C1\\\\00774_O_E_N_C1_I003.jpg', 'D:\\\\project\\\\Data\\\\Data\\\\Data\\\\Training\\\\SourceData\\\\TS\\\\Image\\\\N\\\\N\\\\00774_O_E_N_C1\\\\00774_O_E_N_C1_I004.jpg', 'D:\\\\project\\\\Data\\\\Data\\\\Data\\\\Training\\\\SourceData\\\\TS\\\\Image\\\\N\\\\N\\\\00774_O_E_N_C1\\\\00774_O_E_N_C1_I005.jpg', 'D:\\\\project\\\\Data\\\\Data\\\\Data\\\\Training\\\\SourceData\\\\TS\\\\Image\\\\N\\\\N\\\\00774_O_E_N_C1\\\\00774_O_E_N_C1_I006.jpg', 'D:\\\\project\\\\Data\\\\Data\\\\Data\\\\Training\\\\SourceData\\\\TS\\\\Image\\\\N\\\\N\\\\00774_O_E_N_C1\\\\00774_O_E_N_C1_I007.jpg', 'D:\\\\project\\\\Data\\\\Data\\\\Data\\\\Training\\\\SourceData\\\\TS\\\\Image\\\\N\\\\N\\\\00774_O_E_N_C1\\\\00774_O_E_N_C1_I008.jpg', 'D:\\\\project\\\\Data\\\\Data\\\\Data\\\\Training\\\\SourceData\\\\TS\\\\Image\\\\N\\\\N\\\\00774_O_E_N_C1\\\\00774_O_E_N_C1_I009.jpg', 'D:\\\\project\\\\Data\\\\Data\\\\Data\\\\Training\\\\SourceData\\\\TS\\\\Image\\\\N\\\\N\\\\00774_O_E_N_C1\\\\00774_O_E_N_C1_I010.jpg'], ['D:\\\\project\\\\Data\\\\Data\\\\Data\\\\Training\\\\SourceData\\\\TS\\\\Image\\\\Y\\\\BY\\\\00598_H_D_BY_C1\\\\00598_H_D_BY_C1_I001.jpg', 'D:\\\\project\\\\Data\\\\Data\\\\Data\\\\Training\\\\SourceData\\\\TS\\\\Image\\\\Y\\\\BY\\\\00598_H_D_BY_C1\\\\00598_H_D_BY_C1_I002.jpg', 'D:\\\\project\\\\Data\\\\Data\\\\Data\\\\Training\\\\SourceData\\\\TS\\\\Image\\\\Y\\\\BY\\\\00598_H_D_BY_C1\\\\00598_H_D_BY_C1_I003.jpg', 'D:\\\\project\\\\Data\\\\Data\\\\Data\\\\Training\\\\SourceData\\\\TS\\\\Image\\\\Y\\\\BY\\\\00598_H_D_BY_C1\\\\00598_H_D_BY_C1_I004.jpg', 'D:\\\\project\\\\Data\\\\Data\\\\Data\\\\Training\\\\SourceData\\\\TS\\\\Image\\\\Y\\\\BY\\\\00598_H_D_BY_C1\\\\00598_H_D_BY_C1_I005.jpg', 'D:\\\\project\\\\Data\\\\Data\\\\Data\\\\Training\\\\SourceData\\\\TS\\\\Image\\\\Y\\\\BY\\\\00598_H_D_BY_C1\\\\00598_H_D_BY_C1_I006.jpg', 'D:\\\\project\\\\Data\\\\Data\\\\Data\\\\Training\\\\SourceData\\\\TS\\\\Image\\\\Y\\\\BY\\\\00598_H_D_BY_C1\\\\00598_H_D_BY_C1_I007.jpg', 'D:\\\\project\\\\Data\\\\Data\\\\Data\\\\Training\\\\SourceData\\\\TS\\\\Image\\\\Y\\\\BY\\\\00598_H_D_BY_C1\\\\00598_H_D_BY_C1_I008.jpg', 'D:\\\\project\\\\Data\\\\Data\\\\Data\\\\Training\\\\SourceData\\\\TS\\\\Image\\\\Y\\\\BY\\\\00598_H_D_BY_C1\\\\00598_H_D_BY_C1_I009.jpg', 'D:\\\\project\\\\Data\\\\Data\\\\Data\\\\Training\\\\SourceData\\\\TS\\\\Image\\\\Y\\\\BY\\\\00598_H_D_BY_C1\\\\00598_H_D_BY_C1_I010.jpg'], ['D:\\\\project\\\\Data\\\\Data\\\\Data\\\\Training\\\\SourceData\\\\TS\\\\Image\\\\Y\\\\FY\\\\01298_O_F_FY_C1\\\\01298_O_F_FY_C1_I001.jpg', 'D:\\\\project\\\\Data\\\\Data\\\\Data\\\\Training\\\\SourceData\\\\TS\\\\Image\\\\Y\\\\FY\\\\01298_O_F_FY_C1\\\\01298_O_F_FY_C1_I002.jpg', 'D:\\\\project\\\\Data\\\\Data\\\\Data\\\\Training\\\\SourceData\\\\TS\\\\Image\\\\Y\\\\FY\\\\01298_O_F_FY_C1\\\\01298_O_F_FY_C1_I003.jpg', 'D:\\\\project\\\\Data\\\\Data\\\\Data\\\\Training\\\\SourceData\\\\TS\\\\Image\\\\Y\\\\FY\\\\01298_O_F_FY_C1\\\\01298_O_F_FY_C1_I004.jpg', 'D:\\\\project\\\\Data\\\\Data\\\\Data\\\\Training\\\\SourceData\\\\TS\\\\Image\\\\Y\\\\FY\\\\01298_O_F_FY_C1\\\\01298_O_F_FY_C1_I005.jpg', 'D:\\\\project\\\\Data\\\\Data\\\\Data\\\\Training\\\\SourceData\\\\TS\\\\Image\\\\Y\\\\FY\\\\01298_O_F_FY_C1\\\\01298_O_F_FY_C1_I006.jpg', 'D:\\\\project\\\\Data\\\\Data\\\\Data\\\\Training\\\\SourceData\\\\TS\\\\Image\\\\Y\\\\FY\\\\01298_O_F_FY_C1\\\\01298_O_F_FY_C1_I007.jpg', 'D:\\\\project\\\\Data\\\\Data\\\\Data\\\\Training\\\\SourceData\\\\TS\\\\Image\\\\Y\\\\FY\\\\01298_O_F_FY_C1\\\\01298_O_F_FY_C1_I008.jpg', 'D:\\\\project\\\\Data\\\\Data\\\\Data\\\\Training\\\\SourceData\\\\TS\\\\Image\\\\Y\\\\FY\\\\01298_O_F_FY_C1\\\\01298_O_F_FY_C1_I009.jpg', 'D:\\\\project\\\\Data\\\\Data\\\\Data\\\\Training\\\\SourceData\\\\TS\\\\Image\\\\Y\\\\FY\\\\01298_O_F_FY_C1\\\\01298_O_F_FY_C1_I010.jpg'], []]\n",
      "[6000, 2000, 2000, 0]\n"
     ]
    },
    {
     "name": "stderr",
     "output_type": "stream",
     "text": [
      "100%|██████████| 25/25 [00:02<00:00, 10.88it/s]"
     ]
    },
    {
     "name": "stdout",
     "output_type": "stream",
     "text": [
      "[['D:\\\\project\\\\Data\\\\Data\\\\Data\\\\Training\\\\SourceData\\\\TS\\\\Image\\\\N\\\\N\\\\00774_O_E_N_C1\\\\00774_O_E_N_C1_I001.jpg', 'D:\\\\project\\\\Data\\\\Data\\\\Data\\\\Training\\\\SourceData\\\\TS\\\\Image\\\\N\\\\N\\\\00774_O_E_N_C1\\\\00774_O_E_N_C1_I002.jpg', 'D:\\\\project\\\\Data\\\\Data\\\\Data\\\\Training\\\\SourceData\\\\TS\\\\Image\\\\N\\\\N\\\\00774_O_E_N_C1\\\\00774_O_E_N_C1_I003.jpg', 'D:\\\\project\\\\Data\\\\Data\\\\Data\\\\Training\\\\SourceData\\\\TS\\\\Image\\\\N\\\\N\\\\00774_O_E_N_C1\\\\00774_O_E_N_C1_I004.jpg', 'D:\\\\project\\\\Data\\\\Data\\\\Data\\\\Training\\\\SourceData\\\\TS\\\\Image\\\\N\\\\N\\\\00774_O_E_N_C1\\\\00774_O_E_N_C1_I005.jpg', 'D:\\\\project\\\\Data\\\\Data\\\\Data\\\\Training\\\\SourceData\\\\TS\\\\Image\\\\N\\\\N\\\\00774_O_E_N_C1\\\\00774_O_E_N_C1_I006.jpg', 'D:\\\\project\\\\Data\\\\Data\\\\Data\\\\Training\\\\SourceData\\\\TS\\\\Image\\\\N\\\\N\\\\00774_O_E_N_C1\\\\00774_O_E_N_C1_I007.jpg', 'D:\\\\project\\\\Data\\\\Data\\\\Data\\\\Training\\\\SourceData\\\\TS\\\\Image\\\\N\\\\N\\\\00774_O_E_N_C1\\\\00774_O_E_N_C1_I008.jpg', 'D:\\\\project\\\\Data\\\\Data\\\\Data\\\\Training\\\\SourceData\\\\TS\\\\Image\\\\N\\\\N\\\\00774_O_E_N_C1\\\\00774_O_E_N_C1_I009.jpg', 'D:\\\\project\\\\Data\\\\Data\\\\Data\\\\Training\\\\SourceData\\\\TS\\\\Image\\\\N\\\\N\\\\00774_O_E_N_C1\\\\00774_O_E_N_C1_I010.jpg'], ['D:\\\\project\\\\Data\\\\Data\\\\Data\\\\Training\\\\SourceData\\\\TS\\\\Image\\\\Y\\\\BY\\\\00598_H_D_BY_C1\\\\00598_H_D_BY_C1_I001.jpg', 'D:\\\\project\\\\Data\\\\Data\\\\Data\\\\Training\\\\SourceData\\\\TS\\\\Image\\\\Y\\\\BY\\\\00598_H_D_BY_C1\\\\00598_H_D_BY_C1_I002.jpg', 'D:\\\\project\\\\Data\\\\Data\\\\Data\\\\Training\\\\SourceData\\\\TS\\\\Image\\\\Y\\\\BY\\\\00598_H_D_BY_C1\\\\00598_H_D_BY_C1_I003.jpg', 'D:\\\\project\\\\Data\\\\Data\\\\Data\\\\Training\\\\SourceData\\\\TS\\\\Image\\\\Y\\\\BY\\\\00598_H_D_BY_C1\\\\00598_H_D_BY_C1_I004.jpg', 'D:\\\\project\\\\Data\\\\Data\\\\Data\\\\Training\\\\SourceData\\\\TS\\\\Image\\\\Y\\\\BY\\\\00598_H_D_BY_C1\\\\00598_H_D_BY_C1_I005.jpg', 'D:\\\\project\\\\Data\\\\Data\\\\Data\\\\Training\\\\SourceData\\\\TS\\\\Image\\\\Y\\\\BY\\\\00598_H_D_BY_C1\\\\00598_H_D_BY_C1_I006.jpg', 'D:\\\\project\\\\Data\\\\Data\\\\Data\\\\Training\\\\SourceData\\\\TS\\\\Image\\\\Y\\\\BY\\\\00598_H_D_BY_C1\\\\00598_H_D_BY_C1_I007.jpg', 'D:\\\\project\\\\Data\\\\Data\\\\Data\\\\Training\\\\SourceData\\\\TS\\\\Image\\\\Y\\\\BY\\\\00598_H_D_BY_C1\\\\00598_H_D_BY_C1_I008.jpg', 'D:\\\\project\\\\Data\\\\Data\\\\Data\\\\Training\\\\SourceData\\\\TS\\\\Image\\\\Y\\\\BY\\\\00598_H_D_BY_C1\\\\00598_H_D_BY_C1_I009.jpg', 'D:\\\\project\\\\Data\\\\Data\\\\Data\\\\Training\\\\SourceData\\\\TS\\\\Image\\\\Y\\\\BY\\\\00598_H_D_BY_C1\\\\00598_H_D_BY_C1_I010.jpg'], ['D:\\\\project\\\\Data\\\\Data\\\\Data\\\\Training\\\\SourceData\\\\TS\\\\Image\\\\Y\\\\FY\\\\01298_O_F_FY_C1\\\\01298_O_F_FY_C1_I001.jpg', 'D:\\\\project\\\\Data\\\\Data\\\\Data\\\\Training\\\\SourceData\\\\TS\\\\Image\\\\Y\\\\FY\\\\01298_O_F_FY_C1\\\\01298_O_F_FY_C1_I002.jpg', 'D:\\\\project\\\\Data\\\\Data\\\\Data\\\\Training\\\\SourceData\\\\TS\\\\Image\\\\Y\\\\FY\\\\01298_O_F_FY_C1\\\\01298_O_F_FY_C1_I003.jpg', 'D:\\\\project\\\\Data\\\\Data\\\\Data\\\\Training\\\\SourceData\\\\TS\\\\Image\\\\Y\\\\FY\\\\01298_O_F_FY_C1\\\\01298_O_F_FY_C1_I004.jpg', 'D:\\\\project\\\\Data\\\\Data\\\\Data\\\\Training\\\\SourceData\\\\TS\\\\Image\\\\Y\\\\FY\\\\01298_O_F_FY_C1\\\\01298_O_F_FY_C1_I005.jpg', 'D:\\\\project\\\\Data\\\\Data\\\\Data\\\\Training\\\\SourceData\\\\TS\\\\Image\\\\Y\\\\FY\\\\01298_O_F_FY_C1\\\\01298_O_F_FY_C1_I006.jpg', 'D:\\\\project\\\\Data\\\\Data\\\\Data\\\\Training\\\\SourceData\\\\TS\\\\Image\\\\Y\\\\FY\\\\01298_O_F_FY_C1\\\\01298_O_F_FY_C1_I007.jpg', 'D:\\\\project\\\\Data\\\\Data\\\\Data\\\\Training\\\\SourceData\\\\TS\\\\Image\\\\Y\\\\FY\\\\01298_O_F_FY_C1\\\\01298_O_F_FY_C1_I008.jpg', 'D:\\\\project\\\\Data\\\\Data\\\\Data\\\\Training\\\\SourceData\\\\TS\\\\Image\\\\Y\\\\FY\\\\01298_O_F_FY_C1\\\\01298_O_F_FY_C1_I009.jpg', 'D:\\\\project\\\\Data\\\\Data\\\\Data\\\\Training\\\\SourceData\\\\TS\\\\Image\\\\Y\\\\FY\\\\01298_O_F_FY_C1\\\\01298_O_F_FY_C1_I010.jpg'], ['D:\\\\project\\\\Data\\\\Data\\\\Data\\\\Training\\\\SourceData\\\\TS\\\\Image\\\\Y\\\\SY\\\\01705_Y_E_SY_C1\\\\01705_Y_E_SY_C1_I001.jpg', 'D:\\\\project\\\\Data\\\\Data\\\\Data\\\\Training\\\\SourceData\\\\TS\\\\Image\\\\Y\\\\SY\\\\01705_Y_E_SY_C1\\\\01705_Y_E_SY_C1_I002.jpg', 'D:\\\\project\\\\Data\\\\Data\\\\Data\\\\Training\\\\SourceData\\\\TS\\\\Image\\\\Y\\\\SY\\\\01705_Y_E_SY_C1\\\\01705_Y_E_SY_C1_I003.jpg', 'D:\\\\project\\\\Data\\\\Data\\\\Data\\\\Training\\\\SourceData\\\\TS\\\\Image\\\\Y\\\\SY\\\\01705_Y_E_SY_C1\\\\01705_Y_E_SY_C1_I004.jpg', 'D:\\\\project\\\\Data\\\\Data\\\\Data\\\\Training\\\\SourceData\\\\TS\\\\Image\\\\Y\\\\SY\\\\01705_Y_E_SY_C1\\\\01705_Y_E_SY_C1_I005.jpg', 'D:\\\\project\\\\Data\\\\Data\\\\Data\\\\Training\\\\SourceData\\\\TS\\\\Image\\\\Y\\\\SY\\\\01705_Y_E_SY_C1\\\\01705_Y_E_SY_C1_I006.jpg', 'D:\\\\project\\\\Data\\\\Data\\\\Data\\\\Training\\\\SourceData\\\\TS\\\\Image\\\\Y\\\\SY\\\\01705_Y_E_SY_C1\\\\01705_Y_E_SY_C1_I007.jpg', 'D:\\\\project\\\\Data\\\\Data\\\\Data\\\\Training\\\\SourceData\\\\TS\\\\Image\\\\Y\\\\SY\\\\01705_Y_E_SY_C1\\\\01705_Y_E_SY_C1_I008.jpg', 'D:\\\\project\\\\Data\\\\Data\\\\Data\\\\Training\\\\SourceData\\\\TS\\\\Image\\\\Y\\\\SY\\\\01705_Y_E_SY_C1\\\\01705_Y_E_SY_C1_I009.jpg', 'D:\\\\project\\\\Data\\\\Data\\\\Data\\\\Training\\\\SourceData\\\\TS\\\\Image\\\\Y\\\\SY\\\\01705_Y_E_SY_C1\\\\01705_Y_E_SY_C1_I010.jpg']]\n",
      "[6000, 2000, 2000, 2000]\n"
     ]
    },
    {
     "name": "stderr",
     "output_type": "stream",
     "text": [
      "\n"
     ]
    },
    {
     "data": {
      "text/plain": [
       "6000"
      ]
     },
     "execution_count": 25,
     "metadata": {},
     "output_type": "execute_result"
    }
   ],
   "source": [
    "# 원하는 양의 이미지&라벨을 선택 후 각 클래스(N, BY, SY, FY) 형태로 저장\n",
    "image_dict = image_sampling2(image_root_4k, 12000)\n",
    "len(image_dict['N'])"
   ]
  },
  {
   "cell_type": "code",
   "execution_count": 14,
   "metadata": {},
   "outputs": [],
   "source": [
    "# 상수값 설정\n",
    "BATCH_SIZE = 8\n",
    "EPOCH = 10\n",
    "NUM_LAYERS = 1\n",
    "n_CONFIDENCE = 0.3\n",
    "# resolution: \n",
    "#   (640, 640): resize한 이미지 사용시\n",
    "#   (3840, 2160): 원본 이미지 사용시\n",
    "resolution = (3840, 2160)\n",
    "my_moniter_resolution = (1920, 1080)\n",
    "\n",
    "mp_pose = mp.solutions.pose\n",
    "# pose = mp_pose.Pose(static_image_mode=True, min_detection_confidence=0.5)\n",
    "yolo_model = YOLO(r'D:\\project\\code\\Project_humanFall\\runs\\detect\\human_fall_s30\\weights\\best.pt', verbose=False)\n",
    "mp_drawing = mp.solutions.drawing_utils\n",
    "attention_dot = [n for n in range(33)]\n",
    "\n",
    "\n",
    "draw_line_list = [[11, 13], [13, 15], [15, 21], [15, 19], [15, 17], [17, 19], [12, 14], [14, 16],\n",
    "             [16, 22], [16, 20], [16, 18], [18, 20], [23, 25], [25, 27], [24, 26], [26, 28],\n",
    "             [11, 12], [11, 23], [23, 24], [12, 24], [9, 10], [0, 5], [0, 2], [5, 8], [2, 7],\n",
    "             [28, 30], [30, 32], [28, 32], [27, 29], [29, 31], [27, 31]]\n",
    "COLOR_PINK = (255, 51, 153)\n",
    "COLOR_WHITE = (255, 255, 255)"
   ]
  },
  {
   "cell_type": "code",
   "execution_count": 42,
   "metadata": {},
   "outputs": [],
   "source": [
    "# 아래의 get_pose_with_yolo에서 사용\n",
    "def make_imshow_samples(\n",
    "        draw_line_list,\n",
    "        draw_line_dic,\n",
    "        img_ori,\n",
    "        img_pose,\n",
    "        bx1, by1, bx2, by2,\n",
    "        img_src,\n",
    "        isFailed,\n",
    "        resolution\n",
    "        ):\n",
    "    img_ori = cv2.resize(img_ori, tuple(np.array(my_moniter_resolution) // 3) if (resolution[0] > 1600 or resolution[1] > 900) else resolution)\n",
    "    cv2.putText(img_ori, img_src.split('\\\\')[-1], (5, 30), cv2.FONT_HERSHEY_DUPLEX, 1, COLOR_PINK, lineType=cv2.LINE_AA)\n",
    "    if isFailed == 'Detected':\n",
    "        for line in draw_line_list:\n",
    "            lx1, ly1 = draw_line_dic[line[0]][0], draw_line_dic[line[0]][1]\n",
    "            lx2, ly2 = draw_line_dic[line[1]][0], draw_line_dic[line[1]][1]\n",
    "            img_pose = cv2.line(img_pose, (bx1 + lx1, by1 + ly1), (bx1 + lx2, by1 + ly2), (0, 255, 0), 15)\n",
    "            \n",
    "        img_pose = cv2.rectangle(img_pose, (bx1, by1), (bx2, by2), (0, 255, 0), 15)\n",
    "        img_pose = cv2.resize(img_pose, tuple(np.array(my_moniter_resolution) // 3) if (resolution[0] > 1600 or resolution[1] > 900) else resolution)\n",
    "        return [img_ori, img_pose, isFailed, 0]\n",
    "    elif isFailed == 'Failed!: Pose Out of BBOX':\n",
    "        for line in draw_line_list:\n",
    "            lx1, ly1 = draw_line_dic[line[0]][0], draw_line_dic[line[0]][1]\n",
    "            lx2, ly2 = draw_line_dic[line[1]][0], draw_line_dic[line[1]][1]\n",
    "            img_pose = cv2.line(img_pose, (bx1 + lx1, by1 + ly1), (bx1 + lx2, by1 + ly2), (0, 255, 0), 15)\n",
    "            \n",
    "        img_pose = cv2.rectangle(img_pose, (bx1, by1), (bx2, by2), (0, 255, 0), 15)\n",
    "        img_pose = cv2.resize(img_pose, tuple(np.array(my_moniter_resolution) // 3) if (resolution[0] > 1600 or resolution[1] > 900) else resolution)\n",
    "        return [img_ori, False, isFailed, img_pose]\n",
    "    else:\n",
    "        return [img_ori, False, isFailed, 0]"
   ]
  },
  {
   "cell_type": "code",
   "execution_count": 43,
   "metadata": {},
   "outputs": [],
   "source": [
    "# 제가 예전에 쓴 방법(bbox 데이터를 json 파일에서 바로 받아 쓰기). ***무시해도 좋음***\n",
    "def get_pose(image_list: list, label_list: list, attention_dot: list, draw_line_list: list, isSample=False, sample_size=0):\n",
    "    if isSample:\n",
    "        print('sample mod')\n",
    "        print(len(image_list))\n",
    "        plt.figure(figsize=(8, 4*sample_size))\n",
    "    frame_length = 10 # LSTM 모델에 넣을 frame 수\n",
    "    xy_list_list = []\n",
    "    omission_cnt = 0\n",
    "    for i, (img_src, lbl) in enumerate((zip(image_list, label_list))):\n",
    "        if label_type == 'yolo':\n",
    "            with open(lbl, 'r', encoding='utf-8') as f:\n",
    "                label_str = f.read()\n",
    "                bbox = list(map(float, label_str.split(' ')[1:]))\n",
    "\n",
    "            bbox = [int(x * 640) for x in bbox]\n",
    "            bbox = [\n",
    "                max(int(bbox[0] - bbox[2] / 2 - 30), 0),\n",
    "                max(int(bbox[1] - bbox[3] / 2 - 30), 0),\n",
    "                min(int(bbox[0] + bbox[2] / 2 + 30), 640),\n",
    "                min(int(bbox[1] + bbox[3] / 2 + 30), 640),\n",
    "            ]\n",
    "            img = cv2.imread(img_src)\n",
    "            img = cv2.cvtColor(img, cv2.COLOR_BGR2RGB)\n",
    "\n",
    "            if isSample:\n",
    "                bbox_img = cv2.rectangle(img, (bbox[0], bbox[1]), (bbox[2], bbox[3]), (0, 0, 0), 2)\n",
    "                cv2.putText(bbox_img, img_src.split('\\\\')[-1], (5, 30), cv2.FONT_HERSHEY_DUPLEX, 0.6, (255, 255, 255), lineType=cv2.LINE_AA)\n",
    "                plt.subplot(sample_size, 2, (2*i+1))\n",
    "                plt.imshow(bbox_img)\n",
    "\n",
    "        \n",
    "        \"\"\" Yolov5 바운딩 박스 좌표 안에서 mediapipe Pose 추출\"\"\"\n",
    "\n",
    "        c_img = img[bbox[1]:bbox[3], bbox[0]:bbox[2]] # 바운딩 박스 좌표/\n",
    "        del img\n",
    "        results = pose.process(c_img) # Yolov5 바운딩 박스 좌표 안에서 'mp_pose' 좌표\n",
    "\n",
    "        if not results.pose_landmarks: continue\n",
    "        idx = 0\n",
    "        draw_line_dic = {}\n",
    "        xy_list = []\n",
    "        # 33 반복문 진행 : 33개 중 18개의 dot\n",
    "        for x_and_y in results.pose_landmarks.landmark:\n",
    "            if idx in attention_dot:\n",
    "                xy_list.append(x_and_y.x)\n",
    "                xy_list.append(x_and_y.y)\n",
    "\n",
    "                x, y = int(x_and_y.x * (bbox[2] - bbox[0])), int(x_and_y.y * (bbox[3] - bbox[1]))\n",
    "                draw_line_dic[idx] = [x, y]\n",
    "            idx += 1\n",
    "\n",
    "        if len(xy_list) != len(attention_dot) * 2:\n",
    "            print('Error : attention_dot 데이터 오류')\n",
    "\n",
    "        xy_list_list.append(xy_list)\n",
    "\n",
    "        \"\"\"mediapipe line 그리기 부분 : 데이터 추출(dot) 확인용\"\"\"\n",
    "        if isSample:\n",
    "            for line in draw_line_list:\n",
    "                x1, y1 = draw_line_dic[line[0]][0], draw_line_dic[line[0]][1]\n",
    "                x2, y2 = draw_line_dic[line[1]][0], draw_line_dic[line[1]][1]\n",
    "                c_img = cv2.line(c_img, (x1, y1), (x2, y2), (0, 255, 0), 4)\n",
    "            plt.subplot(sample_size, 2, (2*i+2))\n",
    "            plt.imshow(c_img)\n",
    "        del c_img\n",
    "        \n",
    "    # 부족한 프레임 수 맞추기\n",
    "    if isSample:\n",
    "        if len(xy_list_list) < len(image_list) // 2:\n",
    "            return False\n",
    "        elif len(xy_list_list) < len(image_list):\n",
    "            f_ln = len(image_list) - len(xy_list)\n",
    "            for _ in range(f_ln):\n",
    "                xy_list_list.append(xy_list_list[-1])\n",
    "    else:\n",
    "        if len(xy_list_list) < 5:\n",
    "            return False, 5 - len(xy_list_list)\n",
    "        elif len(xy_list_list) < 10:\n",
    "            f_ln = frame_length - len(xy_list)\n",
    "            for _ in range(f_ln):\n",
    "                xy_list_list.append(xy_list_list[-1])\n",
    "                omission_cnt = 1\n",
    "    \n",
    "    if isSample:\n",
    "        plt.show()\n",
    "    return xy_list_list, omission_cnt"
   ]
  },
  {
   "cell_type": "code",
   "execution_count": 44,
   "metadata": {},
   "outputs": [],
   "source": [
    "# 덕휘님의 yolo .pt 파일을 사용하여 10장의 시간적으로 연결된 이미지에서 bbox를 찾고,\n",
    "# 그 bbox 안에서 mediapipe를 통해 pose 데이터를 추출하고,\n",
    "# 10장의 pose데이터를 list로 저장 + 인식에 실패한 데이터에 관한 정보를 출력\n",
    "def get_pose_with_yolo(image_list: list, attention_dot: list, draw_line_list: list, resolution: tuple, isSample=False, sample_size=0):\n",
    "    with mp_pose.Pose(static_image_mode=False, min_detection_confidence=0.5) as pose:\n",
    "        # if isSample: ==> get_pose_sample_4k 함수를 통해서 호출되었을 시 동작하는 부분 >> cv2.imshow()를 위한 동작 수행\n",
    "        if isSample: \n",
    "            print('sample mod')\n",
    "            print(len(image_list))\n",
    "            imshow_img_list = []\n",
    "        pose_coor_1case = [] # 한 건(연결된 이미지 10장) 안에서의 pose_coor을 모은 것\n",
    "        omission_cnt = 0\n",
    "        for i, img_src in enumerate(image_list):\n",
    "            img = cv2.imread(img_src)\n",
    "            if isSample: img_ori = img.copy()\n",
    "            results = yolo_model(img, verbose=False)\n",
    "            for r in results:\n",
    "                boxes = r.boxes\n",
    "                for box in boxes:\n",
    "                    # 사람 클래스인 경우에만 처리 (YOLO 클래스 인덱스에 따라 조정 필요)\n",
    "                    # if int(box.cls) == 0:  # 0은 보통 'person' 클래스\n",
    "                    x1, y1, x2, y2 = box.xyxy[0]\n",
    "                    x1, y1, x2, y2 = int(x1), int(y1), int(x2), int(y2)\n",
    "                    bx1, by1, bx2, by2 = (\n",
    "                        max(int(x1 - (x2 - x1)*0.2), 0),\n",
    "                        max(int(y1 - (y2 - y1)*0.2), 0),\n",
    "                        min(int(x2 + (x2 - x1)*0.2), 3840),\n",
    "                        min(int(y2 + (y2 - y1)*0.2), 2160),\n",
    "                    )\n",
    "                    # 바운딩 박스 추출\n",
    "                    person_image = img[by1:by2, bx1:bx2]\n",
    "                    \n",
    "                    # MediaPipe로 포즈 추정\n",
    "                    results_pose = pose.process(cv2.cvtColor(person_image, cv2.COLOR_BGR2RGB))\n",
    "\n",
    "                    idx = 0 \n",
    "                    draw_line_dic = {} # 샘플 보여주기용 dict\n",
    "                    pose_coor = [] # 한 이미지에서 관절의 xy좌표값의 list ex) [[12, 44], [122, 334], ... , [394, 664]]\n",
    "\n",
    "                    # pose 인식 여부 확인 \n",
    "                    if results_pose.pose_landmarks:\n",
    "                        landmarks = results_pose.pose_landmarks\n",
    "\n",
    "                        # pose 좌표값 list 생성\n",
    "                        for pose_xy in landmarks.landmark:\n",
    "                            if idx in attention_dot:\n",
    "                                pose_coor.append(pose_xy.x)\n",
    "                                pose_coor.append(pose_xy.y)\n",
    "                                x, y = int(pose_xy.x * (bx2 - bx1)), int(pose_xy.y * (by2 - by1))\n",
    "                                draw_line_dic[idx] = [x, y]\n",
    "                            idx += 1\n",
    "\n",
    "                        if len(pose_coor) != len(attention_dot) * 2:\n",
    "                            print('Error : attention_dot 데이터 오류')\n",
    "\n",
    "                        # pose 좌표값중 어느 하나라도 바운딩박스를 초과할 시, 인식 실패로 판정\n",
    "                        if all(list(map(lambda x: 0 < x < 1, pose_coor))) == False:\n",
    "                            pose_coor_1case.append(False)\n",
    "                            if isSample:\n",
    "                                img_pose = img.copy()\n",
    "                                isFailed = 'Failed!: Pose Out of BBOX'\n",
    "                                omission_cnt += 1\n",
    "                                imshow_img_list.append(make_imshow_samples(draw_line_list, draw_line_dic, img_ori, img_pose, bx1, by1, bx2, by2, img_src, isFailed, resolution))\n",
    "                                break\n",
    "                        \n",
    "                        # 결과값 list에 추가\n",
    "                        pose_coor_1case.append(pose_coor)\n",
    "\n",
    "                        if isSample:\n",
    "                            img_pose = img.copy()\n",
    "                            isFailed = 'Detected'\n",
    "                            imshow_img_list.append(make_imshow_samples(draw_line_list, draw_line_dic, img_ori, img_pose, bx1, by1, bx2, by2, img_src, isFailed, resolution))\n",
    "\n",
    "                    # 인식 실패 시 False로 표시\n",
    "                    else:\n",
    "                        pose_coor_1case.append(False)\n",
    "                        omission_cnt += 1\n",
    "                        img_pose = img.copy()\n",
    "                        if isSample:\n",
    "                            isFailed = 'Failed!: Can\\'t detect by mediapipe'\n",
    "                            imshow_img_list.append(make_imshow_samples(draw_line_list, draw_line_dic, img_ori, img_pose, bx1, by1, bx2, by2, img_src, isFailed, resolution))\n",
    "                            \n",
    "                    break # 우리가 사용하는 .pt 파일은 0: Normal, 1: Fall인데 바운딩박스만 잡으면 큰 상관 없으므로 둘 중 하나만 사용\n",
    "    \n",
    "    # mediapipe로 인식 실패한 이미지의 pose데이터 채우기\n",
    "    if pose_coor_1case.count(False) >= 5: # 10개 중 5개 이상이 인식 실패했을 시 해당 10장 전체를 실패 처리\n",
    "        if isSample:\n",
    "            print('more than 5 images fail to be detected!')\n",
    "        return False, 1, 1, pose_coor_1case.count(False)\n",
    "    max_len = (len(pose_coor_1case) - 1)\n",
    "\n",
    "    while pose_coor_1case.count(False) > 0:\n",
    "        om_idx = pose_coor_1case.index(False) # 인식 실패한 이미지의 위치를 저장\n",
    "\n",
    "        if om_idx == 0: # 맨 앞의 이미지가 인식 실패했을 시 그 뒤의 성공한 이미지의 데이터로 채움\n",
    "            while pose_coor_1case[om_idx + 1] == False:\n",
    "                om_idx += 1\n",
    "            pose_coor_1case[om_idx] = pose_coor_1case[om_idx + 1].copy()\n",
    "            if isSample:\n",
    "                imshow_img_list[om_idx][1] = imshow_img_list[om_idx + 1][1].copy()\n",
    "\n",
    "        else: # 그 외에는 그 앞의 성공한 이미지의 데이터로 채움\n",
    "            pose_coor_1case[om_idx] = pose_coor_1case[om_idx - 1].copy()\n",
    "            if isSample:\n",
    "                imshow_img_list[om_idx][1] = imshow_img_list[om_idx - 1][1].copy()\n",
    "\n",
    "    # sample 이미지를 imshow\n",
    "    if isSample:\n",
    "        imshow_img_iter = iter(imshow_img_list)\n",
    "        while True:\n",
    "            try:\n",
    "                imshow_img = imshow_img_iter.__next__()\n",
    "                cv2.putText(imshow_img[1], imshow_img[2], (5, 30), cv2.FONT_HERSHEY_DUPLEX, 1, COLOR_PINK, lineType=cv2.LINE_AA)\n",
    "                cv2.imshow('ori_img', imshow_img[0])\n",
    "                cv2.imshow('img_with_mediapipe_pose', imshow_img[1])\n",
    "                if imshow_img[2] ==  'Failed!: Pose Out of BBOX':\n",
    "                    cv2.imshow('Pose Out of BBOX:', imshow_img[3])\n",
    "                if cv2.waitKey() & 0xFF == ord('q'):\n",
    "                    print(\"사용자에 의해 종료됨\")\n",
    "                    return 'q'\n",
    "            except StopIteration:\n",
    "                break\n",
    "    cv2.destroyAllWindows()\n",
    "    return pose_coor_1case, min(omission_cnt, 1), 0, omission_cnt"
   ]
  },
  {
   "cell_type": "code",
   "execution_count": 45,
   "metadata": {},
   "outputs": [],
   "source": [
    "# 이미지 데이터의 일부를 샘플로 잡고, mediapipe로 추출한 pose 데이터를 cv2.imshow로 plot\n",
    "def get_pose_sample(image_dict: dict, attention_dot: list, draw_line_list: list, resolution: tuple, sample_size: int, sample_start=0):\n",
    "    cv2.destroyAllWindows()\n",
    "    image_pose_sample = []\n",
    "    for cls in cls_filename_list:\n",
    "        div = 4\n",
    "        image_pose_sample.extend(image_dict[cls][sample_start:(sample_start+sample_size//div)])\n",
    "    print(len(image_pose_sample))\n",
    "    for i in range(sample_size//10):\n",
    "        q = get_pose_with_yolo(image_pose_sample[i*10:(i+1)*10], attention_dot, draw_line_list, resolution, True, sample_size)\n",
    "        if q == 'q':\n",
    "            cv2.destroyAllWindows()\n",
    "            return"
   ]
  },
  {
   "cell_type": "code",
   "execution_count": 47,
   "metadata": {},
   "outputs": [
    {
     "name": "stdout",
     "output_type": "stream",
     "text": [
      "40\n",
      "sample mod\n",
      "10\n",
      "sample mod\n",
      "10\n",
      "sample mod\n",
      "10\n",
      "sample mod\n",
      "10\n"
     ]
    }
   ],
   "source": [
    "# mediapipe로 감지한 결과 샘플을 보여줌. 아무 키나 눌러서 다음 이미지 확인\n",
    "# sample_size: 샘플로 보여줄 이미지 수(10의 배수 권장)\n",
    "# sample_start: 샘플을 시작할 위치 ex) sample_size=40일 때 sample_start=0으로 작동시킨 후 sample_start=40으로 작동시키면 바로 다음 이미지부터 확인 가능\n",
    "get_pose_sample(image_dict, attention_dot, draw_line_list, resolution, 40, 0)\n"
   ]
  },
  {
   "cell_type": "code",
   "execution_count": 77,
   "metadata": {},
   "outputs": [],
   "source": [
    "# [[C1_I0001, C1_I0002, ...C1_I0010], [C2_I0001, ...], ...] 형태로 묶음\n",
    "def collect_by_case(image_dict, label_dict=0):\n",
    "    raw_data = []\n",
    "    image_pose_input = []\n",
    "    label_pose_input = []\n",
    "    for cls in cls_filename_list:\n",
    "        img_name = {'index': 'None', 'direction': 'None'}\n",
    "        img_bundle = []\n",
    "        label_bundle = []\n",
    "        isNewBundle = 0\n",
    "        dict_iter = zip(tqdm(image_dict[cls]), label_dict[cls]) if label_dict != 0 else tqdm(image_dict[cls])\n",
    "        for elements in dict_iter:\n",
    "            if label_dict != 0: \n",
    "                img = elements[0]\n",
    "                lbl = elements[1]\n",
    "            else: img = elements\n",
    "\n",
    "            # 처음 값 입력\n",
    "            if img_name['index'] != img.split('\\\\')[-1].split('_')[0]:\n",
    "                img_name['index'] = img.split('\\\\')[-1].split('_')[0]\n",
    "                isNewBundle += 1\n",
    "            if img_name['direction'] != img.split('\\\\')[-1].split('_')[-2]:\n",
    "                img_name['direction'] = img.split('\\\\')[-1].split('_')[-2]\n",
    "                isNewBundle += 1\n",
    "            if isNewBundle > 0:\n",
    "                if img_bundle != []:\n",
    "                    image_pose_input.append(img_bundle)\n",
    "                    if label_dict != 0: label_pose_input.append(label_bundle)\n",
    "                img_bundle = []\n",
    "                label_bundle = []\n",
    "                isNewBundle = 0\n",
    "            img_bundle.append(img)\n",
    "            if label_dict != 0: label_bundle.append(lbl)\n",
    "\n",
    "\n",
    "    print(len(image_dict['N'])+len(image_dict['BY'])+len(image_dict['FY'])+len(image_dict['SY']))\n",
    "    print(image_pose_input[:3])\n",
    "    print(len(image_pose_input))\n",
    "    print(len(label_pose_input))\n",
    "\n",
    "    return image_pose_input, label_pose_input"
   ]
  },
  {
   "cell_type": "code",
   "execution_count": 78,
   "metadata": {},
   "outputs": [
    {
     "name": "stderr",
     "output_type": "stream",
     "text": [
      "100%|██████████| 7520/7520 [00:00<00:00, 834996.72it/s]\n",
      "100%|██████████| 2480/2480 [00:00<00:00, 826463.84it/s]\n",
      "100%|██████████| 2480/2480 [00:00<00:00, 826595.19it/s]\n",
      "100%|██████████| 2480/2480 [00:00<00:00, 620044.94it/s]\n"
     ]
    },
    {
     "name": "stdout",
     "output_type": "stream",
     "text": [
      "14960\n",
      "[['E:\\\\project\\\\Data\\\\Data\\\\Data\\\\Training\\\\SourceData\\\\TS\\\\Image\\\\N\\\\N\\\\02607_H_A_N_C1\\\\02607_H_A_N_C1_I001.jpg', 'E:\\\\project\\\\Data\\\\Data\\\\Data\\\\Training\\\\SourceData\\\\TS\\\\Image\\\\N\\\\N\\\\02607_H_A_N_C1\\\\02607_H_A_N_C1_I002.jpg', 'E:\\\\project\\\\Data\\\\Data\\\\Data\\\\Training\\\\SourceData\\\\TS\\\\Image\\\\N\\\\N\\\\02607_H_A_N_C1\\\\02607_H_A_N_C1_I003.jpg', 'E:\\\\project\\\\Data\\\\Data\\\\Data\\\\Training\\\\SourceData\\\\TS\\\\Image\\\\N\\\\N\\\\02607_H_A_N_C1\\\\02607_H_A_N_C1_I004.jpg', 'E:\\\\project\\\\Data\\\\Data\\\\Data\\\\Training\\\\SourceData\\\\TS\\\\Image\\\\N\\\\N\\\\02607_H_A_N_C1\\\\02607_H_A_N_C1_I005.jpg', 'E:\\\\project\\\\Data\\\\Data\\\\Data\\\\Training\\\\SourceData\\\\TS\\\\Image\\\\N\\\\N\\\\02607_H_A_N_C1\\\\02607_H_A_N_C1_I006.jpg', 'E:\\\\project\\\\Data\\\\Data\\\\Data\\\\Training\\\\SourceData\\\\TS\\\\Image\\\\N\\\\N\\\\02607_H_A_N_C1\\\\02607_H_A_N_C1_I007.jpg', 'E:\\\\project\\\\Data\\\\Data\\\\Data\\\\Training\\\\SourceData\\\\TS\\\\Image\\\\N\\\\N\\\\02607_H_A_N_C1\\\\02607_H_A_N_C1_I008.jpg', 'E:\\\\project\\\\Data\\\\Data\\\\Data\\\\Training\\\\SourceData\\\\TS\\\\Image\\\\N\\\\N\\\\02607_H_A_N_C1\\\\02607_H_A_N_C1_I009.jpg', 'E:\\\\project\\\\Data\\\\Data\\\\Data\\\\Training\\\\SourceData\\\\TS\\\\Image\\\\N\\\\N\\\\02607_H_A_N_C1\\\\02607_H_A_N_C1_I010.jpg'], ['E:\\\\project\\\\Data\\\\Data\\\\Data\\\\Training\\\\SourceData\\\\TS\\\\Image\\\\N\\\\N\\\\02607_H_A_N_C2\\\\02607_H_A_N_C2_I001.jpg', 'E:\\\\project\\\\Data\\\\Data\\\\Data\\\\Training\\\\SourceData\\\\TS\\\\Image\\\\N\\\\N\\\\02607_H_A_N_C2\\\\02607_H_A_N_C2_I002.jpg', 'E:\\\\project\\\\Data\\\\Data\\\\Data\\\\Training\\\\SourceData\\\\TS\\\\Image\\\\N\\\\N\\\\02607_H_A_N_C2\\\\02607_H_A_N_C2_I003.jpg', 'E:\\\\project\\\\Data\\\\Data\\\\Data\\\\Training\\\\SourceData\\\\TS\\\\Image\\\\N\\\\N\\\\02607_H_A_N_C2\\\\02607_H_A_N_C2_I004.jpg', 'E:\\\\project\\\\Data\\\\Data\\\\Data\\\\Training\\\\SourceData\\\\TS\\\\Image\\\\N\\\\N\\\\02607_H_A_N_C2\\\\02607_H_A_N_C2_I005.jpg', 'E:\\\\project\\\\Data\\\\Data\\\\Data\\\\Training\\\\SourceData\\\\TS\\\\Image\\\\N\\\\N\\\\02607_H_A_N_C2\\\\02607_H_A_N_C2_I006.jpg', 'E:\\\\project\\\\Data\\\\Data\\\\Data\\\\Training\\\\SourceData\\\\TS\\\\Image\\\\N\\\\N\\\\02607_H_A_N_C2\\\\02607_H_A_N_C2_I007.jpg', 'E:\\\\project\\\\Data\\\\Data\\\\Data\\\\Training\\\\SourceData\\\\TS\\\\Image\\\\N\\\\N\\\\02607_H_A_N_C2\\\\02607_H_A_N_C2_I008.jpg', 'E:\\\\project\\\\Data\\\\Data\\\\Data\\\\Training\\\\SourceData\\\\TS\\\\Image\\\\N\\\\N\\\\02607_H_A_N_C2\\\\02607_H_A_N_C2_I009.jpg', 'E:\\\\project\\\\Data\\\\Data\\\\Data\\\\Training\\\\SourceData\\\\TS\\\\Image\\\\N\\\\N\\\\02607_H_A_N_C2\\\\02607_H_A_N_C2_I010.jpg'], ['E:\\\\project\\\\Data\\\\Data\\\\Data\\\\Training\\\\SourceData\\\\TS\\\\Image\\\\N\\\\N\\\\02607_H_A_N_C3\\\\02607_H_A_N_C3_I001.jpg', 'E:\\\\project\\\\Data\\\\Data\\\\Data\\\\Training\\\\SourceData\\\\TS\\\\Image\\\\N\\\\N\\\\02607_H_A_N_C3\\\\02607_H_A_N_C3_I002.jpg', 'E:\\\\project\\\\Data\\\\Data\\\\Data\\\\Training\\\\SourceData\\\\TS\\\\Image\\\\N\\\\N\\\\02607_H_A_N_C3\\\\02607_H_A_N_C3_I003.jpg', 'E:\\\\project\\\\Data\\\\Data\\\\Data\\\\Training\\\\SourceData\\\\TS\\\\Image\\\\N\\\\N\\\\02607_H_A_N_C3\\\\02607_H_A_N_C3_I004.jpg', 'E:\\\\project\\\\Data\\\\Data\\\\Data\\\\Training\\\\SourceData\\\\TS\\\\Image\\\\N\\\\N\\\\02607_H_A_N_C3\\\\02607_H_A_N_C3_I005.jpg', 'E:\\\\project\\\\Data\\\\Data\\\\Data\\\\Training\\\\SourceData\\\\TS\\\\Image\\\\N\\\\N\\\\02607_H_A_N_C3\\\\02607_H_A_N_C3_I006.jpg', 'E:\\\\project\\\\Data\\\\Data\\\\Data\\\\Training\\\\SourceData\\\\TS\\\\Image\\\\N\\\\N\\\\02607_H_A_N_C3\\\\02607_H_A_N_C3_I007.jpg', 'E:\\\\project\\\\Data\\\\Data\\\\Data\\\\Training\\\\SourceData\\\\TS\\\\Image\\\\N\\\\N\\\\02607_H_A_N_C3\\\\02607_H_A_N_C3_I008.jpg', 'E:\\\\project\\\\Data\\\\Data\\\\Data\\\\Training\\\\SourceData\\\\TS\\\\Image\\\\N\\\\N\\\\02607_H_A_N_C3\\\\02607_H_A_N_C3_I009.jpg', 'E:\\\\project\\\\Data\\\\Data\\\\Data\\\\Training\\\\SourceData\\\\TS\\\\Image\\\\N\\\\N\\\\02607_H_A_N_C3\\\\02607_H_A_N_C3_I010.jpg']]\n",
      "1492\n",
      "0\n"
     ]
    },
    {
     "name": "stderr",
     "output_type": "stream",
     "text": [
      "100%|██████████| 1492/1492 [24:11<00:00,  1.03it/s]"
     ]
    },
    {
     "name": "stdout",
     "output_type": "stream",
     "text": [
      "omission_included_cnt:  500\n",
      "totally_omitted_cnt:  228\n",
      "ommision_cnt:  1738\n"
     ]
    },
    {
     "name": "stderr",
     "output_type": "stream",
     "text": [
      "\n"
     ]
    }
   ],
   "source": [
    "# mediapipe로 pose data를 list로 추출 후, raw_data에 [{낙상, pose data}, {비낙상, pose data}, ...] 형태로 저장 (4k 원본 이미지, yolo 사용)\n",
    "\n",
    "\n",
    "omission_included_cnt = 0 # 10장 중 누락된 이미지가 있는 그룹의 개수\n",
    "totally_omitted_cnt = 0 # 10장 중 5장 이상이 누락되어 사용하지 않는 그룹의 개수\n",
    "omission_total = 0 # 인식되지 않은 이미지의 개수\n",
    "image_pose_input, _ = collect_by_case(image_dict) # label(.txt) 파일을 사용할 시 매개변수에 label_dict 추가(label의 bbox 데이터는 사용하지 않기로 했으므로 ***무시해도 됨***)\n",
    "raw_data = []\n",
    "\n",
    "for img_list in tqdm(image_pose_input):\n",
    "    cls = 0 if img_list[0].split('\\\\')[-1].split('_')[-3] == 'N' else 1\n",
    "    pose_list, isIncludingOmission, isTotallyOmitted, omission_cnt = get_pose_with_yolo(img_list, attention_dot, draw_line_list, resolution, False)\n",
    "    if pose_list != False:\n",
    "        raw_data.append({'key': cls, 'value': pose_list})\n",
    "    omission_included_cnt += isIncludingOmission\n",
    "    totally_omitted_cnt += isTotallyOmitted\n",
    "    omission_total += omission_cnt\n",
    "\n",
    "print('omission_included_cnt: ', omission_included_cnt)\n",
    "print('totally_omitted_cnt: ', totally_omitted_cnt)\n",
    "print('ommision_cnt: ', omission_total)"
   ]
  },
  {
   "cell_type": "markdown",
   "metadata": {},
   "source": [
    "예시 결과\n",
    "* omission_included_cnt:  500\n",
    "* totally_omitted_cnt:  228\n",
    "* ommision_cnt:  1738"
   ]
  },
  {
   "cell_type": "markdown",
   "metadata": {},
   "source": [
    "# **2. LSTM / GRU 모델 제작**\n",
    "* 여기서부터는 거의 복붙한 그대로입니다..."
   ]
  },
  {
   "cell_type": "code",
   "execution_count": 82,
   "metadata": {},
   "outputs": [
    {
     "name": "stdout",
     "output_type": "stream",
     "text": [
      "[{'key': 0, 'value': [[0.3894423246383667, 0.2774071991443634, 0.4179619550704956, 0.25207382440567017, 0.436786413192749, 0.2525045573711395, 0.45934757590293884, 0.25359806418418884, 0.3844284415245056, 0.25109001994132996, 0.3767092823982239, 0.24987247586250305, 0.3693655729293823, 0.24794870615005493, 0.5198522806167603, 0.25999006628990173, 0.4026291072368622, 0.2634381651878357, 0.4517938494682312, 0.30087149143218994, 0.3878400921821594, 0.2989742159843445, 0.7034311294555664, 0.34832850098609924, 0.376140832901001, 0.3377785384654999, 0.7682161927223206, 0.5129683613777161, 0.2697863280773163, 0.4523478150367737, 0.5428332090377808, 0.5896903276443481, 0.21723264455795288, 0.3856680393218994, 0.5138347744941711, 0.6226953268051147, 0.19830085337162018, 0.3737668991088867, 0.47496721148490906, 0.6119743585586548, 0.21074557304382324, 0.35672682523727417, 0.4817488193511963, 0.6012148261070251, 0.22543470561504364, 0.35976654291152954, 0.6394978761672974, 0.5286000967025757, 0.4558698832988739, 0.5106088519096375, 0.6059684753417969, 0.6855236887931824, 0.36379069089889526, 0.5920404195785522, 0.6074910163879395, 0.8169418573379517, 0.44029006361961365, 0.7554749846458435, 0.6075282692909241, 0.8353089094161987, 0.47971853613853455, 0.7799261212348938, 0.5909221172332764, 0.8790796399116516, 0.3842913508415222, 0.8261102437973022], [0.6032505035400391, 0.24454712867736816, 0.6263371109962463, 0.22420890629291534, 0.6412236094474792, 0.2248818278312683, 0.6531319618225098, 0.22593717277050018, 0.5733544826507568, 0.22304870188236237, 0.5543955564498901, 0.22226867079734802, 0.537812352180481, 0.22132985293865204, 0.6624951362609863, 0.23638366162776947, 0.48983389139175415, 0.23385025560855865, 0.6289703249931335, 0.2667044699192047, 0.5610297918319702, 0.2659897804260254, 0.7413834929466248, 0.34262049198150635, 0.35273388028144836, 0.33392441272735596, 0.7940046191215515, 0.47180184721946716, 0.23385421931743622, 0.4404798746109009, 0.7468423247337341, 0.5833544731140137, 0.25681403279304504, 0.46640267968177795, 0.7660520076751709, 0.6208803653717041, 0.24672551453113556, 0.47258299589157104, 0.7329725027084351, 0.6200976371765137, 0.25850239396095276, 0.45434191823005676, 0.7197439074516296, 0.6088683605194092, 0.2711368203163147, 0.4521820545196533, 0.6365927457809448, 0.5533668994903564, 0.42823874950408936, 0.5528542399406433, 0.6368626356124878, 0.7305943369865417, 0.34877926111221313, 0.7149595618247986, 0.6344108581542969, 0.8473920822143555, 0.3374595046043396, 0.8299630880355835, 0.6242419481277466, 0.8624817728996277, 0.34290561079978943, 0.8439462780952454, 0.6606881618499756, 0.9040030241012573, 0.3340761661529541, 0.88998943567276], [0.7222935557365417, 0.21646460890769958, 0.7380761504173279, 0.20620808005332947, 0.7490163445472717, 0.2072099894285202, 0.7591268420219421, 0.20817764103412628, 0.6931767463684082, 0.20357604324817657, 0.6742067337036133, 0.20270507037639618, 0.654940664768219, 0.2017468363046646, 0.7410231828689575, 0.2175760567188263, 0.5974866151809692, 0.20600660145282745, 0.7247763872146606, 0.2344687283039093, 0.672955334186554, 0.2310338318347931, 0.7775689363479614, 0.29501187801361084, 0.39614027738571167, 0.2867603003978729, 0.7774875164031982, 0.39214369654655457, 0.22877904772758484, 0.37686288356781006, 0.7986248731613159, 0.48340198397636414, 0.43694692850112915, 0.400757372379303, 0.815264105796814, 0.5116053819656372, 0.48229673504829407, 0.41082724928855896, 0.789477527141571, 0.5125406384468079, 0.509756326675415, 0.4001481831073761, 0.7761925458908081, 0.5032090544700623, 0.497433066368103, 0.3964286148548126, 0.6309989094734192, 0.48547038435935974, 0.4346824586391449, 0.49246349930763245, 0.5205785036087036, 0.6197841763496399, 0.4067729413509369, 0.6307008862495422, 0.41312891244888306, 0.755178689956665, 0.38323500752449036, 0.7655789256095886, 0.3632354438304901, 0.7678535580635071, 0.332755446434021, 0.7825890183448792, 0.4663533866405487, 0.8006694316864014, 0.5068091154098511, 0.8182985186576843], [0.7195408344268799, 0.2221905142068863, 0.7355455160140991, 0.2104274183511734, 0.7476692795753479, 0.21102897822856903, 0.759495198726654, 0.21162879467010498, 0.6919652223587036, 0.20822574198246002, 0.6731442809104919, 0.20737171173095703, 0.6527557969093323, 0.20652101933956146, 0.7439762353897095, 0.2169768512248993, 0.5965246558189392, 0.21130524575710297, 0.728240966796875, 0.23989835381507874, 0.67607581615448, 0.23538433015346527, 0.723734438419342, 0.2969019114971161, 0.42715516686439514, 0.29664066433906555, 0.7049003839492798, 0.39545363187789917, 0.3681062161922455, 0.4107615649700165, 0.7897437810897827, 0.4456949234008789, 0.7026276588439941, 0.42091670632362366, 0.8008902072906494, 0.47497624158859253, 0.7674932479858398, 0.4285789728164673, 0.8065966367721558, 0.4780181646347046, 0.7822361588478088, 0.41817477345466614, 0.7872768044471741, 0.471325546503067, 0.7597672343254089, 0.4147793650627136, 0.6352795958518982, 0.5112749934196472, 0.4653293788433075, 0.5176495313644409, 0.5653488636016846, 0.6382937431335449, 0.4002843499183655, 0.6560845971107483, 0.47258704900741577, 0.7440480589866638, 0.27783891558647156, 0.7872616052627563, 0.4070993661880493, 0.7672349214553833, 0.22949209809303284, 0.8059694766998291, 0.4968717694282532, 0.7767719030380249, 0.40174663066864014, 0.833486020565033], [0.41097402572631836, 0.2409035861492157, 0.40954867005348206, 0.23442605137825012, 0.41739675402641296, 0.23493430018424988, 0.42992284893989563, 0.23509745299816132, 0.390959233045578, 0.23553407192230225, 0.3826749622821808, 0.2369704246520996, 0.3739202618598938, 0.23829403519630432, 0.4027867913246155, 0.24884861707687378, 0.3742190897464752, 0.2527351379394531, 0.42025285959243774, 0.254291832447052, 0.3955414295196533, 0.2564401924610138, 0.3816133737564087, 0.3062494695186615, 0.31075817346572876, 0.32218053936958313, 0.4796874523162842, 0.2239043116569519, 0.43655940890312195, 0.39588791131973267, 0.5499882102012634, 0.11545190215110779, 0.5280632972717285, 0.3775371313095093, 0.5557019710540771, 0.09181530028581619, 0.5648908615112305, 0.3808649182319641, 0.5489215850830078, 0.08192921429872513, 0.5701385736465454, 0.3672548830509186, 0.5495906472206116, 0.09168512374162674, 0.5545859336853027, 0.36623430252075195, 0.37536004185676575, 0.5035169124603271, 0.3420860469341278, 0.5188344717025757, 0.33634811639785767, 0.6211401224136353, 0.4842489957809448, 0.6489956974983215, 0.2866722643375397, 0.7158403992652893, 0.6427326202392578, 0.8055075407028198, 0.24808359146118164, 0.741584837436676, 0.6215225458145142, 0.8414685726165771, 0.2872505187988281, 0.7399959564208984, 0.8503321409225464, 0.8463944792747498], [0.4482002556324005, 0.21868987381458282, 0.4045191705226898, 0.21268898248672485, 0.399718314409256, 0.21341559290885925, 0.39573580026626587, 0.21385324001312256, 0.4073580205440521, 0.21294881403446198, 0.40348783135414124, 0.21424750983715057, 0.3984537422657013, 0.21583174169063568, 0.3590976595878601, 0.22607973217964172, 0.36784255504608154, 0.22689729928970337, 0.4210816025733948, 0.2310909479856491, 0.4402271807193756, 0.23193548619747162, 0.30587780475616455, 0.30762791633605957, 0.3629131615161896, 0.2864104211330414, 0.35345378518104553, 0.3545804023742676, 0.4836457073688507, 0.4177466928958893, 0.5536757111549377, 0.3767077624797821, 0.6880072951316833, 0.39071527123451233, 0.5966023206710815, 0.38087382912635803, 0.739937424659729, 0.3967924118041992, 0.5829518437385559, 0.37570375204086304, 0.7446951270103455, 0.3862476646900177, 0.5790749192237854, 0.37627315521240234, 0.7181342840194702, 0.38424354791641235, 0.36183586716651917, 0.5017963647842407, 0.4239206314086914, 0.5069248080253601, 0.4053631126880646, 0.6354895830154419, 0.5838686227798462, 0.6475058197975159, 0.32348939776420593, 0.7478249669075012, 0.6711179614067078, 0.8125326633453369, 0.28182926774024963, 0.7786047458648682, 0.6456939578056335, 0.8385940790176392, 0.37270277738571167, 0.7764657139778137, 0.8152063488960266, 0.8358907103538513], [0.3395508825778961, 0.2092847377061844, 0.3057759404182434, 0.2024151235818863, 0.2993837594985962, 0.20417460799217224, 0.2932467460632324, 0.20627819001674652, 0.317622572183609, 0.2008049488067627, 0.313884437084198, 0.20128551125526428, 0.307720810174942, 0.20224834978580475, 0.26154011487960815, 0.22350984811782837, 0.2838127911090851, 0.21409767866134644, 0.32833799719810486, 0.2250431776046753, 0.3359215557575226, 0.22309242188930511, 0.23040683567523956, 0.30991148948669434, 0.36266082525253296, 0.27268725633621216, 0.3842916190624237, 0.34736406803131104, 0.5575190782546997, 0.3298172056674957, 0.5510780215263367, 0.33343979716300964, 0.7685749530792236, 0.3063593804836273, 0.5783487558364868, 0.31813231110572815, 0.8126252293586731, 0.30497488379478455, 0.5863038897514343, 0.31005555391311646, 0.8008592128753662, 0.2960687577724457, 0.5836704969406128, 0.322094202041626, 0.7856676578521729, 0.29715394973754883, 0.312142938375473, 0.5239303708076477, 0.4546448886394501, 0.5308930277824402, 0.31496697664260864, 0.6225283741950989, 0.5129902362823486, 0.6588581204414368, 0.2875482738018036, 0.7335824966430664, 0.4921378195285797, 0.8247358798980713, 0.2516377866268158, 0.7717532515525818, 0.49063199758529663, 0.8518056273460388, 0.3002668023109436, 0.7674451470375061, 0.571016252040863, 0.8344271183013916], [0.7193032503128052, 0.2366630584001541, 0.7154372930526733, 0.221836119890213, 0.706352949142456, 0.2214677929878235, 0.6991947293281555, 0.22105510532855988, 0.7296900153160095, 0.22134488821029663, 0.7323789000511169, 0.22075766324996948, 0.734369158744812, 0.22050465643405914, 0.6702526211738586, 0.2301163226366043, 0.7203660607337952, 0.2267311066389084, 0.6911789178848267, 0.2419460266828537, 0.7038788199424744, 0.2422989457845688, 0.42464175820350647, 0.287748247385025, 0.6707580089569092, 0.28624364733695984, 0.4407308101654053, 0.3665177524089813, 0.7307037711143494, 0.37494370341300964, 0.522966742515564, 0.43588459491729736, 0.7606256008148193, 0.4066360592842102, 0.5495501756668091, 0.44303759932518005, 0.7459641098976135, 0.4258438050746918, 0.5455267429351807, 0.45012786984443665, 0.7847779393196106, 0.42054805159568787, 0.5552846193313599, 0.4468432068824768, 0.7628682255744934, 0.4171111285686493, 0.42684105038642883, 0.487780898809433, 0.6381798386573792, 0.4805971682071686, 0.4036165177822113, 0.6091106534004211, 0.7653173804283142, 0.6571006178855896, 0.3016245365142822, 0.7195379734039307, 0.5910283327102661, 0.8208956718444824, 0.2614976465702057, 0.7578649520874023, 0.5310753583908081, 0.8511167168617249, 0.3779214322566986, 0.7200914621353149, 0.7695239782333374, 0.8789021372795105], [0.7324441075325012, 0.22965450584888458, 0.7233805060386658, 0.21534623205661774, 0.7140018939971924, 0.21446493268013, 0.7047151327133179, 0.21348002552986145, 0.7454439997673035, 0.2153712511062622, 0.7511922121047974, 0.21488288044929504, 0.7561312913894653, 0.21457864344120026, 0.6726192235946655, 0.21500489115715027, 0.7399493455886841, 0.21679671108722687, 0.7069716453552246, 0.23594719171524048, 0.7322141528129578, 0.23677168786525726, 0.4612841308116913, 0.26575028896331787, 0.7183852791786194, 0.26548439264297485, 0.32360750436782837, 0.35489100217819214, 0.7097992897033691, 0.35642188787460327, 0.47307533025741577, 0.42469650506973267, 0.6558812856674194, 0.4131690263748169, 0.4948853552341461, 0.43565884232521057, 0.6401938796043396, 0.4338196814060211, 0.504516065120697, 0.43453726172447205, 0.6375489830970764, 0.42959290742874146, 0.5071771144866943, 0.4270494878292084, 0.6315317749977112, 0.4214216470718384, 0.38153350353240967, 0.47921136021614075, 0.6395086050033569, 0.4745781421661377, 0.3534114360809326, 0.5889725089073181, 0.7733640670776367, 0.6359598636627197, 0.2870067059993744, 0.7128807902336121, 0.5761216282844543, 0.8066846132278442, 0.2358188033103943, 0.7463162541389465, 0.5109484791755676, 0.8394201397895813, 0.3688019812107086, 0.714545488357544, 0.7562270760536194, 0.8366852402687073], [0.7075315713882446, 0.30426108837127686, 0.6986198425292969, 0.2610973119735718, 0.6831400990486145, 0.26068687438964844, 0.679237425327301, 0.25831881165504456, 0.7033138871192932, 0.26189786195755005, 0.7022708654403687, 0.2611621618270874, 0.7019634246826172, 0.26057273149490356, 0.6564868092536926, 0.22577878832817078, 0.6667128801345825, 0.24758176505565643, 0.6645554304122925, 0.2928873598575592, 0.6747843027114868, 0.2988460659980774, 0.36426815390586853, 0.23936247825622559, 0.5502880215644836, 0.2720196843147278, 0.3232170045375824, 0.25237277150154114, 0.5140106678009033, 0.3710494041442871, 0.43216294050216675, 0.3407638967037201, 0.5498208403587341, 0.3992982804775238, 0.47510120272636414, 0.34324488043785095, 0.5506735444068909, 0.4052750766277313, 0.5328111052513123, 0.36756181716918945, 0.5054213404655457, 0.39789706468582153, 0.505184531211853, 0.37522298097610474, 0.5039435029029846, 0.39441078901290894, 0.3425608277320862, 0.4487106502056122, 0.48841679096221924, 0.4937030076980591, 0.3326680362224579, 0.6019254326820374, 0.5225726962089539, 0.6521159410476685, 0.2926865816116333, 0.7431670427322388, 0.43990084528923035, 0.811104953289032, 0.2664022445678711, 0.7779738306999207, 0.3817138075828552, 0.8310039639472961, 0.3351406455039978, 0.7466089129447937, 0.5521830320358276, 0.8395977020263672]]}, {'key': 0, 'value': [[0.4249736964702606, 0.24217402935028076, 0.40881025791168213, 0.22746482491493225, 0.4053345024585724, 0.22853368520736694, 0.4012301564216614, 0.23001930117607117, 0.4263033866882324, 0.22435973584651947, 0.43593162298202515, 0.22312690317630768, 0.4457554221153259, 0.22219395637512207, 0.43125826120376587, 0.23684066534042358, 0.49964815378189087, 0.2255556583404541, 0.4454013705253601, 0.254604309797287, 0.46415454149246216, 0.25169628858566284, 0.44876107573509216, 0.3176146149635315, 0.736415684223175, 0.282670795917511, 0.44694575667381287, 0.4297136068344116, 0.7319377660751343, 0.3876346945762634, 0.3063214421272278, 0.44973286986351013, 0.5481724143028259, 0.41781851649284363, 0.23664699494838715, 0.4538692831993103, 0.5145626068115234, 0.42158234119415283, 0.2495051920413971, 0.4397072196006775, 0.4858478903770447, 0.4179723262786865, 0.2808448076248169, 0.4376261234283447, 0.4899745285511017, 0.4173542559146881, 0.5718083381652832, 0.5107330679893494, 0.7426655292510986, 0.5039779543876648, 0.529245913028717, 0.6624079346656799, 0.7034026980400085, 0.6514267325401306, 0.5357263684272766, 0.8086138963699341, 0.7164754867553711, 0.7819338440895081, 0.5770242810249329, 0.8323110342025757, 0.751412034034729, 0.8060573935508728, 0.3769893944263458, 0.8214808106422424, 0.6077282428741455, 0.7952792644500732], [0.4997606873512268, 0.21263766288757324, 0.5071864128112793, 0.20077399909496307, 0.5126578211784363, 0.2015734314918518, 0.5190309286117554, 0.20241788029670715, 0.5125223398208618, 0.1992138773202896, 0.5216229557991028, 0.19909930229187012, 0.5319893956184387, 0.19908912479877472, 0.5842368602752686, 0.21330319344997406, 0.5972611308097839, 0.2097059190273285, 0.5210113525390625, 0.23129169642925262, 0.5237271189689636, 0.22924132645130157, 0.6669126152992249, 0.30065104365348816, 0.6729350090026855, 0.2910785973072052, 0.6272292733192444, 0.4269004762172699, 0.5584135055541992, 0.3886831998825073, 0.3686532974243164, 0.49966341257095337, 0.3280998766422272, 0.34736666083335876, 0.30138614773750305, 0.5143694877624512, 0.26939254999160767, 0.33766087889671326, 0.294951856136322, 0.5058587193489075, 0.2632823586463928, 0.33264994621276855, 0.3262802064418793, 0.5011399388313293, 0.29298585653305054, 0.33614790439605713, 0.6292023658752441, 0.5262746214866638, 0.6459391117095947, 0.5205944180488586, 0.5643687844276428, 0.6794849634170532, 0.618798017501831, 0.6658366322517395, 0.5909917950630188, 0.8136569857597351, 0.6376233696937561, 0.7901767492294312, 0.646304726600647, 0.8361424207687378, 0.6851821541786194, 0.8131670355796814, 0.3362961709499359, 0.8429732322692871, 0.4366084337234497, 0.8120462894439697], [0.5064682364463806, 0.2180456966161728, 0.5412939190864563, 0.2052399069070816, 0.5530340671539307, 0.20588549971580505, 0.5644358396530151, 0.20678117871284485, 0.5199769735336304, 0.20336231589317322, 0.517087459564209, 0.20277711749076843, 0.5138972401618958, 0.2024843692779541, 0.605980634689331, 0.21782322227954865, 0.5407270789146423, 0.2137623429298401, 0.5295028686523438, 0.2340124547481537, 0.498473584651947, 0.23157967627048492, 0.7260410189628601, 0.3104504644870758, 0.5096034407615662, 0.30680298805236816, 0.7297342419624329, 0.44120901823043823, 0.43532368540763855, 0.40180903673171997, 0.6699600219726562, 0.561002790927887, 0.28854900598526, 0.3670302927494049, 0.6761428713798523, 0.592973530292511, 0.23926112055778503, 0.3561098575592041, 0.6343234181404114, 0.5898376107215881, 0.23023457825183868, 0.3477061688899994, 0.623356282711029, 0.579102635383606, 0.25792914628982544, 0.35151055455207825, 0.6209434270858765, 0.5665354132652283, 0.47811785340309143, 0.5544248819351196, 0.6222459673881531, 0.7000340819358826, 0.4628089368343353, 0.6806023716926575, 0.6139185428619385, 0.8180651664733887, 0.49015969038009644, 0.794719934463501, 0.6305552124977112, 0.8374987244606018, 0.5355430245399475, 0.8199678063392639, 0.5100821852684021, 0.8495941758155823, 0.35326704382896423, 0.8305302858352661], [0.5223382115364075, 0.21605472266674042, 0.5568980574607849, 0.20183710753917694, 0.5706673860549927, 0.20207351446151733, 0.5835837125778198, 0.2022993415594101, 0.5314310193061829, 0.20109444856643677, 0.5270378589630127, 0.20086334645748138, 0.5231654644012451, 0.20052625238895416, 0.6271640062332153, 0.2138575315475464, 0.5489094257354736, 0.20982341468334198, 0.5459913015365601, 0.2324690818786621, 0.5129105448722839, 0.230643168091774, 0.7670007944107056, 0.307820200920105, 0.45901647210121155, 0.3013746738433838, 0.7958171367645264, 0.427264541387558, 0.4206364154815674, 0.40347620844841003, 0.7525032758712769, 0.5377777814865112, 0.2727237641811371, 0.3735206425189972, 0.7569602727890015, 0.5710048675537109, 0.21831612288951874, 0.36359551548957825, 0.7239204049110413, 0.5691567063331604, 0.2183901071548462, 0.3504478931427002, 0.7139044404029846, 0.5604034066200256, 0.2397720068693161, 0.35416942834854126, 0.6521902680397034, 0.5425873398780823, 0.4463757276535034, 0.5334261059761047, 0.6599236130714417, 0.6771138310432434, 0.3940165042877197, 0.6594497561454773, 0.6542820930480957, 0.7974411845207214, 0.4603843688964844, 0.7580810189247131, 0.6659945845603943, 0.8150971531867981, 0.5242529511451721, 0.7778441905975342, 0.5979580879211426, 0.8490782380104065, 0.3459877073764801, 0.799507200717926], [0.5068822503089905, 0.21673153340816498, 0.5325499176979065, 0.21039240062236786, 0.5402902364730835, 0.21222220361232758, 0.5474423766136169, 0.21367700397968292, 0.5156989693641663, 0.20694424211978912, 0.5127009153366089, 0.20695170760154724, 0.5093139410018921, 0.2069660872220993, 0.5609630942344666, 0.22465698421001434, 0.5105715990066528, 0.21744029223918915, 0.5213468074798584, 0.23353800177574158, 0.5031386017799377, 0.22997774183750153, 0.5668373107910156, 0.3041873276233673, 0.4575829803943634, 0.2830674350261688, 0.6552172899246216, 0.3378826081752777, 0.3407503366470337, 0.3174762427806854, 0.6561872363090515, 0.4477100670337677, 0.17811553180217743, 0.258941113948822, 0.6589933633804321, 0.4674161970615387, 0.11010687053203583, 0.25424596667289734, 0.6613477468490601, 0.45716166496276855, 0.15235376358032227, 0.24528153240680695, 0.6605004668235779, 0.45348018407821655, 0.1667320877313614, 0.25780269503593445, 0.49703603982925415, 0.5075969099998474, 0.4176197052001953, 0.5109211206436157, 0.4527949094772339, 0.6792362928390503, 0.385802686214447, 0.6917003393173218, 0.3634747564792633, 0.8998255133628845, 0.2711176574230194, 0.8998937606811523, 0.3545988202095032, 0.9283163547515869, 0.26988089084625244, 0.9291573166847229, 0.331928014755249, 0.9972445964813232, 0.2048948109149933, 0.9950444102287292], [0.7343006730079651, 0.23907284438610077, 0.7466307878494263, 0.22704067826271057, 0.7484545707702637, 0.22785663604736328, 0.7500367760658264, 0.22846022248268127, 0.7359936237335205, 0.22314180433750153, 0.7306926250457764, 0.22149749100208282, 0.7245302796363831, 0.2197231948375702, 0.7345080971717834, 0.23246164619922638, 0.7052711844444275, 0.22481362521648407, 0.7223111391067505, 0.25211066007614136, 0.710951030254364, 0.24847909808158875, 0.7065914869308472, 0.3226548433303833, 0.6039146780967712, 0.27854856848716736, 0.7375722527503967, 0.4251469075679779, 0.39651238918304443, 0.3247317373752594, 0.7648547291755676, 0.49946328997612, 0.3420092761516571, 0.2990226149559021, 0.775343656539917, 0.5288993716239929, 0.2901347875595093, 0.2813167870044708, 0.7646650075912476, 0.5235195159912109, 0.3129366636276245, 0.2754291892051697, 0.7601634860038757, 0.5136552453041077, 0.3318873345851898, 0.28357502818107605, 0.5868525505065918, 0.5329057574272156, 0.6074576377868652, 0.5307354927062988, 0.5870925784111023, 0.6845971345901489, 0.5104247331619263, 0.6862531900405884, 0.5621106624603271, 0.8449137210845947, 0.4173535406589508, 0.8548742532730103, 0.600075364112854, 0.869486391544342, 0.41562116146087646, 0.8756284117698669, 0.6510204076766968, 0.9117653965950012, 0.3895898163318634, 0.9101448655128479], [0.9642173051834106, 0.2320997565984726, 0.9394517540931702, 0.21953274309635162, 0.9207351803779602, 0.21954910457134247, 0.9031108617782593, 0.219259575009346, 0.9449784159660339, 0.2200484722852707, 0.924218475818634, 0.22027966380119324, 0.9042251706123352, 0.2202014923095703, 0.8004740476608276, 0.22297979891300201, 0.8047460913658142, 0.22499556839466095, 0.854010283946991, 0.2443237453699112, 0.8515797853469849, 0.2458682507276535, 0.6111111640930176, 0.2913615107536316, 0.63290935754776, 0.2818244695663452, 0.5207342505455017, 0.4152652621269226, 0.4308549463748932, 0.3332420289516449, 0.7397438883781433, 0.5180949568748474, 0.5074149370193481, 0.3331246078014374, 0.7843819856643677, 0.5378806591033936, 0.4614909887313843, 0.3359372317790985, 0.75038743019104, 0.5438381433486938, 0.4770890772342682, 0.3315941095352173, 0.7305474877357483, 0.5273191332817078, 0.49305450916290283, 0.3339844048023224, 0.43540430068969727, 0.5258784294128418, 0.5676804780960083, 0.5324691534042358, 0.47039803862571716, 0.6922680139541626, 0.6255420446395874, 0.6881933808326721, 0.39908987283706665, 0.8492166996002197, 0.6371475458145142, 0.8494006395339966, 0.3633998930454254, 0.8633936047554016, 0.5763884782791138, 0.8736794590950012, 0.5509666800498962, 0.8777214884757996, 0.7353236079216003, 0.8981835246086121], [0.9642173051834106, 0.2320997565984726, 0.9394517540931702, 0.21953274309635162, 0.9207351803779602, 0.21954910457134247, 0.9031108617782593, 0.219259575009346, 0.9449784159660339, 0.2200484722852707, 0.924218475818634, 0.22027966380119324, 0.9042251706123352, 0.2202014923095703, 0.8004740476608276, 0.22297979891300201, 0.8047460913658142, 0.22499556839466095, 0.854010283946991, 0.2443237453699112, 0.8515797853469849, 0.2458682507276535, 0.6111111640930176, 0.2913615107536316, 0.63290935754776, 0.2818244695663452, 0.5207342505455017, 0.4152652621269226, 0.4308549463748932, 0.3332420289516449, 0.7397438883781433, 0.5180949568748474, 0.5074149370193481, 0.3331246078014374, 0.7843819856643677, 0.5378806591033936, 0.4614909887313843, 0.3359372317790985, 0.75038743019104, 0.5438381433486938, 0.4770890772342682, 0.3315941095352173, 0.7305474877357483, 0.5273191332817078, 0.49305450916290283, 0.3339844048023224, 0.43540430068969727, 0.5258784294128418, 0.5676804780960083, 0.5324691534042358, 0.47039803862571716, 0.6922680139541626, 0.6255420446395874, 0.6881933808326721, 0.39908987283706665, 0.8492166996002197, 0.6371475458145142, 0.8494006395339966, 0.3633998930454254, 0.8633936047554016, 0.5763884782791138, 0.8736794590950012, 0.5509666800498962, 0.8777214884757996, 0.7353236079216003, 0.8981835246086121], [0.775696337223053, 0.2680653929710388, 0.8105504512786865, 0.25394898653030396, 0.8165697455406189, 0.2544107139110565, 0.8221594095230103, 0.2544684410095215, 0.7840242385864258, 0.25257885456085205, 0.7700895071029663, 0.2518431544303894, 0.7540000081062317, 0.2501773536205292, 0.8040677905082703, 0.2560572624206543, 0.706618070602417, 0.24887104332447052, 0.750592052936554, 0.2834804356098175, 0.7194793820381165, 0.28216925263404846, 0.6763523817062378, 0.3081323802471161, 0.5074954032897949, 0.29683199524879456, 0.6572158932685852, 0.3980722725391388, 0.26080039143562317, 0.462749183177948, 0.7093061208724976, 0.39688366651535034, 0.299345463514328, 0.6326839327812195, 0.7004584670066833, 0.40656018257141113, 0.273808091878891, 0.6912215352058411, 0.6937002539634705, 0.3899311423301697, 0.3242970108985901, 0.6875929832458496, 0.6844556331634521, 0.3911413550376892, 0.34404775500297546, 0.6672998666763306, 0.4362289607524872, 0.5751545429229736, 0.3301440477371216, 0.5844857692718506, 0.580961287021637, 0.6795157790184021, 0.42711493372917175, 0.7264480590820312, 0.37738272547721863, 0.9703537821769714, 0.20709732174873352, 0.9974988698959351, 0.30291032791137695, 1.0014114379882812, 0.11392185837030411, 1.0273292064666748, 0.4508346617221832, 1.0646570920944214, 0.2907694876194, 1.1568753719329834], [0.775696337223053, 0.2680653929710388, 0.8105504512786865, 0.25394898653030396, 0.8165697455406189, 0.2544107139110565, 0.8221594095230103, 0.2544684410095215, 0.7840242385864258, 0.25257885456085205, 0.7700895071029663, 0.2518431544303894, 0.7540000081062317, 0.2501773536205292, 0.8040677905082703, 0.2560572624206543, 0.706618070602417, 0.24887104332447052, 0.750592052936554, 0.2834804356098175, 0.7194793820381165, 0.28216925263404846, 0.6763523817062378, 0.3081323802471161, 0.5074954032897949, 0.29683199524879456, 0.6572158932685852, 0.3980722725391388, 0.26080039143562317, 0.462749183177948, 0.7093061208724976, 0.39688366651535034, 0.299345463514328, 0.6326839327812195, 0.7004584670066833, 0.40656018257141113, 0.273808091878891, 0.6912215352058411, 0.6937002539634705, 0.3899311423301697, 0.3242970108985901, 0.6875929832458496, 0.6844556331634521, 0.3911413550376892, 0.34404775500297546, 0.6672998666763306, 0.4362289607524872, 0.5751545429229736, 0.3301440477371216, 0.5844857692718506, 0.580961287021637, 0.6795157790184021, 0.42711493372917175, 0.7264480590820312, 0.37738272547721863, 0.9703537821769714, 0.20709732174873352, 0.9974988698959351, 0.30291032791137695, 1.0014114379882812, 0.11392185837030411, 1.0273292064666748, 0.4508346617221832, 1.0646570920944214, 0.2907694876194, 1.1568753719329834], [0.7398331761360168, 0.2529205083847046, 0.7755292654037476, 0.24710369110107422, 0.784122109413147, 0.24854427576065063, 0.7925280332565308, 0.2492375671863556, 0.7460341453552246, 0.24070137739181519, 0.7329230308532715, 0.23738980293273926, 0.7186198830604553, 0.23304882645606995, 0.7789667248725891, 0.2507675290107727, 0.6761676073074341, 0.2273305207490921, 0.726859450340271, 0.26699331402778625, 0.6937024593353271, 0.25564494729042053, 0.6929978728294373, 0.28374987840652466, 0.47547200322151184, 0.24799329042434692, 0.6866656541824341, 0.39038023352622986, 0.2599502503871918, 0.432297945022583, 0.6865037083625793, 0.4241645336151123, 0.30566468834877014, 0.52850741147995, 0.6384803056716919, 0.42609134316444397, 0.243417426943779, 0.6212745308876038, 0.6533653140068054, 0.44248202443122864, 0.27821698784828186, 0.6189953684806824, 0.6228184103965759, 0.43900570273399353, 0.2966398596763611, 0.6053562164306641, 0.4608895480632782, 0.46974310278892517, 0.3303484320640564, 0.5144200921058655, 0.6735889911651611, 0.5940204858779907, 0.31719958782196045, 0.708186686038971, 0.5109238028526306, 0.8618922829627991, 0.20692774653434753, 0.9652239084243774, 0.3987770080566406, 0.8918456435203552, 0.15648715198040009, 0.968207597732544, 0.6020857095718384, 1.0061920881271362, 0.2485673427581787, 1.1134936809539795], [0.7398331761360168, 0.2529205083847046, 0.7755292654037476, 0.24710369110107422, 0.784122109413147, 0.24854427576065063, 0.7925280332565308, 0.2492375671863556, 0.7460341453552246, 0.24070137739181519, 0.7329230308532715, 0.23738980293273926, 0.7186198830604553, 0.23304882645606995, 0.7789667248725891, 0.2507675290107727, 0.6761676073074341, 0.2273305207490921, 0.726859450340271, 0.26699331402778625, 0.6937024593353271, 0.25564494729042053, 0.6929978728294373, 0.28374987840652466, 0.47547200322151184, 0.24799329042434692, 0.6866656541824341, 0.39038023352622986, 0.2599502503871918, 0.432297945022583, 0.6865037083625793, 0.4241645336151123, 0.30566468834877014, 0.52850741147995, 0.6384803056716919, 0.42609134316444397, 0.243417426943779, 0.6212745308876038, 0.6533653140068054, 0.44248202443122864, 0.27821698784828186, 0.6189953684806824, 0.6228184103965759, 0.43900570273399353, 0.2966398596763611, 0.6053562164306641, 0.4608895480632782, 0.46974310278892517, 0.3303484320640564, 0.5144200921058655, 0.6735889911651611, 0.5940204858779907, 0.31719958782196045, 0.708186686038971, 0.5109238028526306, 0.8618922829627991, 0.20692774653434753, 0.9652239084243774, 0.3987770080566406, 0.8918456435203552, 0.15648715198040009, 0.968207597732544, 0.6020857095718384, 1.0061920881271362, 0.2485673427581787, 1.1134936809539795], [0.5727355480194092, 0.25793108344078064, 0.5865723490715027, 0.2509855031967163, 0.5948572158813477, 0.2520851790904999, 0.6064608693122864, 0.24792757630348206, 0.5590667724609375, 0.24654647707939148, 0.5542646050453186, 0.24492913484573364, 0.5492605566978455, 0.2415105104446411, 0.6216987371444702, 0.24592703580856323, 0.49755775928497314, 0.22496947646141052, 0.5874926447868347, 0.2713073492050171, 0.5629151463508606, 0.2637677490711212, 0.6803417801856995, 0.2501215636730194, 0.42211031913757324, 0.22474583983421326, 0.5873968005180359, 0.33092114329338074, 0.27287575602531433, 0.25999632477760315, 0.5496668219566345, 0.4115515649318695, 0.3670863211154938, 0.41130566596984863, 0.5320757031440735, 0.4313894212245941, 0.38698041439056396, 0.45612776279449463, 0.5363311171531677, 0.4104757606983185, 0.4015105962753296, 0.440429151058197, 0.5336087346076965, 0.4060029685497284, 0.402019202709198, 0.428147554397583, 0.5332926511764526, 0.4065459668636322, 0.3753967881202698, 0.426357239484787, 0.5534920692443848, 0.6319677233695984, 0.35596558451652527, 0.6419442296028137, 0.466862291097641, 0.8658477067947388, 0.23604364693164825, 0.9065848588943481, 0.4062781035900116, 0.8944922685623169, 0.2335425168275833, 0.8827412724494934, 0.5268539190292358, 0.9949352145195007, 0.23322096467018127, 1.047786831855774]]}, {'key': 0, 'value': [[0.5869507789611816, 0.21566525101661682, 0.5868385434150696, 0.19982904195785522, 0.5788201093673706, 0.20025590062141418, 0.5702827572822571, 0.20107057690620422, 0.6087280511856079, 0.20130655169487, 0.6172307729721069, 0.20279207825660706, 0.6265650391578674, 0.2045113742351532, 0.5473985075950623, 0.2129846215248108, 0.6371538043022156, 0.2162013053894043, 0.5673545598983765, 0.2301875352859497, 0.5909669399261475, 0.23054742813110352, 0.37374213337898254, 0.28169673681259155, 0.7149118185043335, 0.2963753342628479, 0.2763855457305908, 0.3908553123474121, 0.7702549695968628, 0.40179243683815, 0.37015020847320557, 0.43146267533302307, 0.6417363286018372, 0.4101153612136841, 0.3794286251068115, 0.4478361904621124, 0.6225144267082214, 0.4229409098625183, 0.4047941565513611, 0.44200271368026733, 0.59972083568573, 0.4133407175540924, 0.4067959189414978, 0.4315537214279175, 0.5980938673019409, 0.41053152084350586, 0.3624795973300934, 0.4956856667995453, 0.551782488822937, 0.5087291598320007, 0.29716527462005615, 0.6569347381591797, 0.4788620173931122, 0.6679483652114868, 0.25129029154777527, 0.7898879051208496, 0.400338351726532, 0.8093669414520264, 0.24950569868087769, 0.8136067986488342, 0.3756673038005829, 0.8342908620834351, 0.26126712560653687, 0.7910271286964417, 0.39520174264907837, 0.8095344305038452], [0.6001333594322205, 0.22621381282806396, 0.5898133516311646, 0.21310529112815857, 0.5806964039802551, 0.21338863670825958, 0.5716343522071838, 0.2137387990951538, 0.6202330589294434, 0.21295028924942017, 0.6326112151145935, 0.21314863860607147, 0.6469225883483887, 0.21327956020832062, 0.565449059009552, 0.22362852096557617, 0.6685507893562317, 0.22385700047016144, 0.5888307690620422, 0.24038897454738617, 0.6195359230041504, 0.24228353798389435, 0.4530353248119354, 0.3053534924983978, 0.7645372748374939, 0.31782427430152893, 0.3358449637889862, 0.4179091453552246, 0.7228776216506958, 0.41418999433517456, 0.31139469146728516, 0.48657554388046265, 0.5870809555053711, 0.419071763753891, 0.29430654644966125, 0.5043007135391235, 0.5656349658966064, 0.4233546853065491, 0.30870622396469116, 0.500485360622406, 0.5442563891410828, 0.4165830612182617, 0.3254842162132263, 0.49286165833473206, 0.544098973274231, 0.41527947783470154, 0.4166547656059265, 0.5222651958465576, 0.5988163948059082, 0.5358971357345581, 0.3309914171695709, 0.668804943561554, 0.5201734900474548, 0.6791378259658813, 0.2666902244091034, 0.794528603553772, 0.49700668454170227, 0.812453031539917, 0.2718469798564911, 0.8234180212020874, 0.4954386353492737, 0.833945095539093, 0.19645537436008453, 0.7942380905151367, 0.4639936089515686, 0.8079560995101929], [0.5270846486091614, 0.22359846532344818, 0.5147584676742554, 0.21120677888393402, 0.503603458404541, 0.2115916758775711, 0.4921344518661499, 0.21197769045829773, 0.5541844367980957, 0.2108207792043686, 0.5700027942657471, 0.21101801097393036, 0.5856763124465942, 0.21121737360954285, 0.4932602643966675, 0.22170358896255493, 0.6201672554016113, 0.22216977179050446, 0.5150246620178223, 0.2381591647863388, 0.5546755790710449, 0.23938998579978943, 0.4564363956451416, 0.3156854510307312, 0.7633122205734253, 0.31284433603286743, 0.4259837865829468, 0.4371720254421234, 0.7479447722434998, 0.4257548749446869, 0.24857455492019653, 0.5308406352996826, 0.6288822889328003, 0.5063416361808777, 0.22998793423175812, 0.5558760166168213, 0.6006024479866028, 0.5292016267776489, 0.230890691280365, 0.5564029216766357, 0.5664525032043457, 0.5247482657432556, 0.24713392555713654, 0.5469744801521301, 0.5677992701530457, 0.5193814635276794, 0.4860961437225342, 0.5321151614189148, 0.6814406514167786, 0.5366577506065369, 0.448840469121933, 0.6778621673583984, 0.5724374651908875, 0.6689939498901367, 0.4429386556148529, 0.8093269467353821, 0.5756749510765076, 0.8068047165870667, 0.47108060121536255, 0.8401972651481628, 0.624769389629364, 0.827057421207428, 0.2785731852054596, 0.7938552498817444, 0.4007834494113922, 0.7938198447227478], [0.5852434039115906, 0.228014275431633, 0.5868449211120605, 0.21393734216690063, 0.5810701847076416, 0.2141115963459015, 0.5744877457618713, 0.2143063247203827, 0.6091753840446472, 0.21387320756912231, 0.6197949647903442, 0.21403804421424866, 0.6307356953620911, 0.21418584883213043, 0.5783432126045227, 0.22444051504135132, 0.6795822978019714, 0.2245098501443863, 0.5856256484985352, 0.2437671571969986, 0.6059668064117432, 0.24498635530471802, 0.5523581504821777, 0.31907790899276733, 0.7572708129882812, 0.31591519713401794, 0.46592023968696594, 0.4515098035335541, 0.606352686882019, 0.41967880725860596, 0.30812668800354004, 0.5480530261993408, 0.4062753915786743, 0.3841959536075592, 0.2814111113548279, 0.5743340849876404, 0.3664941191673279, 0.36257821321487427, 0.2746678292751312, 0.5723170638084412, 0.3757885694503784, 0.35979318618774414, 0.290382444858551, 0.5630377531051636, 0.3961975574493408, 0.36883237957954407, 0.47447142004966736, 0.5434175729751587, 0.6374417543411255, 0.5395899415016174, 0.3981800079345703, 0.6885727643966675, 0.5646805167198181, 0.6703596711158752, 0.4284196197986603, 0.8196600675582886, 0.6033830046653748, 0.7934363484382629, 0.4496177136898041, 0.8517364263534546, 0.6352754235267639, 0.8234254717826843, 0.2074720859527588, 0.8281826972961426, 0.432156503200531, 0.7944426536560059], [0.7689568996429443, 0.24450978636741638, 0.8005391955375671, 0.23003748059272766, 0.8067656755447388, 0.23067641258239746, 0.8126528859138489, 0.23111295700073242, 0.7808229327201843, 0.22897464036941528, 0.775188148021698, 0.2294895499944687, 0.769149661064148, 0.23072056472301483, 0.8088754415512085, 0.24195297062397003, 0.7527620196342468, 0.2359749972820282, 0.7667337656021118, 0.26013755798339844, 0.7429736256599426, 0.26122719049453735, 0.7858221530914307, 0.27225562930107117, 0.6294512152671814, 0.29697006940841675, 0.7444502115249634, 0.3001045286655426, 0.43935632705688477, 0.44925999641418457, 0.770846426486969, 0.33145925402641296, 0.32812049984931946, 0.5552736520767212, 0.7632210850715637, 0.3318288028240204, 0.2768629193305969, 0.5795953273773193, 0.7677468061447144, 0.3301353454589844, 0.2707286477088928, 0.5976938605308533, 0.7642349600791931, 0.3363797068595886, 0.30090633034706116, 0.5869233012199402, 0.6250612735748291, 0.5764772891998291, 0.49931803345680237, 0.5551115274429321, 0.5090184807777405, 0.7129217982292175, 0.3375336825847626, 0.6959145665168762, 0.37241891026496887, 0.7912408709526062, 0.2889907956123352, 0.7969682216644287, 0.3361934423446655, 0.8018665313720703, 0.3107450008392334, 0.8085983991622925, 0.4344211518764496, 0.8704341053962708, 0.2897195816040039, 0.8746893405914307], [0.685028612613678, 0.24135881662368774, 0.7193307876586914, 0.23545025289058685, 0.7262907028198242, 0.23639947175979614, 0.7336779236793518, 0.23872819542884827, 0.7078087329864502, 0.23094026744365692, 0.7067092657089233, 0.22884877026081085, 0.7053564786911011, 0.22712284326553345, 0.7542591691017151, 0.25464290380477905, 0.7112271785736084, 0.23800769448280334, 0.6859791874885559, 0.26330816745758057, 0.6721971035003662, 0.2527475655078888, 0.731701672077179, 0.32817500829696655, 0.6391011476516724, 0.251816064119339, 0.701418936252594, 0.4542797803878784, 0.49603351950645447, 0.24487973749637604, 0.5916083455085754, 0.5183859467506409, 0.38719961047172546, 0.2289266735315323, 0.5865974426269531, 0.5537683963775635, 0.3435475826263428, 0.21981361508369446, 0.657826840877533, 0.5369986295700073, 0.3398970365524292, 0.22558532655239105, 0.6227995753288269, 0.5257834792137146, 0.35723456740379333, 0.23178140819072723, 0.56344074010849, 0.5878978371620178, 0.50263911485672, 0.52555251121521, 0.46925321221351624, 0.6937762498855591, 0.3691229224205017, 0.6335128545761108, 0.4519713222980499, 0.7975379824638367, 0.3152933716773987, 0.7570664286613464, 0.46418824791908264, 0.8150657415390015, 0.32643815875053406, 0.781074047088623, 0.3938593566417694, 0.8532337546348572, 0.24552105367183685, 0.7989683747291565], [0.6912294030189514, 0.23268771171569824, 0.7260956764221191, 0.2304932028055191, 0.7309707999229431, 0.23254813253879547, 0.7364409565925598, 0.2366514503955841, 0.7173529267311096, 0.22285275161266327, 0.7155832648277283, 0.21869772672653198, 0.7135563492774963, 0.21522191166877747, 0.7465026378631592, 0.25318044424057007, 0.7117904424667358, 0.22859428822994232, 0.6796121597290039, 0.25841131806373596, 0.6685010194778442, 0.24181638658046722, 0.7080257534980774, 0.3435116112232208, 0.5644620060920715, 0.2368059903383255, 0.6504914164543152, 0.4669649302959442, 0.3582785725593567, 0.19738005101680756, 0.6086321473121643, 0.5507904291152954, 0.2217833548784256, 0.18012036383152008, 0.5202851295471191, 0.5926145315170288, 0.1771136224269867, 0.17061257362365723, 0.5072903633117676, 0.5782541632652283, 0.17798496782779694, 0.17482803761959076, 0.5048204660415649, 0.563782811164856, 0.19375355541706085, 0.18166756629943848, 0.5388376116752625, 0.5610243082046509, 0.4225405752658844, 0.5189023017883301, 0.4862223267555237, 0.6967596411705017, 0.36490076780319214, 0.6476277709007263, 0.49904417991638184, 0.8172368407249451, 0.33248278498649597, 0.775807797908783, 0.5151278972625732, 0.8230354189872742, 0.35721930861473083, 0.7942636013031006, 0.43871772289276123, 0.8667375445365906, 0.25739702582359314, 0.8121494650840759], [0.3444514870643616, 0.2829630970954895, 0.36351722478866577, 0.26872268319129944, 0.3760131895542145, 0.2708885669708252, 0.38869383931159973, 0.27347880601882935, 0.34187769889831543, 0.2607020437717438, 0.339712917804718, 0.2573989927768707, 0.33840084075927734, 0.25453001260757446, 0.45358240604400635, 0.27904731035232544, 0.3781532347202301, 0.25614553689956665, 0.3882865309715271, 0.3055817484855652, 0.3632839620113373, 0.29511046409606934, 0.7271889448165894, 0.37506571412086487, 0.4137484133243561, 0.25791800022125244, 0.7484309077262878, 0.48514363169670105, 0.3782616853713989, 0.26714664697647095, 0.6402809023857117, 0.5498145222663879, 0.3306969702243805, 0.2513557970523834, 0.6184835433959961, 0.5912497639656067, 0.26822808384895325, 0.27089107036590576, 0.5818337202072144, 0.5742712616920471, 0.2919440269470215, 0.2678571343421936, 0.5809838175773621, 0.5577748417854309, 0.30355212092399597, 0.2756071090698242, 0.6250194311141968, 0.5773715972900391, 0.4456859827041626, 0.5287891626358032, 0.6887255311012268, 0.728508472442627, 0.4255439043045044, 0.6167877912521362, 0.6948391199111938, 0.8325461745262146, 0.45607492327690125, 0.7364525198936462, 0.7296976447105408, 0.8579077124595642, 0.5427058339118958, 0.7706751227378845, 0.6315001249313354, 0.8839695453643799, 0.3231774568557739, 0.7808488607406616], [0.37323418259620667, 0.2808305621147156, 0.41681501269340515, 0.268455445766449, 0.43176504969596863, 0.269726037979126, 0.4469766914844513, 0.2713428735733032, 0.393169641494751, 0.2602190673351288, 0.3923667073249817, 0.2564571499824524, 0.3922162652015686, 0.2530803382396698, 0.5136074423789978, 0.27344074845314026, 0.4453422725200653, 0.25338953733444214, 0.415304034948349, 0.3007926046848297, 0.388554185628891, 0.2921428382396698, 0.6793360114097595, 0.37480872869491577, 0.46879667043685913, 0.26051369309425354, 0.6817412376403809, 0.48594942688941956, 0.42327460646629333, 0.2663683593273163, 0.5908624529838562, 0.5487763285636902, 0.33489564061164856, 0.27833831310272217, 0.5917813181877136, 0.5961334109306335, 0.31138941645622253, 0.2772098481655121, 0.5712368488311768, 0.5719985961914062, 0.3235378563404083, 0.27413561940193176, 0.5649256706237793, 0.5500771403312683, 0.3366464376449585, 0.28231003880500793, 0.6381513476371765, 0.5648524761199951, 0.4673771858215332, 0.4936416745185852, 0.622652530670166, 0.7041605114936829, 0.41778141260147095, 0.6235835552215576, 0.6492146253585815, 0.8103586435317993, 0.3952215611934662, 0.7289156317710876, 0.6681579947471619, 0.8310167789459229, 0.46845632791519165, 0.7562620043754578, 0.5702312588691711, 0.8702414631843567, 0.22076234221458435, 0.777871310710907], [0.37323418259620667, 0.2808305621147156, 0.41681501269340515, 0.268455445766449, 0.43176504969596863, 0.269726037979126, 0.4469766914844513, 0.2713428735733032, 0.393169641494751, 0.2602190673351288, 0.3923667073249817, 0.2564571499824524, 0.3922162652015686, 0.2530803382396698, 0.5136074423789978, 0.27344074845314026, 0.4453422725200653, 0.25338953733444214, 0.415304034948349, 0.3007926046848297, 0.388554185628891, 0.2921428382396698, 0.6793360114097595, 0.37480872869491577, 0.46879667043685913, 0.26051369309425354, 0.6817412376403809, 0.48594942688941956, 0.42327460646629333, 0.2663683593273163, 0.5908624529838562, 0.5487763285636902, 0.33489564061164856, 0.27833831310272217, 0.5917813181877136, 0.5961334109306335, 0.31138941645622253, 0.2772098481655121, 0.5712368488311768, 0.5719985961914062, 0.3235378563404083, 0.27413561940193176, 0.5649256706237793, 0.5500771403312683, 0.3366464376449585, 0.28231003880500793, 0.6381513476371765, 0.5648524761199951, 0.4673771858215332, 0.4936416745185852, 0.622652530670166, 0.7041605114936829, 0.41778141260147095, 0.6235835552215576, 0.6492146253585815, 0.8103586435317993, 0.3952215611934662, 0.7289156317710876, 0.6681579947471619, 0.8310167789459229, 0.46845632791519165, 0.7562620043754578, 0.5702312588691711, 0.8702414631843567, 0.22076234221458435, 0.777871310710907], [0.3285067081451416, 0.2888023257255554, 0.3246149718761444, 0.26894083619117737, 0.33870041370391846, 0.26743751764297485, 0.3496190309524536, 0.2664860188961029, 0.3185446560382843, 0.26673227548599243, 0.323074609041214, 0.2634851336479187, 0.3285980224609375, 0.259483277797699, 0.4154811203479767, 0.24808210134506226, 0.39437034726142883, 0.2488749921321869, 0.40411341190338135, 0.2959556579589844, 0.39839881658554077, 0.2920050323009491, 0.5986841917037964, 0.2776685357093811, 0.5052497386932373, 0.2557525336742401, 0.5527949333190918, 0.4500880241394043, 0.46211960911750793, 0.3934045135974884, 0.5163499116897583, 0.562578022480011, 0.36316928267478943, 0.5157080292701721, 0.510430097579956, 0.6010398268699646, 0.32891786098480225, 0.5447783470153809, 0.49249592423439026, 0.5933286547660828, 0.325949490070343, 0.5375347137451172, 0.4909946918487549, 0.582031786441803, 0.33972448110580444, 0.5304221510887146, 0.5593051314353943, 0.5842980146408081, 0.44798457622528076, 0.5749617218971252, 0.5353863835334778, 0.7782062292098999, 0.3479284346103668, 0.7841836214065552, 0.5322893857955933, 0.9963626861572266, 0.3755165934562683, 0.9607251882553101, 0.5438194274902344, 1.0198557376861572, 0.4156891703605652, 0.9835973978042603, 0.5002380013465881, 1.0890718698501587, 0.23440445959568024, 1.0481576919555664]]}, {'key': 0, 'value': [[0.7440708875656128, 0.3108009696006775, 0.762554407119751, 0.28671959042549133, 0.7649617195129395, 0.2855183482170105, 0.7673041820526123, 0.28422555327415466, 0.7455905675888062, 0.28444015979766846, 0.7353851199150085, 0.2810930609703064, 0.7247105836868286, 0.27718761563301086, 0.7199344635009766, 0.27422234416007996, 0.6607100963592529, 0.2583784759044647, 0.7152003049850464, 0.32552382349967957, 0.6906458139419556, 0.3219726085662842, 0.6499619483947754, 0.3463115692138672, 0.45760291814804077, 0.3175297975540161, 0.619259238243103, 0.4645111560821533, 0.4271194338798523, 0.47730207443237305, 0.7327839136123657, 0.5439144372940063, 0.6118325591087341, 0.466566801071167, 0.7645366787910461, 0.5756182670593262, 0.6570520401000977, 0.47870656847953796, 0.7763141989707947, 0.5761256217956543, 0.6669961214065552, 0.4547674059867859, 0.7631567120552063, 0.5659075379371643, 0.6482408046722412, 0.4542815685272217, 0.4494516849517822, 0.5756192803382874, 0.31080666184425354, 0.5678728222846985, 0.41051989793777466, 0.736444354057312, 0.2682848572731018, 0.7807386517524719, 0.3551129996776581, 0.8280539512634277, 0.2323085516691208, 0.8593817949295044, 0.32845035195350647, 0.8325898051261902, 0.21579477190971375, 0.8567778468132019, 0.3832013010978699, 0.9050930738449097, 0.247149258852005, 0.954386830329895], [0.5637980103492737, 0.25883370637893677, 0.5325418710708618, 0.23100903630256653, 0.5237345695495605, 0.22714024782180786, 0.5151068568229675, 0.22326363623142242, 0.5464822053909302, 0.2408413141965866, 0.5476095080375671, 0.24353058636188507, 0.5486847162246704, 0.24528375267982483, 0.46440571546554565, 0.23340480029582977, 0.5215175747871399, 0.2497566044330597, 0.5402792692184448, 0.275960773229599, 0.5515497922897339, 0.2810148000717163, 0.36755797266960144, 0.31198760867118835, 0.4764132499694824, 0.3979243040084839, 0.37701311707496643, 0.41637274622917175, 0.494486540555954, 0.5520534515380859, 0.5943488478660583, 0.46881118416786194, 0.6820265054702759, 0.5476451516151428, 0.6360929012298584, 0.4692336320877075, 0.7443295121192932, 0.550346314907074, 0.6310760974884033, 0.4792312979698181, 0.7451642155647278, 0.5295673608779907, 0.6230833530426025, 0.49170175194740295, 0.7126438021659851, 0.529646098613739, 0.25770512223243713, 0.5897941589355469, 0.3661159574985504, 0.6640161275863647, 0.3009459376335144, 0.74727463722229, 0.353106826543808, 0.8059054017066956, 0.3030394911766052, 0.8525781035423279, 0.2828228175640106, 0.9028563499450684, 0.27587369084358215, 0.8699051737785339, 0.2516104578971863, 0.9169607758522034, 0.42249688506126404, 0.882805585861206, 0.36993607878685, 0.9366143345832825], [0.5851806998252869, 0.24253985285758972, 0.5719536542892456, 0.22016483545303345, 0.5645478367805481, 0.21756358444690704, 0.5565200448036194, 0.21489952504634857, 0.5807830095291138, 0.2264374941587448, 0.58003830909729, 0.22788800299167633, 0.5792548656463623, 0.2299191653728485, 0.503179669380188, 0.22212660312652588, 0.5484217405319214, 0.24154625833034515, 0.559826672077179, 0.2584591805934906, 0.5661036372184753, 0.2626529932022095, 0.34682485461235046, 0.2997429072856903, 0.4961080551147461, 0.36756858229637146, 0.32865771651268005, 0.3887683153152466, 0.5135497450828552, 0.5112100839614868, 0.4691029489040375, 0.40334102511405945, 0.7007928490638733, 0.4819909334182739, 0.49207252264022827, 0.40023574233055115, 0.7693163156509399, 0.4737854301929474, 0.5115119218826294, 0.39657503366470337, 0.7678829431533813, 0.4567837417125702, 0.5062359571456909, 0.40260812640190125, 0.7382216453552246, 0.45970210433006287, 0.270673930644989, 0.5910155773162842, 0.40727895498275757, 0.6168761849403381, 0.22175756096839905, 0.7214567065238953, 0.38760921359062195, 0.7383579611778259, 0.15194328129291534, 0.8500365018844604, 0.347419798374176, 0.8539859652519226, 0.11694103479385376, 0.8758254051208496, 0.30299103260040283, 0.8763308525085449, 0.25545868277549744, 0.8654574751853943, 0.46615204215049744, 0.8716658353805542], [0.5640233755111694, 0.23683221638202667, 0.5530917644500732, 0.21720321476459503, 0.5419529676437378, 0.21565118432044983, 0.5299868583679199, 0.21404369175434113, 0.5764090418815613, 0.222426176071167, 0.581855297088623, 0.2245594710111618, 0.5872039198875427, 0.22695180773735046, 0.4868811368942261, 0.22580450773239136, 0.5734483003616333, 0.2486143410205841, 0.5319466590881348, 0.254616916179657, 0.5566919445991516, 0.25999295711517334, 0.3055913746356964, 0.3125194311141968, 0.5777297019958496, 0.3628157675266266, 0.26354023814201355, 0.4198302924633026, 0.6005108952522278, 0.4998960494995117, 0.3217293918132782, 0.4690144956111908, 0.7578023672103882, 0.47517868876457214, 0.33615899085998535, 0.4767565131187439, 0.809474766254425, 0.44824084639549255, 0.36271387338638306, 0.4709155261516571, 0.7994637489318848, 0.4354872405529022, 0.36075910925865173, 0.47010812163352966, 0.7754018902778625, 0.4387778639793396, 0.2990376055240631, 0.5847365260124207, 0.45166507363319397, 0.603996992111206, 0.23481102287769318, 0.7266055941581726, 0.43337658047676086, 0.753853976726532, 0.193650022149086, 0.8356091380119324, 0.40361398458480835, 0.8611807823181152, 0.17100889980793, 0.863378643989563, 0.3706398606300354, 0.8871934413909912, 0.2230176478624344, 0.863577127456665, 0.4804585874080658, 0.8940777778625488], [0.4933525323867798, 0.2724378705024719, 0.47248855233192444, 0.26443296670913696, 0.4630733132362366, 0.265965074300766, 0.452374130487442, 0.26752230525016785, 0.49243688583374023, 0.2700600028038025, 0.4971289038658142, 0.2751181721687317, 0.5012866258621216, 0.2799833118915558, 0.4569360911846161, 0.2884575426578522, 0.5054829120635986, 0.300357848405838, 0.48594340682029724, 0.2965187728404999, 0.5037127137184143, 0.3033241033554077, 0.30376845598220825, 0.3322335481643677, 0.5604366660118103, 0.3840923607349396, 0.27240613102912903, 0.29224497079849243, 0.6398324966430664, 0.3836245834827423, 0.2605046033859253, 0.17630106210708618, 0.8080237507820129, 0.31349819898605347, 0.2445615530014038, 0.14202439785003662, 0.8467869758605957, 0.29001399874687195, 0.2869647145271301, 0.12075665593147278, 0.8137016892433167, 0.267062246799469, 0.31014400720596313, 0.15156303346157074, 0.80061936378479, 0.27646657824516296, 0.34597861766815186, 0.6210207343101501, 0.4389524459838867, 0.6354236602783203, 0.4191414713859558, 0.7059350609779358, 0.5067093372344971, 0.7216076850891113, 0.40873193740844727, 0.8024212121963501, 0.514748752117157, 0.808890700340271, 0.4170735776424408, 0.8439830541610718, 0.4743845462799072, 0.8275317549705505, 0.4011540710926056, 0.7886072397232056, 0.5323313474655151, 0.8220193982124329], [0.2869952321052551, 0.2374335080385208, 0.26087552309036255, 0.23445859551429749, 0.2546881437301636, 0.2388579249382019, 0.24907420575618744, 0.2428750991821289, 0.285016268491745, 0.22431440651416779, 0.29541805386543274, 0.22305093705654144, 0.30664828419685364, 0.22186169028282166, 0.2613181471824646, 0.2619158923625946, 0.3305809497833252, 0.23775087296962738, 0.2934654653072357, 0.2634839415550232, 0.31997981667518616, 0.24877841770648956, 0.27594706416130066, 0.34418341517448425, 0.5345235466957092, 0.28880709409713745, 0.22933554649353027, 0.42376017570495605, 0.742333710193634, 0.34251174330711365, 0.22756217420101166, 0.40283140540122986, 0.8738850355148315, 0.32064899802207947, 0.2141188085079193, 0.4053373336791992, 0.9035300016403198, 0.3137136399745941, 0.2418230026960373, 0.3785630762577057, 0.8705161213874817, 0.3079291880130768, 0.2579194903373718, 0.3715748190879822, 0.8553725481033325, 0.3119139075279236, 0.33825474977493286, 0.5935721397399902, 0.5823604464530945, 0.5930656790733337, 0.3882187008857727, 0.6717591881752014, 0.584888219833374, 0.6640343070030212, 0.37610387802124023, 0.8157429695129395, 0.5605543255805969, 0.7557898759841919, 0.3815445005893707, 0.8346329927444458, 0.5360199809074402, 0.7776491641998291, 0.36162069439888, 0.7837385535240173, 0.5905334949493408, 0.7548028230667114], [0.41679030656814575, 0.2971450686454773, 0.3961154818534851, 0.2969367206096649, 0.38870593905448914, 0.29953533411026, 0.38079702854156494, 0.3017374277114868, 0.4172841012477875, 0.2880002558231354, 0.42348992824554443, 0.2845625579357147, 0.42968425154685974, 0.2807043492794037, 0.37629926204681396, 0.31334054470062256, 0.4376467764377594, 0.2929706275463104, 0.4116341471672058, 0.29794442653656006, 0.433755099773407, 0.2842995822429657, 0.3311172425746918, 0.34934553503990173, 0.5804508328437805, 0.3175700306892395, 0.46629977226257324, 0.3295459747314453, 0.8248881697654724, 0.28662464022636414, 0.3074161112308502, 0.2524203360080719, 0.7626152038574219, 0.22506371140480042, 0.4440172612667084, 0.22195851802825928, 0.784622311592102, 0.19265925884246826, 0.5435656309127808, 0.22782763838768005, 0.7479912042617798, 0.1962525099515915, 0.5699310302734375, 0.22312691807746887, 0.7342084646224976, 0.2095792144536972, 0.3878779113292694, 0.5940304398536682, 0.654382050037384, 0.5987858772277832, 0.35257676243782043, 0.6863011121749878, 0.7030379176139832, 0.6656358242034912, 0.3001859188079834, 0.7934464812278748, 0.6802650094032288, 0.7375019192695618, 0.2826850712299347, 0.8155588507652283, 0.659314751625061, 0.7522845268249512, 0.31288397312164307, 0.7978613972663879, 0.7194098234176636, 0.7499865293502808], [0.2906576991081238, 0.2658960819244385, 0.2601968050003052, 0.2606620192527771, 0.25267136096954346, 0.264207661151886, 0.24562154710292816, 0.26748335361480713, 0.2868594825267792, 0.2473774552345276, 0.29780831933021545, 0.2416236400604248, 0.31015390157699585, 0.23649728298187256, 0.2653226852416992, 0.2751213312149048, 0.3470279574394226, 0.2367963343858719, 0.3064485192298889, 0.27820396423339844, 0.3334188759326935, 0.26270532608032227, 0.29459965229034424, 0.3423060178756714, 0.5975855588912964, 0.2507086396217346, 0.38194501399993896, 0.44700056314468384, 0.7687276005744934, 0.28562694787979126, 0.4044807255268097, 0.5199640989303589, 0.7839590311050415, 0.2648184299468994, 0.4307383894920349, 0.5473616123199463, 0.7995150089263916, 0.3543921113014221, 0.4491391181945801, 0.5393990278244019, 0.7613939046859741, 0.3825122117996216, 0.4487413465976715, 0.5283615589141846, 0.7480261921882629, 0.3755721151828766, 0.43784335255622864, 0.584826648235321, 0.6718791723251343, 0.5662199854850769, 0.3877120614051819, 0.6897451877593994, 0.6751765012741089, 0.6970739364624023, 0.30279433727264404, 0.816394031047821, 0.6547319889068604, 0.8073660731315613, 0.32004594802856445, 0.8372486233711243, 0.6223922967910767, 0.8015148639678955, 0.25109249353408813, 0.8028730154037476, 0.7101743221282959, 0.8376774191856384], [0.29716965556144714, 0.2560815215110779, 0.2715909481048584, 0.23493175208568573, 0.2640998363494873, 0.2392592430114746, 0.2569392919540405, 0.24331088364124298, 0.2991664707660675, 0.22195029258728027, 0.3107636868953705, 0.21772556006908417, 0.3218992054462433, 0.21378536522388458, 0.27467620372772217, 0.25699231028556824, 0.3584950268268585, 0.21879802644252777, 0.3082553744316101, 0.2617602050304413, 0.3353508412837982, 0.24879281222820282, 0.29162487387657166, 0.3371851146221161, 0.5922788977622986, 0.24137528240680695, 0.35564613342285156, 0.4811387062072754, 0.766603946685791, 0.2821601927280426, 0.41588979959487915, 0.5511808395385742, 0.7960129976272583, 0.3476921021938324, 0.4247206747531891, 0.5805314183235168, 0.8064963221549988, 0.4099605977535248, 0.4434429109096527, 0.5684178471565247, 0.777885377407074, 0.42151710391044617, 0.44563376903533936, 0.5580996870994568, 0.7640379667282104, 0.41549021005630493, 0.4678918123245239, 0.5730312466621399, 0.685528576374054, 0.5470638871192932, 0.4318857789039612, 0.6829124689102173, 0.6828892827033997, 0.6965662837028503, 0.34745070338249207, 0.8015907406806946, 0.6780515909194946, 0.7982017993927002, 0.3688126504421234, 0.8229676485061646, 0.656399667263031, 0.8404430150985718, 0.2952776849269867, 0.8080727458000183, 0.7132323384284973, 0.8315434455871582], [0.4340560734272003, 0.2192418873310089, 0.41743919253349304, 0.20792247354984283, 0.40769103169441223, 0.20859742164611816, 0.3978354036808014, 0.20937354862689972, 0.4454527199268341, 0.20528464019298553, 0.4549614191055298, 0.20408520102500916, 0.4642490744590759, 0.20288902521133423, 0.390489399433136, 0.21869847178459167, 0.4767149090766907, 0.20794591307640076, 0.42208847403526306, 0.2287619411945343, 0.45429524779319763, 0.22598080337047577, 0.30920329689979553, 0.28791725635528564, 0.6114434003829956, 0.2475776970386505, 0.2683252692222595, 0.4152557849884033, 0.7717638611793518, 0.2991029620170593, 0.26289305090904236, 0.4879767596721649, 0.7431463003158569, 0.38207197189331055, 0.24109625816345215, 0.5120062828063965, 0.7391200661659241, 0.42182737588882446, 0.26716384291648865, 0.5036212801933289, 0.7071220874786377, 0.42783403396606445, 0.28189387917518616, 0.4951656758785248, 0.6984114646911621, 0.4214071035385132, 0.4406299591064453, 0.5515169501304626, 0.6743115782737732, 0.5329000353813171, 0.38124990463256836, 0.6809267401695251, 0.6511600017547607, 0.6700473427772522, 0.30158913135528564, 0.8094853162765503, 0.6569329500198364, 0.8088738322257996, 0.3037540316581726, 0.8273366689682007, 0.6538562178611755, 0.8438314199447632, 0.276108980178833, 0.8176330327987671, 0.7069273591041565, 0.8373669981956482]]}, {'key': 0, 'value': [[0.37479671835899353, 0.2391553521156311, 0.38162970542907715, 0.2255798578262329, 0.39036574959754944, 0.22442297637462616, 0.39915114641189575, 0.22333267331123352, 0.3729969561100006, 0.22584161162376404, 0.3725281059741974, 0.22513099014759064, 0.34328049421310425, 0.21914413571357727, 0.44866427779197693, 0.21852615475654602, 0.4160679280757904, 0.21955332159996033, 0.4180818498134613, 0.2454780489206314, 0.4020874500274658, 0.24641120433807373, 0.6148228049278259, 0.2768020033836365, 0.4976401627063751, 0.2707316279411316, 0.5741569995880127, 0.39239218831062317, 0.4277341961860657, 0.34661635756492615, 0.3232877850532532, 0.41902294754981995, 0.31576234102249146, 0.30181416869163513, 0.2621087431907654, 0.4359101355075836, 0.27105414867401123, 0.29254624247550964, 0.2420441061258316, 0.42610788345336914, 0.2783699035644531, 0.2856009900569916, 0.26727622747421265, 0.4196739196777344, 0.30005383491516113, 0.28857117891311646, 0.6083945035934448, 0.43784546852111816, 0.53483647108078, 0.4215541481971741, 0.552025556564331, 0.558055579662323, 0.5038796067237854, 0.5374413728713989, 0.6285750269889832, 0.6629117727279663, 0.5646898746490479, 0.6418892741203308, 0.6750342845916748, 0.6763044595718384, 0.6040117740631104, 0.6594004034996033, 0.5479496717453003, 0.7075272798538208, 0.47214704751968384, 0.6820360422134399], [0.48650068044662476, 0.20277824997901917, 0.5193107724189758, 0.19204607605934143, 0.5358135104179382, 0.19293929636478424, 0.5513872504234314, 0.19392745196819305, 0.48637065291404724, 0.19092850387096405, 0.47942662239074707, 0.19087548553943634, 0.47320637106895447, 0.19055552780628204, 0.5812609195709229, 0.20446598529815674, 0.4892235994338989, 0.20052257180213928, 0.5146884918212891, 0.22029733657836914, 0.4724052846431732, 0.21953104436397552, 0.6973060965538025, 0.27551791071891785, 0.4482695162296295, 0.2946661710739136, 0.7857050895690918, 0.38220107555389404, 0.3899005353450775, 0.38509640097618103, 0.601162314414978, 0.45478224754333496, 0.263619601726532, 0.3407009541988373, 0.5675312876701355, 0.4808332920074463, 0.20780403912067413, 0.3308603763580322, 0.5418373942375183, 0.4734550714492798, 0.21097062528133392, 0.319085955619812, 0.5497692823410034, 0.46577101945877075, 0.2338610291481018, 0.3210965096950531, 0.6608083248138428, 0.48343273997306824, 0.5014187693595886, 0.48622676730155945, 0.670328676700592, 0.6281636953353882, 0.5429832935333252, 0.6256305575370789, 0.7502956390380859, 0.7513715624809265, 0.6300400495529175, 0.7473310232162476, 0.7637432217597961, 0.7625277042388916, 0.6890637874603271, 0.7495644688606262, 0.6982490420341492, 0.8118008971214294, 0.5924261808395386, 0.7762411236763], [0.5185345411300659, 0.19382727146148682, 0.5443592071533203, 0.18531034886837006, 0.5573257803916931, 0.1861155927181244, 0.570430338382721, 0.18699008226394653, 0.5054675340652466, 0.18427875638008118, 0.4933018088340759, 0.18433280289173126, 0.4831124246120453, 0.18380415439605713, 0.5971718430519104, 0.19592656195163727, 0.47680017352104187, 0.1906999945640564, 0.5458158850669861, 0.21051184833049774, 0.49344322085380554, 0.20991845428943634, 0.705337405204773, 0.2939405143260956, 0.3978443443775177, 0.2923305630683899, 0.7701339721679688, 0.40193653106689453, 0.33961114287376404, 0.3914453387260437, 0.7747789621353149, 0.49827641248703003, 0.2292633056640625, 0.34709012508392334, 0.7827772498130798, 0.5273157954216003, 0.1899479776620865, 0.3354119658470154, 0.7547847628593445, 0.5275025367736816, 0.1951487958431244, 0.3223719596862793, 0.7445791959762573, 0.5181527137756348, 0.21389628946781158, 0.3241611421108246, 0.6106895804405212, 0.49931302666664124, 0.4446486234664917, 0.4950481951236725, 0.6132787466049194, 0.6498698592185974, 0.4581589996814728, 0.6499952077865601, 0.6124772429466248, 0.7668641805648804, 0.5186894536018372, 0.7819752097129822, 0.6266049742698669, 0.7818595170974731, 0.5456874370574951, 0.7991279363632202, 0.5739383697509766, 0.8181472420692444, 0.5283156037330627, 0.8347395062446594], [0.46673333644866943, 0.18991689383983612, 0.49088239669799805, 0.18110063672065735, 0.5076658129692078, 0.18163807690143585, 0.5229830741882324, 0.18224690854549408, 0.4515168368816376, 0.18058644235134125, 0.44068941473960876, 0.1807520091533661, 0.4259651005268097, 0.1793605536222458, 0.5517821907997131, 0.19308629631996155, 0.4533223509788513, 0.19119125604629517, 0.502949595451355, 0.2026326060295105, 0.45064499974250793, 0.20380565524101257, 0.6860212087631226, 0.29969722032546997, 0.3173927068710327, 0.28981420397758484, 0.7429808974266052, 0.4056868553161621, 0.25570565462112427, 0.38358619809150696, 0.7789961099624634, 0.4975806772708893, 0.22073201835155487, 0.3632591664791107, 0.7880143523216248, 0.5271305441856384, 0.1989474892616272, 0.35592830181121826, 0.770598292350769, 0.5264320969581604, 0.2067822515964508, 0.34123197197914124, 0.7614216804504395, 0.5165123343467712, 0.22235380113124847, 0.3437713086605072, 0.6198776364326477, 0.5036957859992981, 0.40577125549316406, 0.5037923455238342, 0.6431329250335693, 0.6601793766021729, 0.35851094126701355, 0.6647422313690186, 0.6256861090660095, 0.792567789554596, 0.3268435597419739, 0.7934892177581787, 0.6427684426307678, 0.8118041753768921, 0.3466355502605438, 0.8124112486839294, 0.7036058902740479, 0.8384736776351929, 0.3074100911617279, 0.8426559567451477], [0.473708838224411, 0.21041490137577057, 0.479302316904068, 0.19939984381198883, 0.4880305826663971, 0.19988775253295898, 0.49695658683776855, 0.20044444501399994, 0.4547558128833771, 0.1986519694328308, 0.4460368752479553, 0.19885554909706116, 0.4371943771839142, 0.1997077912092209, 0.5027869343757629, 0.20816369354724884, 0.4164077937602997, 0.21137090027332306, 0.48929521441459656, 0.2248995304107666, 0.4555944800376892, 0.22348704934120178, 0.5695968270301819, 0.28819653391838074, 0.3552364110946655, 0.2819710075855255, 0.6902689337730408, 0.2944272756576538, 0.24375198781490326, 0.2839753329753876, 0.7724444270133972, 0.24417491257190704, 0.230282261967659, 0.20008358359336853, 0.8016536235809326, 0.23204675316810608, 0.20923762023448944, 0.1862669736146927, 0.7926324605941772, 0.22698168456554413, 0.21956411004066467, 0.17826464772224426, 0.7775780558586121, 0.23208856582641602, 0.23193681240081787, 0.18326778709888458, 0.5651872158050537, 0.49070242047309875, 0.44669079780578613, 0.49471163749694824, 0.5832772254943848, 0.6206368803977966, 0.5035905838012695, 0.6359549164772034, 0.5345571637153625, 0.7547821998596191, 0.537176787853241, 0.7646075487136841, 0.5063796639442444, 0.7712939977645874, 0.5287163853645325, 0.783206582069397, 0.5831969380378723, 0.8282260298728943, 0.5893052816390991, 0.8397385478019714], [0.6193554401397705, 0.20827902853488922, 0.6232355237007141, 0.2000713050365448, 0.6338542699813843, 0.2011319398880005, 0.6472095847129822, 0.20228488743305206, 0.6001726984977722, 0.19851556420326233, 0.591618001461029, 0.19905297458171844, 0.5777592062950134, 0.20045660436153412, 0.7513744235038757, 0.21131613850593567, 0.588812530040741, 0.20927688479423523, 0.6463404893875122, 0.22203390300273895, 0.6070625185966492, 0.22102965414524078, 0.5809581875801086, 0.3043590188026428, 0.44617465138435364, 0.2569965720176697, 0.5946703553199768, 0.37094414234161377, 0.2741702198982239, 0.24583372473716736, 0.8674904108047485, 0.42202088236808777, 0.3568725883960724, 0.21277880668640137, 0.8539767861366272, 0.4258185029029846, 0.3615565896034241, 0.20529811084270477, 0.8489784002304077, 0.4239157438278198, 0.4030352830886841, 0.20251402258872986, 0.8343767523765564, 0.4240170419216156, 0.3870936632156372, 0.20903322100639343, 0.532208263874054, 0.5316470861434937, 0.46456509828567505, 0.5297496318817139, 0.6245546936988831, 0.6421411037445068, 0.606951892375946, 0.6415407657623291, 0.5187076330184937, 0.7699522376060486, 0.5867660641670227, 0.7915588021278381, 0.4713606536388397, 0.7900204062461853, 0.5350131988525391, 0.8128213882446289, 0.671049177646637, 0.8314591646194458, 0.7554978728294373, 0.8405094742774963], [0.700428307056427, 0.21220651268959045, 0.6808146238327026, 0.2069723904132843, 0.6822926998138428, 0.2078482210636139, 0.6866567730903625, 0.20808494091033936, 0.674095094203949, 0.20382270216941833, 0.6689031720161438, 0.20343732833862305, 0.681800365447998, 0.20350414514541626, 0.6423678994178772, 0.21312452852725983, 0.608465313911438, 0.20626088976860046, 0.6798563599586487, 0.22219598293304443, 0.6680375933647156, 0.21997042000293732, 0.44978219270706177, 0.28884178400039673, 0.4549487233161926, 0.24055805802345276, 0.44802364706993103, 0.39604732394218445, 0.4672088325023651, 0.20517811179161072, 0.6345735192298889, 0.474464476108551, 0.7138981223106384, 0.1811344176530838, 0.6559779047966003, 0.4937487542629242, 0.7586820721626282, 0.17299047112464905, 0.6984652280807495, 0.5050148367881775, 0.7585218548774719, 0.17683754861354828, 0.6619198322296143, 0.49055802822113037, 0.7366874814033508, 0.18298761546611786, 0.49454817175865173, 0.48940134048461914, 0.49537140130996704, 0.4874386787414551, 0.6298508644104004, 0.6233144998550415, 0.6571699976921082, 0.6407679915428162, 0.5260319113731384, 0.7653427720069885, 0.5111313462257385, 0.7986366748809814, 0.4299076199531555, 0.798532247543335, 0.39409148693084717, 0.8326869010925293, 0.7360215187072754, 0.7977321743965149, 0.7473311424255371, 0.8357755541801453], [0.6066160202026367, 0.28374814987182617, 0.6070683002471924, 0.2629825472831726, 0.6089724898338318, 0.26073339581489563, 0.611036479473114, 0.25846049189567566, 0.5934761166572571, 0.2653258740901947, 0.5826507806777954, 0.26484474539756775, 0.5754334330558777, 0.2649385929107666, 0.559945285320282, 0.24262410402297974, 0.5094780325889587, 0.24954593181610107, 0.5684748888015747, 0.28227803111076355, 0.5596588850021362, 0.2844906151294708, 0.38758715987205505, 0.2499181181192398, 0.3624672293663025, 0.2689065933227539, 0.44058331847190857, 0.28836992383003235, 0.5168758034706116, 0.27821120619773865, 0.5550914406776428, 0.3397829532623291, 0.7247331738471985, 0.21557340025901794, 0.6538349986076355, 0.2768561840057373, 0.7672535181045532, 0.2075418084859848, 0.6673165559768677, 0.28521570563316345, 0.7467374801635742, 0.20626722276210785, 0.609795868396759, 0.35286790132522583, 0.7431867122650146, 0.21087047457695007, 0.36495164036750793, 0.5123274326324463, 0.35415729880332947, 0.5347250699996948, 0.4454934298992157, 0.6464766263961792, 0.43370530009269714, 0.6667790412902832, 0.4268511235713959, 0.8057133555412292, 0.4176102578639984, 0.7906561493873596, 0.37957507371902466, 0.8017957210540771, 0.3684398829936981, 0.8243094086647034, 0.5077062845230103, 0.8165480494499207, 0.5509091019630432, 0.8407530188560486], [0.5987189412117004, 0.2753576636314392, 0.604688823223114, 0.257326602935791, 0.607982873916626, 0.25589996576309204, 0.6112542748451233, 0.2546563744544983, 0.589836597442627, 0.2587061822414398, 0.5794218182563782, 0.2584741711616516, 0.5693806409835815, 0.2572800815105438, 0.5747100114822388, 0.23434628546237946, 0.518250048160553, 0.24172751605510712, 0.5746073722839355, 0.27767282724380493, 0.5599971413612366, 0.2795879542827606, 0.443037211894989, 0.21188688278198242, 0.3793463110923767, 0.2645321786403656, 0.4300837516784668, 0.2665508985519409, 0.5160433650016785, 0.29617950320243835, 0.5638736486434937, 0.3135887384414673, 0.6175580620765686, 0.2271287441253662, 0.6035663485527039, 0.28939923644065857, 0.6426776051521301, 0.22038614749908447, 0.6050320267677307, 0.2906239628791809, 0.6047462821006775, 0.21469807624816895, 0.5817415118217468, 0.32501038908958435, 0.6020910739898682, 0.21973159909248352, 0.3853602409362793, 0.5058268904685974, 0.3510698080062866, 0.5301317572593689, 0.4566454589366913, 0.6413727402687073, 0.3647266626358032, 0.6733959913253784, 0.4078950583934784, 0.770883321762085, 0.3707897663116455, 0.7875469923019409, 0.36371952295303345, 0.7837892770767212, 0.32515835762023926, 0.8177998661994934, 0.538066565990448, 0.8112812042236328, 0.5283291339874268, 0.8363089561462402], [0.6510292887687683, 0.27663877606391907, 0.6901006698608398, 0.2595612406730652, 0.6929506063461304, 0.25892961025238037, 0.695156455039978, 0.2578240633010864, 0.6775879859924316, 0.2547588050365448, 0.6720417737960815, 0.2523065507411957, 0.6667205095291138, 0.2501293420791626, 0.6627265214920044, 0.23519524931907654, 0.6341500282287598, 0.23137903213500977, 0.6098763942718506, 0.27829569578170776, 0.5985633730888367, 0.2740213871002197, 0.4152681529521942, 0.22923515737056732, 0.3922824263572693, 0.2067866176366806, 0.34759894013404846, 0.282419890165329, 0.3290601372718811, 0.248190775513649, 0.42528006434440613, 0.3772587478160858, 0.3481518030166626, 0.32654428482055664, 0.46540310978889465, 0.40035468339920044, 0.34235310554504395, 0.3504094183444977, 0.4545002281665802, 0.3879488408565521, 0.34409254789352417, 0.34637776017189026, 0.4770243167877197, 0.39923039078712463, 0.3439556658267975, 0.33521851897239685, 0.3812120854854584, 0.4838060140609741, 0.33259260654449463, 0.4990077018737793, 0.40942543745040894, 0.623805820941925, 0.34478363394737244, 0.660653829574585, 0.3771691918373108, 0.7601929306983948, 0.3475770950317383, 0.7837409377098083, 0.33274853229522705, 0.8261047005653381, 0.2968617081642151, 0.8246903419494629, 0.49595850706100464, 0.804180920124054, 0.4915478825569153, 0.8311402201652527]]}, {'key': 0, 'value': [[0.3536681532859802, 0.23768171668052673, 0.336544394493103, 0.22440046072006226, 0.33280810713768005, 0.22396841645240784, 0.32830822467803955, 0.22399252653121948, 0.351298451423645, 0.2236696183681488, 0.35912007093429565, 0.22235170006752014, 0.36759012937545776, 0.2212066650390625, 0.34991317987442017, 0.2244008481502533, 0.4140581488609314, 0.21717137098312378, 0.363807737827301, 0.24428418278694153, 0.38074660301208496, 0.24360668659210205, 0.34915804862976074, 0.283938467502594, 0.6786187291145325, 0.2665555477142334, 0.35299819707870483, 0.3862631022930145, 0.7250368595123291, 0.36117178201675415, 0.22962316870689392, 0.4299284517765045, 0.5703566074371338, 0.3624728322029114, 0.19477695226669312, 0.43925774097442627, 0.5391337871551514, 0.3590088486671448, 0.19836997985839844, 0.42917102575302124, 0.5129736065864563, 0.3567366302013397, 0.22241368889808655, 0.42226147651672363, 0.5187777280807495, 0.3588052988052368, 0.5040141344070435, 0.4898921847343445, 0.6922299861907959, 0.4867463707923889, 0.49023184180259705, 0.6595693826675415, 0.6981027126312256, 0.6472769379615784, 0.5132402777671814, 0.811511218547821, 0.7347418069839478, 0.7932170629501343, 0.532630443572998, 0.8319641351699829, 0.7664210200309753, 0.8145151138305664, 0.3598116934299469, 0.8286981582641602, 0.6743969917297363, 0.8132328391075134], [0.44259798526763916, 0.21178434789180756, 0.46014150977134705, 0.2002299726009369, 0.4622344374656677, 0.2006448209285736, 0.46455827355384827, 0.20120923221111298, 0.4684114456176758, 0.19965079426765442, 0.4759938716888428, 0.19965671002864838, 0.483631432056427, 0.19973763823509216, 0.5115018486976624, 0.20793162286281586, 0.5394498109817505, 0.20250479876995087, 0.45591995120048523, 0.2252909392118454, 0.46647003293037415, 0.2253323346376419, 0.5883241891860962, 0.2801592946052551, 0.6883798837661743, 0.28286004066467285, 0.614669680595398, 0.39606890082359314, 0.6027936935424805, 0.39518606662750244, 0.34418296813964844, 0.47710078954696655, 0.3850213885307312, 0.46115347743034363, 0.2779352366924286, 0.49371424317359924, 0.2888590395450592, 0.4775576889514923, 0.2517659664154053, 0.4868415296077728, 0.27051475644111633, 0.47640562057495117, 0.28353384137153625, 0.482937216758728, 0.31262409687042236, 0.4726982116699219, 0.5853816866874695, 0.4935291111469269, 0.6825369596481323, 0.49030938744544983, 0.5643658638000488, 0.6535636186599731, 0.6388338208198547, 0.6474693417549133, 0.6051507592201233, 0.8069474101066589, 0.6966502070426941, 0.7884331941604614, 0.647842526435852, 0.8292721509933472, 0.7602600455284119, 0.8136994242668152, 0.3731224238872528, 0.8372751474380493, 0.4799063205718994, 0.8208956122398376], [0.42984065413475037, 0.2093612253665924, 0.4596644937992096, 0.1973726749420166, 0.46379798650741577, 0.19781574606895447, 0.46765390038490295, 0.19835928082466125, 0.46252256631851196, 0.19658449292182922, 0.4688739478588104, 0.19652405381202698, 0.47510209679603577, 0.19652804732322693, 0.5142769813537598, 0.2066219449043274, 0.525424063205719, 0.2037810981273651, 0.44595983624458313, 0.22399090230464935, 0.44841906428337097, 0.2232646942138672, 0.5952606797218323, 0.29168736934661865, 0.5388421416282654, 0.29240450263023376, 0.6115073561668396, 0.41026434302330017, 0.5028008818626404, 0.39486923813819885, 0.5949612259864807, 0.5155863165855408, 0.2899526059627533, 0.3918381333351135, 0.5934228301048279, 0.5470313429832458, 0.2322048544883728, 0.4130858778953552, 0.5813466310501099, 0.548130452632904, 0.21937787532806396, 0.44345414638519287, 0.5815492272377014, 0.5374237298965454, 0.24508480727672577, 0.419242262840271, 0.5477611422538757, 0.5126622915267944, 0.5608097314834595, 0.5090361833572388, 0.5552049875259399, 0.6619709134101868, 0.5786900520324707, 0.6520732641220093, 0.6045811176300049, 0.8048573732376099, 0.6199359893798828, 0.7935183048248291, 0.647679328918457, 0.8261110782623291, 0.6575525403022766, 0.8173062205314636, 0.4532630145549774, 0.8279210925102234, 0.47993311285972595, 0.8204447627067566], [0.49823400378227234, 0.19518722593784332, 0.5318013429641724, 0.18428848683834076, 0.5416134595870972, 0.18461701273918152, 0.5522449016571045, 0.18505483865737915, 0.5182530879974365, 0.18363626301288605, 0.5180830955505371, 0.18329492211341858, 0.5180845856666565, 0.18321441113948822, 0.6076159477233887, 0.19527743756771088, 0.554781436920166, 0.19415496289730072, 0.5169643759727478, 0.20937581360340118, 0.4996803402900696, 0.20992673933506012, 0.7447275519371033, 0.2843322455883026, 0.44935908913612366, 0.28985780477523804, 0.7571107149124146, 0.39954906702041626, 0.4511559307575226, 0.39536789059638977, 0.7400525212287903, 0.5077344179153442, 0.27347245812416077, 0.3714391589164734, 0.7418806552886963, 0.5443338751792908, 0.21252626180648804, 0.36654937267303467, 0.707322359085083, 0.5442557334899902, 0.20749294757843018, 0.3632301688194275, 0.6990528106689453, 0.5333367586135864, 0.232721745967865, 0.36065176129341125, 0.6627868413925171, 0.5016094446182251, 0.4807850420475006, 0.4987139105796814, 0.6490309834480286, 0.6487565040588379, 0.5037896037101746, 0.6405144929885864, 0.6864650249481201, 0.7959545254707336, 0.5672019124031067, 0.7721781730651855, 0.7104902863502502, 0.8157044649124146, 0.605040431022644, 0.7935372591018677, 0.5870577692985535, 0.8375438451766968, 0.42783838510513306, 0.80406254529953], [0.5408352017402649, 0.20127975940704346, 0.5607500672340393, 0.1898978352546692, 0.5725464224815369, 0.18984287977218628, 0.5834493637084961, 0.191154345870018, 0.5273631811141968, 0.189048171043396, 0.5172792077064514, 0.18866512179374695, 0.5076866149902344, 0.1884428709745407, 0.5888500809669495, 0.20609426498413086, 0.49535396695137024, 0.20124933123588562, 0.5579802989959717, 0.21941764652729034, 0.5224829912185669, 0.21931593120098114, 0.6176747679710388, 0.2944065034389496, 0.4415965974330902, 0.2959939241409302, 0.7559642791748047, 0.26530107855796814, 0.33920544385910034, 0.3903214633464813, 0.7740246653556824, 0.0612449012696743, 0.27026230096817017, 0.42101091146469116, 0.747736394405365, 0.05363186448812485, 0.23743219673633575, 0.42557209730148315, 0.7391652464866638, 0.036790631711483, 0.23766005039215088, 0.4216427505016327, 0.7296121716499329, 0.051801327615976334, 0.2574242055416107, 0.42331358790397644, 0.48863014578819275, 0.6021628379821777, 0.40107592940330505, 0.592180609703064, 0.5171700119972229, 0.7575049996376038, 0.3541005253791809, 0.7540158629417419, 0.48417434096336365, 0.9298221468925476, 0.290293425321579, 0.9205070734024048, 0.47115349769592285, 0.9552398920059204, 0.2986435890197754, 0.9438782334327698, 0.4992992579936981, 0.997389554977417, 0.21734240651130676, 0.993475079536438], [0.7488551139831543, 0.20960085093975067, 0.7548243403434753, 0.20244456827640533, 0.757257342338562, 0.2037310153245926, 0.759688138961792, 0.20542842149734497, 0.7447108030319214, 0.20059619843959808, 0.7396616339683533, 0.20076332986354828, 0.7339369058609009, 0.20072604715824127, 0.7503264546394348, 0.21825063228607178, 0.7191665172576904, 0.21192555129528046, 0.744848906993866, 0.2268519252538681, 0.732472836971283, 0.22618518769741058, 0.711524486541748, 0.29991209506988525, 0.5812103748321533, 0.2906571924686432, 0.7009400725364685, 0.3733842074871063, 0.42084378004074097, 0.29349008202552795, 0.7323143482208252, 0.45829614996910095, 0.22542144358158112, 0.2682552933692932, 0.7219949960708618, 0.4815373420715332, 0.17889881134033203, 0.254443496465683, 0.6718035340309143, 0.45732036232948303, 0.1857716143131256, 0.25356215238571167, 0.6681230068206787, 0.451951801776886, 0.20771317183971405, 0.2637469470500946, 0.5445391535758972, 0.5206760764122009, 0.5107177495956421, 0.5088241696357727, 0.5844434499740601, 0.7141937017440796, 0.4536208212375641, 0.7145186066627502, 0.5667418241500854, 0.8819989562034607, 0.3971804678440094, 0.8676193952560425, 0.5462062358856201, 0.9045501947402954, 0.41375279426574707, 0.8926687240600586, 0.6044525504112244, 0.944889485836029, 0.3322271704673767, 0.917324423789978], [0.7745088338851929, 0.20170271396636963, 0.7869400382041931, 0.1963510513305664, 0.7936170697212219, 0.19929391145706177, 0.8000894784927368, 0.20218051970005035, 0.763370156288147, 0.19018179178237915, 0.7536950707435608, 0.18879465758800507, 0.7442094683647156, 0.1872204840183258, 0.7907562851905823, 0.21519164741039276, 0.7282947897911072, 0.19110986590385437, 0.7750625014305115, 0.22220906615257263, 0.750130832195282, 0.21421271562576294, 0.7960507273674011, 0.3155737519264221, 0.5190895795822144, 0.23786170780658722, 0.801973283290863, 0.42980629205703735, 0.2846199870109558, 0.2518239915370941, 0.7954439520835876, 0.5328375697135925, 0.20578590035438538, 0.200544536113739, 0.7836065888404846, 0.5660218596458435, 0.1694720983505249, 0.1784665435552597, 0.762581467628479, 0.5615005493164062, 0.1983886957168579, 0.178630068898201, 0.7578840255737305, 0.5486325025558472, 0.21493053436279297, 0.1882769763469696, 0.6409802436828613, 0.5299821496009827, 0.4404771327972412, 0.505142092704773, 0.7140902876853943, 0.7104393243789673, 0.4151500463485718, 0.7041181921958923, 0.744235634803772, 0.8742387294769287, 0.39838361740112305, 0.8618087768554688, 0.7088533043861389, 0.8957610726356506, 0.3970353305339813, 0.8841733932495117, 0.869968056678772, 0.9421156644821167, 0.4076843857765198, 0.9287976622581482], [0.7204606533050537, 0.22377300262451172, 0.7570844292640686, 0.2221413403749466, 0.7690707445144653, 0.22729909420013428, 0.7797315120697021, 0.23203755915164948, 0.7201319336891174, 0.20635968446731567, 0.7081101536750793, 0.20125067234039307, 0.6967044472694397, 0.19855377078056335, 0.779492974281311, 0.24118974804878235, 0.6780393123626709, 0.20274148881435394, 0.7150158882141113, 0.24702335894107819, 0.6819347739219666, 0.22702236473560333, 0.7310832738876343, 0.3236832618713379, 0.4796791672706604, 0.23905181884765625, 0.6312730312347412, 0.42131927609443665, 0.2826835513114929, 0.2550809979438782, 0.5758352875709534, 0.5025402903556824, 0.254190057516098, 0.26902690529823303, 0.5901562571525574, 0.5317566990852356, 0.22821715474128723, 0.2987748086452484, 0.5439338684082031, 0.525182843208313, 0.24889564514160156, 0.2989659309387207, 0.5450010299682617, 0.5094063878059387, 0.26581987738609314, 0.2697763741016388, 0.601402223110199, 0.5335771441459656, 0.3656262755393982, 0.4843716025352478, 0.6275012493133545, 0.7104818820953369, 0.26455509662628174, 0.6620941162109375, 0.6891944408416748, 0.8673204779624939, 0.2625826597213745, 0.8635121583938599, 0.6355382800102234, 0.8831331729888916, 0.2759334146976471, 0.8873845934867859, 0.6330392956733704, 0.9699159264564514, 0.16393300890922546, 0.9708224534988403], [0.7128497362136841, 0.22478324174880981, 0.7490243911743164, 0.22049084305763245, 0.7590816020965576, 0.22601595520973206, 0.7675822973251343, 0.23099501430988312, 0.712914228439331, 0.20245583355426788, 0.6987659931182861, 0.19543512165546417, 0.6854986548423767, 0.19403481483459473, 0.7620459198951721, 0.2392655909061432, 0.6513484716415405, 0.19757525622844696, 0.7060341835021973, 0.24956245720386505, 0.6623497009277344, 0.2278299778699875, 0.7171524167060852, 0.3192794620990753, 0.4436586797237396, 0.2346549928188324, 0.6437877416610718, 0.4375587999820709, 0.2867729663848877, 0.3393203914165497, 0.5617847442626953, 0.5199632048606873, 0.2654975950717926, 0.39503318071365356, 0.5632086992263794, 0.5532984733581543, 0.2475418597459793, 0.41696086525917053, 0.5289974808692932, 0.5384448766708374, 0.25822263956069946, 0.3921862542629242, 0.5298342704772949, 0.5276956558227539, 0.27491238713264465, 0.4059879779815674, 0.5659871697425842, 0.5153815746307373, 0.33612439036369324, 0.4822760224342346, 0.5878082513809204, 0.6847812533378601, 0.2823649048805237, 0.6532270908355713, 0.6082372665405273, 0.8258771896362305, 0.23578186333179474, 0.8384421467781067, 0.5816269516944885, 0.8378567099571228, 0.24228326976299286, 0.8540837168693542, 0.587765634059906, 0.9372352361679077, 0.20290662348270416, 0.930439293384552], [0.5044443607330322, 0.2839595079421997, 0.5182405710220337, 0.26820266246795654, 0.5315393209457397, 0.26695433259010315, 0.5452999472618103, 0.2652099132537842, 0.4837958812713623, 0.2632618546485901, 0.473063588142395, 0.25946855545043945, 0.46272867918014526, 0.2563655972480774, 0.5838686227798462, 0.25024282932281494, 0.46420079469680786, 0.2406519204378128, 0.5292412042617798, 0.28941187262535095, 0.4901760220527649, 0.28351837396621704, 0.7374588251113892, 0.2921937108039856, 0.35723868012428284, 0.23911216855049133, 0.7649975419044495, 0.36248403787612915, 0.24493734538555145, 0.24026410281658173, 0.7732473015785217, 0.45018815994262695, 0.3064333200454712, 0.2937402129173279, 0.7723338007926941, 0.47262558341026306, 0.28141656517982483, 0.32277214527130127, 0.736367404460907, 0.4655499756336212, 0.2921559810638428, 0.3163665533065796, 0.727565348148346, 0.457819402217865, 0.3362170159816742, 0.313906192779541, 0.6084063649177551, 0.48049551248550415, 0.3594174385070801, 0.4603215456008911, 0.6303368806838989, 0.6277878284454346, 0.3003963828086853, 0.6353855729103088, 0.6401917338371277, 0.8094608187675476, 0.2674863636493683, 0.812857985496521, 0.6230651140213013, 0.8283880949020386, 0.28592097759246826, 0.8287275433540344, 0.6497216820716858, 0.903160035610199, 0.22241853177547455, 0.8738751411437988]]}, {'key': 0, 'value': [[0.4217733144760132, 0.20755553245544434, 0.4071676731109619, 0.19662806391716003, 0.39885789155960083, 0.19692829251289368, 0.3901819586753845, 0.19745942950248718, 0.43367844820022583, 0.19530078768730164, 0.4446662962436676, 0.19461709260940552, 0.4564513564109802, 0.19418787956237793, 0.39051178097724915, 0.20548586547374725, 0.48991745710372925, 0.1999155879020691, 0.41305989027023315, 0.21878108382225037, 0.4450032413005829, 0.21768301725387573, 0.29234975576400757, 0.27291929721832275, 0.6881755590438843, 0.25597357749938965, 0.2601490616798401, 0.38662534952163696, 0.8008447885513306, 0.35593318939208984, 0.38893434405326843, 0.43888407945632935, 0.6494867205619812, 0.3981146812438965, 0.42051395773887634, 0.454326868057251, 0.6315712928771973, 0.42995765805244446, 0.45465990900993347, 0.44822919368743896, 0.5948733687400818, 0.41072702407836914, 0.4518806040287018, 0.44124501943588257, 0.5989956259727478, 0.40586015582084656, 0.431002676486969, 0.4843754768371582, 0.6505042314529419, 0.47468289732933044, 0.43242818117141724, 0.6562347412109375, 0.6898694038391113, 0.6500749588012695, 0.42841166257858276, 0.8130439519882202, 0.7068858742713928, 0.8032981157302856, 0.43321171402931213, 0.8354809880256653, 0.6907945871353149, 0.8266076445579529, 0.40545228123664856, 0.8256990909576416, 0.712976336479187, 0.8180626034736633], [0.4780377745628357, 0.2150002419948578, 0.4746643602848053, 0.20249083638191223, 0.46831855177879333, 0.20302987098693848, 0.46163269877433777, 0.20358656346797943, 0.5002755522727966, 0.20140023529529572, 0.5117635130882263, 0.20119959115982056, 0.5239623785018921, 0.20091891288757324, 0.47506433725357056, 0.21072810888290405, 0.5642222166061401, 0.20565694570541382, 0.4767657220363617, 0.2272597998380661, 0.5026140213012695, 0.22663898766040802, 0.44223687052726746, 0.2777860462665558, 0.7261418700218201, 0.2756142318248749, 0.41248661279678345, 0.3975324332714081, 0.7304704785346985, 0.3905588984489441, 0.2975398898124695, 0.46269071102142334, 0.5793919563293457, 0.45209699869155884, 0.25790098309516907, 0.4778415262699127, 0.5411434173583984, 0.4681926667690277, 0.2541840076446533, 0.4716116189956665, 0.5135560631752014, 0.46345603466033936, 0.2725505530834198, 0.4663947522640228, 0.5220382213592529, 0.45772403478622437, 0.48004892468452454, 0.5058532953262329, 0.6939141750335693, 0.5030551552772522, 0.4663037359714508, 0.6693663597106934, 0.6966871619224548, 0.6584131121635437, 0.4890168607234955, 0.8165611028671265, 0.7313904166221619, 0.7917456030845642, 0.5461394786834717, 0.8581928014755249, 0.7347343564033508, 0.820031464099884, 0.3814184367656708, 0.8298658132553101, 0.6446375846862793, 0.8084079623222351], [0.442750483751297, 0.21963174641132355, 0.4476430118083954, 0.20646053552627563, 0.4452928304672241, 0.20690377056598663, 0.4411689341068268, 0.20738203823566437, 0.4612083435058594, 0.20559468865394592, 0.4707352817058563, 0.20552939176559448, 0.47798073291778564, 0.20550480484962463, 0.4747978448867798, 0.2154042273759842, 0.5285065770149231, 0.2124652862548828, 0.46367084980010986, 0.2329026758670807, 0.475829154253006, 0.23203381896018982, 0.5214964151382446, 0.2874542772769928, 0.6549668908119202, 0.2871861159801483, 0.4969075322151184, 0.41517356038093567, 0.6547638177871704, 0.384536474943161, 0.35086673498153687, 0.518523097038269, 0.37786754965782166, 0.4346056580543518, 0.3105336129665375, 0.5477308034896851, 0.31254827976226807, 0.4488869905471802, 0.30204007029533386, 0.5460203886032104, 0.28314825892448425, 0.4475415349006653, 0.3297218382358551, 0.5340468287467957, 0.30237242579460144, 0.4438799321651459, 0.5451027750968933, 0.5207639932632446, 0.6077677607536316, 0.5112245678901672, 0.5885270833969116, 0.6726062893867493, 0.5465535521507263, 0.6483408808708191, 0.6249497532844543, 0.8245357871055603, 0.5021886825561523, 0.7857425808906555, 0.7003083825111389, 0.8533884286880493, 0.5417693257331848, 0.8105104565620422, 0.39522460103034973, 0.8524438142776489, 0.23680777847766876, 0.8114891052246094], [0.4505806863307953, 0.22638066112995148, 0.47032809257507324, 0.2116629034280777, 0.4758978486061096, 0.21187160909175873, 0.4793718159198761, 0.21222861111164093, 0.466806024312973, 0.2104988843202591, 0.47149017453193665, 0.20997172594070435, 0.47370344400405884, 0.2094959318637848, 0.5272377729415894, 0.2198212742805481, 0.5288557410240173, 0.21649931371212006, 0.48098501563072205, 0.2397458851337433, 0.47753697633743286, 0.23859664797782898, 0.5778551697731018, 0.2847645878791809, 0.54445481300354, 0.2858869731426239, 0.5623800754547119, 0.40206271409988403, 0.5179727077484131, 0.3647420406341553, 0.4474446773529053, 0.4801104962825775, 0.29353830218315125, 0.39831799268722534, 0.4205167889595032, 0.5072703957557678, 0.2349751740694046, 0.3633427917957306, 0.4379373788833618, 0.5091084241867065, 0.23591943085193634, 0.36248430609703064, 0.44794660806655884, 0.5008687376976013, 0.2555631995201111, 0.37466275691986084, 0.5510282516479492, 0.5056224465370178, 0.4536866545677185, 0.4969714879989624, 0.5743768215179443, 0.6717073917388916, 0.5222703218460083, 0.656799852848053, 0.6380048394203186, 0.8274587988853455, 0.5071778297424316, 0.7937774658203125, 0.6860415935516357, 0.8565101623535156, 0.49916431307792664, 0.8243204355239868, 0.4969823956489563, 0.8479564189910889, 0.4591192901134491, 0.8222069144248962], [0.4505806863307953, 0.22638066112995148, 0.47032809257507324, 0.2116629034280777, 0.4758978486061096, 0.21187160909175873, 0.4793718159198761, 0.21222861111164093, 0.466806024312973, 0.2104988843202591, 0.47149017453193665, 0.20997172594070435, 0.47370344400405884, 0.2094959318637848, 0.5272377729415894, 0.2198212742805481, 0.5288557410240173, 0.21649931371212006, 0.48098501563072205, 0.2397458851337433, 0.47753697633743286, 0.23859664797782898, 0.5778551697731018, 0.2847645878791809, 0.54445481300354, 0.2858869731426239, 0.5623800754547119, 0.40206271409988403, 0.5179727077484131, 0.3647420406341553, 0.4474446773529053, 0.4801104962825775, 0.29353830218315125, 0.39831799268722534, 0.4205167889595032, 0.5072703957557678, 0.2349751740694046, 0.3633427917957306, 0.4379373788833618, 0.5091084241867065, 0.23591943085193634, 0.36248430609703064, 0.44794660806655884, 0.5008687376976013, 0.2555631995201111, 0.37466275691986084, 0.5510282516479492, 0.5056224465370178, 0.4536866545677185, 0.4969714879989624, 0.5743768215179443, 0.6717073917388916, 0.5222703218460083, 0.656799852848053, 0.6380048394203186, 0.8274587988853455, 0.5071778297424316, 0.7937774658203125, 0.6860415935516357, 0.8565101623535156, 0.49916431307792664, 0.8243204355239868, 0.4969823956489563, 0.8479564189910889, 0.4591192901134491, 0.8222069144248962], [0.6662662029266357, 0.22270679473876953, 0.673661470413208, 0.21286487579345703, 0.67881178855896, 0.21153803169727325, 0.6840973496437073, 0.21117763221263885, 0.6618960499763489, 0.21672219038009644, 0.6591022610664368, 0.2171081155538559, 0.6570580005645752, 0.21781830489635468, 0.6788285970687866, 0.2214357703924179, 0.6409705281257629, 0.21525982022285461, 0.6685190796852112, 0.24294283986091614, 0.6563159227371216, 0.2391597032546997, 0.5790101885795593, 0.287332683801651, 0.6158071160316467, 0.2826995253562927, 0.5789271593093872, 0.392315149307251, 0.7165271043777466, 0.21331582963466644, 0.6520179510116577, 0.39784443378448486, 0.7766308784484863, 0.12017875909805298, 0.6588106751441956, 0.40016040205955505, 0.8052271604537964, 0.08800128102302551, 0.6656164526939392, 0.3905637860298157, 0.7732875347137451, 0.08702828735113144, 0.6633978486061096, 0.3963038921356201, 0.7642697691917419, 0.10211928933858871, 0.5396988391876221, 0.5511775016784668, 0.4686669707298279, 0.5618635416030884, 0.472391813993454, 0.7569621801376343, 0.3232421576976776, 0.7750266790390015, 0.45634815096855164, 0.9936105012893677, 0.2465297281742096, 1.0150038003921509, 0.43196481466293335, 1.0248615741729736, 0.19816559553146362, 1.0499244928359985, 0.5308091044425964, 1.0687007904052734, 0.2725013196468353, 1.1067723035812378], [0.735424816608429, 0.21777242422103882, 0.7514770030975342, 0.2040293961763382, 0.7559497356414795, 0.203641876578331, 0.7604417204856873, 0.2044285088777542, 0.7382473945617676, 0.20673319697380066, 0.7335439920425415, 0.20648643374443054, 0.7280963659286499, 0.20665615797042847, 0.7592117190361023, 0.21932588517665863, 0.710224449634552, 0.2069702297449112, 0.7297270894050598, 0.24050050973892212, 0.7149695158004761, 0.23510397970676422, 0.7474860548973083, 0.3218724727630615, 0.5987257361412048, 0.2668568789958954, 0.752836287021637, 0.4456338584423065, 0.4321771264076233, 0.2606441378593445, 0.6843273043632507, 0.49315619468688965, 0.2614007592201233, 0.1347401887178421, 0.6620507836341858, 0.5203508734703064, 0.2158450484275818, 0.2117176502943039, 0.6575218439102173, 0.5018118023872375, 0.2207161784172058, 0.19012486934661865, 0.6541700959205627, 0.49513480067253113, 0.23775655031204224, 0.17169691622257233, 0.5855292081832886, 0.5273102521896362, 0.4901184141635895, 0.5413150787353516, 0.5467231273651123, 0.715488612651825, 0.340249240398407, 0.7205888032913208, 0.5834332704544067, 0.9129577279090881, 0.2823069989681244, 0.9612917304039001, 0.5876358151435852, 0.9441506862640381, 0.24692556262016296, 0.9714016914367676, 0.6661174297332764, 0.9685920476913452, 0.20787590742111206, 0.9906207323074341], [0.7555840015411377, 0.22318628430366516, 0.7728937864303589, 0.21240204572677612, 0.7762254476547241, 0.21335263550281525, 0.7797935009002686, 0.2147565484046936, 0.7611849308013916, 0.21055573225021362, 0.7562752962112427, 0.20957772433757782, 0.7512906193733215, 0.20877628028392792, 0.7707602381706238, 0.22661422193050385, 0.7340637445449829, 0.21245788037776947, 0.7465232610702515, 0.24380269646644592, 0.7319203615188599, 0.2394549548625946, 0.760465145111084, 0.32502880692481995, 0.5874522924423218, 0.2628253400325775, 0.7260741591453552, 0.45279788970947266, 0.37743714451789856, 0.26444944739341736, 0.6528984904289246, 0.5466498136520386, 0.21518981456756592, 0.2008781135082245, 0.6340718865394592, 0.586086094379425, 0.16251395642757416, 0.189754456281662, 0.6137312054634094, 0.5765737891197205, 0.1760784238576889, 0.1877921223640442, 0.6115778088569641, 0.563463032245636, 0.1955043077468872, 0.19604246318340302, 0.5819255709648132, 0.5230370759963989, 0.5032894015312195, 0.5103203654289246, 0.6146831512451172, 0.7287143468856812, 0.3617863357067108, 0.6931877136230469, 0.6561090350151062, 0.9332196712493896, 0.3422645926475525, 0.936238169670105, 0.663699209690094, 0.9236870408058167, 0.362013041973114, 0.9396556615829468, 0.6911228895187378, 0.9787521958351135, 0.217189222574234, 0.9874321222305298], [0.7555840015411377, 0.22318628430366516, 0.7728937864303589, 0.21240204572677612, 0.7762254476547241, 0.21335263550281525, 0.7797935009002686, 0.2147565484046936, 0.7611849308013916, 0.21055573225021362, 0.7562752962112427, 0.20957772433757782, 0.7512906193733215, 0.20877628028392792, 0.7707602381706238, 0.22661422193050385, 0.7340637445449829, 0.21245788037776947, 0.7465232610702515, 0.24380269646644592, 0.7319203615188599, 0.2394549548625946, 0.760465145111084, 0.32502880692481995, 0.5874522924423218, 0.2628253400325775, 0.7260741591453552, 0.45279788970947266, 0.37743714451789856, 0.26444944739341736, 0.6528984904289246, 0.5466498136520386, 0.21518981456756592, 0.2008781135082245, 0.6340718865394592, 0.586086094379425, 0.16251395642757416, 0.189754456281662, 0.6137312054634094, 0.5765737891197205, 0.1760784238576889, 0.1877921223640442, 0.6115778088569641, 0.563463032245636, 0.1955043077468872, 0.19604246318340302, 0.5819255709648132, 0.5230370759963989, 0.5032894015312195, 0.5103203654289246, 0.6146831512451172, 0.7287143468856812, 0.3617863357067108, 0.6931877136230469, 0.6561090350151062, 0.9332196712493896, 0.3422645926475525, 0.936238169670105, 0.663699209690094, 0.9236870408058167, 0.362013041973114, 0.9396556615829468, 0.6911228895187378, 0.9787521958351135, 0.217189222574234, 0.9874321222305298], [0.49257904291152954, 0.22454038262367249, 0.532458484172821, 0.21388110518455505, 0.5505039691925049, 0.21606284379959106, 0.5691207647323608, 0.2188849300146103, 0.49585413932800293, 0.2105918973684311, 0.48798197507858276, 0.20962226390838623, 0.4801819622516632, 0.20882244408130646, 0.6420260071754456, 0.23803633451461792, 0.5186739563941956, 0.21483160555362701, 0.5262655019760132, 0.24651870131492615, 0.4871424436569214, 0.24070526659488678, 0.7453680038452148, 0.3509819805622101, 0.4466171860694885, 0.26768919825553894, 0.8200504779815674, 0.47544726729393005, 0.4129244089126587, 0.2568570673465729, 0.5934799313545227, 0.5569900274276733, 0.4352529048919678, 0.20696388185024261, 0.5755718350410461, 0.594064474105835, 0.44435086846351624, 0.1930263340473175, 0.546122670173645, 0.5847401022911072, 0.44678816199302673, 0.19180279970169067, 0.5437374114990234, 0.5724089741706848, 0.45187848806381226, 0.20394448935985565, 0.6363634467124939, 0.5453479290008545, 0.4375067949295044, 0.5068063139915466, 0.8117246627807617, 0.7480908632278442, 0.36628931760787964, 0.6831250190734863, 0.8629321455955505, 0.937490701675415, 0.44900867342948914, 0.9010168313980103, 0.8787989020347595, 0.955013632774353, 0.5098638534545898, 0.9316389560699463, 0.9369077682495117, 1.0261554718017578, 0.3512074947357178, 0.9945105314254761], [0.5736379623413086, 0.2327803671360016, 0.6117475032806396, 0.22234757244586945, 0.6269960999488831, 0.22487027943134308, 0.6422856450080872, 0.2277638167142868, 0.5765993595123291, 0.21628393232822418, 0.5668892860412598, 0.21438129246234894, 0.5566674470901489, 0.2125442773103714, 0.6866846084594727, 0.24236898124217987, 0.5661301016807556, 0.21654273569583893, 0.5937536358833313, 0.2536300718784332, 0.5533615946769714, 0.2449491173028946, 0.7161188721656799, 0.3455386757850647, 0.44880205392837524, 0.2640080451965332, 0.7711124420166016, 0.4618375599384308, 0.44656702876091003, 0.22850824892520905, 0.6080818176269531, 0.5528039336204529, 0.5412770509719849, 0.19418865442276, 0.5904527902603149, 0.5877718925476074, 0.5538172721862793, 0.18613001704216003, 0.564236044883728, 0.5838035345077515, 0.5367094278335571, 0.18382416665554047, 0.5641618371009827, 0.5687097907066345, 0.5451210737228394, 0.19152949750423431, 0.6165180206298828, 0.510883092880249, 0.41357100009918213, 0.48595577478408813, 0.7114889621734619, 0.691992998123169, 0.3109982907772064, 0.6468396186828613, 0.8030204772949219, 0.8891798257827759, 0.29136836528778076, 0.853347659111023, 0.8260477781295776, 0.9066563844680786, 0.3283567428588867, 0.8784446120262146, 0.735943078994751, 0.9751580357551575, 0.17387144267559052, 0.9597167372703552], [0.5736379623413086, 0.2327803671360016, 0.6117475032806396, 0.22234757244586945, 0.6269960999488831, 0.22487027943134308, 0.6422856450080872, 0.2277638167142868, 0.5765993595123291, 0.21628393232822418, 0.5668892860412598, 0.21438129246234894, 0.5566674470901489, 0.2125442773103714, 0.6866846084594727, 0.24236898124217987, 0.5661301016807556, 0.21654273569583893, 0.5937536358833313, 0.2536300718784332, 0.5533615946769714, 0.2449491173028946, 0.7161188721656799, 0.3455386757850647, 0.44880205392837524, 0.2640080451965332, 0.7711124420166016, 0.4618375599384308, 0.44656702876091003, 0.22850824892520905, 0.6080818176269531, 0.5528039336204529, 0.5412770509719849, 0.19418865442276, 0.5904527902603149, 0.5877718925476074, 0.5538172721862793, 0.18613001704216003, 0.564236044883728, 0.5838035345077515, 0.5367094278335571, 0.18382416665554047, 0.5641618371009827, 0.5687097907066345, 0.5451210737228394, 0.19152949750423431, 0.6165180206298828, 0.510883092880249, 0.41357100009918213, 0.48595577478408813, 0.7114889621734619, 0.691992998123169, 0.3109982907772064, 0.6468396186828613, 0.8030204772949219, 0.8891798257827759, 0.29136836528778076, 0.853347659111023, 0.8260477781295776, 0.9066563844680786, 0.3283567428588867, 0.8784446120262146, 0.735943078994751, 0.9751580357551575, 0.17387144267559052, 0.9597167372703552], [0.3140736520290375, 0.2749403417110443, 0.32857775688171387, 0.25347015261650085, 0.33978956937789917, 0.2517949342727661, 0.3504924476146698, 0.2500150799751282, 0.31287333369255066, 0.25217142701148987, 0.31368669867515564, 0.24970512092113495, 0.31596022844314575, 0.24697130918502808, 0.4062410295009613, 0.243475079536438, 0.3727821409702301, 0.234701007604599, 0.3722074627876282, 0.28439095616340637, 0.3562518060207367, 0.28127411007881165, 0.5567280650138855, 0.29849082231521606, 0.48750248551368713, 0.2756638526916504, 0.6763357520103455, 0.3895953893661499, 0.45655086636543274, 0.3609366714954376, 0.5324318408966064, 0.5021143555641174, 0.48910802602767944, 0.4073735773563385, 0.5303386449813843, 0.5516409277915955, 0.49142903089523315, 0.4264887571334839, 0.5163108110427856, 0.5286257863044739, 0.47387704253196716, 0.40865370631217957, 0.5178842544555664, 0.5163038372993469, 0.47899243235588074, 0.41940921545028687, 0.5227748155593872, 0.5200527906417847, 0.41935670375823975, 0.5085592269897461, 0.5772881507873535, 0.7481440901756287, 0.3340807259082794, 0.6989940404891968, 0.4802686274051666, 0.971651554107666, 0.3096606433391571, 0.8865693211555481, 0.4985678791999817, 1.0038315057754517, 0.2754708230495453, 0.9369938373565674, 0.42371153831481934, 1.0652480125427246, 0.23958955705165863, 1.0117075443267822]]}, {'key': 0, 'value': [[0.5502061247825623, 0.2069423496723175, 0.537918746471405, 0.19506677985191345, 0.5257196426391602, 0.19438394904136658, 0.5132980346679688, 0.1940576434135437, 0.5673139095306396, 0.19595405459403992, 0.5758131742477417, 0.1959080696105957, 0.5841046571731567, 0.1962205469608307, 0.49522900581359863, 0.19897222518920898, 0.5889771580696106, 0.20194509625434875, 0.5277208089828491, 0.21639519929885864, 0.5582729578018188, 0.21760979294776917, 0.3188481330871582, 0.2646857500076294, 0.6776981353759766, 0.25493937730789185, 0.2222093641757965, 0.3679717183113098, 0.7911271452903748, 0.3495524823665619, 0.3428995609283447, 0.40431880950927734, 0.6755281090736389, 0.3672349452972412, 0.35123857855796814, 0.4337831735610962, 0.6524976491928101, 0.3881281912326813, 0.3962732255458832, 0.41623201966285706, 0.6291211843490601, 0.3830524981021881, 0.38597244024276733, 0.4070976972579956, 0.6272858381271362, 0.37877514958381653, 0.36963388323783875, 0.4687754511833191, 0.5792462229728699, 0.4695170223712921, 0.3360373079776764, 0.6226471662521362, 0.5689910650253296, 0.6395658254623413, 0.30817610025405884, 0.7787883281707764, 0.5393481850624084, 0.8020333051681519, 0.31436413526535034, 0.8071998953819275, 0.5249114036560059, 0.8262197971343994, 0.2401140183210373, 0.7766302824020386, 0.5756226778030396, 0.8088259696960449], [0.5126088857650757, 0.212732195854187, 0.4976939260959625, 0.20215488970279694, 0.4853127896785736, 0.2029377818107605, 0.4729210138320923, 0.2037251591682434, 0.5339187383651733, 0.20083442330360413, 0.5458127856254578, 0.20087900757789612, 0.5574402809143066, 0.20091620087623596, 0.46577176451683044, 0.21260006725788116, 0.5708175301551819, 0.20855022966861725, 0.4954184889793396, 0.22460946440696716, 0.5325417518615723, 0.22368481755256653, 0.3168269395828247, 0.289865642786026, 0.7049758434295654, 0.28325405716896057, 0.2686022222042084, 0.40528276562690735, 0.770712673664093, 0.3933399021625519, 0.2784101963043213, 0.4753100275993347, 0.6600561141967773, 0.4329565167427063, 0.2650286853313446, 0.49763643741607666, 0.6231709718704224, 0.4362604320049286, 0.28392380475997925, 0.49287107586860657, 0.5966264009475708, 0.43096810579299927, 0.2963511347770691, 0.48503997921943665, 0.5977398157119751, 0.42665255069732666, 0.3843889534473419, 0.5005989670753479, 0.6090115904808044, 0.5036290287971497, 0.3210819661617279, 0.6537562012672424, 0.5973435640335083, 0.6572632193565369, 0.31123796105384827, 0.8026851415634155, 0.5959122776985168, 0.8056708574295044, 0.33199721574783325, 0.8318599462509155, 0.6013713479042053, 0.833720862865448, 0.2107999324798584, 0.8114603757858276, 0.5840358734130859, 0.8119746446609497], [0.43284478783607483, 0.2254289984703064, 0.4286927878856659, 0.2123941034078598, 0.4222419261932373, 0.21280597150325775, 0.4152579605579376, 0.21318985521793365, 0.4560365378856659, 0.21151109039783478, 0.46825721859931946, 0.21141378581523895, 0.4802338480949402, 0.21119873225688934, 0.4366380274295807, 0.22125916182994843, 0.5343607664108276, 0.2176191806793213, 0.4360508918762207, 0.23716823756694794, 0.4676854610443115, 0.23683445155620575, 0.3855161964893341, 0.2952571511268616, 0.7503052353858948, 0.2949075996875763, 0.32311370968818665, 0.41554006934165955, 0.7922620177268982, 0.398439884185791, 0.23190335929393768, 0.5139371156692505, 0.6589926481246948, 0.443387895822525, 0.2179592251777649, 0.5402495265007019, 0.6327356100082397, 0.4530443251132965, 0.22265928983688354, 0.5418171286582947, 0.587382972240448, 0.4489135146141052, 0.2388695478439331, 0.5320751667022705, 0.5927393436431885, 0.4461754858493805, 0.4679550230503082, 0.510826826095581, 0.7204006910324097, 0.5104988217353821, 0.46346452832221985, 0.6607856154441833, 0.6412156224250793, 0.6561862230300903, 0.5345189571380615, 0.8069107532501221, 0.6448051333427429, 0.8056069016456604, 0.5753828883171082, 0.8392873406410217, 0.6987978219985962, 0.8269901275634766, 0.3598366379737854, 0.8065353631973267, 0.503124475479126, 0.8056773543357849], [0.5150848031044006, 0.22985850274562836, 0.5073757767677307, 0.21598011255264282, 0.4985398054122925, 0.21536900103092194, 0.48922476172447205, 0.21519021689891815, 0.5382877588272095, 0.2151046246290207, 0.5518162846565247, 0.21497955918312073, 0.5669031739234924, 0.21452589333057404, 0.49792343378067017, 0.22135896980762482, 0.6211944222450256, 0.21972538530826569, 0.5094108581542969, 0.23774664103984833, 0.5428945422172546, 0.2377338409423828, 0.4533427059650421, 0.29535529017448425, 0.7682164907455444, 0.2961437404155731, 0.3900142312049866, 0.41576308012008667, 0.7493107318878174, 0.41453808546066284, 0.27668309211730957, 0.5133008360862732, 0.566650927066803, 0.4781998097896576, 0.2492019236087799, 0.5390042662620544, 0.48797404766082764, 0.512621283531189, 0.24826355278491974, 0.5397809147834778, 0.45227286219596863, 0.5108985304832458, 0.2645294666290283, 0.5304730534553528, 0.4634389579296112, 0.5035375356674194, 0.47444283962249756, 0.5120500326156616, 0.6938692331314087, 0.5116788744926453, 0.43023258447647095, 0.6650661826133728, 0.6571011543273926, 0.66806960105896, 0.5680599212646484, 0.8219622373580933, 0.757775068283081, 0.8045800924301147, 0.6391199827194214, 0.8486993908882141, 0.8044735193252563, 0.829242467880249, 0.2862045466899872, 0.8294164538383484, 0.625039279460907, 0.8153120279312134], [0.6404935717582703, 0.2292032688856125, 0.6770354509353638, 0.2217891961336136, 0.6847456097602844, 0.2235092967748642, 0.6919984817504883, 0.22496993839740753, 0.657058596611023, 0.21828319132328033, 0.6519937515258789, 0.21809126436710358, 0.6475610136985779, 0.21764107048511505, 0.7017765045166016, 0.23499520123004913, 0.6555150747299194, 0.22702646255493164, 0.6362757682800293, 0.24146321415901184, 0.6164125204086304, 0.2389996200799942, 0.6878880262374878, 0.2764850854873657, 0.6247304677963257, 0.2802112400531769, 0.612466037273407, 0.26582297682762146, 0.4485630691051483, 0.23138372600078583, 0.485493004322052, 0.3455794155597687, 0.42330458760261536, 0.20462724566459656, 0.47907334566116333, 0.3552776575088501, 0.3902740776538849, 0.19492307305335999, 0.47494590282440186, 0.35379642248153687, 0.37039563059806824, 0.19734244048595428, 0.5771997570991516, 0.2729966640472412, 0.3971039950847626, 0.20401012897491455, 0.6205555200576782, 0.5000537037849426, 0.517687201499939, 0.49588102102279663, 0.4564966857433319, 0.6660257577896118, 0.3396819829940796, 0.6557517051696777, 0.48774999380111694, 0.8136677145957947, 0.3807472288608551, 0.8076282143592834, 0.5117064714431763, 0.834287703037262, 0.3979462683200836, 0.8275184631347656, 0.5303082466125488, 0.901690661907196, 0.3376210927963257, 0.8900015950202942], [0.6544752717018127, 0.20736292004585266, 0.690815806388855, 0.20315797626972198, 0.6992271542549133, 0.20756877958774567, 0.706886887550354, 0.2121749371290207, 0.6752649545669556, 0.19619710743427277, 0.6723495125770569, 0.19545163214206696, 0.6696313619613647, 0.19475091993808746, 0.7277525663375854, 0.23605124652385712, 0.686688244342804, 0.2150464802980423, 0.6522163152694702, 0.22909310460090637, 0.6351146697998047, 0.2227960228919983, 0.7058556079864502, 0.305738627910614, 0.6317817568778992, 0.2897546887397766, 0.7035598754882812, 0.4348176121711731, 0.4924035966396332, 0.2730552852153778, 0.5121108293533325, 0.5067740082740784, 0.36666634678840637, 0.25535887479782104, 0.48324257135391235, 0.5307413935661316, 0.32098934054374695, 0.24649377167224884, 0.4659006595611572, 0.5213550925254822, 0.3211144506931305, 0.23450517654418945, 0.5092484951019287, 0.5077759027481079, 0.33766525983810425, 0.2266162633895874, 0.5647841691970825, 0.5416051745414734, 0.5310155153274536, 0.5300344824790955, 0.44427627325057983, 0.7004959583282471, 0.38496801257133484, 0.6760212779045105, 0.5398852825164795, 0.8582912087440491, 0.36846598982810974, 0.8178300261497498, 0.5826525688171387, 0.887681782245636, 0.40188708901405334, 0.8432676792144775, 0.4662076234817505, 0.9237157702445984, 0.25613510608673096, 0.8595091700553894], [0.6941606402397156, 0.1740189492702484, 0.7281068563461304, 0.17981722950935364, 0.7349658012390137, 0.1850401759147644, 0.7419295907020569, 0.19042091071605682, 0.7140416502952576, 0.17243240773677826, 0.7106456160545349, 0.1722947210073471, 0.707374632358551, 0.17238090932369232, 0.7474315762519836, 0.2173621952533722, 0.7038260698318481, 0.19356973469257355, 0.684082567691803, 0.1948658525943756, 0.6642934679985046, 0.1873953491449356, 0.7060838937759399, 0.3123457431793213, 0.5521618723869324, 0.2592066824436188, 0.6720440983772278, 0.437491238117218, 0.3932112753391266, 0.27146345376968384, 0.517119288444519, 0.5325848460197449, 0.2371988147497177, 0.2492063343524933, 0.4964450001716614, 0.5665416121482849, 0.20280025899410248, 0.2412455528974533, 0.46733129024505615, 0.5565457940101624, 0.20672006905078888, 0.23675601184368134, 0.48100554943084717, 0.5445165038108826, 0.2175533026456833, 0.2395440638065338, 0.5159900188446045, 0.5529158711433411, 0.41757234930992126, 0.5430199503898621, 0.4920791685581207, 0.6904299855232239, 0.3667813241481781, 0.650442361831665, 0.5798551440238953, 0.8547415137290955, 0.3745061755180359, 0.8033212423324585, 0.6203821897506714, 0.8793975710868835, 0.4373320937156677, 0.8332887887954712, 0.5159339904785156, 0.939619779586792, 0.28323328495025635, 0.8478732109069824], [0.19775092601776123, 0.19906330108642578, 0.21912775933742523, 0.20312102138996124, 0.23071518540382385, 0.20579546689987183, 0.2426874190568924, 0.20837461948394775, 0.2088073492050171, 0.19847601652145386, 0.21272459626197815, 0.1982359141111374, 0.2170073390007019, 0.19819068908691406, 0.3233405351638794, 0.2250349223613739, 0.2831786572933197, 0.21398207545280457, 0.2557196021080017, 0.2141767144203186, 0.24218234419822693, 0.2105104625225067, 0.5839431285858154, 0.31535494327545166, 0.36771395802497864, 0.2707337737083435, 0.7894627451896667, 0.4474639594554901, 0.4595257341861725, 0.31054773926734924, 0.6482714414596558, 0.5355038046836853, 0.3758167028427124, 0.36860814690589905, 0.6320632696151733, 0.5707852840423584, 0.35553792119026184, 0.38076671957969666, 0.5670173168182373, 0.5619878768920898, 0.3462091088294983, 0.3800983130931854, 0.5640888214111328, 0.5487684011459351, 0.35895341634750366, 0.37968531250953674, 0.6001462936401367, 0.5588006377220154, 0.44962960481643677, 0.5175871849060059, 0.706146776676178, 0.6755450963973999, 0.41438376903533936, 0.6263476014137268, 0.8171377778053284, 0.840453028678894, 0.4670877456665039, 0.781144917011261, 0.8620527982711792, 0.8714128732681274, 0.556190550327301, 0.8179370164871216, 0.5992646217346191, 0.874908983707428, 0.28033286333084106, 0.8153473734855652], [0.20253555476665497, 0.2106950730085373, 0.2456214874982834, 0.19902516901493073, 0.2596052587032318, 0.20210200548171997, 0.2735837697982788, 0.20493897795677185, 0.2339356243610382, 0.19315560162067413, 0.23975393176078796, 0.19271300733089447, 0.24629612267017365, 0.19260984659194946, 0.3498362600803375, 0.22110699117183685, 0.3136475682258606, 0.21069639921188354, 0.2509658932685852, 0.23468352854251862, 0.23595958948135376, 0.23219850659370422, 0.531061053276062, 0.3043745458126068, 0.3952447474002838, 0.2829503118991852, 0.7185115218162537, 0.4217734634876251, 0.4689848721027374, 0.3631729781627655, 0.60224848985672, 0.5361048579216003, 0.42638906836509705, 0.440755158662796, 0.5999772548675537, 0.5644428730010986, 0.39380720257759094, 0.4522131085395813, 0.5426047444343567, 0.5605205297470093, 0.378134548664093, 0.4541018009185791, 0.5409892797470093, 0.5441177487373352, 0.3894908130168915, 0.4504534602165222, 0.5749059319496155, 0.5433045625686646, 0.46612825989723206, 0.508528470993042, 0.6418112516403198, 0.6737959980964661, 0.43977993726730347, 0.6475437879562378, 0.741258978843689, 0.8216872215270996, 0.4611826539039612, 0.7807171940803528, 0.8104429841041565, 0.8504854440689087, 0.5409640669822693, 0.8101575970649719, 0.61520916223526, 0.8793818950653076, 0.26009178161621094, 0.8163802027702332], [0.20253555476665497, 0.2106950730085373, 0.2456214874982834, 0.19902516901493073, 0.2596052587032318, 0.20210200548171997, 0.2735837697982788, 0.20493897795677185, 0.2339356243610382, 0.19315560162067413, 0.23975393176078796, 0.19271300733089447, 0.24629612267017365, 0.19260984659194946, 0.3498362600803375, 0.22110699117183685, 0.3136475682258606, 0.21069639921188354, 0.2509658932685852, 0.23468352854251862, 0.23595958948135376, 0.23219850659370422, 0.531061053276062, 0.3043745458126068, 0.3952447474002838, 0.2829503118991852, 0.7185115218162537, 0.4217734634876251, 0.4689848721027374, 0.3631729781627655, 0.60224848985672, 0.5361048579216003, 0.42638906836509705, 0.440755158662796, 0.5999772548675537, 0.5644428730010986, 0.39380720257759094, 0.4522131085395813, 0.5426047444343567, 0.5605205297470093, 0.378134548664093, 0.4541018009185791, 0.5409892797470093, 0.5441177487373352, 0.3894908130168915, 0.4504534602165222, 0.5749059319496155, 0.5433045625686646, 0.46612825989723206, 0.508528470993042, 0.6418112516403198, 0.6737959980964661, 0.43977993726730347, 0.6475437879562378, 0.741258978843689, 0.8216872215270996, 0.4611826539039612, 0.7807171940803528, 0.8104429841041565, 0.8504854440689087, 0.5409640669822693, 0.8101575970649719, 0.61520916223526, 0.8793818950653076, 0.26009178161621094, 0.8163802027702332], [0.2639232873916626, 0.2228052318096161, 0.30786916613578796, 0.23422393202781677, 0.31057921051979065, 0.23163333535194397, 0.3164769113063812, 0.22815078496932983, 0.30789342522621155, 0.2321518510580063, 0.3109000027179718, 0.2294483482837677, 0.31314465403556824, 0.2257075309753418, 0.35747888684272766, 0.2224053293466568, 0.3507213592529297, 0.2233498990535736, 0.3130033314228058, 0.24134522676467896, 0.30435287952423096, 0.2407924383878708, 0.4594283103942871, 0.2425619214773178, 0.4502999484539032, 0.24439755082130432, 0.5706241726875305, 0.3507510721683502, 0.44537779688835144, 0.37484264373779297, 0.5021151900291443, 0.4428739845752716, 0.3734928071498871, 0.39103400707244873, 0.4890744984149933, 0.474252849817276, 0.3532519042491913, 0.40395307540893555, 0.4552018642425537, 0.4554283618927002, 0.3396100103855133, 0.3963262736797333, 0.43949681520462036, 0.45088496804237366, 0.3502272963523865, 0.39259564876556396, 0.6044066548347473, 0.4984677731990814, 0.5091105699539185, 0.5048338770866394, 0.6733075380325317, 0.7335695028305054, 0.5627244710922241, 0.7010465264320374, 0.6815812587738037, 0.9586613178253174, 0.5781831741333008, 0.9199829697608948, 0.7033881545066833, 0.9885178804397583, 0.6154517531394958, 0.9492568373680115, 0.6849215626716614, 1.0595722198486328, 0.5111218094825745, 1.0257248878479004]]}, {'key': 0, 'value': [[0.6022697687149048, 0.26716092228889465, 0.6389889717102051, 0.24897459149360657, 0.6544296741485596, 0.2533281147480011, 0.6687761545181274, 0.2577022612094879, 0.6050894260406494, 0.2374323010444641, 0.5974221229553223, 0.23391592502593994, 0.5910048484802246, 0.23111307621002197, 0.7026596665382385, 0.2708248198032379, 0.6060364246368408, 0.24012672901153564, 0.6253264546394348, 0.29766151309013367, 0.5830228924751282, 0.2844153344631195, 0.7897655367851257, 0.40657612681388855, 0.5053067207336426, 0.34669700264930725, 0.7670639753341675, 0.6005807518959045, 0.39909034967422485, 0.5281630754470825, 0.783894419670105, 0.7625619173049927, 0.34518834948539734, 0.6614013314247131, 0.8123809695243835, 0.8098675608634949, 0.33065009117126465, 0.7119305729866028, 0.7850660681724548, 0.8090763092041016, 0.368991494178772, 0.7051295638084412, 0.7643340826034546, 0.7957125902175903, 0.38840290904045105, 0.7002965807914734, 0.6408871412277222, 0.6710638403892517, 0.4941882789134979, 0.6208802461624146, 0.48621904850006104, 0.7092064023017883, 0.27100658416748047, 0.6032362580299377, 0.40009087324142456, 0.7922863364219666, 0.3373841643333435, 0.7944153547286987, 0.40725943446159363, 0.8154048919677734, 0.3752751350402832, 0.8215448260307312, 0.31036120653152466, 0.8069853782653809, 0.25583454966545105, 0.8629742860794067], [0.7340000867843628, 0.2558080554008484, 0.7602131366729736, 0.23678450286388397, 0.7716146111488342, 0.23976849019527435, 0.7823083996772766, 0.24279239773750305, 0.7313738465309143, 0.22931768000125885, 0.7235422134399414, 0.22720865905284882, 0.7167705297470093, 0.22541891038417816, 0.8011460304260254, 0.2534703314304352, 0.723161518573761, 0.23079226911067963, 0.7481024861335754, 0.28392520546913147, 0.7150993943214417, 0.27429333329200745, 0.8311724066734314, 0.3788941204547882, 0.6238899827003479, 0.323588103055954, 0.7448336482048035, 0.5560156106948853, 0.5011512637138367, 0.47895196080207825, 0.6234554052352905, 0.684312641620636, 0.45875290036201477, 0.5428829789161682, 0.6115278601646423, 0.7339928150177002, 0.44593459367752075, 0.6110708117485046, 0.5896044969558716, 0.7197788953781128, 0.46809694170951843, 0.5985062718391418, 0.5857007503509521, 0.6996885538101196, 0.48301464319229126, 0.591821551322937, 0.6572049260139465, 0.6220841407775879, 0.5474919080734253, 0.5775218605995178, 0.7222135663032532, 0.7235844135284424, 0.4082973301410675, 0.7006912231445312, 0.4454360008239746, 0.7740647792816162, 0.2923547923564911, 0.7613247036933899, 0.40301817655563354, 0.7681748867034912, 0.2873017489910126, 0.7732920050621033, 0.38704976439476013, 0.8427819609642029, 0.23340226709842682, 0.8102508783340454], [0.3031215965747833, 0.24148552119731903, 0.3018460273742676, 0.2177988737821579, 0.3135162889957428, 0.21818560361862183, 0.3267541229724884, 0.2187320441007614, 0.27460694313049316, 0.21247999370098114, 0.2668684422969818, 0.20949053764343262, 0.2593822181224823, 0.20647664368152618, 0.37080755829811096, 0.2215668261051178, 0.2855111062526703, 0.20372071862220764, 0.3516960144042969, 0.2603701055049896, 0.319345623254776, 0.2559013366699219, 0.6086665391921997, 0.3335270583629608, 0.33407944440841675, 0.24301493167877197, 0.7081658244132996, 0.4848865866661072, 0.28772255778312683, 0.331157386302948, 0.7137905955314636, 0.595416247844696, 0.3235926926136017, 0.36293160915374756, 0.7137574553489685, 0.637602686882019, 0.33996355533599854, 0.39536160230636597, 0.6993296146392822, 0.6284013390541077, 0.33968859910964966, 0.3750087022781372, 0.6891157627105713, 0.6076160073280334, 0.3420310318470001, 0.3709414005279541, 0.5007824897766113, 0.5777809619903564, 0.35116249322891235, 0.5083214640617371, 0.5800532698631287, 0.6776977181434631, 0.43133455514907837, 0.5997104644775391, 0.5449628829956055, 0.7621996402740479, 0.36809736490249634, 0.672087550163269, 0.5385147929191589, 0.7718642950057983, 0.37485092878341675, 0.6869369745254517, 0.4569237232208252, 0.8227752447128296, 0.2836616039276123, 0.7284848093986511], [0.33580881357192993, 0.31824058294296265, 0.33384785056114197, 0.2929292321205139, 0.3474447429180145, 0.2886722683906555, 0.36129534244537354, 0.2839584946632385, 0.3026125729084015, 0.29699015617370605, 0.29420995712280273, 0.2963428497314453, 0.28581303358078003, 0.29535558819770813, 0.38719043135643005, 0.2690170407295227, 0.2845143675804138, 0.27877697348594666, 0.38179054856300354, 0.3246742784976959, 0.3468032777309418, 0.33087578415870667, 0.6680188775062561, 0.35578787326812744, 0.3654249906539917, 0.2911553382873535, 0.7107635140419006, 0.525570273399353, 0.2654706835746765, 0.37399351596832275, 0.5714154839515686, 0.4649556279182434, 0.30016663670539856, 0.35208719968795776, 0.5414997339248657, 0.45205581188201904, 0.32511046528816223, 0.334743857383728, 0.5564129948616028, 0.424570232629776, 0.31260207295417786, 0.3176191747188568, 0.5619372725486755, 0.42686039209365845, 0.3143641948699951, 0.32887640595436096, 0.5439049601554871, 0.580663800239563, 0.39846619963645935, 0.5326108932495117, 0.5296717882156372, 0.6881924271583557, 0.4139954447746277, 0.6282083988189697, 0.5392636060714722, 0.755437970161438, 0.41090887784957886, 0.6951352953910828, 0.5510100722312927, 0.7677363753318787, 0.43260419368743896, 0.7081508040428162, 0.43903782963752747, 0.8217442035675049, 0.3098466992378235, 0.7454401254653931], [0.23548167943954468, 0.2725776433944702, 0.2418845146894455, 0.2510719895362854, 0.24981796741485596, 0.24930407106876373, 0.2588467001914978, 0.2474897801876068, 0.2301587164402008, 0.2526974678039551, 0.22911906242370605, 0.2522432804107666, 0.22807428240776062, 0.25160208344459534, 0.31881555914878845, 0.2423124760389328, 0.273421972990036, 0.2469235509634018, 0.2761038839817047, 0.2881176769733429, 0.2588742971420288, 0.2893061637878418, 0.5372143387794495, 0.3257772624492645, 0.3393796980381012, 0.3098505735397339, 0.7006199955940247, 0.4198255240917206, 0.27387961745262146, 0.4169256091117859, 0.7427699565887451, 0.42255833745002747, 0.2411571890115738, 0.5022281408309937, 0.7705222368240356, 0.425671249628067, 0.21934254467487335, 0.5264780521392822, 0.7456518411636353, 0.4018958508968353, 0.2295520305633545, 0.5244327783584595, 0.7192105650901794, 0.41548457741737366, 0.24353301525115967, 0.5151447057723999, 0.4820343255996704, 0.5963879823684692, 0.34066545963287354, 0.5767413377761841, 0.4455006718635559, 0.7337534427642822, 0.4513711631298065, 0.7105311751365662, 0.6140298843383789, 0.8229658007621765, 0.5532255172729492, 0.7990307211875916, 0.6709176301956177, 0.8318440914154053, 0.5972535014152527, 0.8093442916870117, 0.5695902705192566, 0.8779159188270569, 0.46823325753211975, 0.8509699702262878], [0.26914966106414795, 0.37847405672073364, 0.2724452018737793, 0.34840285778045654, 0.2774881422519684, 0.3436015546321869, 0.28265252709388733, 0.3384157121181488, 0.25976258516311646, 0.3451826870441437, 0.25913846492767334, 0.33983680605888367, 0.25854697823524475, 0.33400413393974304, 0.3098049461841583, 0.308672159910202, 0.2809438407421112, 0.30696961283683777, 0.2962304949760437, 0.38092708587646484, 0.2799994647502899, 0.3779500424861908, 0.5041665434837341, 0.40213072299957275, 0.38645848631858826, 0.34564802050590515, 0.5488593578338623, 0.5540761351585388, 0.3853621780872345, 0.48721641302108765, 0.49360135197639465, 0.6016380786895752, 0.35039010643959045, 0.5882344841957092, 0.5018039345741272, 0.6314869523048401, 0.34531575441360474, 0.6398807168006897, 0.48663756251335144, 0.6107521653175354, 0.349237859249115, 0.692052960395813, 0.4780503213405609, 0.6057553291320801, 0.35430559515953064, 0.6104955673217773, 0.5274717807769775, 0.7236340045928955, 0.42993706464767456, 0.6145845651626587, 0.5296447277069092, 0.7760775685310364, 0.4546389877796173, 0.7170112133026123, 0.672222375869751, 0.8190307021141052, 0.5482704043388367, 0.7918739914894104, 0.7134289741516113, 0.8288303017616272, 0.5854300260543823, 0.8154628872871399, 0.67679363489151, 0.8723368048667908, 0.5222404599189758, 0.8646844029426575], [0.26914966106414795, 0.37847405672073364, 0.2724452018737793, 0.34840285778045654, 0.2774881422519684, 0.3436015546321869, 0.28265252709388733, 0.3384157121181488, 0.25976258516311646, 0.3451826870441437, 0.25913846492767334, 0.33983680605888367, 0.25854697823524475, 0.33400413393974304, 0.3098049461841583, 0.308672159910202, 0.2809438407421112, 0.30696961283683777, 0.2962304949760437, 0.38092708587646484, 0.2799994647502899, 0.3779500424861908, 0.5041665434837341, 0.40213072299957275, 0.38645848631858826, 0.34564802050590515, 0.5488593578338623, 0.5540761351585388, 0.3853621780872345, 0.48721641302108765, 0.49360135197639465, 0.6016380786895752, 0.35039010643959045, 0.5882344841957092, 0.5018039345741272, 0.6314869523048401, 0.34531575441360474, 0.6398807168006897, 0.48663756251335144, 0.6107521653175354, 0.349237859249115, 0.692052960395813, 0.4780503213405609, 0.6057553291320801, 0.35430559515953064, 0.6104955673217773, 0.5274717807769775, 0.7236340045928955, 0.42993706464767456, 0.6145845651626587, 0.5296447277069092, 0.7760775685310364, 0.4546389877796173, 0.7170112133026123, 0.672222375869751, 0.8190307021141052, 0.5482704043388367, 0.7918739914894104, 0.7134289741516113, 0.8288303017616272, 0.5854300260543823, 0.8154628872871399, 0.67679363489151, 0.8723368048667908, 0.5222404599189758, 0.8646844029426575], [0.28719568252563477, 0.23053424060344696, 0.3159158527851105, 0.21021443605422974, 0.327947735786438, 0.21869243681430817, 0.35392463207244873, 0.23938815295696259, 0.27931153774261475, 0.2025090754032135, 0.27423474192619324, 0.2012069821357727, 0.2335960566997528, 0.2024412751197815, 0.3967346251010895, 0.20372219383716583, 0.28691062331199646, 0.19656895101070404, 0.3648698329925537, 0.24049507081508636, 0.3182199001312256, 0.2453455775976181, 0.712812602519989, 0.2870773375034332, 0.3645918369293213, 0.24950090050697327, 0.7464888095855713, 0.4491319954395294, 0.4288491904735565, 0.42941340804100037, 0.7087283730506897, 0.5358105897903442, 0.4026704728603363, 0.5927116274833679, 0.7073379755020142, 0.5695164203643799, 0.394489586353302, 0.6478735208511353, 0.6946271657943726, 0.5447700023651123, 0.41200485825538635, 0.6414108276367188, 0.6722886562347412, 0.5345481634140015, 0.4357786476612091, 0.6190995573997498, 0.6857016682624817, 0.5895690321922302, 0.4832170903682709, 0.5774729251861572, 0.6767414808273315, 0.8257001042366028, 0.38655534386634827, 0.8300662636756897, 0.5713765025138855, 1.0813415050506592, 0.4118311405181885, 1.0964916944503784, 0.5524514317512512, 1.108008623123169, 0.44792473316192627, 1.1331171989440918, 0.586982786655426, 1.2431572675704956, 0.34838271141052246, 1.239945888519287], [0.28719568252563477, 0.23053424060344696, 0.3159158527851105, 0.21021443605422974, 0.327947735786438, 0.21869243681430817, 0.35392463207244873, 0.23938815295696259, 0.27931153774261475, 0.2025090754032135, 0.27423474192619324, 0.2012069821357727, 0.2335960566997528, 0.2024412751197815, 0.3967346251010895, 0.20372219383716583, 0.28691062331199646, 0.19656895101070404, 0.3648698329925537, 0.24049507081508636, 0.3182199001312256, 0.2453455775976181, 0.712812602519989, 0.2870773375034332, 0.3645918369293213, 0.24950090050697327, 0.7464888095855713, 0.4491319954395294, 0.4288491904735565, 0.42941340804100037, 0.7087283730506897, 0.5358105897903442, 0.4026704728603363, 0.5927116274833679, 0.7073379755020142, 0.5695164203643799, 0.394489586353302, 0.6478735208511353, 0.6946271657943726, 0.5447700023651123, 0.41200485825538635, 0.6414108276367188, 0.6722886562347412, 0.5345481634140015, 0.4357786476612091, 0.6190995573997498, 0.6857016682624817, 0.5895690321922302, 0.4832170903682709, 0.5774729251861572, 0.6767414808273315, 0.8257001042366028, 0.38655534386634827, 0.8300662636756897, 0.5713765025138855, 1.0813415050506592, 0.4118311405181885, 1.0964916944503784, 0.5524514317512512, 1.108008623123169, 0.44792473316192627, 1.1331171989440918, 0.586982786655426, 1.2431572675704956, 0.34838271141052246, 1.239945888519287], [0.23533999919891357, 0.2310376763343811, 0.24482394754886627, 0.20865577459335327, 0.2553117871284485, 0.2076428234577179, 0.2666485607624054, 0.20897239446640015, 0.232417494058609, 0.21053600311279297, 0.2357300966978073, 0.20996126532554626, 0.2344929277896881, 0.2090483009815216, 0.31314367055892944, 0.20074781775474548, 0.2801005244255066, 0.20712707936763763, 0.29799145460128784, 0.23807880282402039, 0.28228485584259033, 0.24475666880607605, 0.547109842300415, 0.2668766677379608, 0.44924265146255493, 0.2708972692489624, 0.6162961721420288, 0.4646427631378174, 0.6072590351104736, 0.4586597681045532, 0.6093546152114868, 0.6109183430671692, 0.5695040822029114, 0.5711275339126587, 0.6384449005126953, 0.6541649103164673, 0.5708214640617371, 0.6058709025382996, 0.6130186915397644, 0.6457103490829468, 0.5390511155128479, 0.5989788174629211, 0.5974185466766357, 0.6299566626548767, 0.54937344789505, 0.5855475664138794, 0.6289664506912231, 0.6466457843780518, 0.49308258295059204, 0.649254322052002, 0.6099624037742615, 0.9218518137931824, 0.3557698130607605, 0.9112176299095154, 0.5285959243774414, 1.186282992362976, 0.33316829800605774, 1.1600030660629272, 0.5379055738449097, 1.229182243347168, 0.3671431839466095, 1.2052682638168335, 0.4864993393421173, 1.2763357162475586, 0.3181336522102356, 1.238881230354309], [0.23533999919891357, 0.2310376763343811, 0.24482394754886627, 0.20865577459335327, 0.2553117871284485, 0.2076428234577179, 0.2666485607624054, 0.20897239446640015, 0.232417494058609, 0.21053600311279297, 0.2357300966978073, 0.20996126532554626, 0.2344929277896881, 0.2090483009815216, 0.31314367055892944, 0.20074781775474548, 0.2801005244255066, 0.20712707936763763, 0.29799145460128784, 0.23807880282402039, 0.28228485584259033, 0.24475666880607605, 0.547109842300415, 0.2668766677379608, 0.44924265146255493, 0.2708972692489624, 0.6162961721420288, 0.4646427631378174, 0.6072590351104736, 0.4586597681045532, 0.6093546152114868, 0.6109183430671692, 0.5695040822029114, 0.5711275339126587, 0.6384449005126953, 0.6541649103164673, 0.5708214640617371, 0.6058709025382996, 0.6130186915397644, 0.6457103490829468, 0.5390511155128479, 0.5989788174629211, 0.5974185466766357, 0.6299566626548767, 0.54937344789505, 0.5855475664138794, 0.6289664506912231, 0.6466457843780518, 0.49308258295059204, 0.649254322052002, 0.6099624037742615, 0.9218518137931824, 0.3557698130607605, 0.9112176299095154, 0.5285959243774414, 1.186282992362976, 0.33316829800605774, 1.1600030660629272, 0.5379055738449097, 1.229182243347168, 0.3671431839466095, 1.2052682638168335, 0.4864993393421173, 1.2763357162475586, 0.3181336522102356, 1.238881230354309], [0.12013101577758789, 0.21288061141967773, 0.1494559347629547, 0.19276896119117737, 0.16255393624305725, 0.18798761069774628, 0.17598725855350494, 0.18751859664916992, 0.14007146656513214, 0.19800813496112823, 0.14725391566753387, 0.19628629088401794, 0.15536370873451233, 0.1912425309419632, 0.27751514315605164, 0.17281293869018555, 0.2548675537109375, 0.18371149897575378, 0.17714306712150574, 0.21840178966522217, 0.1646476686000824, 0.22099922597408295, 0.5003149509429932, 0.2562772035598755, 0.5309597253799438, 0.24508772790431976, 0.5606749653816223, 0.49481886625289917, 0.7809524536132812, 0.40904346108436584, 0.5640645027160645, 0.6909982562065125, 0.6611043810844421, 0.5182905197143555, 0.610685408115387, 0.746434211730957, 0.6229228377342224, 0.5580925941467285, 0.5664016008377075, 0.7453705072402954, 0.5333245992660522, 0.5517081618309021, 0.5422762632369995, 0.7232151627540588, 0.5743870139122009, 0.5455418229103088, 0.6409485340118408, 0.6725024580955505, 0.5581231713294983, 0.6488550901412964, 0.5422893762588501, 0.945429801940918, 0.2990202009677887, 0.9165504574775696, 0.41058406233787537, 1.2146307229995728, 0.3183853328227997, 1.1686995029449463, 0.46930715441703796, 1.2550886869430542, 0.3922814726829529, 1.2142266035079956, 0.1973629593849182, 1.3017549514770508, 0.10925732553005219, 1.2396119832992554], [0.12013101577758789, 0.21288061141967773, 0.1494559347629547, 0.19276896119117737, 0.16255393624305725, 0.18798761069774628, 0.17598725855350494, 0.18751859664916992, 0.14007146656513214, 0.19800813496112823, 0.14725391566753387, 0.19628629088401794, 0.15536370873451233, 0.1912425309419632, 0.27751514315605164, 0.17281293869018555, 0.2548675537109375, 0.18371149897575378, 0.17714306712150574, 0.21840178966522217, 0.1646476686000824, 0.22099922597408295, 0.5003149509429932, 0.2562772035598755, 0.5309597253799438, 0.24508772790431976, 0.5606749653816223, 0.49481886625289917, 0.7809524536132812, 0.40904346108436584, 0.5640645027160645, 0.6909982562065125, 0.6611043810844421, 0.5182905197143555, 0.610685408115387, 0.746434211730957, 0.6229228377342224, 0.5580925941467285, 0.5664016008377075, 0.7453705072402954, 0.5333245992660522, 0.5517081618309021, 0.5422762632369995, 0.7232151627540588, 0.5743870139122009, 0.5455418229103088, 0.6409485340118408, 0.6725024580955505, 0.5581231713294983, 0.6488550901412964, 0.5422893762588501, 0.945429801940918, 0.2990202009677887, 0.9165504574775696, 0.41058406233787537, 1.2146307229995728, 0.3183853328227997, 1.1686995029449463, 0.46930715441703796, 1.2550886869430542, 0.3922814726829529, 1.2142266035079956, 0.1973629593849182, 1.3017549514770508, 0.10925732553005219, 1.2396119832992554], [0.2282886803150177, 0.14461131393909454, 0.2816351354122162, 0.12326090782880783, 0.29488423466682434, 0.121877521276474, 0.3066813349723816, 0.12233185023069382, 0.2850141227245331, 0.12213346362113953, 0.29991477727890015, 0.11999045312404633, 0.314371258020401, 0.11701808869838715, 0.39433571696281433, 0.12038607895374298, 0.4081394076347351, 0.11826042085886002, 0.28470566868782043, 0.15760958194732666, 0.28171491622924805, 0.15674090385437012, 0.3500276803970337, 0.23665006458759308, 0.6277438402175903, 0.23898419737815857, 0.38537922501564026, 0.4382452666759491, 0.8800259232521057, 0.38478556275367737, 0.49274322390556335, 0.4548657536506653, 0.7434525489807129, 0.46091026067733765, 0.5139520764350891, 0.46165385842323303, 0.6724809408187866, 0.46012747287750244, 0.5248011350631714, 0.43846413493156433, 0.558309018611908, 0.44495683908462524, 0.5275473594665527, 0.4380430281162262, 0.5811126232147217, 0.4448474943637848, 0.4718155860900879, 0.6304605007171631, 0.6941759586334229, 0.6245974898338318, 0.5744021534919739, 0.8426851034164429, 0.4359019100666046, 0.8338031768798828, 0.5292676687240601, 0.9823326468467712, 0.4900502562522888, 0.9950566291809082, 0.5825300812721252, 1.0046348571777344, 0.5230937600135803, 1.0208319425582886, 0.34315624833106995, 1.0200293064117432, 0.45369383692741394, 1.0366040468215942]]}, {'key': 0, 'value': [[0.5069705843925476, 0.2782725989818573, 0.507606029510498, 0.25123298168182373, 0.5138003826141357, 0.24999958276748657, 0.5189043879508972, 0.24912112951278687, 0.47810885310173035, 0.25468289852142334, 0.464136004447937, 0.2555466294288635, 0.4492376446723938, 0.2565629482269287, 0.499531626701355, 0.258502721786499, 0.40525975823402405, 0.26733192801475525, 0.5129686594009399, 0.30226776003837585, 0.4802444279193878, 0.3077488839626312, 0.5470385551452637, 0.36151716113090515, 0.29424288868904114, 0.40000757575035095, 0.6207849383354187, 0.5256267786026001, 0.266746461391449, 0.5957883596420288, 0.736836314201355, 0.6449417471885681, 0.22216089069843292, 0.7786350846290588, 0.7839961051940918, 0.6715896725654602, 0.18600806593894958, 0.8142798542976379, 0.7690824866294861, 0.6762149930000305, 0.21631720662117004, 0.8177416920661926, 0.7455505132675171, 0.6709930896759033, 0.23611396551132202, 0.8087713122367859, 0.5248607993125916, 0.6209329962730408, 0.3859194815158844, 0.6713926196098328, 0.7991673350334167, 0.5760080814361572, 0.35913586616516113, 0.7142162919044495, 0.5467948913574219, 0.7147610783576965, 0.6430702209472656, 0.7371236681938171, 0.4995355010032654, 0.7188337445259094, 0.6455006003379822, 0.7306995987892151, 0.518494725227356, 0.7718028426170349, 0.8155876398086548, 0.7390096783638], [0.3556215465068817, 0.2523791193962097, 0.35760894417762756, 0.22723546624183655, 0.3656602203845978, 0.22604280710220337, 0.37302321195602417, 0.22511076927185059, 0.32922908663749695, 0.23056842386722565, 0.31629422307014465, 0.23183795809745789, 0.30308660864830017, 0.23336520791053772, 0.3694230318069458, 0.23169191181659698, 0.2749900817871094, 0.24315901100635529, 0.3712029457092285, 0.2719253599643707, 0.3357728123664856, 0.27737951278686523, 0.4515734612941742, 0.32735475897789, 0.2106342762708664, 0.3635736107826233, 0.5396896004676819, 0.46252164244651794, 0.2340836375951767, 0.5227599740028381, 0.6181870102882385, 0.5532407760620117, 0.2805138826370239, 0.6512138843536377, 0.6455709934234619, 0.5829129219055176, 0.28584086894989014, 0.697920024394989, 0.6377555131912231, 0.5837506055831909, 0.3188348710536957, 0.6887364387512207, 0.6213983297348022, 0.5798702239990234, 0.3275732696056366, 0.6715738773345947, 0.4785788655281067, 0.5469018220901489, 0.34483805298805237, 0.5917006731033325, 0.631687343120575, 0.5070838928222656, 0.48409906029701233, 0.6267338991165161, 0.6776806712150574, 0.7570107579231262, 0.613616406917572, 0.7855101823806763, 0.6580426096916199, 0.7920357584953308, 0.60838383436203, 0.801773190498352, 0.7967524528503418, 0.8115519285202026, 0.7390097975730896, 0.8227800726890564], [0.7002325057983398, 0.2777385115623474, 0.7348299622535706, 0.2550455629825592, 0.749686598777771, 0.2520042359828949, 0.7640907764434814, 0.24870333075523376, 0.6873611211776733, 0.2564103901386261, 0.6702761054039001, 0.2545205056667328, 0.6545133590698242, 0.25216084718704224, 0.7733455300331116, 0.23372624814510345, 0.6235177516937256, 0.2373029589653015, 0.7066145539283752, 0.2844977378845215, 0.656267523765564, 0.2828581631183624, 0.7644410729408264, 0.25365206599235535, 0.41732683777809143, 0.28736597299575806, 0.7393765449523926, 0.33379191160202026, 0.2949160933494568, 0.4179765284061432, 0.7212882041931152, 0.40887483954429626, 0.27140194177627563, 0.5260935425758362, 0.7003085017204285, 0.44030138850212097, 0.26770323514938354, 0.5651224255561829, 0.716433048248291, 0.43414506316185, 0.2908611595630646, 0.5602432489395142, 0.6868321895599365, 0.4250374138355255, 0.3035171329975128, 0.5476466417312622, 0.6561194062232971, 0.44258418679237366, 0.4692467749118805, 0.47931796312332153, 0.6903747320175171, 0.5665392875671387, 0.5093461275100708, 0.6152268648147583, 0.7306710481643677, 0.7041529417037964, 0.4895549416542053, 0.7640551924705505, 0.7089651823043823, 0.7243556976318359, 0.4656580984592438, 0.7759648561477661, 0.8985345363616943, 0.7681560516357422, 0.5642232894897461, 0.8312515020370483], [0.6154319047927856, 0.2993621230125427, 0.6317880153656006, 0.280171662569046, 0.6353141069412231, 0.2782735228538513, 0.6389895081520081, 0.276266485452652, 0.6152036786079407, 0.2782433032989502, 0.6063018441200256, 0.27462780475616455, 0.5965232849121094, 0.2702675461769104, 0.6156007647514343, 0.2570839524269104, 0.554949939250946, 0.24610969424247742, 0.6023440361022949, 0.30380845069885254, 0.5808332562446594, 0.2998993992805481, 0.5545862317085266, 0.24199241399765015, 0.3557741045951843, 0.2799660861492157, 0.6000112295150757, 0.29971784353256226, 0.2535080313682556, 0.3837798535823822, 0.7249722480773926, 0.3251442313194275, 0.22849896550178528, 0.5114209055900574, 0.7627362012863159, 0.3163994252681732, 0.21400772035121918, 0.5367243885993958, 0.7631200551986694, 0.31220099329948425, 0.23037174344062805, 0.52922123670578, 0.7395592927932739, 0.31838515400886536, 0.23892544209957123, 0.519382119178772, 0.4435621500015259, 0.4978907108306885, 0.31395775079727173, 0.5036535263061523, 0.43791908025741577, 0.6161292791366577, 0.2604962885379791, 0.6553298234939575, 0.4056437611579895, 0.7283458113670349, 0.2360154539346695, 0.7518468499183655, 0.36927086114883423, 0.7447277307510376, 0.22255854308605194, 0.7587438225746155, 0.5869303345680237, 0.8006153106689453, 0.30029621720314026, 0.8262791037559509], [0.6806225776672363, 0.27819493412971497, 0.6901251673698425, 0.25619885325431824, 0.6964072585105896, 0.25524115562438965, 0.7020792365074158, 0.25415119528770447, 0.6617739796638489, 0.2553313076496124, 0.647987425327301, 0.2539818584918976, 0.6332167983055115, 0.252692312002182, 0.675656795501709, 0.2497349977493286, 0.5830585956573486, 0.24952074885368347, 0.6788635849952698, 0.2934335768222809, 0.647969126701355, 0.2930279076099396, 0.6276431083679199, 0.30512046813964844, 0.4053744971752167, 0.3276229500770569, 0.6331705451011658, 0.35042470693588257, 0.2920869290828705, 0.4710065424442291, 0.7691992521286011, 0.3185987174510956, 0.29576921463012695, 0.587317168712616, 0.8128964304924011, 0.3342442512512207, 0.2899034023284912, 0.6258001923561096, 0.8114588260650635, 0.3376099765300751, 0.3150768578052521, 0.6248919367790222, 0.7865424156188965, 0.33845052123069763, 0.32524973154067993, 0.6099012494087219, 0.5529709458351135, 0.5521268248558044, 0.40809208154678345, 0.5661601424217224, 0.5557081699371338, 0.6753055453300476, 0.36575087904930115, 0.6974526643753052, 0.46974655985832214, 0.7625998258590698, 0.35214415192604065, 0.7844249606132507, 0.4134032130241394, 0.7774741053581238, 0.29968711733818054, 0.7969547510147095, 0.5706472396850586, 0.7943186163902283, 0.4451799690723419, 0.8405916094779968], [0.6585626006126404, 0.3501131534576416, 0.6878916025161743, 0.32836171984672546, 0.6929622292518616, 0.32648077607154846, 0.6981987357139587, 0.32448527216911316, 0.6718457937240601, 0.3245297968387604, 0.6646776795387268, 0.3195626139640808, 0.6569481492042542, 0.31418901681900024, 0.6757696866989136, 0.2946679890155792, 0.6171790361404419, 0.27895063161849976, 0.6414639353752136, 0.3498779833316803, 0.6215757727622986, 0.3445090055465698, 0.6202219128608704, 0.2809881269931793, 0.3403071463108063, 0.31164953112602234, 0.47377511858940125, 0.37075039744377136, 0.22493621706962585, 0.463281512260437, 0.49577122926712036, 0.48434513807296753, 0.34920501708984375, 0.5622406601905823, 0.49188899993896484, 0.5207328200340271, 0.3789029121398926, 0.5945098996162415, 0.4924752712249756, 0.5124615430831909, 0.3840111792087555, 0.587316632270813, 0.4864216148853302, 0.4976746439933777, 0.37859460711479187, 0.578345537185669, 0.45874229073524475, 0.5036585927009583, 0.3144146800041199, 0.5453219413757324, 0.4550740420818329, 0.6196889281272888, 0.3379092216491699, 0.6595555543899536, 0.3667847812175751, 0.7078413367271423, 0.3240760862827301, 0.7224447131156921, 0.32626014947891235, 0.7225520610809326, 0.28266289830207825, 0.7365898489952087, 0.3907758593559265, 0.7820765376091003, 0.3804056942462921, 0.7988426685333252], [0.6168738603591919, 0.32477983832359314, 0.6402214765548706, 0.30710455775260925, 0.6535657644271851, 0.30741673707962036, 0.6674631237983704, 0.30704349279403687, 0.6029804348945618, 0.3008188009262085, 0.5888949036598206, 0.2971804738044739, 0.5745387673377991, 0.29321882128715515, 0.6816968321800232, 0.2934514880180359, 0.5425859093666077, 0.2768627405166626, 0.6247745752334595, 0.34184080362319946, 0.5873084664344788, 0.3327285945415497, 0.7769877910614014, 0.3498294949531555, 0.392019122838974, 0.28804486989974976, 0.7548319697380066, 0.4710689187049866, 0.2986765503883362, 0.4071430265903473, 0.6706868410110474, 0.564943253993988, 0.3162747621536255, 0.5213525891304016, 0.6254832148551941, 0.6066555976867676, 0.31279608607292175, 0.5550989508628845, 0.6062914133071899, 0.5922970175743103, 0.33070263266563416, 0.5535617470741272, 0.611860454082489, 0.5783447623252869, 0.3394099175930023, 0.544387698173523, 0.5976442098617554, 0.5760548710823059, 0.38201531767845154, 0.555069625377655, 0.5835509896278381, 0.6592522263526917, 0.33885282278060913, 0.6308496594429016, 0.5976812243461609, 0.7711968421936035, 0.29559311270713806, 0.7421355843544006, 0.570110559463501, 0.7830020189285278, 0.3060559928417206, 0.7587817907333374, 0.6492488384246826, 0.8497404456138611, 0.2219845950603485, 0.8154284358024597], [0.6420953273773193, 0.29260537028312683, 0.6650583744049072, 0.2718806564807892, 0.6787621974945068, 0.2711706757545471, 0.691597580909729, 0.270142138004303, 0.621159553527832, 0.2699228525161743, 0.6041284799575806, 0.2679191529750824, 0.5862770080566406, 0.2652812600135803, 0.7044167518615723, 0.2636919617652893, 0.5603019595146179, 0.25614216923713684, 0.6579746603965759, 0.30953696370124817, 0.6072697043418884, 0.3079831302165985, 0.7895535230636597, 0.33906880021095276, 0.4123435318470001, 0.30305638909339905, 0.7666987180709839, 0.46171435713768005, 0.33136558532714844, 0.42237555980682373, 0.698073148727417, 0.5581177473068237, 0.3235841393470764, 0.5245023965835571, 0.6745058298110962, 0.5941076874732971, 0.31429076194763184, 0.5590936541557312, 0.6536933779716492, 0.5864224433898926, 0.3338862359523773, 0.5577279329299927, 0.6528646349906921, 0.5704841017723083, 0.34241190552711487, 0.5478835105895996, 0.6131066083908081, 0.5697381496429443, 0.39880019426345825, 0.5457738041877747, 0.613871693611145, 0.6604471802711487, 0.32224568724632263, 0.6202415823936462, 0.5960283875465393, 0.7689865231513977, 0.2746388018131256, 0.7464969754219055, 0.5565863251686096, 0.7842631936073303, 0.2948478162288666, 0.7655556201934814, 0.6369137763977051, 0.8458905220031738, 0.19498024880886078, 0.8291765451431274], [0.5475941300392151, 0.24679845571517944, 0.561732828617096, 0.22417248785495758, 0.5727448463439941, 0.22248516976833344, 0.5835708975791931, 0.2211856096982956, 0.5295090675354004, 0.22929224371910095, 0.5173133611679077, 0.2305922955274582, 0.5049559473991394, 0.23163212835788727, 0.5926712155342102, 0.2262752801179886, 0.4738033413887024, 0.23504765331745148, 0.565241277217865, 0.2637318968772888, 0.5203856825828552, 0.26470082998275757, 0.7012066841125488, 0.3183675706386566, 0.34407180547714233, 0.3086399734020233, 0.7550971508026123, 0.44520506262779236, 0.289132297039032, 0.42217424511909485, 0.7496713399887085, 0.5409188866615295, 0.28487133979797363, 0.5286610722541809, 0.7485203146934509, 0.5789243578910828, 0.28089290857315063, 0.557012677192688, 0.7214994430541992, 0.575577437877655, 0.30448856949806213, 0.5550512671470642, 0.7087874412536621, 0.5620846152305603, 0.3117268979549408, 0.5456114411354065, 0.5928085446357727, 0.5775874853134155, 0.38034313917160034, 0.5669457316398621, 0.6153492331504822, 0.6724911332130432, 0.3496728241443634, 0.6462293863296509, 0.5868019461631775, 0.7816714644432068, 0.31354519724845886, 0.7639515995979309, 0.5410051941871643, 0.7983431220054626, 0.33106547594070435, 0.7818743586540222, 0.6756415367126465, 0.8510650992393494, 0.24975262582302094, 0.8299140334129333], [0.4978020191192627, 0.23889252543449402, 0.5038420557975769, 0.21718654036521912, 0.5066388249397278, 0.21486549079418182, 0.5124390125274658, 0.21302463114261627, 0.47483178973197937, 0.22577883303165436, 0.4565206468105316, 0.22867052257061005, 0.4416251480579376, 0.2313658446073532, 0.5235997438430786, 0.21829651296138763, 0.4197046756744385, 0.23826360702514648, 0.4973050355911255, 0.25329911708831787, 0.4625314176082611, 0.2571491599082947, 0.6705565452575684, 0.3180293142795563, 0.3060005009174347, 0.3302207887172699, 0.7677067518234253, 0.44362300634384155, 0.2595832347869873, 0.45075318217277527, 0.7593985199928284, 0.5258197784423828, 0.2576442360877991, 0.546622097492218, 0.7494309544563293, 0.5516148805618286, 0.2540303170681, 0.5772536396980286, 0.7218518257141113, 0.5443421006202698, 0.27904200553894043, 0.5742282271385193, 0.7142021059989929, 0.5353864431381226, 0.2866344749927521, 0.5635989904403687, 0.604314386844635, 0.5755311846733093, 0.39360371232032776, 0.5824788808822632, 0.6709104776382446, 0.6761147379875183, 0.4202547073364258, 0.6800869107246399, 0.6903861165046692, 0.7826641798019409, 0.4237278699874878, 0.7700358629226685, 0.6803945899009705, 0.790972113609314, 0.44197243452072144, 0.7796904444694519, 0.764406144618988, 0.8465545177459717, 0.3015236556529999, 0.8339202404022217]]}]\n",
      "normal data: 702 | fall data: 562\n"
     ]
    }
   ],
   "source": [
    "print(raw_data[:10])\n",
    "nd = 0\n",
    "ad = 0\n",
    "for i in range(len(raw_data)):\n",
    "    if raw_data[i]['key'] == 0:\n",
    "        nd += 1\n",
    "    else:\n",
    "        ad += 1\n",
    "print('normal data:', nd, '| fall data:', ad)"
   ]
  },
  {
   "cell_type": "code",
   "execution_count": 80,
   "metadata": {},
   "outputs": [
    {
     "data": {
      "text/plain": [
       "device(type='cuda')"
      ]
     },
     "execution_count": 80,
     "metadata": {},
     "output_type": "execute_result"
    }
   ],
   "source": [
    "device = torch.device('cuda' if torch.cuda.is_available() else 'cpu')\n",
    "device"
   ]
  },
  {
   "cell_type": "code",
   "execution_count": 83,
   "metadata": {},
   "outputs": [],
   "source": [
    "class MyDataset(Dataset):\n",
    "    def __init__(self, seq_list):\n",
    "        self.X = []\n",
    "        self.y = []\n",
    "        for dic in seq_list :\n",
    "            self.y.append(dic['key'])\n",
    "            self.X.append(dic['value'])\n",
    "\n",
    "    def __getitem__(self, index):\n",
    "        data = self.X[index]\n",
    "        label = self.y[index]\n",
    "        return torch.Tensor(np.array(data)), torch.tensor(np.array(int(label)))\n",
    "\n",
    "    def __len__(self):\n",
    "        return len(self.X)"
   ]
  },
  {
   "cell_type": "code",
   "execution_count": 84,
   "metadata": {},
   "outputs": [
    {
     "name": "stdout",
     "output_type": "stream",
     "text": [
      "1011, 126, 127\n"
     ]
    }
   ],
   "source": [
    "split_ratio = [0.8, 0.1, 0.1]\n",
    "train_len = int(len(raw_data) * split_ratio[0])\n",
    "val_len = int(len(raw_data) * split_ratio[1])\n",
    "test_len = len(raw_data) - train_len - val_len\n",
    "\n",
    "print('{}, {}, {}'.format(train_len, val_len, test_len))"
   ]
  },
  {
   "cell_type": "code",
   "execution_count": 85,
   "metadata": {},
   "outputs": [],
   "source": [
    "train_dataset = MyDataset(raw_data)\n",
    "train_data, valid_data, test_data = random_split(train_dataset, [train_len, val_len, test_len])\n",
    "\n",
    "train_loader = DataLoader(train_data, batch_size=BATCH_SIZE)\n",
    "val_loader = DataLoader(valid_data, batch_size=BATCH_SIZE)\n",
    "test_loader = DataLoader(test_data, batch_size=BATCH_SIZE)"
   ]
  },
  {
   "cell_type": "code",
   "execution_count": 91,
   "metadata": {},
   "outputs": [],
   "source": [
    "# LSTM\n",
    "class skeleton_LSTM(nn.Module):\n",
    "    def __init__(self):\n",
    "        super(skeleton_LSTM, self).__init__()\n",
    "        self.lstm1 = nn.LSTM(input_size=len(attention_dot) * 2, hidden_size=128, num_layers=NUM_LAYERS, batch_first=True)\n",
    "        self.lstm2 = nn.LSTM(input_size=128, hidden_size=256, num_layers=NUM_LAYERS, batch_first=True)\n",
    "        self.lstm3 = nn.LSTM(input_size=256, hidden_size=512, num_layers=NUM_LAYERS, batch_first=True)\n",
    "        self.dropout1 = nn.Dropout(0.1)\n",
    "        self.lstm4 = nn.LSTM(input_size=512, hidden_size=256, num_layers=NUM_LAYERS, batch_first=True)\n",
    "        self.lstm5 = nn.LSTM(input_size=256, hidden_size=128, num_layers=NUM_LAYERS, batch_first=True)\n",
    "        self.lstm6 = nn.LSTM(input_size=128, hidden_size=64, num_layers=NUM_LAYERS, batch_first=True)\n",
    "        self.dropout2 = nn.Dropout(0.1)\n",
    "        self.lstm7 = nn.LSTM(input_size=64, hidden_size=32, num_layers=NUM_LAYERS, batch_first=True)\n",
    "        self.fc = nn.Linear(32,2)\n",
    "\n",
    "    def forward(self, x) :\n",
    "        x, _ = self.lstm1(x)\n",
    "        x, _ = self.lstm2(x)\n",
    "        x, _ = self.lstm3(x)\n",
    "        x = self.dropout1(x)\n",
    "        x, _ = self.lstm4(x)\n",
    "        x, _ = self.lstm5(x)\n",
    "        x, _ = self.lstm6(x)\n",
    "        x = self.dropout2(x)\n",
    "        x, _ = self.lstm7(x)\n",
    "        x = self.fc(x[:,-1,:]) # x[배치 크기, 시퀀스 길이, 은닉 상태 크기], [:, -1, :] -> 마지막 시간 단계만 선택\n",
    "\n",
    "        return x\n",
    "     "
   ]
  },
  {
   "cell_type": "code",
   "execution_count": 86,
   "metadata": {},
   "outputs": [],
   "source": [
    "# GRU\n",
    "# 위의 LSTM class를 그대로 GRU로만 바꿔서 만듦\n",
    "# 아래의 코드에서 skeleton_LSTM()을 skeleton_GRU()로 바꾸면 사용 가능\n",
    "class skeleton_GRU(nn.Module):\n",
    "    def __init__(self):\n",
    "        super(skeleton_GRU, self).__init__()\n",
    "        self.gru1 = nn.GRU(input_size=len(attention_dot) * 2, hidden_size=128, num_layers=NUM_LAYERS, batch_first=True)\n",
    "        self.gru2 = nn.GRU(input_size=128, hidden_size=256, num_layers=NUM_LAYERS, batch_first=True)\n",
    "        self.gru3 = nn.GRU(input_size=256, hidden_size=512, num_layers=NUM_LAYERS, batch_first=True)\n",
    "        self.dropout1 = nn.Dropout(0.1)\n",
    "        self.gru4 = nn.GRU(input_size=512, hidden_size=256, num_layers=NUM_LAYERS, batch_first=True)\n",
    "        self.gru5 = nn.GRU(input_size=256, hidden_size=128, num_layers=NUM_LAYERS, batch_first=True)\n",
    "        self.gru6 = nn.GRU(input_size=128, hidden_size=64, num_layers=NUM_LAYERS, batch_first=True)\n",
    "        self.dropout2 = nn.Dropout(0.1)\n",
    "        self.gru7 = nn.GRU(input_size=64, hidden_size=32, num_layers=NUM_LAYERS, batch_first=True)\n",
    "        self.fc = nn.Linear(32,2)\n",
    "\n",
    "    def forward(self, x) :\n",
    "        x, _ = self.GRU1(x)\n",
    "        x, _ = self.GRU2(x)\n",
    "        x, _ = self.GRU3(x)\n",
    "        x = self.dropout1(x)\n",
    "        x, _ = self.GRU4(x)\n",
    "        x, _ = self.GRU5(x)\n",
    "        x, _ = self.GRU6(x)\n",
    "        x = self.dropout2(x)\n",
    "        x, _ = self.GRU7(x)\n",
    "        x = self.fc(x[:,-1,:]) # x[배치 크기, 시퀀스 길이, 은닉 상태 크기], [:, -1, :] -> 마지막 시간 단계만 선택\n",
    "\n",
    "        return x"
   ]
  },
  {
   "cell_type": "code",
   "execution_count": 87,
   "metadata": {},
   "outputs": [],
   "source": [
    "# 모델 초기화\n",
    "\n",
    "def init_model():\n",
    "    global net, loss_fn, optim\n",
    "    plt.rc('font', size = 10)\n",
    "    net = skeleton_LSTM().to(device)\n",
    "    loss_fn = nn.CrossEntropyLoss()\n",
    "    optim = Adam(net.parameters(), lr=0.0001)\n",
    "\n",
    "# epoch 카운터 초기화\n",
    "def init_epoch():\n",
    "    global epoch_cnt\n",
    "    epoch_cnt = 0\n",
    "\n",
    "# 모든 Log를 초기화\n",
    "def init_log():\n",
    "    global log_stack, iter_log, tloss_log, tacc_log, vloss_log, vacc_log, time_log\n",
    "    plt.rc('font', size = 10)\n",
    "    iter_log, tloss_log, tacc_log, vloss_log, vacc_log = [], [], [], [], []\n",
    "    time_log, log_stack = [], []"
   ]
  },
  {
   "cell_type": "code",
   "execution_count": 88,
   "metadata": {},
   "outputs": [],
   "source": [
    "def record_train_log(_tloss, _tacc, _time):\n",
    "    # Train Log 기록\n",
    "    time_log.append(_time)\n",
    "    tloss_log.append(_tloss)\n",
    "    tacc_log.append(_tacc)\n",
    "    iter_log.append(epoch_cnt)\n",
    "\n",
    "def record_valid_log(_vloss, _vacc):\n",
    "    # Validation Log 기록\n",
    "    vloss_log.append(_vloss)\n",
    "    vacc_log.append(_vacc)\n",
    "\n",
    "def last(log_list):\n",
    "    # last 안의 마지막 숫자를 반환(print_log 함수에서 사용)\n",
    "    if len(log_list) > 0:\n",
    "        return log_list[len(log_list) - 1]\n",
    "    else:\n",
    "        return -1\n",
    "\n",
    "def print_log():\n",
    "    # 학습 추이 출력 : 소숫점 3자리까지\n",
    "    train_loss = round(float(last(tloss_log)), 3)\n",
    "    train_acc = round(float(last(tacc_log)), 3)\n",
    "    val_loss = round(float(last(vloss_log)), 3)\n",
    "    val_acc = round(float(last(vacc_log)), 3)\n",
    "    time_spent = round(float(last(time_log)), 3)\n",
    "\n",
    "    log_str = 'Epoch: {:3} | T_Loss {:5} | T_Acc {:5} | V_Loss {:5} | V_Acc {:5} | {:5}'.format(last(iter_log), train_loss, train_acc, val_loss, val_acc, time_spent)\n",
    "\n",
    "    log_stack.append(log_str)\n",
    "    \n",
    "    # 학습 추이 그래프 출력\n",
    "    hist_fig, loss_axis = plt.subplots(figsize=(10, 3), dpi=99)\n",
    "    hist_fig.patch.set_facecolor('white')\n",
    "\n",
    "    # Loss Line 구성\n",
    "    loss_t_line = plt.plot(iter_log, tloss_log, label='Train_Loss', color='red', marker='o')\n",
    "    loss_v_line = plt.plot(iter_log, vloss_log, label='Valid_Loss', color='blue', marker='s')\n",
    "    loss_axis.set_xlabel('epoch')\n",
    "    loss_axis.set_ylabel('loss')\n",
    "\n",
    "    # Acc, Line 구성\n",
    "    acc_axis = loss_axis.twinx()\n",
    "    acc_t_line = acc_axis.plot(iter_log, tacc_log, label='Train_Acc', color='red', marker='+')\n",
    "    acc_v_line = acc_axis.plot(iter_log, vacc_log, label='Valid_Acc', color='blue', marker='x')\n",
    "    acc_axis.set_ylabel('accuracy')\n",
    "\n",
    "    # 그래프 출력\n",
    "    hist_lines = loss_t_line + loss_v_line + acc_t_line + acc_v_line\n",
    "    loss_axis.legend(hist_lines, [l.get_label() for l in hist_lines])\n",
    "    loss_axis.grid()\n",
    "    plt.title('Learning history until epoch {}'.format(last(iter_log)))\n",
    "    plt.draw()\n",
    "\n",
    "    # 텍스트 로그 출력\n",
    "    clear_output(wait=True)\n",
    "    plt.show()\n",
    "    for idx in reversed(range(len(log_stack))):\n",
    "        print(log_stack[idx])"
   ]
  },
  {
   "cell_type": "code",
   "execution_count": 89,
   "metadata": {},
   "outputs": [],
   "source": [
    "def clear_memory():\n",
    "    if device != 'cpu':\n",
    "        empty_cache()\n",
    "    gc.collect()\n",
    "\n",
    "# 학습 알고리즘\n",
    "def epoch(data_loader, mode = 'train'):\n",
    "    global epoch_cnt\n",
    "\n",
    "    # 사용되는 변수 초기화\n",
    "    iter_loss, iter_acc, last_grad_performed = [], [], False\n",
    "\n",
    "    # 1 iteration 학습 알고리즘(for문을 나오면 1 epoch 완료)\n",
    "    for _data, _label in data_loader:\n",
    "        data, label = _data.to(device), _label.type(torch.LongTensor).to(device)\n",
    "\n",
    "        # 1. Feed-forward\n",
    "        if mode == 'train':\n",
    "            net.train()\n",
    "        else:\n",
    "            # 학습때만 쓰이는 Dropout, Batch Mormalization을 미사용\n",
    "            net.eval()\n",
    "\n",
    "        result = net(data) # 1 Batch에 대한 결과가 모든 Class에 대한 확률값으로\n",
    "        _, out = torch.max(result, 1) # result에서 최대 확률값을 기준으로 예측 class 도출( _ : 값 부분은 필요 없음, out : index 중 가장 큰 하나의 데이터)\n",
    "\n",
    "        # 2. Loss 계산\n",
    "        loss = loss_fn(result, label) # GT 와 Label 비교하여 Loss 산정\n",
    "        iter_loss.append(loss.item()) # 학습 추이를 위하여 Loss를 기록\n",
    "\n",
    "        # 3. 역전파 학습 후 Gradient Descent\n",
    "        if mode == 'train':\n",
    "            optim.zero_grad() # 미분을 통해 얻은 기울기를 초기화 for 다음 epoch\n",
    "            loss.backward() # 역전파 학습\n",
    "            optim.step() # Gradient Descent 수행\n",
    "            last_grad_performed = True # for문을 나가면 epoch 카운터 += 1\n",
    "\n",
    "        # 4. 정확도 계산\n",
    "        acc_partial = (out == label).float().sum() # GT == Label 인 개수\n",
    "        acc_partial = acc_partial / len(label) # ( TP / (TP + TM)) 해서 정확도 산출\n",
    "        iter_acc.append(acc_partial.item()) # 학습 추이를 위하여 Acc. 기록\n",
    "\n",
    "    # 역전파 학습 후 Epoch 카운터 += 1\n",
    "    if last_grad_performed:\n",
    "        epoch_cnt += 1\n",
    "\n",
    "    clear_memory()\n",
    "\n",
    "    # loss와 acc의 평균값 for 학습추이 그래프, 모든 GT와 Label 값 for 컨퓨전 매트릭스\n",
    "    return np.average(iter_loss), np.average(iter_acc)\n",
    "\n",
    "def epoch_not_finished():\n",
    "    # 에폭이 끝남을 알림\n",
    "    return epoch_cnt < maximum_epoch"
   ]
  },
  {
   "cell_type": "markdown",
   "metadata": {},
   "source": [
    "# **3. 학습 및 테스트**\n",
    "* 여기서 계속 에러나는 중...\n",
    "* RuntimeError: stack expects each tensor to be equal size, but got [13, 66] at entry 0 and [10, 66] at entry 1"
   ]
  },
  {
   "cell_type": "code",
   "execution_count": 92,
   "metadata": {},
   "outputs": [
    {
     "ename": "RuntimeError",
     "evalue": "stack expects each tensor to be equal size, but got [13, 66] at entry 0 and [10, 66] at entry 1",
     "output_type": "error",
     "traceback": [
      "\u001b[1;31m---------------------------------------------------------------------------\u001b[0m",
      "\u001b[1;31mRuntimeError\u001b[0m                              Traceback (most recent call last)",
      "Cell \u001b[1;32mIn[92], line 12\u001b[0m\n\u001b[0;32m      9\u001b[0m \u001b[38;5;28;01mwhile\u001b[39;00m epoch_not_finished():\n\u001b[0;32m     10\u001b[0m     start_time \u001b[38;5;241m=\u001b[39m time\u001b[38;5;241m.\u001b[39mtime()\n\u001b[1;32m---> 12\u001b[0m     tloss, tacc \u001b[38;5;241m=\u001b[39m \u001b[43mepoch\u001b[49m\u001b[43m(\u001b[49m\u001b[43mtrain_loader\u001b[49m\u001b[43m,\u001b[49m\u001b[43m \u001b[49m\u001b[43mmode\u001b[49m\u001b[43m \u001b[49m\u001b[38;5;241;43m=\u001b[39;49m\u001b[43m \u001b[49m\u001b[38;5;124;43m'\u001b[39;49m\u001b[38;5;124;43mtrain\u001b[39;49m\u001b[38;5;124;43m'\u001b[39;49m\u001b[43m)\u001b[49m\n\u001b[0;32m     14\u001b[0m     end_time \u001b[38;5;241m=\u001b[39m time\u001b[38;5;241m.\u001b[39mtime()\n\u001b[0;32m     15\u001b[0m     time_taken \u001b[38;5;241m=\u001b[39m end_time \u001b[38;5;241m-\u001b[39m start_time\n",
      "Cell \u001b[1;32mIn[89], line 14\u001b[0m, in \u001b[0;36mepoch\u001b[1;34m(data_loader, mode)\u001b[0m\n\u001b[0;32m     11\u001b[0m iter_loss, iter_acc, last_grad_performed \u001b[38;5;241m=\u001b[39m [], [], \u001b[38;5;28;01mFalse\u001b[39;00m\n\u001b[0;32m     13\u001b[0m \u001b[38;5;66;03m# 1 iteration 학습 알고리즘(for문을 나오면 1 epoch 완료)\u001b[39;00m\n\u001b[1;32m---> 14\u001b[0m \u001b[43m\u001b[49m\u001b[38;5;28;43;01mfor\u001b[39;49;00m\u001b[43m \u001b[49m\u001b[43m_data\u001b[49m\u001b[43m,\u001b[49m\u001b[43m \u001b[49m\u001b[43m_label\u001b[49m\u001b[43m \u001b[49m\u001b[38;5;129;43;01min\u001b[39;49;00m\u001b[43m \u001b[49m\u001b[43mdata_loader\u001b[49m\u001b[43m:\u001b[49m\n\u001b[0;32m     15\u001b[0m \u001b[43m    \u001b[49m\u001b[43mdata\u001b[49m\u001b[43m,\u001b[49m\u001b[43m \u001b[49m\u001b[43mlabel\u001b[49m\u001b[43m \u001b[49m\u001b[38;5;241;43m=\u001b[39;49m\u001b[43m \u001b[49m\u001b[43m_data\u001b[49m\u001b[38;5;241;43m.\u001b[39;49m\u001b[43mto\u001b[49m\u001b[43m(\u001b[49m\u001b[43mdevice\u001b[49m\u001b[43m)\u001b[49m\u001b[43m,\u001b[49m\u001b[43m \u001b[49m\u001b[43m_label\u001b[49m\u001b[38;5;241;43m.\u001b[39;49m\u001b[43mtype\u001b[49m\u001b[43m(\u001b[49m\u001b[43mtorch\u001b[49m\u001b[38;5;241;43m.\u001b[39;49m\u001b[43mLongTensor\u001b[49m\u001b[43m)\u001b[49m\u001b[38;5;241;43m.\u001b[39;49m\u001b[43mto\u001b[49m\u001b[43m(\u001b[49m\u001b[43mdevice\u001b[49m\u001b[43m)\u001b[49m\n\u001b[0;32m     17\u001b[0m \u001b[43m    \u001b[49m\u001b[38;5;66;43;03m# 1. Feed-forward\u001b[39;49;00m\n",
      "File \u001b[1;32m~\\AppData\\Local\\Packages\\PythonSoftwareFoundation.Python.3.11_qbz5n2kfra8p0\\LocalCache\\local-packages\\Python311\\site-packages\\torch\\utils\\data\\dataloader.py:630\u001b[0m, in \u001b[0;36m_BaseDataLoaderIter.__next__\u001b[1;34m(self)\u001b[0m\n\u001b[0;32m    627\u001b[0m \u001b[38;5;28;01mif\u001b[39;00m \u001b[38;5;28mself\u001b[39m\u001b[38;5;241m.\u001b[39m_sampler_iter \u001b[38;5;129;01mis\u001b[39;00m \u001b[38;5;28;01mNone\u001b[39;00m:\n\u001b[0;32m    628\u001b[0m     \u001b[38;5;66;03m# TODO(https://github.com/pytorch/pytorch/issues/76750)\u001b[39;00m\n\u001b[0;32m    629\u001b[0m     \u001b[38;5;28mself\u001b[39m\u001b[38;5;241m.\u001b[39m_reset()  \u001b[38;5;66;03m# type: ignore[call-arg]\u001b[39;00m\n\u001b[1;32m--> 630\u001b[0m data \u001b[38;5;241m=\u001b[39m \u001b[38;5;28;43mself\u001b[39;49m\u001b[38;5;241;43m.\u001b[39;49m\u001b[43m_next_data\u001b[49m\u001b[43m(\u001b[49m\u001b[43m)\u001b[49m\n\u001b[0;32m    631\u001b[0m \u001b[38;5;28mself\u001b[39m\u001b[38;5;241m.\u001b[39m_num_yielded \u001b[38;5;241m+\u001b[39m\u001b[38;5;241m=\u001b[39m \u001b[38;5;241m1\u001b[39m\n\u001b[0;32m    632\u001b[0m \u001b[38;5;28;01mif\u001b[39;00m \u001b[38;5;28mself\u001b[39m\u001b[38;5;241m.\u001b[39m_dataset_kind \u001b[38;5;241m==\u001b[39m _DatasetKind\u001b[38;5;241m.\u001b[39mIterable \u001b[38;5;129;01mand\u001b[39;00m \\\n\u001b[0;32m    633\u001b[0m         \u001b[38;5;28mself\u001b[39m\u001b[38;5;241m.\u001b[39m_IterableDataset_len_called \u001b[38;5;129;01mis\u001b[39;00m \u001b[38;5;129;01mnot\u001b[39;00m \u001b[38;5;28;01mNone\u001b[39;00m \u001b[38;5;129;01mand\u001b[39;00m \\\n\u001b[0;32m    634\u001b[0m         \u001b[38;5;28mself\u001b[39m\u001b[38;5;241m.\u001b[39m_num_yielded \u001b[38;5;241m>\u001b[39m \u001b[38;5;28mself\u001b[39m\u001b[38;5;241m.\u001b[39m_IterableDataset_len_called:\n",
      "File \u001b[1;32m~\\AppData\\Local\\Packages\\PythonSoftwareFoundation.Python.3.11_qbz5n2kfra8p0\\LocalCache\\local-packages\\Python311\\site-packages\\torch\\utils\\data\\dataloader.py:673\u001b[0m, in \u001b[0;36m_SingleProcessDataLoaderIter._next_data\u001b[1;34m(self)\u001b[0m\n\u001b[0;32m    671\u001b[0m \u001b[38;5;28;01mdef\u001b[39;00m \u001b[38;5;21m_next_data\u001b[39m(\u001b[38;5;28mself\u001b[39m):\n\u001b[0;32m    672\u001b[0m     index \u001b[38;5;241m=\u001b[39m \u001b[38;5;28mself\u001b[39m\u001b[38;5;241m.\u001b[39m_next_index()  \u001b[38;5;66;03m# may raise StopIteration\u001b[39;00m\n\u001b[1;32m--> 673\u001b[0m     data \u001b[38;5;241m=\u001b[39m \u001b[38;5;28;43mself\u001b[39;49m\u001b[38;5;241;43m.\u001b[39;49m\u001b[43m_dataset_fetcher\u001b[49m\u001b[38;5;241;43m.\u001b[39;49m\u001b[43mfetch\u001b[49m\u001b[43m(\u001b[49m\u001b[43mindex\u001b[49m\u001b[43m)\u001b[49m  \u001b[38;5;66;03m# may raise StopIteration\u001b[39;00m\n\u001b[0;32m    674\u001b[0m     \u001b[38;5;28;01mif\u001b[39;00m \u001b[38;5;28mself\u001b[39m\u001b[38;5;241m.\u001b[39m_pin_memory:\n\u001b[0;32m    675\u001b[0m         data \u001b[38;5;241m=\u001b[39m _utils\u001b[38;5;241m.\u001b[39mpin_memory\u001b[38;5;241m.\u001b[39mpin_memory(data, \u001b[38;5;28mself\u001b[39m\u001b[38;5;241m.\u001b[39m_pin_memory_device)\n",
      "File \u001b[1;32m~\\AppData\\Local\\Packages\\PythonSoftwareFoundation.Python.3.11_qbz5n2kfra8p0\\LocalCache\\local-packages\\Python311\\site-packages\\torch\\utils\\data\\_utils\\fetch.py:55\u001b[0m, in \u001b[0;36m_MapDatasetFetcher.fetch\u001b[1;34m(self, possibly_batched_index)\u001b[0m\n\u001b[0;32m     53\u001b[0m \u001b[38;5;28;01melse\u001b[39;00m:\n\u001b[0;32m     54\u001b[0m     data \u001b[38;5;241m=\u001b[39m \u001b[38;5;28mself\u001b[39m\u001b[38;5;241m.\u001b[39mdataset[possibly_batched_index]\n\u001b[1;32m---> 55\u001b[0m \u001b[38;5;28;01mreturn\u001b[39;00m \u001b[38;5;28;43mself\u001b[39;49m\u001b[38;5;241;43m.\u001b[39;49m\u001b[43mcollate_fn\u001b[49m\u001b[43m(\u001b[49m\u001b[43mdata\u001b[49m\u001b[43m)\u001b[49m\n",
      "File \u001b[1;32m~\\AppData\\Local\\Packages\\PythonSoftwareFoundation.Python.3.11_qbz5n2kfra8p0\\LocalCache\\local-packages\\Python311\\site-packages\\torch\\utils\\data\\_utils\\collate.py:317\u001b[0m, in \u001b[0;36mdefault_collate\u001b[1;34m(batch)\u001b[0m\n\u001b[0;32m    256\u001b[0m \u001b[38;5;28;01mdef\u001b[39;00m \u001b[38;5;21mdefault_collate\u001b[39m(batch):\n\u001b[0;32m    257\u001b[0m \u001b[38;5;250m    \u001b[39m\u001b[38;5;124mr\u001b[39m\u001b[38;5;124;03m\"\"\"\u001b[39;00m\n\u001b[0;32m    258\u001b[0m \u001b[38;5;124;03m    Take in a batch of data and put the elements within the batch into a tensor with an additional outer dimension - batch size.\u001b[39;00m\n\u001b[0;32m    259\u001b[0m \n\u001b[1;32m   (...)\u001b[0m\n\u001b[0;32m    315\u001b[0m \u001b[38;5;124;03m        >>> default_collate(batch)  # Handle `CustomType` automatically\u001b[39;00m\n\u001b[0;32m    316\u001b[0m \u001b[38;5;124;03m    \"\"\"\u001b[39;00m\n\u001b[1;32m--> 317\u001b[0m     \u001b[38;5;28;01mreturn\u001b[39;00m \u001b[43mcollate\u001b[49m\u001b[43m(\u001b[49m\u001b[43mbatch\u001b[49m\u001b[43m,\u001b[49m\u001b[43m \u001b[49m\u001b[43mcollate_fn_map\u001b[49m\u001b[38;5;241;43m=\u001b[39;49m\u001b[43mdefault_collate_fn_map\u001b[49m\u001b[43m)\u001b[49m\n",
      "File \u001b[1;32m~\\AppData\\Local\\Packages\\PythonSoftwareFoundation.Python.3.11_qbz5n2kfra8p0\\LocalCache\\local-packages\\Python311\\site-packages\\torch\\utils\\data\\_utils\\collate.py:174\u001b[0m, in \u001b[0;36mcollate\u001b[1;34m(batch, collate_fn_map)\u001b[0m\n\u001b[0;32m    171\u001b[0m transposed \u001b[38;5;241m=\u001b[39m \u001b[38;5;28mlist\u001b[39m(\u001b[38;5;28mzip\u001b[39m(\u001b[38;5;241m*\u001b[39mbatch))  \u001b[38;5;66;03m# It may be accessed twice, so we use a list.\u001b[39;00m\n\u001b[0;32m    173\u001b[0m \u001b[38;5;28;01mif\u001b[39;00m \u001b[38;5;28misinstance\u001b[39m(elem, \u001b[38;5;28mtuple\u001b[39m):\n\u001b[1;32m--> 174\u001b[0m     \u001b[38;5;28;01mreturn\u001b[39;00m \u001b[43m[\u001b[49m\u001b[43mcollate\u001b[49m\u001b[43m(\u001b[49m\u001b[43msamples\u001b[49m\u001b[43m,\u001b[49m\u001b[43m \u001b[49m\u001b[43mcollate_fn_map\u001b[49m\u001b[38;5;241;43m=\u001b[39;49m\u001b[43mcollate_fn_map\u001b[49m\u001b[43m)\u001b[49m\u001b[43m \u001b[49m\u001b[38;5;28;43;01mfor\u001b[39;49;00m\u001b[43m \u001b[49m\u001b[43msamples\u001b[49m\u001b[43m \u001b[49m\u001b[38;5;129;43;01min\u001b[39;49;00m\u001b[43m \u001b[49m\u001b[43mtransposed\u001b[49m\u001b[43m]\u001b[49m  \u001b[38;5;66;03m# Backwards compatibility.\u001b[39;00m\n\u001b[0;32m    175\u001b[0m \u001b[38;5;28;01melse\u001b[39;00m:\n\u001b[0;32m    176\u001b[0m     \u001b[38;5;28;01mtry\u001b[39;00m:\n",
      "File \u001b[1;32m~\\AppData\\Local\\Packages\\PythonSoftwareFoundation.Python.3.11_qbz5n2kfra8p0\\LocalCache\\local-packages\\Python311\\site-packages\\torch\\utils\\data\\_utils\\collate.py:174\u001b[0m, in \u001b[0;36m<listcomp>\u001b[1;34m(.0)\u001b[0m\n\u001b[0;32m    171\u001b[0m transposed \u001b[38;5;241m=\u001b[39m \u001b[38;5;28mlist\u001b[39m(\u001b[38;5;28mzip\u001b[39m(\u001b[38;5;241m*\u001b[39mbatch))  \u001b[38;5;66;03m# It may be accessed twice, so we use a list.\u001b[39;00m\n\u001b[0;32m    173\u001b[0m \u001b[38;5;28;01mif\u001b[39;00m \u001b[38;5;28misinstance\u001b[39m(elem, \u001b[38;5;28mtuple\u001b[39m):\n\u001b[1;32m--> 174\u001b[0m     \u001b[38;5;28;01mreturn\u001b[39;00m [\u001b[43mcollate\u001b[49m\u001b[43m(\u001b[49m\u001b[43msamples\u001b[49m\u001b[43m,\u001b[49m\u001b[43m \u001b[49m\u001b[43mcollate_fn_map\u001b[49m\u001b[38;5;241;43m=\u001b[39;49m\u001b[43mcollate_fn_map\u001b[49m\u001b[43m)\u001b[49m \u001b[38;5;28;01mfor\u001b[39;00m samples \u001b[38;5;129;01min\u001b[39;00m transposed]  \u001b[38;5;66;03m# Backwards compatibility.\u001b[39;00m\n\u001b[0;32m    175\u001b[0m \u001b[38;5;28;01melse\u001b[39;00m:\n\u001b[0;32m    176\u001b[0m     \u001b[38;5;28;01mtry\u001b[39;00m:\n",
      "File \u001b[1;32m~\\AppData\\Local\\Packages\\PythonSoftwareFoundation.Python.3.11_qbz5n2kfra8p0\\LocalCache\\local-packages\\Python311\\site-packages\\torch\\utils\\data\\_utils\\collate.py:142\u001b[0m, in \u001b[0;36mcollate\u001b[1;34m(batch, collate_fn_map)\u001b[0m\n\u001b[0;32m    140\u001b[0m \u001b[38;5;28;01mif\u001b[39;00m collate_fn_map \u001b[38;5;129;01mis\u001b[39;00m \u001b[38;5;129;01mnot\u001b[39;00m \u001b[38;5;28;01mNone\u001b[39;00m:\n\u001b[0;32m    141\u001b[0m     \u001b[38;5;28;01mif\u001b[39;00m elem_type \u001b[38;5;129;01min\u001b[39;00m collate_fn_map:\n\u001b[1;32m--> 142\u001b[0m         \u001b[38;5;28;01mreturn\u001b[39;00m \u001b[43mcollate_fn_map\u001b[49m\u001b[43m[\u001b[49m\u001b[43melem_type\u001b[49m\u001b[43m]\u001b[49m\u001b[43m(\u001b[49m\u001b[43mbatch\u001b[49m\u001b[43m,\u001b[49m\u001b[43m \u001b[49m\u001b[43mcollate_fn_map\u001b[49m\u001b[38;5;241;43m=\u001b[39;49m\u001b[43mcollate_fn_map\u001b[49m\u001b[43m)\u001b[49m\n\u001b[0;32m    144\u001b[0m     \u001b[38;5;28;01mfor\u001b[39;00m collate_type \u001b[38;5;129;01min\u001b[39;00m collate_fn_map:\n\u001b[0;32m    145\u001b[0m         \u001b[38;5;28;01mif\u001b[39;00m \u001b[38;5;28misinstance\u001b[39m(elem, collate_type):\n",
      "File \u001b[1;32m~\\AppData\\Local\\Packages\\PythonSoftwareFoundation.Python.3.11_qbz5n2kfra8p0\\LocalCache\\local-packages\\Python311\\site-packages\\torch\\utils\\data\\_utils\\collate.py:214\u001b[0m, in \u001b[0;36mcollate_tensor_fn\u001b[1;34m(batch, collate_fn_map)\u001b[0m\n\u001b[0;32m    212\u001b[0m     storage \u001b[38;5;241m=\u001b[39m elem\u001b[38;5;241m.\u001b[39m_typed_storage()\u001b[38;5;241m.\u001b[39m_new_shared(numel, device\u001b[38;5;241m=\u001b[39melem\u001b[38;5;241m.\u001b[39mdevice)\n\u001b[0;32m    213\u001b[0m     out \u001b[38;5;241m=\u001b[39m elem\u001b[38;5;241m.\u001b[39mnew(storage)\u001b[38;5;241m.\u001b[39mresize_(\u001b[38;5;28mlen\u001b[39m(batch), \u001b[38;5;241m*\u001b[39m\u001b[38;5;28mlist\u001b[39m(elem\u001b[38;5;241m.\u001b[39msize()))\n\u001b[1;32m--> 214\u001b[0m \u001b[38;5;28;01mreturn\u001b[39;00m \u001b[43mtorch\u001b[49m\u001b[38;5;241;43m.\u001b[39;49m\u001b[43mstack\u001b[49m\u001b[43m(\u001b[49m\u001b[43mbatch\u001b[49m\u001b[43m,\u001b[49m\u001b[43m \u001b[49m\u001b[38;5;241;43m0\u001b[39;49m\u001b[43m,\u001b[49m\u001b[43m \u001b[49m\u001b[43mout\u001b[49m\u001b[38;5;241;43m=\u001b[39;49m\u001b[43mout\u001b[49m\u001b[43m)\u001b[49m\n",
      "\u001b[1;31mRuntimeError\u001b[0m: stack expects each tensor to be equal size, but got [13, 66] at entry 0 and [10, 66] at entry 1"
     ]
    }
   ],
   "source": [
    "# Training initialization\n",
    "init_model()\n",
    "init_epoch()\n",
    "init_log()\n",
    "maximum_epoch = EPOCH\n",
    "\n",
    "# Training iteration\n",
    "\n",
    "while epoch_not_finished():\n",
    "    start_time = time.time()\n",
    "\n",
    "    tloss, tacc = epoch(train_loader, mode = 'train')\n",
    "\n",
    "    end_time = time.time()\n",
    "    time_taken = end_time - start_time\n",
    "    record_train_log(tloss, tacc, time_taken)\n",
    "\n",
    "    with torch.no_grad():\n",
    "        vloss, vacc = epoch(val_loader, mode = 'val')\n",
    "        record_valid_log(vloss, vacc)\n",
    "\n",
    "    print_log()\n",
    "\n",
    "print('\\n Training completed!')"
   ]
  },
  {
   "cell_type": "code",
   "execution_count": null,
   "metadata": {},
   "outputs": [],
   "source": [
    "# 정확도 검증\n",
    "with torch.no_grad():\n",
    "    test_loss, test_acc = epoch(test_loader, mode = 'test')\n",
    "    test_acc = round(test_acc, 4)\n",
    "    test_loss = round(test_loss, 4)\n",
    "    print('Test Acc.: {}'.format(test_acc))\n",
    "    print('Test Loss: {}'.format(test_loss))"
   ]
  },
  {
   "cell_type": "code",
   "execution_count": null,
   "metadata": {},
   "outputs": [],
   "source": [
    "# 테스트 이미지 선택\n",
    "# 작성중..."
   ]
  },
  {
   "cell_type": "code",
   "execution_count": null,
   "metadata": {},
   "outputs": [],
   "source": [
    "# 실제 이미지로 테스트"
   ]
  }
 ],
 "metadata": {
  "kernelspec": {
   "display_name": "Python 3",
   "language": "python",
   "name": "python3"
  },
  "language_info": {
   "codemirror_mode": {
    "name": "ipython",
    "version": 3
   },
   "file_extension": ".py",
   "mimetype": "text/x-python",
   "name": "python",
   "nbconvert_exporter": "python",
   "pygments_lexer": "ipython3",
   "version": "3.10.11"
  }
 },
 "nbformat": 4,
 "nbformat_minor": 2
}

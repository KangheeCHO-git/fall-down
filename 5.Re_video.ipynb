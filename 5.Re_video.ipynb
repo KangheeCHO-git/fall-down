{
 "cells": [
  {
   "cell_type": "code",
   "execution_count": null,
   "id": "688bca3d",
   "metadata": {},
   "outputs": [],
   "source": [
    "import os\n",
    "import shutil\n",
    "import glob\n",
    "from tqdm import tqdm"
   ]
  },
  {
   "cell_type": "code",
   "execution_count": null,
   "id": "903cb300",
   "metadata": {},
   "outputs": [],
   "source": [
    "# 경로 설정\n",
    "train_json_dir = 'D:\\\\Falldown\\\\Re_video\\\\re_landmark\\\\re_train_NY_json'\n",
    "val_json_dir = 'D:\\\\Falldown\\\\Re_video\\\\re_landmark\\\\re_val_NY_json'\n",
    "train_target_video_dir = 'D:\\\\Falldown\\\\Re_video\\\\video\\\\re_train_NY'\n",
    "val_target_video_dir = 'D:\\\\Falldown\\\\Re_video\\\\video\\\\re_val_NY'"
   ]
  },
  {
   "cell_type": "code",
   "execution_count": null,
   "id": "11986194",
   "metadata": {},
   "outputs": [],
   "source": [
    "# .mp4 비디오 파일 경로 패턴\n",
    "video_pattern = r'D:\\\\Falldown\\\\Origin\\\\*\\\\SourceData\\\\Video\\\\*\\\\*\\\\*\\\\*.mp4'"
   ]
  },
  {
   "cell_type": "code",
   "execution_count": null,
   "id": "93db3555",
   "metadata": {},
   "outputs": [],
   "source": [
    "# 대상 디렉토리 확인 및 생성\n",
    "for target_dir in [train_target_video_dir, val_target_video_dir]:\n",
    "    if not os.path.exists(target_dir):\n",
    "        os.makedirs(target_dir)"
   ]
  },
  {
   "cell_type": "code",
   "execution_count": null,
   "id": "ff5a9ec8",
   "metadata": {},
   "outputs": [],
   "source": [
    "# JSON 파일 이름 수집\n",
    "train_json_files = glob.glob(os.path.join(train_json_dir, '*.json'))\n",
    "val_json_files = glob.glob(os.path.join(val_json_dir, '*.json'))\n",
    "train_json_filenames = {os.path.splitext(os.path.basename(f))[0] for f in train_json_files}\n",
    "val_json_filenames = {os.path.splitext(os.path.basename(f))[0] for f in val_json_files}"
   ]
  },
  {
   "cell_type": "code",
   "execution_count": null,
   "id": "e9079163",
   "metadata": {},
   "outputs": [],
   "source": [
    "# 일치하는 .mp4 비디오 파일 검색 및 복사\n",
    "moved_files_count_train = 0\n",
    "moved_files_count_val = 0"
   ]
  },
  {
   "cell_type": "code",
   "execution_count": null,
   "id": "6f9a8d22",
   "metadata": {},
   "outputs": [],
   "source": [
    "video_paths = glob.glob(video_pattern, recursive=True)\n",
    "for video_path in tqdm(video_paths, desc=\"파일 이동 진행\", unit=\"파일\"):\n",
    "    parent_folder_name = os.path.basename(os.path.dirname(video_path))\n",
    "    \n",
    "    if parent_folder_name in train_json_filenames:\n",
    "        dest_path = os.path.join(train_target_video_dir, os.path.basename(video_path))\n",
    "        shutil.copy(video_path, dest_path)\n",
    "        moved_files_count_train += 1\n",
    "    elif parent_folder_name in val_json_filenames:\n",
    "        dest_path = os.path.join(val_target_video_dir, os.path.basename(video_path))\n",
    "        shutil.copy(video_path, dest_path)\n",
    "        moved_files_count_val += 1"
   ]
  },
  {
   "cell_type": "code",
   "execution_count": null,
   "id": "1c0b24bc",
   "metadata": {},
   "outputs": [],
   "source": [
    "# 이동된 파일 개수 출력\n",
    "print(f\"\\n총 {moved_files_count_train}개의 파일이 {train_target_video_dir}로 이동되었습니다.\")\n",
    "print(f\"총 {moved_files_count_val}개의 파일이 {val_target_video_dir}로 이동되었습니다.\")"
   ]
  }
 ],
 "metadata": {
  "jupytext": {
   "cell_metadata_filter": "-all",
   "main_language": "python",
   "notebook_metadata_filter": "-all"
  }
 },
 "nbformat": 4,
 "nbformat_minor": 5
}

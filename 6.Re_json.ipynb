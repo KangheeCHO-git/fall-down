{
 "cells": [
  {
   "cell_type": "code",
   "execution_count": null,
   "id": "a14e3d6f",
   "metadata": {},
   "outputs": [],
   "source": [
    "import os\n",
    "import shutil\n",
    "import glob\n",
    "from tqdm import tqdm"
   ]
  },
  {
   "cell_type": "code",
   "execution_count": null,
   "id": "5e678fdd",
   "metadata": {},
   "outputs": [],
   "source": [
    "# JSON 파일 경로 설정\n",
    "train_json_dir = 'D:\\\\Falldown\\\\Re_video\\\\re_landmark\\\\re_train_NY'\n",
    "val_json_dir = 'D:\\\\Falldown\\\\Re_video\\\\re_landmark\\\\re_val_NY'\n",
    "train_target_json_dir = 'D:\\\\Falldown\\\\Re_video\\\\json\\\\re_train_NY'\n",
    "val_target_json_dir = 'D:\\\\Falldown\\\\Re_video\\\\json\\\\re_val_NY'"
   ]
  },
  {
   "cell_type": "code",
   "execution_count": null,
   "id": "f1266e24",
   "metadata": {},
   "outputs": [],
   "source": [
    "# 원본 JSON 파일 경로 패턴\n",
    "json_pattern = r'D:\\\\Falldown\\\\Origin\\\\*\\\\LabelingData\\\\Video\\\\*\\\\*\\\\*\\\\*.json'"
   ]
  },
  {
   "cell_type": "code",
   "execution_count": null,
   "id": "6ec57440",
   "metadata": {},
   "outputs": [],
   "source": [
    "# 대상 디렉토리 확인 및 생성\n",
    "for target_dir in [train_target_json_dir, val_target_json_dir]:\n",
    "    if not os.path.exists(target_dir):\n",
    "        os.makedirs(target_dir)"
   ]
  },
  {
   "cell_type": "code",
   "execution_count": null,
   "id": "f3612b48",
   "metadata": {},
   "outputs": [],
   "source": [
    "# JSON 파일 이름 수집\n",
    "train_json_files = glob.glob(os.path.join(train_json_dir, '*.json'))\n",
    "val_json_files = glob.glob(os.path.join(val_json_dir, '*.json'))\n",
    "train_json_filenames = {os.path.splitext(os.path.basename(f))[0] for f in train_json_files}\n",
    "val_json_filenames = {os.path.splitext(os.path.basename(f))[0] for f in val_json_files}"
   ]
  },
  {
   "cell_type": "code",
   "execution_count": null,
   "id": "062b1936",
   "metadata": {},
   "outputs": [],
   "source": [
    "# 일치하는 JSON 파일 검색 및 복사\n",
    "moved_files_count_train = 0\n",
    "moved_files_count_val = 0"
   ]
  },
  {
   "cell_type": "code",
   "execution_count": null,
   "id": "7ba8f95f",
   "metadata": {},
   "outputs": [],
   "source": [
    "json_paths = glob.glob(json_pattern, recursive=True)\n",
    "for json_path in tqdm(json_paths, desc=\"JSON 파일 이동 진행\", unit=\"파일\"):\n",
    "    json_filename = os.path.basename(json_path)\n",
    "    file_basename, _ = os.path.splitext(json_filename)\n",
    "    \n",
    "    if file_basename in train_json_filenames:\n",
    "        dest_path = os.path.join(train_target_json_dir, json_filename)\n",
    "        shutil.copy(json_path, dest_path)\n",
    "        moved_files_count_train += 1\n",
    "    elif file_basename in val_json_filenames:\n",
    "        dest_path = os.path.join(val_target_json_dir, json_filename)\n",
    "        shutil.copy(json_path, dest_path)\n",
    "        moved_files_count_val += 1"
   ]
  },
  {
   "cell_type": "code",
   "execution_count": null,
   "id": "7ac8979d",
   "metadata": {},
   "outputs": [],
   "source": [
    "# 이동된 파일 개수 출력\n",
    "print(f\"\\n총 {moved_files_count_train}개의 JSON 파일이 {train_target_json_dir}로 이동되었습니다.\")\n",
    "print(f\"총 {moved_files_count_val}개의 JSON 파일이 {val_target_json_dir}로 이동되었습니다.\")"
   ]
  }
 ],
 "metadata": {
  "jupytext": {
   "cell_metadata_filter": "-all",
   "main_language": "python",
   "notebook_metadata_filter": "-all"
  }
 },
 "nbformat": 4,
 "nbformat_minor": 5
}

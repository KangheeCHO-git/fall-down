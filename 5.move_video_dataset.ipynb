{
 "cells": [
  {
   "cell_type": "markdown",
   "id": "ba83d950",
   "metadata": {},
   "source": [
    "```\n",
    "* 5112개의 비낙상 데이터와 5096개의 낙상 데이터를 데이터셋으로 옮김 (낙상 데이터가 과도하게 많아 기존 15288개 중 1/3인 5096개만 사용하기로 함)\n",
    "* 1 피실험자당 8개의 카메라 각도로 촬영됨\n",
    "* 1개의 카메라 각도당 이미지는 10장, 비디오는 10초 촬영됨 (10초/비디오 * 60 프레임/초 = 600 프레임)\n",
    "* yolov8s 학습에는 데이터셋의 모든 이미지를 사용함 (10208 * 10 = 102080 사진)\n",
    "* GRU 학습에는 데이터셋의 1/5에 해당하는 비디오만 사용함 (2024 동영상)\n",
    "* 동영상은 1개당 600 프레임이며, 6프레임 별로 yolo bbox ratio 1개 및 mediapipe 관절 좌표값 22개를 추출함 (100 프레임/동영상 * 23개/프레임 = 2300개/동영상)\n",
    "\n",
    "* 기존 label에 기록된 낙상 중인 시점을 이용하여 100 프레임/동영상에 대해 각 프레임당 피실험자 상태(정상/낙상 중/낙상 후)를 classification함\n",
    "* 2024개의 동영상(100 프레임/동영상)에 대해 yolo bbox, mediapipe 관절 좌표값을 탐지하여 JSON으로 추출함 (팀원 GPU 이용)\n",
    "* 우리는 이미 추출된 JSON에 맞춰 동영상 데이터셋을 생성하기로 함\n",
    "```"
   ]
  },
  {
   "cell_type": "code",
   "execution_count": 9,
   "id": "688bca3d",
   "metadata": {},
   "outputs": [],
   "source": [
    "import os\n",
    "import glob\n",
    "import random\n",
    "import shutil\n",
    "from tqdm import tqdm\n",
    "from collections import defaultdict"
   ]
  },
  {
   "cell_type": "code",
   "execution_count": 10,
   "id": "8dc04df9",
   "metadata": {},
   "outputs": [],
   "source": [
    "# 랜덤 시드 설정\n",
    "RANDOM_SEED = 2024\n",
    "random.seed(RANDOM_SEED)"
   ]
  },
  {
   "cell_type": "code",
   "execution_count": 11,
   "id": "74b2f36a",
   "metadata": {},
   "outputs": [],
   "source": [
    "# 이미 추출된 JSON 경로 설정\n",
    "json_combined_dir = 'D:\\\\Falldown\\\\Json_combined'"
   ]
  },
  {
   "cell_type": "code",
   "execution_count": 12,
   "id": "903cb300",
   "metadata": {},
   "outputs": [],
   "source": [
    "# 이미 추출된 JSON을 다시 split할 경로\n",
    "train_combined_json_dir = 'D:\\\\Falldown\\\\Dataset\\\\Video_Dataset\\\\Json_combined\\\\Train'\n",
    "val_combined_json_dir = 'D:\\\\Falldown\\\\Dataset\\\\Video_Dataset\\\\Json_combined\\\\Val'\n",
    "test_combined_json_dir = 'D:\\\\Falldown\\\\Dataset\\\\Video_Dataset\\\\Json_combined\\\\Test'\n",
    "\n",
    "# 이미 추출된 combined_JSON에 맞춘 동영상 데이터셋 경로\n",
    "train_target_video_dir = 'D:\\\\Falldown\\\\Dataset\\\\Video_Dataset\\\\Video\\\\Train'\n",
    "val_target_video_dir = 'D:\\\\Falldown\\\\Dataset\\\\Video_Dataset\\\\Video\\\\Val'\n",
    "test_target_video_dir = 'D:\\\\Falldown\\\\Dataset\\\\Video_Dataset\\\\Video\\\\Test'\n",
    "\n",
    "# 이미 추출된 combined_JSON에 맞춘 initial JSON 데이터셋 경로\n",
    "train_initial_json_dir = 'D:\\\\Falldown\\\\Dataset\\\\Video_Dataset\\\\Json_initial\\Train'\n",
    "val_initial_json_dir = 'D:\\\\Falldown\\\\Dataset\\\\Video_Dataset\\\\Json_initial\\Val'\n",
    "test_initial_json_dir = 'D:\\\\Falldown\\\\Dataset\\\\Video_Dataset\\\\Json_initial\\Test'"
   ]
  },
  {
   "cell_type": "code",
   "execution_count": 13,
   "id": "11986194",
   "metadata": {},
   "outputs": [],
   "source": [
    "# Source 비디오 파일 경로 패턴\n",
    "video_pattern = r'D:\\\\Falldown\\\\Dataset\\\\Original_Dataset\\\\*\\\\SourceData\\\\Video\\\\*\\\\*\\\\*\\\\*.mp4'\n",
    "\n",
    "# Source JSON 파일 경로 패턴\n",
    "json_pattern = r'D:\\\\Falldown\\\\Origin\\\\*\\\\LabelingData\\\\Video\\\\*\\\\*\\\\*\\\\*.json'"
   ]
  },
  {
   "cell_type": "code",
   "execution_count": 21,
   "id": "93db3555",
   "metadata": {},
   "outputs": [],
   "source": [
    "# 필요한 디렉토리 생성\n",
    "for target_dir in [\n",
    "    train_combined_json_dir, val_combined_json_dir, test_combined_json_dir,\n",
    "    train_target_video_dir, val_target_video_dir, test_target_video_dir,\n",
    "    train_initial_json_dir, val_initial_json_dir, test_initial_json_dir\n",
    "]:\n",
    "    if not os.path.exists(target_dir):\n",
    "        os.makedirs(target_dir)"
   ]
  },
  {
   "cell_type": "code",
   "execution_count": 22,
   "id": "ab32e37e",
   "metadata": {},
   "outputs": [],
   "source": [
    "# 그룹화\n",
    "json_files = glob.glob(os.path.join(json_combined_dir, '**', '*.json'), recursive=True)\n",
    "grouped_files = defaultdict(list)\n",
    "\n",
    "for file_path in json_files:\n",
    "    # 그룹키는 파일 이름에서 환자 단위로 추출 (ex. \"00060_H_A_SY\")\n",
    "    group_key = os.path.basename(file_path).rsplit('_C', 1)[0]\n",
    "    grouped_files[group_key].append(file_path)"
   ]
  },
  {
   "cell_type": "code",
   "execution_count": 23,
   "id": "893a2028",
   "metadata": {},
   "outputs": [],
   "source": [
    "# 그룹 키 리스트 추출 및 셔플\n",
    "group_keys = list(grouped_files.keys())\n",
    "random.shuffle(group_keys)\n",
    "\n",
    "# 그룹 키를 Train, Validation, Test로 분할\n",
    "def split_groups(group_keys, split_ratios=(0.8, 0.1, 0.1)):\n",
    "    total_groups = len(group_keys)\n",
    "    train_end = int(total_groups * split_ratios[0])\n",
    "    val_end = train_end + int(total_groups * split_ratios[1])\n",
    "    \n",
    "    train_keys = group_keys[:train_end]\n",
    "    val_keys = group_keys[train_end:val_end]\n",
    "    test_keys = group_keys[val_end:]\n",
    "    \n",
    "    return train_keys, val_keys, test_keys\n",
    "\n",
    "train_keys, val_keys, test_keys = split_groups(group_keys)"
   ]
  },
  {
   "cell_type": "code",
   "execution_count": 25,
   "id": "14965c4d",
   "metadata": {},
   "outputs": [
    {
     "name": "stdout",
     "output_type": "stream",
     "text": [
      "총 JSON 파일 수: 2024\n",
      "총 그룹 수: 253\n"
     ]
    }
   ],
   "source": [
    "print(f\"총 JSON 파일 수: {len(json_files)}\")\n",
    "print(f\"총 그룹 수: {len(grouped_files)}\")"
   ]
  },
  {
   "cell_type": "code",
   "execution_count": 24,
   "id": "f4a25adf",
   "metadata": {},
   "outputs": [
    {
     "name": "stdout",
     "output_type": "stream",
     "text": [
      "Combined JSON 데이터셋 복사 시작\n"
     ]
    },
    {
     "name": "stderr",
     "output_type": "stream",
     "text": [
      "Json_combined JSON 복사 중: 100%|██████████| 202/202 [00:01<00:00, 157.79group/s]\n",
      "Json_combined JSON 복사 중: 100%|██████████| 25/25 [00:00<00:00, 158.41group/s]\n",
      "Json_combined JSON 복사 중: 100%|██████████| 26/26 [00:00<00:00, 155.48group/s]\n"
     ]
    },
    {
     "name": "stdout",
     "output_type": "stream",
     "text": [
      "Video 데이터셋 복사 시작\n"
     ]
    },
    {
     "name": "stderr",
     "output_type": "stream",
     "text": [
      "Video 동영상 복사 중: 100%|██████████| 202/202 [01:32<00:00,  2.19group/s]\n",
      "Video 동영상 복사 중: 100%|██████████| 25/25 [00:11<00:00,  2.22group/s]\n",
      "Video 동영상 복사 중: 100%|██████████| 26/26 [00:12<00:00,  2.13group/s]\n"
     ]
    },
    {
     "name": "stdout",
     "output_type": "stream",
     "text": [
      "Initial JSON 데이터셋 복사 시작\n"
     ]
    },
    {
     "name": "stderr",
     "output_type": "stream",
     "text": [
      "Json_initial Initial JSON 복사 중: 100%|██████████| 202/202 [00:00<?, ?group/s]\n",
      "Json_initial Initial JSON 복사 중: 100%|██████████| 25/25 [00:00<?, ?group/s]\n",
      "Json_initial Initial JSON 복사 중: 100%|██████████| 26/26 [00:00<?, ?group/s]"
     ]
    },
    {
     "name": "stdout",
     "output_type": "stream",
     "text": [
      "Train: 202 groups\n",
      "Val: 25 groups\n",
      "Test: 26 groups\n"
     ]
    },
    {
     "name": "stderr",
     "output_type": "stream",
     "text": [
      "\n"
     ]
    }
   ],
   "source": [
    "# Combined JSON 복사 함수\n",
    "def copy_json_files(group_keys, json_target_dir):\n",
    "    for group_key in tqdm(group_keys, desc=f\"{json_target_dir.split(os.sep)[-2]} JSON 복사 중\", unit=\"group\"):\n",
    "        for json_file in grouped_files[group_key]:\n",
    "            shutil.copy(json_file, os.path.join(json_target_dir, os.path.basename(json_file)))\n",
    "\n",
    "# 동영상 복사 함수\n",
    "def copy_video_files(group_keys, video_pattern, video_target_dir):\n",
    "    video_files = glob.glob(video_pattern, recursive=True)\n",
    "    for group_key in tqdm(group_keys, desc=f\"{video_target_dir.split(os.sep)[-2]} 동영상 복사 중\", unit=\"group\"):\n",
    "        for video_file in video_files:\n",
    "            if group_key in os.path.basename(video_file):\n",
    "                shutil.copy(video_file, os.path.join(video_target_dir, os.path.basename(video_file)))\n",
    "\n",
    "# Initial JSON 복사 함수\n",
    "def copy_initial_json_files(group_keys, json_pattern, initial_json_target_dir):\n",
    "    json_source_files = glob.glob(json_pattern, recursive=True)\n",
    "    for group_key in tqdm(group_keys, desc=f\"{initial_json_target_dir.split(os.sep)[-2]} Initial JSON 복사 중\", unit=\"group\"):\n",
    "        for json_file in json_source_files:\n",
    "            if group_key in os.path.basename(json_file):\n",
    "                shutil.copy(json_file, os.path.join(initial_json_target_dir, os.path.basename(json_file)))\n",
    "\n",
    "# 데이터셋 복사 시작\n",
    "print(\"Combined JSON 데이터셋 복사 시작\")\n",
    "copy_json_files(train_keys, train_combined_json_dir)\n",
    "copy_json_files(val_keys, val_combined_json_dir)\n",
    "copy_json_files(test_keys, test_combined_json_dir)\n",
    "\n",
    "print(\"Video 데이터셋 복사 시작\")\n",
    "copy_video_files(train_keys, video_pattern, train_target_video_dir)\n",
    "copy_video_files(val_keys, video_pattern, val_target_video_dir)\n",
    "copy_video_files(test_keys, video_pattern, test_target_video_dir)\n",
    "\n",
    "print(\"Initial JSON 데이터셋 복사 시작\")\n",
    "copy_initial_json_files(train_keys, json_pattern, train_initial_json_dir)\n",
    "copy_initial_json_files(val_keys, json_pattern, val_initial_json_dir)\n",
    "copy_initial_json_files(test_keys, json_pattern, test_initial_json_dir)\n",
    "\n",
    "# 결과 출력\n",
    "print(f\"Train: {len(train_keys)} groups\")\n",
    "print(f\"Val: {len(val_keys)} groups\")\n",
    "print(f\"Test: {len(test_keys)} groups\")"
   ]
  },
  {
   "cell_type": "code",
   "execution_count": null,
   "id": "40d68e57",
   "metadata": {},
   "outputs": [],
   "source": []
  }
 ],
 "metadata": {
  "jupytext": {
   "cell_metadata_filter": "-all",
   "main_language": "python",
   "notebook_metadata_filter": "-all"
  },
  "kernelspec": {
   "display_name": "Python 3",
   "language": "python",
   "name": "python3"
  },
  "language_info": {
   "codemirror_mode": {
    "name": "ipython",
    "version": 3
   },
   "file_extension": ".py",
   "mimetype": "text/x-python",
   "name": "python",
   "nbconvert_exporter": "python",
   "pygments_lexer": "ipython3",
   "version": "3.10.11"
  }
 },
 "nbformat": 4,
 "nbformat_minor": 5
}

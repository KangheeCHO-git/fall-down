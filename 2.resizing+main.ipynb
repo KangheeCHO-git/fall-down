{
 "cells": [
  {
   "cell_type": "code",
   "execution_count": 6,
   "metadata": {
    "scrolled": true
   },
   "outputs": [
    {
     "name": "stdout",
     "output_type": "stream",
     "text": [
      "Requirement already satisfied: opencv-python in c:\\users\\cho\\appdata\\local\\programs\\python\\python310\\lib\\site-packages (4.10.0.84)\n",
      "Requirement already satisfied: numpy>=1.17.0 in c:\\users\\cho\\appdata\\local\\programs\\python\\python310\\lib\\site-packages (from opencv-python) (2.0.2)\n"
     ]
    },
    {
     "name": "stderr",
     "output_type": "stream",
     "text": [
      "\n",
      "[notice] A new release of pip is available: 23.0.1 -> 24.2\n",
      "[notice] To update, run: python.exe -m pip install --upgrade pip\n"
     ]
    },
    {
     "name": "stdout",
     "output_type": "stream",
     "text": [
      "Requirement already satisfied: tensorflow in c:\\users\\cho\\appdata\\local\\programs\\python\\python310\\lib\\site-packages (2.18.0)\n",
      "Requirement already satisfied: tensorflow-intel==2.18.0 in c:\\users\\cho\\appdata\\local\\programs\\python\\python310\\lib\\site-packages (from tensorflow) (2.18.0)\n",
      "Requirement already satisfied: setuptools in c:\\users\\cho\\appdata\\local\\programs\\python\\python310\\lib\\site-packages (from tensorflow-intel==2.18.0->tensorflow) (65.5.0)\n",
      "Requirement already satisfied: flatbuffers>=24.3.25 in c:\\users\\cho\\appdata\\local\\programs\\python\\python310\\lib\\site-packages (from tensorflow-intel==2.18.0->tensorflow) (24.3.25)\n",
      "Requirement already satisfied: libclang>=13.0.0 in c:\\users\\cho\\appdata\\local\\programs\\python\\python310\\lib\\site-packages (from tensorflow-intel==2.18.0->tensorflow) (18.1.1)\n",
      "Requirement already satisfied: protobuf!=4.21.0,!=4.21.1,!=4.21.2,!=4.21.3,!=4.21.4,!=4.21.5,<6.0.0dev,>=3.20.3 in c:\\users\\cho\\appdata\\local\\programs\\python\\python310\\lib\\site-packages (from tensorflow-intel==2.18.0->tensorflow) (4.25.5)\n",
      "Requirement already satisfied: termcolor>=1.1.0 in c:\\users\\cho\\appdata\\local\\programs\\python\\python310\\lib\\site-packages (from tensorflow-intel==2.18.0->tensorflow) (2.5.0)\n",
      "Requirement already satisfied: astunparse>=1.6.0 in c:\\users\\cho\\appdata\\local\\programs\\python\\python310\\lib\\site-packages (from tensorflow-intel==2.18.0->tensorflow) (1.6.3)\n",
      "Requirement already satisfied: absl-py>=1.0.0 in c:\\users\\cho\\appdata\\local\\programs\\python\\python310\\lib\\site-packages (from tensorflow-intel==2.18.0->tensorflow) (2.1.0)\n",
      "Requirement already satisfied: numpy<2.1.0,>=1.26.0 in c:\\users\\cho\\appdata\\local\\programs\\python\\python310\\lib\\site-packages (from tensorflow-intel==2.18.0->tensorflow) (2.0.2)\n",
      "Requirement already satisfied: requests<3,>=2.21.0 in c:\\users\\cho\\appdata\\local\\programs\\python\\python310\\lib\\site-packages (from tensorflow-intel==2.18.0->tensorflow) (2.32.3)\n",
      "Requirement already satisfied: google-pasta>=0.1.1 in c:\\users\\cho\\appdata\\local\\programs\\python\\python310\\lib\\site-packages (from tensorflow-intel==2.18.0->tensorflow) (0.2.0)\n",
      "Requirement already satisfied: tensorboard<2.19,>=2.18 in c:\\users\\cho\\appdata\\local\\programs\\python\\python310\\lib\\site-packages (from tensorflow-intel==2.18.0->tensorflow) (2.18.0)\n",
      "Requirement already satisfied: h5py>=3.11.0 in c:\\users\\cho\\appdata\\local\\programs\\python\\python310\\lib\\site-packages (from tensorflow-intel==2.18.0->tensorflow) (3.12.1)\n",
      "Requirement already satisfied: packaging in c:\\users\\cho\\appdata\\local\\programs\\python\\python310\\lib\\site-packages (from tensorflow-intel==2.18.0->tensorflow) (24.1)\n",
      "Requirement already satisfied: wrapt>=1.11.0 in c:\\users\\cho\\appdata\\local\\programs\\python\\python310\\lib\\site-packages (from tensorflow-intel==2.18.0->tensorflow) (1.16.0)\n",
      "Requirement already satisfied: grpcio<2.0,>=1.24.3 in c:\\users\\cho\\appdata\\local\\programs\\python\\python310\\lib\\site-packages (from tensorflow-intel==2.18.0->tensorflow) (1.67.0)\n",
      "Requirement already satisfied: opt-einsum>=2.3.2 in c:\\users\\cho\\appdata\\local\\programs\\python\\python310\\lib\\site-packages (from tensorflow-intel==2.18.0->tensorflow) (3.4.0)\n",
      "Requirement already satisfied: keras>=3.5.0 in c:\\users\\cho\\appdata\\local\\programs\\python\\python310\\lib\\site-packages (from tensorflow-intel==2.18.0->tensorflow) (3.6.0)\n",
      "Requirement already satisfied: six>=1.12.0 in c:\\users\\cho\\appdata\\local\\programs\\python\\python310\\lib\\site-packages (from tensorflow-intel==2.18.0->tensorflow) (1.16.0)\n",
      "Requirement already satisfied: gast!=0.5.0,!=0.5.1,!=0.5.2,>=0.2.1 in c:\\users\\cho\\appdata\\local\\programs\\python\\python310\\lib\\site-packages (from tensorflow-intel==2.18.0->tensorflow) (0.6.0)\n",
      "Requirement already satisfied: typing-extensions>=3.6.6 in c:\\users\\cho\\appdata\\local\\programs\\python\\python310\\lib\\site-packages (from tensorflow-intel==2.18.0->tensorflow) (4.12.2)\n",
      "Requirement already satisfied: ml-dtypes<0.5.0,>=0.4.0 in c:\\users\\cho\\appdata\\local\\programs\\python\\python310\\lib\\site-packages (from tensorflow-intel==2.18.0->tensorflow) (0.4.1)\n",
      "Requirement already satisfied: tensorflow-io-gcs-filesystem>=0.23.1 in c:\\users\\cho\\appdata\\local\\programs\\python\\python310\\lib\\site-packages (from tensorflow-intel==2.18.0->tensorflow) (0.31.0)\n",
      "Requirement already satisfied: wheel<1.0,>=0.23.0 in c:\\users\\cho\\appdata\\local\\programs\\python\\python310\\lib\\site-packages (from astunparse>=1.6.0->tensorflow-intel==2.18.0->tensorflow) (0.44.0)\n",
      "Requirement already satisfied: optree in c:\\users\\cho\\appdata\\local\\programs\\python\\python310\\lib\\site-packages (from keras>=3.5.0->tensorflow-intel==2.18.0->tensorflow) (0.13.0)\n",
      "Requirement already satisfied: rich in c:\\users\\cho\\appdata\\local\\programs\\python\\python310\\lib\\site-packages (from keras>=3.5.0->tensorflow-intel==2.18.0->tensorflow) (13.9.3)\n",
      "Requirement already satisfied: namex in c:\\users\\cho\\appdata\\local\\programs\\python\\python310\\lib\\site-packages (from keras>=3.5.0->tensorflow-intel==2.18.0->tensorflow) (0.0.8)\n",
      "Requirement already satisfied: charset-normalizer<4,>=2 in c:\\users\\cho\\appdata\\local\\programs\\python\\python310\\lib\\site-packages (from requests<3,>=2.21.0->tensorflow-intel==2.18.0->tensorflow) (3.4.0)\n",
      "Requirement already satisfied: urllib3<3,>=1.21.1 in c:\\users\\cho\\appdata\\local\\programs\\python\\python310\\lib\\site-packages (from requests<3,>=2.21.0->tensorflow-intel==2.18.0->tensorflow) (2.2.3)\n",
      "Requirement already satisfied: certifi>=2017.4.17 in c:\\users\\cho\\appdata\\local\\programs\\python\\python310\\lib\\site-packages (from requests<3,>=2.21.0->tensorflow-intel==2.18.0->tensorflow) (2024.8.30)\n",
      "Requirement already satisfied: idna<4,>=2.5 in c:\\users\\cho\\appdata\\local\\programs\\python\\python310\\lib\\site-packages (from requests<3,>=2.21.0->tensorflow-intel==2.18.0->tensorflow) (3.10)\n",
      "Requirement already satisfied: tensorboard-data-server<0.8.0,>=0.7.0 in c:\\users\\cho\\appdata\\local\\programs\\python\\python310\\lib\\site-packages (from tensorboard<2.19,>=2.18->tensorflow-intel==2.18.0->tensorflow) (0.7.2)\n",
      "Requirement already satisfied: werkzeug>=1.0.1 in c:\\users\\cho\\appdata\\local\\programs\\python\\python310\\lib\\site-packages (from tensorboard<2.19,>=2.18->tensorflow-intel==2.18.0->tensorflow) (3.0.5)\n",
      "Requirement already satisfied: markdown>=2.6.8 in c:\\users\\cho\\appdata\\local\\programs\\python\\python310\\lib\\site-packages (from tensorboard<2.19,>=2.18->tensorflow-intel==2.18.0->tensorflow) (3.7)\n",
      "Requirement already satisfied: MarkupSafe>=2.1.1 in c:\\users\\cho\\appdata\\local\\programs\\python\\python310\\lib\\site-packages (from werkzeug>=1.0.1->tensorboard<2.19,>=2.18->tensorflow-intel==2.18.0->tensorflow) (3.0.2)\n",
      "Requirement already satisfied: markdown-it-py>=2.2.0 in c:\\users\\cho\\appdata\\local\\programs\\python\\python310\\lib\\site-packages (from rich->keras>=3.5.0->tensorflow-intel==2.18.0->tensorflow) (3.0.0)\n",
      "Requirement already satisfied: pygments<3.0.0,>=2.13.0 in c:\\users\\cho\\appdata\\local\\programs\\python\\python310\\lib\\site-packages (from rich->keras>=3.5.0->tensorflow-intel==2.18.0->tensorflow) (2.18.0)\n",
      "Requirement already satisfied: mdurl~=0.1 in c:\\users\\cho\\appdata\\local\\programs\\python\\python310\\lib\\site-packages (from markdown-it-py>=2.2.0->rich->keras>=3.5.0->tensorflow-intel==2.18.0->tensorflow) (0.1.2)\n"
     ]
    },
    {
     "name": "stderr",
     "output_type": "stream",
     "text": [
      "\n",
      "[notice] A new release of pip is available: 23.0.1 -> 24.2\n",
      "[notice] To update, run: python.exe -m pip install --upgrade pip\n"
     ]
    },
    {
     "name": "stdout",
     "output_type": "stream",
     "text": [
      "Looking in indexes: https://download.pytorch.org/whl/cu118\n",
      "Requirement already satisfied: torch in c:\\users\\cho\\appdata\\local\\programs\\python\\python310\\lib\\site-packages (2.5.0+cu118)\n",
      "Requirement already satisfied: torchvision in c:\\users\\cho\\appdata\\local\\programs\\python\\python310\\lib\\site-packages (0.20.0+cu118)\n",
      "Requirement already satisfied: torchaudio in c:\\users\\cho\\appdata\\local\\programs\\python\\python310\\lib\\site-packages (2.5.0+cu118)\n",
      "Requirement already satisfied: filelock in c:\\users\\cho\\appdata\\local\\programs\\python\\python310\\lib\\site-packages (from torch) (3.13.1)\n",
      "Requirement already satisfied: networkx in c:\\users\\cho\\appdata\\local\\programs\\python\\python310\\lib\\site-packages (from torch) (3.2.1)\n",
      "Requirement already satisfied: jinja2 in c:\\users\\cho\\appdata\\local\\programs\\python\\python310\\lib\\site-packages (from torch) (3.1.4)\n",
      "Requirement already satisfied: typing-extensions>=4.8.0 in c:\\users\\cho\\appdata\\local\\programs\\python\\python310\\lib\\site-packages (from torch) (4.12.2)\n",
      "Requirement already satisfied: fsspec in c:\\users\\cho\\appdata\\local\\programs\\python\\python310\\lib\\site-packages (from torch) (2024.2.0)\n",
      "Requirement already satisfied: sympy==1.13.1 in c:\\users\\cho\\appdata\\local\\programs\\python\\python310\\lib\\site-packages (from torch) (1.13.1)\n",
      "Requirement already satisfied: mpmath<1.4,>=1.1.0 in c:\\users\\cho\\appdata\\local\\programs\\python\\python310\\lib\\site-packages (from sympy==1.13.1->torch) (1.3.0)\n",
      "Requirement already satisfied: numpy in c:\\users\\cho\\appdata\\local\\programs\\python\\python310\\lib\\site-packages (from torchvision) (2.0.2)\n",
      "Requirement already satisfied: pillow!=8.3.*,>=5.3.0 in c:\\users\\cho\\appdata\\local\\programs\\python\\python310\\lib\\site-packages (from torchvision) (10.2.0)\n",
      "Requirement already satisfied: MarkupSafe>=2.0 in c:\\users\\cho\\appdata\\local\\programs\\python\\python310\\lib\\site-packages (from jinja2->torch) (3.0.2)\n"
     ]
    },
    {
     "name": "stderr",
     "output_type": "stream",
     "text": [
      "\n",
      "[notice] A new release of pip is available: 23.0.1 -> 24.2\n",
      "[notice] To update, run: python.exe -m pip install --upgrade pip\n"
     ]
    },
    {
     "name": "stdout",
     "output_type": "stream",
     "text": [
      "Requirement already satisfied: tqdm in c:\\users\\cho\\appdata\\local\\programs\\python\\python310\\lib\\site-packages (4.66.5)\n",
      "Requirement already satisfied: colorama in c:\\users\\cho\\appdata\\local\\programs\\python\\python310\\lib\\site-packages (from tqdm) (0.4.6)\n"
     ]
    },
    {
     "name": "stderr",
     "output_type": "stream",
     "text": [
      "\n",
      "[notice] A new release of pip is available: 23.0.1 -> 24.2\n",
      "[notice] To update, run: python.exe -m pip install --upgrade pip\n"
     ]
    },
    {
     "name": "stdout",
     "output_type": "stream",
     "text": [
      "Requirement already satisfied: ultralytics in c:\\users\\cho\\appdata\\local\\programs\\python\\python310\\lib\\site-packages (8.3.23)\n",
      "Requirement already satisfied: matplotlib>=3.3.0 in c:\\users\\cho\\appdata\\local\\programs\\python\\python310\\lib\\site-packages (from ultralytics) (3.9.2)\n",
      "Requirement already satisfied: requests>=2.23.0 in c:\\users\\cho\\appdata\\local\\programs\\python\\python310\\lib\\site-packages (from ultralytics) (2.32.3)\n",
      "Requirement already satisfied: opencv-python>=4.6.0 in c:\\users\\cho\\appdata\\local\\programs\\python\\python310\\lib\\site-packages (from ultralytics) (4.10.0.84)\n",
      "Requirement already satisfied: py-cpuinfo in c:\\users\\cho\\appdata\\local\\programs\\python\\python310\\lib\\site-packages (from ultralytics) (9.0.0)\n",
      "Requirement already satisfied: psutil in c:\\users\\cho\\appdata\\local\\programs\\python\\python310\\lib\\site-packages (from ultralytics) (6.1.0)\n",
      "Requirement already satisfied: scipy>=1.4.1 in c:\\users\\cho\\appdata\\local\\programs\\python\\python310\\lib\\site-packages (from ultralytics) (1.14.1)\n",
      "Requirement already satisfied: pandas>=1.1.4 in c:\\users\\cho\\appdata\\local\\programs\\python\\python310\\lib\\site-packages (from ultralytics) (2.2.3)\n",
      "Requirement already satisfied: ultralytics-thop>=2.0.0 in c:\\users\\cho\\appdata\\local\\programs\\python\\python310\\lib\\site-packages (from ultralytics) (2.0.9)\n",
      "Requirement already satisfied: torch!=2.4.0,>=1.8.0 in c:\\users\\cho\\appdata\\local\\programs\\python\\python310\\lib\\site-packages (from ultralytics) (2.5.0+cu118)\n",
      "Requirement already satisfied: seaborn>=0.11.0 in c:\\users\\cho\\appdata\\local\\programs\\python\\python310\\lib\\site-packages (from ultralytics) (0.13.2)\n",
      "Requirement already satisfied: tqdm>=4.64.0 in c:\\users\\cho\\appdata\\local\\programs\\python\\python310\\lib\\site-packages (from ultralytics) (4.66.5)\n",
      "Requirement already satisfied: numpy>=1.23.0 in c:\\users\\cho\\appdata\\local\\programs\\python\\python310\\lib\\site-packages (from ultralytics) (2.0.2)\n",
      "Requirement already satisfied: pyyaml>=5.3.1 in c:\\users\\cho\\appdata\\local\\programs\\python\\python310\\lib\\site-packages (from ultralytics) (6.0.2)\n",
      "Requirement already satisfied: torchvision>=0.9.0 in c:\\users\\cho\\appdata\\local\\programs\\python\\python310\\lib\\site-packages (from ultralytics) (0.20.0+cu118)\n",
      "Requirement already satisfied: pillow>=7.1.2 in c:\\users\\cho\\appdata\\local\\programs\\python\\python310\\lib\\site-packages (from ultralytics) (10.2.0)\n",
      "Requirement already satisfied: packaging>=20.0 in c:\\users\\cho\\appdata\\local\\programs\\python\\python310\\lib\\site-packages (from matplotlib>=3.3.0->ultralytics) (24.1)\n",
      "Requirement already satisfied: contourpy>=1.0.1 in c:\\users\\cho\\appdata\\local\\programs\\python\\python310\\lib\\site-packages (from matplotlib>=3.3.0->ultralytics) (1.3.0)\n",
      "Requirement already satisfied: cycler>=0.10 in c:\\users\\cho\\appdata\\local\\programs\\python\\python310\\lib\\site-packages (from matplotlib>=3.3.0->ultralytics) (0.12.1)\n",
      "Requirement already satisfied: pyparsing>=2.3.1 in c:\\users\\cho\\appdata\\local\\programs\\python\\python310\\lib\\site-packages (from matplotlib>=3.3.0->ultralytics) (3.2.0)\n",
      "Requirement already satisfied: python-dateutil>=2.7 in c:\\users\\cho\\appdata\\local\\programs\\python\\python310\\lib\\site-packages (from matplotlib>=3.3.0->ultralytics) (2.9.0.post0)\n",
      "Requirement already satisfied: fonttools>=4.22.0 in c:\\users\\cho\\appdata\\local\\programs\\python\\python310\\lib\\site-packages (from matplotlib>=3.3.0->ultralytics) (4.54.1)\n",
      "Requirement already satisfied: kiwisolver>=1.3.1 in c:\\users\\cho\\appdata\\local\\programs\\python\\python310\\lib\\site-packages (from matplotlib>=3.3.0->ultralytics) (1.4.7)\n",
      "Requirement already satisfied: pytz>=2020.1 in c:\\users\\cho\\appdata\\local\\programs\\python\\python310\\lib\\site-packages (from pandas>=1.1.4->ultralytics) (2024.2)\n",
      "Requirement already satisfied: tzdata>=2022.7 in c:\\users\\cho\\appdata\\local\\programs\\python\\python310\\lib\\site-packages (from pandas>=1.1.4->ultralytics) (2024.2)\n",
      "Requirement already satisfied: certifi>=2017.4.17 in c:\\users\\cho\\appdata\\local\\programs\\python\\python310\\lib\\site-packages (from requests>=2.23.0->ultralytics) (2024.8.30)\n",
      "Requirement already satisfied: idna<4,>=2.5 in c:\\users\\cho\\appdata\\local\\programs\\python\\python310\\lib\\site-packages (from requests>=2.23.0->ultralytics) (3.10)\n",
      "Requirement already satisfied: charset-normalizer<4,>=2 in c:\\users\\cho\\appdata\\local\\programs\\python\\python310\\lib\\site-packages (from requests>=2.23.0->ultralytics) (3.4.0)\n",
      "Requirement already satisfied: urllib3<3,>=1.21.1 in c:\\users\\cho\\appdata\\local\\programs\\python\\python310\\lib\\site-packages (from requests>=2.23.0->ultralytics) (2.2.3)\n",
      "Requirement already satisfied: typing-extensions>=4.8.0 in c:\\users\\cho\\appdata\\local\\programs\\python\\python310\\lib\\site-packages (from torch!=2.4.0,>=1.8.0->ultralytics) (4.12.2)\n",
      "Requirement already satisfied: jinja2 in c:\\users\\cho\\appdata\\local\\programs\\python\\python310\\lib\\site-packages (from torch!=2.4.0,>=1.8.0->ultralytics) (3.1.4)\n",
      "Requirement already satisfied: filelock in c:\\users\\cho\\appdata\\local\\programs\\python\\python310\\lib\\site-packages (from torch!=2.4.0,>=1.8.0->ultralytics) (3.13.1)\n",
      "Requirement already satisfied: sympy==1.13.1 in c:\\users\\cho\\appdata\\local\\programs\\python\\python310\\lib\\site-packages (from torch!=2.4.0,>=1.8.0->ultralytics) (1.13.1)\n",
      "Requirement already satisfied: networkx in c:\\users\\cho\\appdata\\local\\programs\\python\\python310\\lib\\site-packages (from torch!=2.4.0,>=1.8.0->ultralytics) (3.2.1)\n",
      "Requirement already satisfied: fsspec in c:\\users\\cho\\appdata\\local\\programs\\python\\python310\\lib\\site-packages (from torch!=2.4.0,>=1.8.0->ultralytics) (2024.2.0)\n",
      "Requirement already satisfied: mpmath<1.4,>=1.1.0 in c:\\users\\cho\\appdata\\local\\programs\\python\\python310\\lib\\site-packages (from sympy==1.13.1->torch!=2.4.0,>=1.8.0->ultralytics) (1.3.0)\n",
      "Requirement already satisfied: colorama in c:\\users\\cho\\appdata\\local\\programs\\python\\python310\\lib\\site-packages (from tqdm>=4.64.0->ultralytics) (0.4.6)\n",
      "Requirement already satisfied: six>=1.5 in c:\\users\\cho\\appdata\\local\\programs\\python\\python310\\lib\\site-packages (from python-dateutil>=2.7->matplotlib>=3.3.0->ultralytics) (1.16.0)\n",
      "Requirement already satisfied: MarkupSafe>=2.0 in c:\\users\\cho\\appdata\\local\\programs\\python\\python310\\lib\\site-packages (from jinja2->torch!=2.4.0,>=1.8.0->ultralytics) (3.0.2)\n"
     ]
    },
    {
     "name": "stderr",
     "output_type": "stream",
     "text": [
      "\n",
      "[notice] A new release of pip is available: 23.0.1 -> 24.2\n",
      "[notice] To update, run: python.exe -m pip install --upgrade pip\n"
     ]
    }
   ],
   "source": [
    "!pip install opencv-python\n",
    "!pip install tensorflow\n",
    "!pip install torch torchvision torchaudio --index-url https://download.pytorch.org/whl/cu118\n",
    "!pip install tqdm\n",
    "!pip install ultralytics"
   ]
  },
  {
   "cell_type": "code",
   "execution_count": 13,
   "metadata": {},
   "outputs": [],
   "source": [
    "import random\n",
    "import os\n",
    "import shutil\n",
    "import cv2\n",
    "import glob\n",
    "import torch\n",
    "import torchvision\n",
    "import numpy as np\n",
    "import json\n",
    "import yaml\n",
    "import time\n",
    "from tqdm import tqdm\n",
    "from PIL import Image\n",
    "from torchvision import datasets, models, transforms\n",
    "from ultralytics import YOLO"
   ]
  },
  {
   "cell_type": "code",
   "execution_count": 8,
   "metadata": {},
   "outputs": [
    {
     "name": "stdout",
     "output_type": "stream",
     "text": [
      "cuda\n"
     ]
    }
   ],
   "source": [
    "device = torch.device(\"cuda\" if torch.cuda.is_available() else \"cpu\")\n",
    "print(device)"
   ]
  },
  {
   "cell_type": "code",
   "execution_count": 4,
   "metadata": {
    "scrolled": true
   },
   "outputs": [
    {
     "name": "stderr",
     "output_type": "stream",
     "text": [
      "Processing images in D:\\Falldown\\Dataset\\Train\\Image: 100%|███████████████████| 99893/99893 [16:28<00:00, 101.02file/s]\n",
      "Processing images in D:\\Falldown\\Dataset\\Val\\Image: 100%|█████████████████████| 11360/11360 [01:50<00:00, 103.24file/s]\n",
      "Processing images in D:\\Falldown\\Dataset\\Test\\Image: 100%|█████████████████████| 45280/45280 [31:53<00:00, 23.66file/s]\n"
     ]
    }
   ],
   "source": [
    "# data resize/padding\n",
    "data_root = 'D:\\\\Falldown\\\\dataset'\n",
    "train_root = f'{data_root}\\\\train\\\\images'\n",
    "val_root = f'{data_root}\\\\val\\\\images'\n",
    "test_root = f'{data_root}\\\\test\\\\images'\n",
    "\n",
    "# Helper function to resize and pad images\n",
    "def letterbox_image(image, target_size=(640, 640)):\n",
    "    # 원본 이미지 크기\n",
    "    h, w = image.shape[:2]\n",
    "    target_w, target_h = target_size\n",
    "\n",
    "    # 비율 계산\n",
    "    scale = min(target_w / w, target_h / h)\n",
    "\n",
    "    # 새로운 이미지 크기\n",
    "    new_w = int(w * scale)\n",
    "    new_h = int(h * scale)\n",
    "\n",
    "    # 이미지 리사이즈\n",
    "    resized_image = cv2.resize(image, (new_w, new_h), interpolation=cv2.INTER_LINEAR)\n",
    "\n",
    "    # 패딩 적용\n",
    "    pad_w = (target_w - new_w) // 2\n",
    "    pad_h = (target_h - new_h) // 2\n",
    "\n",
    "    # 이미지를 타겟 크기로 채워서 새로운 이미지를 만듦\n",
    "    padded_image = cv2.copyMakeBorder(resized_image, pad_h, target_h - new_h - pad_h, pad_w, target_w - new_w - pad_w,\n",
    "                                      cv2.BORDER_CONSTANT, value=[128, 128, 128])\n",
    "\n",
    "    return padded_image\n",
    "\n",
    "# Process Non-Fall Data with tqdm\n",
    "for root in [train_root, val_root, test_root]:\n",
    "    image_files = [file for file in os.listdir(root) if file.lower().endswith(('.jpg', '.jpeg', '.png'))]\n",
    "    \n",
    "    # tqdm 적용\n",
    "    for file in tqdm(image_files, desc=f\"Processing images in {root}\", unit=\"file\"):\n",
    "        file_path = os.path.join(root, file)\n",
    "        \n",
    "        # 이미지 읽기\n",
    "        image = cv2.imread(file_path)\n",
    "        if image is None:  # 이미지 읽기 실패 시 np.fromfile과 cv2.imdecode 사용\n",
    "            try:\n",
    "                image = cv2.imdecode(np.fromfile(file_path, np.uint8), cv2.IMREAD_COLOR)\n",
    "            except Exception as e:\n",
    "                print(f\"Error reading image {file_path}: {e}\")\n",
    "                continue\n",
    "        \n",
    "        if image is not None:\n",
    "            resized_image = letterbox_image(image)\n",
    "            output_path = os.path.join(root, file)\n",
    "            cv2.imwrite(output_path, resized_image)\n",
    "        else:\n",
    "            print(f\"Warning: Could not process image file {file_path}\")"
   ]
  },
  {
   "cell_type": "code",
   "execution_count": 15,
   "metadata": {},
   "outputs": [
    {
     "name": "stdout",
     "output_type": "stream",
     "text": [
      "Processing Train dataset...\n",
      "Processed all JSON files to yolo_labels in D:\\Falldown\\Dataset\\Train\\Label\n",
      "Processing Val dataset...\n",
      "Processed all JSON files to yolo_labels in D:\\Falldown\\Dataset\\Val\\Label\n",
      "Processing Test dataset...\n",
      "Processed all JSON files to yolo_labels in D:\\Falldown\\Dataset\\Test\\Label\n",
      "All datasets processed.\n"
     ]
    }
   ],
   "source": [
    "# JSON 라벨에 있는 bbox 정보를 YOLO 라벨 형식으로 변환 (정규화 포함)\n",
    "train_json = 'D:\\\\Falldown\\\\dataset\\\\train\\\\json'\n",
    "val_json = 'D:\\\\Falldown\\\\dataset\\\\val\\\\json'\n",
    "test_json = 'D:\\\\Falldown\\\\dataset\\\\test\\\\json'\n",
    "\n",
    "def convert_bbox(bbox, img_width, img_height):\n",
    "    x1, y1, x2, y2 = map(float, bbox.split(','))\n",
    "    \n",
    "    width = (x2 - x1) / img_width\n",
    "    height = (y2 - y1) / img_height\n",
    "    center_x = (x1 + x2) / (2 * img_width)\n",
    "    center_y = (y1 + y2) / (2 * img_height)\n",
    "    \n",
    "    return center_x, center_y, width, height\n",
    "\n",
    "def determine_class(file_name):\n",
    "    file_name_lower = file_name.lower()\n",
    "    if 'by' in file_name_lower or 'sy' in file_name_lower or 'fy' in file_name_lower:\n",
    "        return 1\n",
    "    else:\n",
    "        return 0\n",
    "\n",
    "def process_json(json_path, output_dir, original_size=(3840, 2160), new_size=(640, 640)):\n",
    "    with open(json_path, 'r', encoding='utf-8') as f:\n",
    "        data = json.load(f)\n",
    "    \n",
    "    orig_width, orig_height = original_size\n",
    "    new_width, new_height = new_size\n",
    "\n",
    "    # 스케일 및 패딩 계산\n",
    "    scale = min(new_width / orig_width, new_height / orig_height)\n",
    "    scaled_width = int(orig_width * scale)\n",
    "    scaled_height = int(orig_height * scale)\n",
    "    pad_x = (new_width - scaled_width) // 2\n",
    "    pad_y = (new_height - scaled_height) // 2\n",
    "\n",
    "    # JSON에서 bbox 정보를 가져와 YOLO 형식으로 변환\n",
    "    bbox = data['bboxdata']['bbox_location']\n",
    "    x, y, w, h = convert_bbox(bbox, orig_width, orig_height)\n",
    "\n",
    "    # 스케일과 패딩을 적용한 최종 좌표 계산\n",
    "    x = (x * scaled_width + pad_x) / new_width\n",
    "    y = (y * scaled_height + pad_y) / new_height\n",
    "    w = (w * scaled_width) / new_width\n",
    "    h = (h * scaled_height) / new_height\n",
    "\n",
    "    # 클래스 ID 결정\n",
    "    class_id = determine_class(data['metadata']['file_name'])\n",
    "    \n",
    "    # YOLO 형식으로 저장\n",
    "    result = f\"{class_id} {x:.6f} {y:.6f} {w:.6f} {h:.6f}\"\n",
    "    \n",
    "    output_filename = os.path.splitext(data['metadata']['file_name'])[0] + '.txt'\n",
    "    output_path = os.path.join(output_dir, output_filename)\n",
    "    \n",
    "    with open(output_path, 'w', encoding='utf-8') as f:\n",
    "        f.write(result)\n",
    "\n",
    "def process_all_json_in_folder(input_folder, output_folder, original_size=(3840, 2160), new_size=(640, 640)):\n",
    "    if not os.path.exists(output_folder):\n",
    "        os.makedirs(output_folder)\n",
    "    \n",
    "    for filename in os.listdir(input_folder):\n",
    "        if filename.endswith('.json'):\n",
    "            json_path = os.path.join(input_folder, filename)\n",
    "            process_json(json_path, output_folder, original_size, new_size)\n",
    "    \n",
    "    print(f\"Processed all JSON files to yolo_labels in {input_folder}\")\n",
    "\n",
    "# 각 데이터셋 처리\n",
    "datasets = [\n",
    "    ('Train', train_json),\n",
    "    ('Val', val_json),\n",
    "    ('Test', test_json)\n",
    "]\n",
    "\n",
    "for dataset_name, json_folder in datasets:\n",
    "    output_folder = os.path.join(os.path.dirname(json_folder), 'labels')\n",
    "    print(f\"Processing {dataset_name} dataset...\")\n",
    "    process_all_json_in_folder(json_folder, output_folder)\n",
    "\n",
    "print(\"All datasets processed.\")"
   ]
  },
  {
   "cell_type": "code",
   "execution_count": 9,
   "metadata": {},
   "outputs": [
    {
     "name": "stdout",
     "output_type": "stream",
     "text": [
      "이 경로에 yaml파일 생성 : D:\\Falldown\\dataset\n"
     ]
    }
   ],
   "source": [
    "data_root = 'D:\\\\Falldown\\\\dataset'\n",
    "train_root = f'{data_root}\\\\train\\\\images'\n",
    "val_root = f'{data_root}\\\\val\\\\images'\n",
    "class_names = {0 : 'Non_Fall', 1 : 'Fall'}\n",
    "num_classes = len(class_names)\n",
    "\n",
    "yaml_info = {\n",
    "    'path' : data_root,\n",
    "    'names': class_names,\n",
    "    'nc': num_classes,\n",
    "    'train': train_root,\n",
    "    'val': val_root\n",
    "}\n",
    "\n",
    "with open('yaml_info_yolov8s.yaml', 'w') as f : \n",
    "    yaml.dump(yaml_info, f)\n",
    "print(f'이 경로에 yaml파일 생성 : {data_root}')"
   ]
  },
  {
   "cell_type": "code",
   "execution_count": 15,
   "metadata": {},
   "outputs": [],
   "source": [
    "model = YOLO('yolov8s.pt')"
   ]
  },
  {
   "cell_type": "code",
   "execution_count": null,
   "metadata": {},
   "outputs": [],
   "source": [
    "start_time = time.time()\n",
    "\n",
    "result = model.train(data = 'D:\\\\project\\\\prjvenv\\\\yaml_info_yolov8s.yaml', epochs = 50, batch = 16, imgsz =640, device = device, workers = 20, amp = True, patience = 30, name = 'human_fall_s')\n",
    "\n",
    "end_time = time.time()\n",
    "execution_time = end_time - start_time\n",
    "print(f\"실행 시간: {execution_time:.4f} 초\") # 약 20시간 소요"
   ]
  },
  {
   "cell_type": "code",
   "execution_count": 19,
   "metadata": {},
   "outputs": [
    {
     "name": "stdout",
     "output_type": "stream",
     "text": [
      "Ultralytics 8.3.23  Python-3.10.11 torch-2.5.0+cu118 CUDA:0 (NVIDIA GeForce RTX 3060, 12287MiB)\n",
      "Model summary (fused): 168 layers, 11,126,358 parameters, 0 gradients, 28.4 GFLOPs\n"
     ]
    },
    {
     "name": "stderr",
     "output_type": "stream",
     "text": [
      "\u001b[34m\u001b[1mval: \u001b[0mScanning D:\\Falldown\\dataset\\val\\labels.cache... 11360 images, 0 backgrounds, 0 corrupt: 100%|██████████| 11360/11\u001b[0m\n",
      "                 Class     Images  Instances      Box(P          R      mAP50  mAP50-95): 100%|██████████| 355/355 [01:\n"
     ]
    },
    {
     "name": "stdout",
     "output_type": "stream",
     "text": [
      "                   all      11360      11360      0.745      0.855      0.818      0.796\n",
      "              Non_Fall       5680       5680      0.745      0.911      0.782      0.764\n",
      "                  Fall       5680       5680      0.746      0.799      0.854      0.827\n",
      "Speed: 0.2ms preprocess, 5.3ms inference, 0.0ms loss, 0.6ms postprocess per image\n",
      "Results saved to \u001b[1mruns\\detect\\val12\u001b[0m\n",
      "Validation Results:\n",
      "mAP50: 0.8183\n",
      "mAP50-95: 0.7957\n",
      "실행 시간: 285.5395 초\n"
     ]
    }
   ],
   "source": [
    "# 평가 시작 시간 기록\n",
    "start_time = time.time()\n",
    "\n",
    "# YOLO 모델 로드 및 검증 실행\n",
    "model = YOLO('D:\\\\Falldown\\\\runs\\\\detect\\\\human_fall_s30\\\\weights\\\\best.pt')\n",
    "results = model.val(data='D:\\\\Falldown\\\\yaml_info_yolov8s.yaml', imgsz=640, batch=32, device=\"cuda\")\n",
    "\n",
    "# 평가 종료 시간 기록\n",
    "end_time = time.time()\n",
    "execution_time = end_time - start_time\n",
    "\n",
    "# 결과 출력\n",
    "print(f\"Validation Results:\")\n",
    "print(f\"mAP50: {results.box.map50:.4f}\")\n",
    "print(f\"mAP50-95: {results.box.map:.4f}\")\n",
    "print(f\"실행 시간: {execution_time:.4f} 초\")"
   ]
  },
  {
   "cell_type": "code",
   "execution_count": null,
   "metadata": {},
   "outputs": [],
   "source": []
  }
 ],
 "metadata": {
  "kernelspec": {
   "display_name": "Python 3 (ipykernel)",
   "language": "python",
   "name": "python3"
  },
  "language_info": {
   "codemirror_mode": {
    "name": "ipython",
    "version": 3
   },
   "file_extension": ".py",
   "mimetype": "text/x-python",
   "name": "python",
   "nbconvert_exporter": "python",
   "pygments_lexer": "ipython3",
   "version": "3.10.11"
  }
 },
 "nbformat": 4,
 "nbformat_minor": 4
}

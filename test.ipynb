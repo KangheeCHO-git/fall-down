{
 "cells": [
  {
   "cell_type": "code",
   "execution_count": null,
   "id": "bfc2009b",
   "metadata": {},
   "outputs": [],
   "source": [
    "import torch"
   ]
  },
  {
   "cell_type": "code",
   "execution_count": null,
   "id": "b3ad7b37",
   "metadata": {},
   "outputs": [],
   "source": [
    "device = torch.device(\"cuda\" if torch.cuda.is_available() else \"cpu\")\n",
    "print(f\"Using device: {device}\")"
   ]
  },
  {
   "cell_type": "code",
   "execution_count": null,
   "id": "f7240624",
   "metadata": {},
   "outputs": [],
   "source": [
    "# 간단한 Tensor 연산\n",
    "if torch.cuda.is_available():\n",
    "    x = torch.randn(1000, 1000).to(device)\n",
    "    y = torch.matmul(x, x)\n",
    "    print(\"GPU 연산 성공\")\n",
    "else:\n",
    "    print(\"GPU가 활성화되지 않았습니다.\")"
   ]
  }
 ],
 "metadata": {
  "jupytext": {
   "cell_metadata_filter": "-all",
   "main_language": "python",
   "notebook_metadata_filter": "-all"
  }
 },
 "nbformat": 4,
 "nbformat_minor": 5
}

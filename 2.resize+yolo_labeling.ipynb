{
 "cells": [
  {
   "cell_type": "code",
   "execution_count": 1,
   "metadata": {},
   "outputs": [],
   "source": [
    "import os\n",
    "import cv2\n",
    "import numpy as np\n",
    "import json\n",
    "from tqdm import tqdm"
   ]
  },
  {
   "cell_type": "code",
   "execution_count": 2,
   "metadata": {},
   "outputs": [],
   "source": [
    "# Resizing과 Padding 시행할 이미지 데이터셋 경로\n",
    "data_root = 'D:\\\\Falldown\\\\Dataset\\\\Sorted_Dataset'\n",
    "\n",
    "train_root = f'{data_root}\\\\Train\\\\Image'\n",
    "val_root = f'{data_root}\\\\Val\\\\Image'\n",
    "test_root = f'{data_root}\\\\Test\\\\Image'\n",
    "\n",
    "# YOLO 라벨 형식으로 변환할 JSON 데이터셋 경로\n",
    "train_json = f'{data_root}\\\\Train\\\\Label'\n",
    "val_json = f'{data_root}\\\\Val\\\\Label'\n",
    "test_json = f'{data_root}\\\\Test\\\\Label'"
   ]
  },
  {
   "cell_type": "code",
   "execution_count": 6,
   "metadata": {},
   "outputs": [],
   "source": [
    "resized_data_root = 'D:\\\\Falldown\\\\Dataset\\\\Resized_Dataset'\n",
    "\n",
    "resized_train_root = f'{resized_data_root}\\\\Train\\\\images'\n",
    "resized_val_root = f'{resized_data_root}\\\\Val\\\\images'\n",
    "resized_test_root = f'{resized_data_root}\\\\Test\\\\images'\n",
    "\n",
    "# Resizing 반영한 JSON 데이터셋 경로\n",
    "resized_train_json = f'{resized_data_root}\\\\Train\\\\json_resized'\n",
    "resized_val_json = f'{resized_data_root}\\\\Val\\\\json_resized'\n",
    "resized_test_json = f'{resized_data_root}\\\\Test\\\\json_resized'\n",
    "\n",
    "# Resizing과 정규화를 시행한 YOLO Label 데이터셋 경로\n",
    "yolo_train_label = f'{resized_data_root}\\\\Train\\\\labels'\n",
    "yolo_val_label = f'{resized_data_root}\\\\Val\\\\labels'\n",
    "yolo_test_label = f'{resized_data_root}\\\\Test\\\\labels'"
   ]
  },
  {
   "cell_type": "code",
   "execution_count": null,
   "metadata": {
    "scrolled": true
   },
   "outputs": [],
   "source": [
    "# 이미지 리사이징 및 패딩\n",
    "def resize_padding_images(input_folders, output_folders, target_size=(640, 640)):\n",
    "    for input_root, output_root in zip(input_folders, output_folders):\n",
    "        if not os.path.exists(output_root):\n",
    "            os.makedirs(output_root)\n",
    "\n",
    "        image_files = [file for file in os.listdir(input_root) if file.endswith('.jpg')]\n",
    "        skipped_image = 0  # 건너뛴 이미지 개수 카운터\n",
    "        for file in tqdm(image_files, desc=f\"{input_root} 이미지 resize 및 padding 진행 중\", unit=\"file\"):\n",
    "            file_path = os.path.join(input_root, file)\n",
    "            output_path = os.path.join(output_root, file)\n",
    "            if os.path.exists(output_path):\n",
    "                skipped_image += 1  # 건너뛴 파일 카운트\n",
    "                continue  # 이미 존재하는 경우, 다음 루프 항목으로 넘어감\n",
    "\n",
    "            # 이미지 읽기\n",
    "            image = cv2.imread(file_path)\n",
    "            if image is None:\n",
    "                try:\n",
    "                    image = cv2.imdecode(np.fromfile(file_path, np.uint8), cv2.IMREAD_COLOR)\n",
    "                except Exception as e:\n",
    "                    print(f\"Error reading image {file_path}: {e}\")\n",
    "                    continue\n",
    "\n",
    "            # 이미지 리사이징 및 패딩\n",
    "            try:\n",
    "                h, w = image.shape[:2]\n",
    "                scale = min(target_size[0] / w, target_size[1] / h)\n",
    "                new_w, new_h = int(w * scale), int(h * scale)\n",
    "                resized_image = cv2.resize(image, (new_w, new_h), interpolation=cv2.INTER_LINEAR)\n",
    "                pad_w, pad_h = (target_size[0] - new_w) // 2, (target_size[1] - new_h) // 2\n",
    "                padded_image = cv2.copyMakeBorder(resized_image, pad_h, target_size[1] - new_h - pad_h,\n",
    "                                                  pad_w, target_size[0] - new_w - pad_w, cv2.BORDER_CONSTANT, value=[128, 128, 128])\n",
    "\n",
    "                # 결과 저장\n",
    "                if not cv2.imwrite(output_path, padded_image):\n",
    "                    print(f\"Error: 이미지 저장 실패 - {output_path}\")\n",
    "            except Exception as e:\n",
    "                print(f\"Warning: {file_path} 경로의 이미지 처리에 오류가 발생하였습니다. {e}\")\n",
    "\n",
    "        # 루프 종료 후 요약 메시지 출력\n",
    "        print(f\"'{input_root}'의 총 {len(image_files)}개 이미지 중 이미 존재하는 {skipped_image}개 이미지를 건너뛰었습니다.\")"
   ]
  },
  {
   "cell_type": "code",
   "execution_count": 18,
   "metadata": {},
   "outputs": [
    {
     "name": "stdout",
     "output_type": "stream",
     "text": [
      "Image resizing과 padding 시작\n"
     ]
    },
    {
     "name": "stderr",
     "output_type": "stream",
     "text": [
      "D:\\Falldown\\Dataset\\Sorted_Dataset\\Train\\Image 이미지 resize 및 padding 진행 중:   0%|          | 0/76130 [00:00<?, ?file/s]"
     ]
    },
    {
     "name": "stderr",
     "output_type": "stream",
     "text": [
      "D:\\Falldown\\Dataset\\Sorted_Dataset\\Train\\Image 이미지 resize 및 padding 진행 중: 100%|██████████| 76130/76130 [00:06<00:00, 12418.68file/s]\n"
     ]
    },
    {
     "name": "stdout",
     "output_type": "stream",
     "text": [
      "'D:\\Falldown\\Dataset\\Sorted_Dataset\\Train\\Image'의 총 76130개 이미지 중 76130개 이미지를 건너뛰었습니다.\n"
     ]
    },
    {
     "name": "stderr",
     "output_type": "stream",
     "text": [
      "D:\\Falldown\\Dataset\\Sorted_Dataset\\Val\\Image 이미지 resize 및 padding 진행 중: 100%|██████████| 9440/9440 [00:00<00:00, 12785.41file/s]\n"
     ]
    },
    {
     "name": "stdout",
     "output_type": "stream",
     "text": [
      "'D:\\Falldown\\Dataset\\Sorted_Dataset\\Val\\Image'의 총 9440개 이미지 중 9440개 이미지를 건너뛰었습니다.\n"
     ]
    },
    {
     "name": "stderr",
     "output_type": "stream",
     "text": [
      "D:\\Falldown\\Dataset\\Sorted_Dataset\\Test\\Image 이미지 resize 및 padding 진행 중: 100%|██████████| 9580/9580 [00:00<00:00, 12771.85file/s]"
     ]
    },
    {
     "name": "stdout",
     "output_type": "stream",
     "text": [
      "'D:\\Falldown\\Dataset\\Sorted_Dataset\\Test\\Image'의 총 9580개 이미지 중 9580개 이미지를 건너뛰었습니다.\n"
     ]
    },
    {
     "name": "stderr",
     "output_type": "stream",
     "text": [
      "\n"
     ]
    }
   ],
   "source": [
    "try:\n",
    "    # 이미지 Resizing 및 Padding 시행\n",
    "    print(\"Image resizing과 padding 시작\")\n",
    "    resize_padding_images(\n",
    "        [train_root, val_root, test_root],\n",
    "        [resized_train_root, resized_val_root, resized_test_root],\n",
    "        target_size=(640, 640)\n",
    "    )\n",
    "except KeyboardInterrupt:\n",
    "    print(\"KeyboardInterrupt: 사용자가 프로세스를 중단하였습니다.\")"
   ]
  },
  {
   "cell_type": "code",
   "execution_count": null,
   "metadata": {},
   "outputs": [],
   "source": [
    "# JSON 라벨을 YOLO 라벨로 변환 및 Resized JSON 저장\n",
    "def convert_json_to_yolo_and_resized(input_folder, resized_json_folder, yolo_label_folder, original_size=(3840, 2160), new_size=(640, 640)):\n",
    "    if not os.path.exists(resized_json_folder):\n",
    "        os.makedirs(resized_json_folder)\n",
    "    if not os.path.exists(yolo_label_folder):\n",
    "        os.makedirs(yolo_label_folder)\n",
    "\n",
    "    json_files = [file for file in os.listdir(input_folder) if file.endswith('.json')]\n",
    "    skipped_json_label = 0 \n",
    "    processed_json_label = 0\n",
    "    for json_file in tqdm(json_files, desc=f\"Processing JSON in {input_folder}\", unit=\"file\"):\n",
    "        json_path = os.path.join(input_folder, json_file)\n",
    "        resized_json_path = os.path.join(resized_json_folder, json_file)\n",
    "        yolo_output_file = os.path.join(yolo_label_folder, os.path.splitext(json_file)[0] + '.txt')\n",
    "\n",
    "        # 개별 파일 확인: 이미 처리된 JSON과 YOLO 파일이 모두 존재하면 건너뜀\n",
    "        if os.path.exists(resized_json_path) and os.path.exists(yolo_output_file):\n",
    "            skipped_json_label += 1\n",
    "            continue\n",
    "\n",
    "        try:\n",
    "            with open(json_path, 'r', encoding='utf-8') as f:\n",
    "                data = json.load(f)\n",
    "\n",
    "            # 원본 bbox 좌표\n",
    "            bbox = data['bboxdata']['bbox_location']\n",
    "            x1, y1, x2, y2 = map(float, bbox.split(','))\n",
    "            orig_w, orig_h = original_size\n",
    "            new_w, new_h = new_size\n",
    "\n",
    "            # 스케일 및 패딩 계산\n",
    "            scale = min(new_w / orig_w, new_h / orig_h)\n",
    "            pad_x = (new_w - orig_w * scale) / 2 # 좌우 패딩\n",
    "            pad_y = (new_h - orig_h * scale) / 2 # 상하 패딩\n",
    "\n",
    "            # 리사이즈 및 패딩된 bbox 좌표 계산\n",
    "            new_x1 = x1 * scale + pad_x\n",
    "            new_y1 = y1 * scale + pad_y\n",
    "            new_x2 = x2 * scale + pad_x\n",
    "            new_y2 = y2 * scale + pad_y\n",
    "\n",
    "            # 중심 좌표와 크기 계산 및 정규화 (YOLO 라벨 변환을 위함)\n",
    "            center_x = ((new_x1 + new_x2) / 2) / new_w\n",
    "            center_y = ((new_y1 + new_y2) / 2) / new_h\n",
    "            width = (new_x2 - new_x1) / new_w\n",
    "            height = (new_y2 - new_y1) / new_h\n",
    "\n",
    "            # YOLO 라벨 저장\n",
    "            class_id = 0  # 낙상이든 비낙상이든 사람 클래스이므로 항상 0으로 설정 # 팀원 yaml에서는 0을 비낙상, 1을 낙상으로 클래스 설정함\n",
    "            yolo_result = f\"{class_id} {center_x:.6f} {center_y:.6f} {width:.6f} {height:.6f}\"\n",
    "            with open(yolo_output_file, 'w', encoding='utf-8') as f:\n",
    "                f.write(yolo_result)\n",
    "\n",
    "            # Resized JSON 저장 (리사이즈된 절대 좌표 반영)\n",
    "            data['bboxdata']['bbox_location'] = f\"{new_x1:.2f},{new_y1:.2f},{new_x2:.2f},{new_y2:.2f}\"\n",
    "            with open(resized_json_path, 'w', encoding='utf-8') as f:\n",
    "                json.dump(data, f, ensure_ascii=False, indent=4)\n",
    "            processed_json_label += 1\n",
    "\n",
    "        except Exception as e:\n",
    "            print(f\"{json_path} 변환에 에러가 발생하였습니다: {e}\")\n",
    "\n",
    "    # 처리 결과 요약 출력\n",
    "    print(f\"'{input_folder}'에서 총 {len(json_files)}개 파일 중 {processed_json_label}개를 처리하고, {skipped_json_label}개를 건너뛰었습니다.\")"
   ]
  },
  {
   "cell_type": "code",
   "execution_count": 17,
   "metadata": {},
   "outputs": [
    {
     "name": "stdout",
     "output_type": "stream",
     "text": [
      "YOLO 라벨 변환 및 Resizing 반영한 JSON 생성 시작\n",
      "Train 경로의 JSON labels을 처리 중입니다.\n"
     ]
    },
    {
     "name": "stderr",
     "output_type": "stream",
     "text": [
      "Processing JSON in D:\\Falldown\\Dataset\\Sorted_Dataset\\Train\\Label: 100%|██████████| 81650/81650 [00:59<00:00, 1366.17file/s]\n"
     ]
    },
    {
     "name": "stdout",
     "output_type": "stream",
     "text": [
      "Val 경로의 JSON labels을 처리 중입니다.\n"
     ]
    },
    {
     "name": "stderr",
     "output_type": "stream",
     "text": [
      "Processing JSON in D:\\Falldown\\Dataset\\Sorted_Dataset\\Val\\Label: 100%|██████████| 10200/10200 [00:08<00:00, 1246.08file/s]\n"
     ]
    },
    {
     "name": "stdout",
     "output_type": "stream",
     "text": [
      "Test 경로의 JSON labels을 처리 중입니다.\n"
     ]
    },
    {
     "name": "stderr",
     "output_type": "stream",
     "text": [
      "Processing JSON in D:\\Falldown\\Dataset\\Sorted_Dataset\\Test\\Label: 100%|██████████| 10230/10230 [00:08<00:00, 1268.82file/s]"
     ]
    },
    {
     "name": "stdout",
     "output_type": "stream",
     "text": [
      "모든 데이터셋 처리가 완료되었습니다.\n"
     ]
    },
    {
     "name": "stderr",
     "output_type": "stream",
     "text": [
      "\n"
     ]
    }
   ],
   "source": [
    "# JSON 라벨을 YOLO 라벨로 변환, Resizing 반영한 JSON도 생성\n",
    "print(\"YOLO 라벨 변환 및 Resizing 반영한 JSON 생성 시작\")\n",
    "\n",
    "datasets = [\n",
    "    ('Train', train_json, resized_train_json, yolo_train_label),\n",
    "    ('Val', val_json, resized_val_json, yolo_val_label),\n",
    "    ('Test', test_json, resized_test_json, yolo_test_label)\n",
    "]\n",
    "\n",
    "for dataset_name, input_json_folder, output_resized_json_folder, output_yolo_label_folder in datasets:\n",
    "    print(f\"{dataset_name} 경로의 JSON labels을 처리 중입니다.\")\n",
    "    convert_json_to_yolo_and_resized(\n",
    "        input_folder=input_json_folder,\n",
    "        resized_json_folder=output_resized_json_folder,\n",
    "        yolo_label_folder=output_yolo_label_folder\n",
    "    )\n",
    "\n",
    "print(\"모든 데이터셋 처리가 완료되었습니다.\")"
   ]
  },
  {
   "cell_type": "code",
   "execution_count": null,
   "metadata": {},
   "outputs": [],
   "source": []
  }
 ],
 "metadata": {
  "kernelspec": {
   "display_name": "Python 3",
   "language": "python",
   "name": "python3"
  },
  "language_info": {
   "codemirror_mode": {
    "name": "ipython",
    "version": 3
   },
   "file_extension": ".py",
   "mimetype": "text/x-python",
   "name": "python",
   "nbconvert_exporter": "python",
   "pygments_lexer": "ipython3",
   "version": "3.10.11"
  }
 },
 "nbformat": 4,
 "nbformat_minor": 4
}

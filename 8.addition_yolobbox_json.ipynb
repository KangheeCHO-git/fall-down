{
 "cells": [
  {
   "cell_type": "code",
   "execution_count": null,
   "id": "737f5cf0",
   "metadata": {},
   "outputs": [],
   "source": [
    "import os\n",
    "import shutil\n",
    "import glob\n",
    "from tqdm import tqdm"
   ]
  },
  {
   "cell_type": "code",
   "execution_count": null,
   "id": "8cb6d8b4",
   "metadata": {},
   "outputs": [],
   "source": [
    "# 디렉토리 경로 설정\n",
    "train_video_dir = 'D:\\\\Falldown\\\\Re_video\\\\video\\\\re_train_NY'\n",
    "val_video_dir = 'D:\\\\Falldown\\\\Re_video\\\\video\\\\re_val_NY'\n",
    "json_search_dir = 'D:\\\\Falldown\\\\addition_yolobbox_json\\\\addition_yolobbox_json'\n",
    "train_target_json_dir = 'D:\\\\Falldown\\\\Re_video\\\\addition_yolobbox_json\\\\re_train_NY'\n",
    "val_target_json_dir = 'D:\\\\Falldown\\\\Re_video\\\\addition_yolobbox_json\\\\re_val_NY'"
   ]
  },
  {
   "cell_type": "code",
   "execution_count": null,
   "id": "cd576254",
   "metadata": {},
   "outputs": [],
   "source": [
    "# 대상 디렉토리 확인 및 생성\n",
    "for target_dir in [train_target_json_dir, val_target_json_dir]:\n",
    "    if not os.path.exists(target_dir):\n",
    "        os.makedirs(target_dir)"
   ]
  },
  {
   "cell_type": "code",
   "execution_count": null,
   "id": "d5b11463",
   "metadata": {},
   "outputs": [],
   "source": [
    "# .mp4 파일 이름 수집 (확장자 제외)\n",
    "train_mp4_files = glob.glob(os.path.join(train_video_dir, '*.mp4'))\n",
    "val_mp4_files = glob.glob(os.path.join(val_video_dir, '*.mp4'))\n",
    "train_mp4_filenames = {os.path.splitext(os.path.basename(f))[0] for f in train_mp4_files}\n",
    "val_mp4_filenames = {os.path.splitext(os.path.basename(f))[0] for f in val_mp4_files}"
   ]
  },
  {
   "cell_type": "code",
   "execution_count": null,
   "id": "556fc891",
   "metadata": {},
   "outputs": [],
   "source": [
    "# JSON 파일 검색 및 이동\n",
    "moved_files_count_train = 0\n",
    "moved_files_count_val = 0"
   ]
  },
  {
   "cell_type": "code",
   "execution_count": null,
   "id": "c7b5744d",
   "metadata": {},
   "outputs": [],
   "source": [
    "json_files = glob.glob(os.path.join(json_search_dir, '*.json'))\n",
    "for json_path in tqdm(json_files, desc=\"JSON 파일 이동 진행\", unit=\"파일\"):\n",
    "    json_filename = os.path.basename(json_path)\n",
    "    file_basename, _ = os.path.splitext(json_filename)\n",
    "    \n",
    "    if file_basename in train_mp4_filenames:\n",
    "        dest_path = os.path.join(train_target_json_dir, json_filename)\n",
    "        shutil.copy(json_path, dest_path)\n",
    "        moved_files_count_train += 1\n",
    "    elif file_basename in val_mp4_filenames:\n",
    "        dest_path = os.path.join(val_target_json_dir, json_filename)\n",
    "        shutil.copy(json_path, dest_path)\n",
    "        moved_files_count_val += 1"
   ]
  },
  {
   "cell_type": "code",
   "execution_count": null,
   "id": "13890473",
   "metadata": {},
   "outputs": [],
   "source": [
    "# 이동된 파일 개수 출력\n",
    "print(f\"\\n총 {moved_files_count_train}개의 JSON 파일이 {train_target_json_dir}로 이동되었습니다.\")\n",
    "print(f\"총 {moved_files_count_val}개의 JSON 파일이 {val_target_json_dir}로 이동되었습니다.\")"
   ]
  }
 ],
 "metadata": {
  "jupytext": {
   "cell_metadata_filter": "-all",
   "main_language": "python",
   "notebook_metadata_filter": "-all"
  }
 },
 "nbformat": 4,
 "nbformat_minor": 5
}

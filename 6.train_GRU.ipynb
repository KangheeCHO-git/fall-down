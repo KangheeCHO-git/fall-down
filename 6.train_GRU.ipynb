{
 "cells": [
  {
   "cell_type": "code",
   "execution_count": null,
   "id": "beb6bb6f",
   "metadata": {},
   "outputs": [],
   "source": [
    "import os\n",
    "import json\n",
    "import cv2\n",
    "import torch\n",
    "import torch.nn as nn\n",
    "from torch.utils.data import Dataset, DataLoader\n",
    "from sklearn.preprocessing import StandardScaler\n",
    "from sklearn.utils.class_weight import compute_class_weight\n",
    "from sklearn.metrics import f1_score, confusion_matrix\n",
    "import numpy as np\n",
    "from scipy.interpolate import interp1d\n",
    "from scipy.spatial import distance\n",
    "from tqdm import tqdm"
   ]
  },
  {
   "cell_type": "code",
   "execution_count": null,
   "id": "d59ceb71",
   "metadata": {},
   "outputs": [],
   "source": [
    "# GPU 설정\n",
    "device = torch.device('cuda' if torch.cuda.is_available() else 'cpu')"
   ]
  },
  {
   "cell_type": "code",
   "execution_count": null,
   "id": "468036e1",
   "metadata": {
    "lines_to_next_cell": 1
   },
   "outputs": [],
   "source": [
    "# 랜드마크 인덱스 정의 # 11개\n",
    "LANDMARKS = [0, 11, 12, 15, 16, 23, 24, 25, 26, 27, 28]"
   ]
  },
  {
   "cell_type": "code",
   "execution_count": null,
   "id": "0ec35a6a",
   "metadata": {
    "lines_to_next_cell": 1
   },
   "outputs": [],
   "source": [
    "# 데이터 증강 함수 정의\n",
    "def augment_sequence(sequence, factor=0.2):\n",
    "    time_warped = []\n",
    "    for landmark in sequence:\n",
    "        x = np.arange(len(landmark))\n",
    "        f = interp1d(x, landmark, kind='linear', axis=0)\n",
    "        x_new = np.linspace(0, len(landmark) - 1, num=int(len(landmark) * (1 + factor)))\n",
    "        time_warped.append(f(x_new))\n",
    "    return np.array(time_warped)"
   ]
  },
  {
   "cell_type": "code",
   "execution_count": null,
   "id": "18debf6c",
   "metadata": {
    "lines_to_next_cell": 1
   },
   "outputs": [],
   "source": [
    "# head_upper_body_speed 계산 함수\n",
    "def calculate_head_upper_body_speed(keypoints, prev_keypoints):\n",
    "    h = np.array([keypoints['landmark_0']['x'], keypoints['landmark_0']['y']])  # 머리 좌표\n",
    "    l = np.array([keypoints['landmark_11']['x'], keypoints['landmark_11']['y']])  # 왼쪽 어깨 좌표\n",
    "    r = np.array([keypoints['landmark_12']['x'], keypoints['landmark_12']['y']])  # 오른쪽 어깨 좌표\n",
    "\n",
    "    # 이전 프레임의 좌표\n",
    "    prev_h = np.array([prev_keypoints['landmark_0']['x'], prev_keypoints['landmark_0']['y']])\n",
    "    prev_l = np.array([prev_keypoints['landmark_11']['x'], prev_keypoints['landmark_11']['y']])\n",
    "    prev_r = np.array([prev_keypoints['landmark_12']['x'], prev_keypoints['landmark_12']['y']])\n",
    "\n",
    "    # 현재 프레임과 이전 프레임의 상체 중심\n",
    "    center_new = (h + l + r) / 3\n",
    "    center_prev = (prev_h + prev_l + prev_r) / 3\n",
    "\n",
    "    # 유클리드 거리 계산 (속도)\n",
    "    dist_new = distance.euclidean(center_new, center_prev)\n",
    "    return dist_new"
   ]
  },
  {
   "cell_type": "code",
   "execution_count": null,
   "id": "594bd98f",
   "metadata": {
    "lines_to_next_cell": 1
   },
   "outputs": [],
   "source": [
    "# 데이터셋 클래스 정의\n",
    "class FallSequenceDataset(Dataset):\n",
    "    def __init__(self, json_files, sequence_length=3):\n",
    "        self.sequence_length = sequence_length\n",
    "        self.sequences = []\n",
    "        self.labels = []\n",
    "        self.scaler = StandardScaler()\n",
    "\n",
    "        all_landmarks = []\n",
    "\n",
    "        for json_file in tqdm(json_files, desc=\"Processing JSON files\"):\n",
    "            with open(json_file, 'r') as f:\n",
    "                data = json.load(f)\n",
    "\n",
    "            frames = list(data['pose_data'].values())\n",
    "\n",
    "            for i in range(0, len(frames) - self.sequence_length + 1):\n",
    "                sequence = frames[i:i + self.sequence_length]\n",
    "                landmarks = []\n",
    "\n",
    "                for j, frame in enumerate(sequence):\n",
    "                    frame_landmarks = []\n",
    "                    for landmark in LANDMARKS:\n",
    "                        frame_landmarks.extend([\n",
    "                            frame[f'landmark_{landmark}']['x'],\n",
    "                            frame[f'landmark_{landmark}']['y']\n",
    "                        ])\n",
    "                    # YOLO xy ratio 및 머리/상체 속도 추가\n",
    "                    bbox = frame.get('bbox', None)\n",
    "                    if bbox:\n",
    "                        yolo_xy_ratio = (bbox['y2'] - bbox['y1']) / (bbox['x2'] - bbox['x1'])\n",
    "                    else:\n",
    "                        yolo_xy_ratio = 0.0\n",
    "                    frame_landmarks.append(yolo_xy_ratio)\n",
    "\n",
    "                    if j > 0:\n",
    "                        head_torso_speed = calculate_head_upper_body_speed(sequence[j], sequence[j - 1])\n",
    "                    else:\n",
    "                        head_torso_speed = 0.0\n",
    "                    frame_landmarks.append(head_torso_speed)\n",
    "\n",
    "                    landmarks.append(frame_landmarks)\n",
    "\n",
    "                # 데이터 증강 적용\n",
    "                augmented_sequence = augment_sequence(landmarks)\n",
    "                all_landmarks.extend(augmented_sequence)\n",
    "\n",
    "                # 레이블 재정의\n",
    "                if sequence[-1]['class'] == 'Normal':\n",
    "                    label = 0  # 비낙상\n",
    "                elif sequence[-1]['class'] == 'Danger':\n",
    "                    label = 1  # 낙상 위험\n",
    "                elif sequence[-1]['class'] == 'Fall':\n",
    "                    label = 2  # 완전 낙상\n",
    "\n",
    "                self.sequences.append(augmented_sequence)\n",
    "                self.labels.append(label)\n",
    "\n",
    "        # 전체 데이터 정규화\n",
    "        all_landmarks = np.array(all_landmarks)\n",
    "        all_landmarks_scaled = self.scaler.fit_transform(all_landmarks)\n",
    "\n",
    "        # 정규화된 데이터를 다시 시퀀스로 재구성\n",
    "        for i in range(len(self.sequences)):\n",
    "            start = i * self.sequence_length\n",
    "            end = start + self.sequence_length\n",
    "            self.sequences[i] = all_landmarks_scaled[start:end]\n",
    "\n",
    "    def __len__(self):\n",
    "        return len(self.sequences)\n",
    "\n",
    "    def __getitem__(self, idx):\n",
    "        return torch.FloatTensor(self.sequences[idx]), torch.LongTensor([self.labels[idx]]).squeeze()"
   ]
  },
  {
   "cell_type": "code",
   "execution_count": null,
   "id": "c562b8d5",
   "metadata": {
    "lines_to_next_cell": 1
   },
   "outputs": [],
   "source": [
    "# GRU 모델 정의\n",
    "class FallDetectionGRU(nn.Module):\n",
    "    def __init__(self, input_size, hidden_size=64, num_layers=2, output_size=3, dropout=0.5):\n",
    "        super(FallDetectionGRU, self).__init__()\n",
    "        self.hidden_size = hidden_size\n",
    "        self.num_layers = num_layers\n",
    "        self.gru = nn.GRU(input_size, hidden_size, num_layers, batch_first=True, dropout=dropout)\n",
    "        self.fc = nn.Linear(hidden_size, output_size)\n",
    "        self.dropout = nn.Dropout(dropout)\n",
    "\n",
    "    def forward(self, x):\n",
    "        h0 = torch.zeros(self.num_layers, x.size(0), self.hidden_size).to(x.device)\n",
    "        out, _ = self.gru(x, h0)\n",
    "        out = self.dropout(out[:, -1, :])\n",
    "        out = self.fc(out)\n",
    "        return out"
   ]
  },
  {
   "cell_type": "code",
   "execution_count": null,
   "id": "c2fe890d",
   "metadata": {},
   "outputs": [],
   "source": [
    "# 데이터 로드 및 전처리\n",
    "json_folder = r'D:\\Falldown\\Re_video\\re_landmark\\re_train_NY'\n",
    "json_files = [os.path.join(json_folder, f) for f in os.listdir(json_folder) if f.endswith('.json')]\n",
    "dataset = FallSequenceDataset(json_files)"
   ]
  },
  {
   "cell_type": "code",
   "execution_count": null,
   "id": "9c39017e",
   "metadata": {},
   "outputs": [],
   "source": [
    "# 데이터 로더 생성 전에 클래스 가중치 계산\n",
    "class_weights = compute_class_weight('balanced', classes=np.unique(dataset.labels), y=dataset.labels)\n",
    "class_weights = torch.FloatTensor(class_weights).to(device)"
   ]
  },
  {
   "cell_type": "code",
   "execution_count": null,
   "id": "ba2a4044",
   "metadata": {},
   "outputs": [],
   "source": [
    "# 손실 함수에 가중치 적용\n",
    "criterion = nn.CrossEntropyLoss(weight=class_weights)"
   ]
  },
  {
   "cell_type": "code",
   "execution_count": null,
   "id": "60c64456",
   "metadata": {},
   "outputs": [],
   "source": [
    "train_loader = DataLoader(dataset, batch_size=32, shuffle=True)"
   ]
  },
  {
   "cell_type": "code",
   "execution_count": null,
   "id": "43f8fb95",
   "metadata": {},
   "outputs": [],
   "source": [
    "if len(dataset) > 0:\n",
    "    sample_sequence, sample_label = dataset[0]\n",
    "    input_size = sample_sequence.shape[1]\n",
    "\n",
    "    model = FallDetectionGRU(input_size).to(device)\n",
    "else:\n",
    "    print(\"데이터 없음\")\n",
    "    exit()"
   ]
  },
  {
   "cell_type": "code",
   "execution_count": null,
   "id": "a3c03ef5",
   "metadata": {},
   "outputs": [],
   "source": [
    "optimizer = torch.optim.Adam(model.parameters(), lr=0.001, weight_decay=1e-5)\n",
    "scheduler = torch.optim.lr_scheduler.ReduceLROnPlateau(optimizer, mode='min', factor=0.1, patience=5, verbose=True)\n",
    "num_epochs = 500\n",
    "best_loss = float('inf')\n",
    "patience = 50  # 15 이후 다시 실행을 위해 50으로 변경\n",
    "no_improve = 0"
   ]
  },
  {
   "cell_type": "code",
   "execution_count": null,
   "id": "2f5873fb",
   "metadata": {
    "lines_to_next_cell": 1
   },
   "outputs": [],
   "source": [
    "for epoch in range(num_epochs):\n",
    "    model.train()\n",
    "    total_loss_train = 0\n",
    "\n",
    "    for sequences, labels in tqdm(train_loader, desc=f\"Epoch {epoch + 1}/{num_epochs}\"):\n",
    "        sequences, labels = sequences.to(device), labels.to(device)\n",
    "\n",
    "        optimizer.zero_grad()\n",
    "        outputs = model(sequences)\n",
    "        loss_train = criterion(outputs, labels.view(-1))\n",
    "        loss_train.backward()\n",
    "        optimizer.step()\n",
    "\n",
    "        total_loss_train += loss_train.item()\n",
    "\n",
    "    avg_loss_train = total_loss_train / len(train_loader)\n",
    "\n",
    "    print(f'Epoch [{epoch + 1}/{num_epochs}], Train Loss: {avg_loss_train:.4f}')\n",
    "\n",
    "    scheduler.step(avg_loss_train)\n",
    "\n",
    "    if avg_loss_train < best_loss:\n",
    "        best_loss = avg_loss_train\n",
    "        no_improve = 0\n",
    "        torch.save(model.state_dict(), 'best_fall_detection_gru_3_p50.pt')\n",
    "    else:\n",
    "        no_improve += 1\n",
    "\n",
    "    if no_improve >= patience:\n",
    "        print(\"Early stopping\")\n",
    "        break"
   ]
  },
  {
   "cell_type": "code",
   "execution_count": null,
   "id": "689f5138",
   "metadata": {
    "lines_to_next_cell": 1
   },
   "outputs": [],
   "source": [
    "def calculate_metrics(model, data_loader):\n",
    "    model.eval()\n",
    "    all_preds = []\n",
    "    all_labels = []\n",
    "    with torch.no_grad():\n",
    "        for sequences, labels in data_loader:\n",
    "            sequences, labels = sequences.to(device), labels.to(device)\n",
    "            outputs = model(sequences)\n",
    "            _, preds = torch.max(outputs, 1)\n",
    "            all_preds.extend(preds.cpu().numpy())\n",
    "            all_labels.extend(labels.cpu().numpy())\n",
    "\n",
    "    f1 = f1_score(all_labels, all_preds, average='weighted')\n",
    "    cm = confusion_matrix(all_labels, all_preds)\n",
    "    return f1, cm"
   ]
  },
  {
   "cell_type": "code",
   "execution_count": null,
   "id": "5f205282",
   "metadata": {},
   "outputs": [],
   "source": [
    "# 학습 루프 내에서 성능 지표 계산\n",
    "train_f1, train_cm = calculate_metrics(model, train_loader)\n",
    "print(f'Train F1: {train_f1:.4f}')\n",
    "print(f'Train CM:\\n{train_cm}')"
   ]
  },
  {
   "cell_type": "code",
   "execution_count": null,
   "id": "ab9266ce",
   "metadata": {},
   "outputs": [],
   "source": [
    "print(\"Training completed\")"
   ]
  }
 ],
 "metadata": {
  "jupytext": {
   "cell_metadata_filter": "-all",
   "main_language": "python",
   "notebook_metadata_filter": "-all"
  },
  "language_info": {
   "name": "python"
  }
 },
 "nbformat": 4,
 "nbformat_minor": 5
}
